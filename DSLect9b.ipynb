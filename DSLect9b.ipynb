{
  "nbformat": 4,
  "nbformat_minor": 0,
  "metadata": {
    "kernelspec": {
      "display_name": "Python 2",
      "language": "python",
      "name": "python2"
    },
    "language_info": {
      "codemirror_mode": {
        "name": "ipython",
        "version": 2
      },
      "file_extension": ".py",
      "mimetype": "text/x-python",
      "name": "python",
      "nbconvert_exporter": "python",
      "pygments_lexer": "ipython2",
      "version": "2.7.11"
    },
    "colab": {
      "name": "DSLect9b.ipynb",
      "provenance": []
    }
  },
  "cells": [
    {
      "cell_type": "markdown",
      "metadata": {
        "id": "ut2udptSZ9pV",
        "colab_type": "text"
      },
      "source": [
        "#lambda expressions\n",
        "\n",
        "One of Pythons most useful (and for beginners, confusing) tools is the lambda expression. lambda expressions allow us to create \"anonymous\" functions. This basically means we can quickly make ad-hoc functions without needing to properly define a function using def.\n",
        "\n",
        "Function objects returned by running lambda expressions work exactly the same as those created and assigned by defs. There is key difference that makes lambda useful in specialized roles:\n",
        "\n",
        "**lambda's body is a single expression, not a block of statements.**\n",
        "\n",
        "* The lambda's body is similar to what we would put in a def body's return statement. We simply type the result as an expression instead of explicitly returning it. Because it is limited to an expression, a lambda is less general that a def. We can only squeeze design, to limit program nesting. lambda is designed for coding simple functions, and def handles the larger tasks.\n",
        "\n",
        "Lets slowly break down a lambda expression by deconstructing a function:"
      ]
    },
    {
      "cell_type": "code",
      "metadata": {
        "id": "AuIED2nSZ9pX",
        "colab_type": "code",
        "colab": {}
      },
      "source": [
        "def square(num):\n",
        "    result = num**2\n",
        "    return result"
      ],
      "execution_count": 0,
      "outputs": []
    },
    {
      "cell_type": "code",
      "metadata": {
        "id": "fzBAVB3qZ9pe",
        "colab_type": "code",
        "colab": {},
        "outputId": "856bbf86-6466-4b04-db52-e9dc459cd430"
      },
      "source": [
        "square(2)"
      ],
      "execution_count": 0,
      "outputs": [
        {
          "output_type": "execute_result",
          "data": {
            "text/plain": [
              "4"
            ]
          },
          "metadata": {
            "tags": []
          },
          "execution_count": 2
        }
      ]
    },
    {
      "cell_type": "markdown",
      "metadata": {
        "id": "BvWn_WjCZ9pk",
        "colab_type": "text"
      },
      "source": [
        "Continuing the breakdown:"
      ]
    },
    {
      "cell_type": "code",
      "metadata": {
        "id": "OGT0QXtOZ9pk",
        "colab_type": "code",
        "colab": {}
      },
      "source": [
        "def square(num):\n",
        "    return num**2"
      ],
      "execution_count": 0,
      "outputs": []
    },
    {
      "cell_type": "code",
      "metadata": {
        "id": "L5roDzF-Z9po",
        "colab_type": "code",
        "colab": {},
        "outputId": "6c3cddc8-d992-4948-b34b-b83631d6a5e2"
      },
      "source": [
        "square(2)"
      ],
      "execution_count": 0,
      "outputs": [
        {
          "output_type": "execute_result",
          "data": {
            "text/plain": [
              "4"
            ]
          },
          "metadata": {
            "tags": []
          },
          "execution_count": 4
        }
      ]
    },
    {
      "cell_type": "markdown",
      "metadata": {
        "id": "hpM9yaIsZ9ps",
        "colab_type": "text"
      },
      "source": [
        "We can actually write this in one line (although it would be bad style to do so)"
      ]
    },
    {
      "cell_type": "code",
      "metadata": {
        "id": "mFMszjNPZ9pt",
        "colab_type": "code",
        "colab": {}
      },
      "source": [
        "def square(num): return num**2"
      ],
      "execution_count": 0,
      "outputs": []
    },
    {
      "cell_type": "code",
      "metadata": {
        "id": "JvwzZQoWZ9py",
        "colab_type": "code",
        "colab": {},
        "outputId": "7f551fa7-fca9-44ed-dc78-95226a4aea24"
      },
      "source": [
        "square(2)"
      ],
      "execution_count": 0,
      "outputs": [
        {
          "output_type": "execute_result",
          "data": {
            "text/plain": [
              "4"
            ]
          },
          "metadata": {
            "tags": []
          },
          "execution_count": 6
        }
      ]
    },
    {
      "cell_type": "markdown",
      "metadata": {
        "id": "-dEA3cdJZ9p3",
        "colab_type": "text"
      },
      "source": [
        "This is the form a function that a lambda expression intends to replicate. A lambda expression can then be written as:"
      ]
    },
    {
      "cell_type": "code",
      "metadata": {
        "id": "zmizvL3FZ9p4",
        "colab_type": "code",
        "colab": {},
        "outputId": "607aa6d3-d4ec-496c-954b-ba90cfa99d76"
      },
      "source": [
        "lambda num: num**2"
      ],
      "execution_count": 0,
      "outputs": [
        {
          "output_type": "execute_result",
          "data": {
            "text/plain": [
              "<function __main__.<lambda>>"
            ]
          },
          "metadata": {
            "tags": []
          },
          "execution_count": 7
        }
      ]
    },
    {
      "cell_type": "markdown",
      "metadata": {
        "id": "fwh6FGjbZ9p9",
        "colab_type": "text"
      },
      "source": [
        "Note how we get a function back. We can assign this function to a label:"
      ]
    },
    {
      "cell_type": "code",
      "metadata": {
        "id": "1dx7CSR3Z9p9",
        "colab_type": "code",
        "colab": {}
      },
      "source": [
        "square = lambda num: num**2"
      ],
      "execution_count": 0,
      "outputs": []
    },
    {
      "cell_type": "code",
      "metadata": {
        "id": "kohKX6G9Z9qA",
        "colab_type": "code",
        "colab": {},
        "outputId": "75390d9b-03b4-41fe-d396-4428b15c9270"
      },
      "source": [
        "square(2)"
      ],
      "execution_count": 0,
      "outputs": [
        {
          "output_type": "execute_result",
          "data": {
            "text/plain": [
              "4"
            ]
          },
          "metadata": {
            "tags": []
          },
          "execution_count": 9
        }
      ]
    },
    {
      "cell_type": "markdown",
      "metadata": {
        "id": "ys0gaslzZ9qE",
        "colab_type": "text"
      },
      "source": [
        "And there you have it! The breakdown of a function into a lambda expression!\n",
        "Lets see a few more examples:\n",
        "\n",
        "##Example 1\n",
        "Check it a number is even"
      ]
    },
    {
      "cell_type": "code",
      "metadata": {
        "id": "A4NJdjrsZ9qF",
        "colab_type": "code",
        "colab": {}
      },
      "source": [
        "even = lambda x: x%2==0"
      ],
      "execution_count": 0,
      "outputs": []
    },
    {
      "cell_type": "code",
      "metadata": {
        "id": "8dtKYuW2Z9qM",
        "colab_type": "code",
        "colab": {},
        "outputId": "4dc1d5ef-79b8-4e9c-9278-3ba57c63e31f"
      },
      "source": [
        "even(3)"
      ],
      "execution_count": 0,
      "outputs": [
        {
          "output_type": "execute_result",
          "data": {
            "text/plain": [
              "False"
            ]
          },
          "metadata": {
            "tags": []
          },
          "execution_count": 14
        }
      ]
    },
    {
      "cell_type": "code",
      "metadata": {
        "id": "1BBuK20zZ9qQ",
        "colab_type": "code",
        "colab": {},
        "outputId": "9aa6509a-e52a-40f9-9786-f48ffc1dacc9"
      },
      "source": [
        "even(4)"
      ],
      "execution_count": 0,
      "outputs": [
        {
          "output_type": "execute_result",
          "data": {
            "text/plain": [
              "True"
            ]
          },
          "metadata": {
            "tags": []
          },
          "execution_count": 15
        }
      ]
    },
    {
      "cell_type": "markdown",
      "metadata": {
        "id": "hqXY247XZ9qU",
        "colab_type": "text"
      },
      "source": [
        "##Example 2\n",
        "Grab first character of a string:"
      ]
    },
    {
      "cell_type": "code",
      "metadata": {
        "id": "yx_O9EZmZ9qV",
        "colab_type": "code",
        "colab": {}
      },
      "source": [
        "first = lambda s: s[0]"
      ],
      "execution_count": 0,
      "outputs": []
    },
    {
      "cell_type": "code",
      "metadata": {
        "id": "iSB8DZ4yZ9qg",
        "colab_type": "code",
        "colab": {},
        "outputId": "d5b6f9b0-2ddd-450a-e778-0d0a61b862f2"
      },
      "source": [
        "first('hello')"
      ],
      "execution_count": 0,
      "outputs": [
        {
          "output_type": "execute_result",
          "data": {
            "text/plain": [
              "'h'"
            ]
          },
          "metadata": {
            "tags": []
          },
          "execution_count": 23
        }
      ]
    },
    {
      "cell_type": "markdown",
      "metadata": {
        "id": "92TjEM2eZ9qk",
        "colab_type": "text"
      },
      "source": [
        "##Example 3\n",
        "Reverse a string:"
      ]
    },
    {
      "cell_type": "code",
      "metadata": {
        "id": "VxzWW9KCZ9ql",
        "colab_type": "code",
        "colab": {}
      },
      "source": [
        "rev = lambda s: s[::-1]"
      ],
      "execution_count": 0,
      "outputs": []
    },
    {
      "cell_type": "code",
      "metadata": {
        "id": "JYQdDh_RZ9qr",
        "colab_type": "code",
        "colab": {},
        "outputId": "3ece8281-8dcc-438c-a5e2-b59d68545d52"
      },
      "source": [
        "rev('hello')"
      ],
      "execution_count": 0,
      "outputs": [
        {
          "output_type": "execute_result",
          "data": {
            "text/plain": [
              "'olleh'"
            ]
          },
          "metadata": {
            "tags": []
          },
          "execution_count": 25
        }
      ]
    },
    {
      "cell_type": "markdown",
      "metadata": {
        "id": "AK6pOV_BZ9qv",
        "colab_type": "text"
      },
      "source": [
        "##Example 4\n",
        "Just like a normal function, we can accept more than one function into a lambda expresssion:"
      ]
    },
    {
      "cell_type": "code",
      "metadata": {
        "id": "9jhTTDbiZ9qx",
        "colab_type": "code",
        "colab": {}
      },
      "source": [
        "adder = lambda x,y : x+y"
      ],
      "execution_count": 0,
      "outputs": []
    },
    {
      "cell_type": "code",
      "metadata": {
        "id": "t7c74qtkZ9q1",
        "colab_type": "code",
        "colab": {},
        "outputId": "cf8407b3-1999-4310-a82e-1a940ddf4595"
      },
      "source": [
        "adder(2,3)"
      ],
      "execution_count": 0,
      "outputs": [
        {
          "output_type": "execute_result",
          "data": {
            "text/plain": [
              "5"
            ]
          },
          "metadata": {
            "tags": []
          },
          "execution_count": 19
        }
      ]
    },
    {
      "cell_type": "markdown",
      "metadata": {
        "id": "a81nQShIZ9q5",
        "colab_type": "text"
      },
      "source": [
        "lambda expressions really shine when used in conjunction with map(),filter() and reduce(). Each of those functions has its own lecture, so feel free to explore them if your very itnerested in lambda."
      ]
    },
    {
      "cell_type": "markdown",
      "metadata": {
        "id": "ugCcm3RWZ9q5",
        "colab_type": "text"
      },
      "source": [
        "I highly recommend reading this blog post at [Python Conquers the Universe](https://pythonconquerstheuniverse.wordpress.com/2011/08/29/lambda_tutorial/) for a great breakdown on lambda expressions and some explanations of common confusions! "
      ]
    }
  ]
}