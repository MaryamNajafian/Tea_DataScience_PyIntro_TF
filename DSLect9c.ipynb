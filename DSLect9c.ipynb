{
  "nbformat": 4,
  "nbformat_minor": 0,
  "metadata": {
    "kernelspec": {
      "display_name": "Python 3",
      "language": "python",
      "name": "python3"
    },
    "language_info": {
      "codemirror_mode": {
        "name": "ipython",
        "version": 3
      },
      "file_extension": ".py",
      "mimetype": "text/x-python",
      "name": "python",
      "nbconvert_exporter": "python",
      "pygments_lexer": "ipython3",
      "version": "3.5.1"
    },
    "colab": {
      "name": "DSLect9c.ipynb",
      "provenance": []
    }
  },
  "cells": [
    {
      "cell_type": "markdown",
      "metadata": {
        "id": "jve5AX4FaO93",
        "colab_type": "text"
      },
      "source": [
        "# RDD Transformations and Actions\n",
        "\n",
        "In this lecture we will begin to delve deeper into using Spark and Python. Please view the video lecture for a full explanation.\n",
        "\n",
        "## Important Terms\n",
        "\n",
        "Let's quickly go over some important terms:\n",
        "\n",
        "Term                   |Definition\n",
        "----                   |-------\n",
        "RDD                    |Resilient Distributed Dataset\n",
        "Transformation         |Spark operation that produces an RDD\n",
        "Action                 |Spark operation that produces a local object\n",
        "Spark Job              |Sequence of transformations on data with a final action"
      ]
    },
    {
      "cell_type": "markdown",
      "metadata": {
        "id": "fSlqYyQIaO96",
        "colab_type": "text"
      },
      "source": [
        "## Creating an RDD\n",
        "\n",
        "There are two common ways to create an RDD:\n",
        "\n",
        "Method                      |Result\n",
        "----------                               |-------\n",
        "`sc.parallelize(array)`                  |Create RDD of elements of array (or list)\n",
        "`sc.textFile(path/to/file)`                      |Create RDD of lines from file"
      ]
    },
    {
      "cell_type": "markdown",
      "metadata": {
        "id": "wfA9o7tJaO97",
        "colab_type": "text"
      },
      "source": [
        "## RDD Transformations\n",
        "\n",
        "We can use transformations to create a set of instructions we want to preform on the RDD (before we call an action and actually execute them).\n",
        "\n",
        "Transformation Example                          |Result\n",
        "----------                               |-------\n",
        "`filter(lambda x: x % 2 == 0)`           |Discard non-even elements\n",
        "`map(lambda x: x * 2)`                   |Multiply each RDD element by `2`\n",
        "`map(lambda x: x.split())`               |Split each string into words\n",
        "`flatMap(lambda x: x.split())`           |Split each string into words and flatten sequence\n",
        "`sample(withReplacement=True,0.25)`      |Create sample of 25% of elements with replacement\n",
        "`union(rdd)`                             |Append `rdd` to existing RDD\n",
        "`distinct()`                             |Remove duplicates in RDD\n",
        "`sortBy(lambda x: x, ascending=False)`   |Sort elements in descending order"
      ]
    },
    {
      "cell_type": "markdown",
      "metadata": {
        "id": "R71LXD7haO98",
        "colab_type": "text"
      },
      "source": [
        "## RDD Actions\n",
        "\n",
        "Once you have your 'recipe' of transformations ready, what you will do next is execute them by calling an action. Here are some common actions:\n",
        "\n",
        "Action                             |Result\n",
        "----------                             |-------\n",
        "`collect()`                            |Convert RDD to in-memory list \n",
        "`take(3)`                              |First 3 elements of RDD \n",
        "`top(3)`                               |Top 3 elements of RDD\n",
        "`takeSample(withReplacement=True,3)`   |Create sample of 3 elements with replacement\n",
        "`sum()`                                |Find element sum (assumes numeric elements)\n",
        "`mean()`                               |Find element mean (assumes numeric elements)\n",
        "`stdev()`                              |Find element deviation (assumes numeric elements)"
      ]
    },
    {
      "cell_type": "markdown",
      "metadata": {
        "id": "SIJuUgvXaO98",
        "colab_type": "text"
      },
      "source": [
        "____\n",
        "# Examples\n",
        "\n",
        "Now the best way to show all of this is by going through examples! We'll first review a bit by creating and working with a simple text file, then we will move on to more realistic data, such as customers and sales data.\n",
        "\n",
        "### Creating an RDD from a text file:\n",
        "\n",
        "** Creating the textfile **"
      ]
    },
    {
      "cell_type": "code",
      "metadata": {
        "id": "2E5pAAhlaO9-",
        "colab_type": "code",
        "colab": {},
        "outputId": "ce148582-052f-4cac-8cd6-748d42b91b75"
      },
      "source": [
        "%%writefile example2.txt\n",
        "first \n",
        "second line\n",
        "the third line\n",
        "then a fourth line"
      ],
      "execution_count": 0,
      "outputs": [
        {
          "output_type": "stream",
          "text": [
            "Writing example2.txt\n"
          ],
          "name": "stdout"
        }
      ]
    },
    {
      "cell_type": "markdown",
      "metadata": {
        "id": "O5PIv_8aaO-Q",
        "colab_type": "text"
      },
      "source": [
        "Now let's perform some transformations and actions on this text file:"
      ]
    },
    {
      "cell_type": "code",
      "metadata": {
        "id": "8OU9saTtaO-R",
        "colab_type": "code",
        "colab": {}
      },
      "source": [
        "from pyspark import SparkContext"
      ],
      "execution_count": 0,
      "outputs": []
    },
    {
      "cell_type": "code",
      "metadata": {
        "id": "VXIXlXyKaO-X",
        "colab_type": "code",
        "colab": {}
      },
      "source": [
        "sc = SparkContext()"
      ],
      "execution_count": 0,
      "outputs": []
    },
    {
      "cell_type": "code",
      "metadata": {
        "id": "-SyI9E2waO-h",
        "colab_type": "code",
        "colab": {},
        "outputId": "4c97a400-b75d-47ac-cbb8-f81851733f21"
      },
      "source": [
        "# Show RDD\n",
        "sc.textFile('example2.txt')"
      ],
      "execution_count": 0,
      "outputs": [
        {
          "output_type": "execute_result",
          "data": {
            "text/plain": [
              "MapPartitionsRDD[1] at textFile at NativeMethodAccessorImpl.java:-2"
            ]
          },
          "metadata": {
            "tags": []
          },
          "execution_count": 4
        }
      ]
    },
    {
      "cell_type": "code",
      "metadata": {
        "id": "K0jbAdggaO-n",
        "colab_type": "code",
        "colab": {}
      },
      "source": [
        "# Save a reference to this RDD\n",
        "text_rdd = sc.textFile('example2.txt')"
      ],
      "execution_count": 0,
      "outputs": []
    },
    {
      "cell_type": "code",
      "metadata": {
        "id": "J8vQaX-kaO-u",
        "colab_type": "code",
        "colab": {},
        "outputId": "e1fdc132-0626-4e47-e051-1b70e87b0437"
      },
      "source": [
        "# Map a function (or lambda expression) to each line\n",
        "# Then collect the results.\n",
        "text_rdd.map(lambda line: line.split()).collect()"
      ],
      "execution_count": 0,
      "outputs": [
        {
          "output_type": "execute_result",
          "data": {
            "text/plain": [
              "[['first'],\n",
              " ['second', 'line'],\n",
              " ['the', 'third', 'line'],\n",
              " ['then', 'a', 'fourth', 'line']]"
            ]
          },
          "metadata": {
            "tags": []
          },
          "execution_count": 7
        }
      ]
    },
    {
      "cell_type": "markdown",
      "metadata": {
        "id": "8HoC3Ur0aO-z",
        "colab_type": "text"
      },
      "source": [
        "## Map vs flatMap"
      ]
    },
    {
      "cell_type": "code",
      "metadata": {
        "id": "zI4zqsAIaO-0",
        "colab_type": "code",
        "colab": {},
        "outputId": "20016eff-9ad7-4f5c-a1d7-c5e2e6b53a26"
      },
      "source": [
        "# Collect everything as a single flat map\n",
        "text_rdd.flatMap(lambda line: line.split()).collect()"
      ],
      "execution_count": 0,
      "outputs": [
        {
          "output_type": "execute_result",
          "data": {
            "text/plain": [
              "['first',\n",
              " 'second',\n",
              " 'line',\n",
              " 'the',\n",
              " 'third',\n",
              " 'line',\n",
              " 'then',\n",
              " 'a',\n",
              " 'fourth',\n",
              " 'line']"
            ]
          },
          "metadata": {
            "tags": []
          },
          "execution_count": 8
        }
      ]
    },
    {
      "cell_type": "markdown",
      "metadata": {
        "id": "SHDeWGD8aO-3",
        "colab_type": "text"
      },
      "source": [
        "# RDDs and Key Value Pairs\n",
        "\n",
        "Now that we've worked with RDDs and how to aggregate values with them, we can begin to look into working with Key Value Pairs. In order to do this, let's create some fake data as a new text file.\n",
        "\n",
        "This data represents some services sold to customers for some SAAS business."
      ]
    },
    {
      "cell_type": "code",
      "metadata": {
        "id": "0zoznoRyaO-4",
        "colab_type": "code",
        "colab": {},
        "outputId": "b4e7c5ea-7820-4a9a-8977-cf9a63af9d44"
      },
      "source": [
        "%%writefile services.txt\n",
        "#EventId    Timestamp    Customer   State    ServiceID    Amount\n",
        "201       10/13/2017      100       NY       131          100.00\n",
        "204       10/18/2017      700       TX       129          450.00\n",
        "202       10/15/2017      203       CA       121          200.00\n",
        "206       10/19/2017      202       CA       131          500.00\n",
        "203       10/17/2017      101       NY       173          750.00\n",
        "205       10/19/2017      202       TX       121          200.00"
      ],
      "execution_count": 0,
      "outputs": [
        {
          "output_type": "stream",
          "text": [
            "Writing services.txt\n"
          ],
          "name": "stdout"
        }
      ]
    },
    {
      "cell_type": "code",
      "metadata": {
        "id": "fzOIcTHfaO-7",
        "colab_type": "code",
        "colab": {}
      },
      "source": [
        "services = sc.textFile('services.txt')"
      ],
      "execution_count": 0,
      "outputs": []
    },
    {
      "cell_type": "code",
      "metadata": {
        "id": "avzeq6YLaO_A",
        "colab_type": "code",
        "colab": {},
        "outputId": "78b84eb7-2d75-474d-9df0-ea25b03ffcbb"
      },
      "source": [
        "services.take(2)"
      ],
      "execution_count": 0,
      "outputs": [
        {
          "output_type": "execute_result",
          "data": {
            "text/plain": [
              "['#EventId    Timestamp    Customer   State    ServiceID    Amount',\n",
              " '201       10/13/2017      100       NY       131          100.00']"
            ]
          },
          "metadata": {
            "tags": []
          },
          "execution_count": 11
        }
      ]
    },
    {
      "cell_type": "code",
      "metadata": {
        "id": "HMTNpXGcaO_F",
        "colab_type": "code",
        "colab": {},
        "outputId": "0c162e4b-be91-4a65-8448-467abb64b7c4"
      },
      "source": [
        "services.map(lambda x: x.split())"
      ],
      "execution_count": 0,
      "outputs": [
        {
          "output_type": "execute_result",
          "data": {
            "text/plain": [
              "PythonRDD[10] at RDD at PythonRDD.scala:43"
            ]
          },
          "metadata": {
            "tags": []
          },
          "execution_count": 12
        }
      ]
    },
    {
      "cell_type": "code",
      "metadata": {
        "id": "x8U7HtPYaO_K",
        "colab_type": "code",
        "colab": {},
        "outputId": "dc35c2c7-b300-43aa-851d-64027f1bb8dc"
      },
      "source": [
        "services.map(lambda x: x.split()).take(3)"
      ],
      "execution_count": 0,
      "outputs": [
        {
          "output_type": "execute_result",
          "data": {
            "text/plain": [
              "[['#EventId', 'Timestamp', 'Customer', 'State', 'ServiceID', 'Amount'],\n",
              " ['201', '10/13/2017', '100', 'NY', '131', '100.00'],\n",
              " ['204', '10/18/2017', '700', 'TX', '129', '450.00']]"
            ]
          },
          "metadata": {
            "tags": []
          },
          "execution_count": 13
        }
      ]
    },
    {
      "cell_type": "markdown",
      "metadata": {
        "id": "4ZI8WAgmaO_N",
        "colab_type": "text"
      },
      "source": [
        "Let's remove that first hash-tag!"
      ]
    },
    {
      "cell_type": "code",
      "metadata": {
        "id": "2gAH6I7YaO_O",
        "colab_type": "code",
        "colab": {},
        "outputId": "56c5d073-4087-44f1-9808-123a47e04617"
      },
      "source": [
        "services.map(lambda x: x[1:] if x[0]=='#' else x).collect()"
      ],
      "execution_count": 0,
      "outputs": [
        {
          "output_type": "execute_result",
          "data": {
            "text/plain": [
              "['EventId    Timestamp    Customer   State    ServiceID    Amount',\n",
              " '201       10/13/2017      100       NY       131          100.00',\n",
              " '204       10/18/2017      700       TX       129          450.00',\n",
              " '202       10/15/2017      203       CA       121          200.00',\n",
              " '206       10/19/2017      202       CA       131          500.00',\n",
              " '203       10/17/2017      101       NY       173          750.00',\n",
              " '205       10/19/2017      202       TX       121          200.00']"
            ]
          },
          "metadata": {
            "tags": []
          },
          "execution_count": 26
        }
      ]
    },
    {
      "cell_type": "code",
      "metadata": {
        "id": "CnilIjocaO_S",
        "colab_type": "code",
        "colab": {},
        "outputId": "7fcb1b01-d34a-4009-d00c-2b57a4616359"
      },
      "source": [
        "services.map(lambda x: x[1:] if x[0]=='#' else x).map(lambda x: x.split()).collect()"
      ],
      "execution_count": 0,
      "outputs": [
        {
          "output_type": "execute_result",
          "data": {
            "text/plain": [
              "[['EventId', 'Timestamp', 'Customer', 'State', 'ServiceID', 'Amount'],\n",
              " ['201', '10/13/2017', '100', 'NY', '131', '100.00'],\n",
              " ['204', '10/18/2017', '700', 'TX', '129', '450.00'],\n",
              " ['202', '10/15/2017', '203', 'CA', '121', '200.00'],\n",
              " ['206', '10/19/2017', '202', 'CA', '131', '500.00'],\n",
              " ['203', '10/17/2017', '101', 'NY', '173', '750.00'],\n",
              " ['205', '10/19/2017', '202', 'TX', '121', '200.00']]"
            ]
          },
          "metadata": {
            "tags": []
          },
          "execution_count": 27
        }
      ]
    },
    {
      "cell_type": "markdown",
      "metadata": {
        "id": "H68I1k7JaO_W",
        "colab_type": "text"
      },
      "source": [
        "## Using Key Value Pairs for Operations\n",
        "\n",
        "Let us now begin to use methods that combine lambda expressions that use a ByKey argument. These ByKey methods will assume that your data is in a Key,Value form. \n",
        "\n",
        "\n",
        "For example let's find out the total sales per state: "
      ]
    },
    {
      "cell_type": "code",
      "metadata": {
        "id": "Ghggj2tgaO_X",
        "colab_type": "code",
        "colab": {}
      },
      "source": [
        "# From Previous\n",
        "cleanServ = services.map(lambda x: x[1:] if x[0]=='#' else x).map(lambda x: x.split())"
      ],
      "execution_count": 0,
      "outputs": []
    },
    {
      "cell_type": "code",
      "metadata": {
        "id": "IDOm18UWaO_b",
        "colab_type": "code",
        "colab": {},
        "outputId": "4914b9fd-6bed-420d-a068-8573c2f6efb9"
      },
      "source": [
        "cleanServ.collect()"
      ],
      "execution_count": 0,
      "outputs": [
        {
          "output_type": "execute_result",
          "data": {
            "text/plain": [
              "[['EventId', 'Timestamp', 'Customer', 'State', 'ServiceID', 'Amount'],\n",
              " ['201', '10/13/2017', '100', 'NY', '131', '100.00'],\n",
              " ['204', '10/18/2017', '700', 'TX', '129', '450.00'],\n",
              " ['202', '10/15/2017', '203', 'CA', '121', '200.00'],\n",
              " ['206', '10/19/2017', '202', 'CA', '131', '500.00'],\n",
              " ['203', '10/17/2017', '101', 'NY', '173', '750.00'],\n",
              " ['205', '10/19/2017', '202', 'TX', '121', '200.00']]"
            ]
          },
          "metadata": {
            "tags": []
          },
          "execution_count": 29
        }
      ]
    },
    {
      "cell_type": "code",
      "metadata": {
        "id": "qlR-wZ5zaO_f",
        "colab_type": "code",
        "colab": {},
        "outputId": "34c51fe3-b0d1-4334-9736-547170744e86"
      },
      "source": [
        "# Let's start by practicing grabbing fields\n",
        "cleanServ.map(lambda lst: (lst[3],lst[-1])).collect()"
      ],
      "execution_count": 0,
      "outputs": [
        {
          "output_type": "execute_result",
          "data": {
            "text/plain": [
              "[('State', 'Amount'),\n",
              " ('NY', '100.00'),\n",
              " ('TX', '450.00'),\n",
              " ('CA', '200.00'),\n",
              " ('CA', '500.00'),\n",
              " ('NY', '750.00'),\n",
              " ('TX', '200.00')]"
            ]
          },
          "metadata": {
            "tags": []
          },
          "execution_count": 52
        }
      ]
    },
    {
      "cell_type": "code",
      "metadata": {
        "id": "eoCTEd_KaO_j",
        "colab_type": "code",
        "colab": {},
        "outputId": "20bd3679-b7d7-441b-8fee-4700fffe38a1"
      },
      "source": [
        "# Continue with reduceByKey\n",
        "# Notice how it assumes that the first item is the key!\n",
        "cleanServ.map(lambda lst: (lst[3],lst[-1]))\\\n",
        "         .reduceByKey(lambda amt1,amt2 : amt1+amt2)\\\n",
        "         .collect()"
      ],
      "execution_count": 0,
      "outputs": [
        {
          "output_type": "execute_result",
          "data": {
            "text/plain": [
              "[('State', 'Amount'),\n",
              " ('NY', '100.00750.00'),\n",
              " ('TX', '450.00200.00'),\n",
              " ('CA', '200.00500.00')]"
            ]
          },
          "metadata": {
            "tags": []
          },
          "execution_count": 43
        }
      ]
    },
    {
      "cell_type": "markdown",
      "metadata": {
        "id": "Z_j-YNmEaO_m",
        "colab_type": "text"
      },
      "source": [
        "Uh oh! Looks like we forgot that the amounts are still strings! Let's fix that:"
      ]
    },
    {
      "cell_type": "code",
      "metadata": {
        "id": "qcSJV0SuaO_m",
        "colab_type": "code",
        "colab": {},
        "outputId": "0a829f7b-c513-4638-8bd5-2327fd0d6e56"
      },
      "source": [
        "# Continue with reduceByKey\n",
        "# Notice how it assumes that the first item is the key!\n",
        "cleanServ.map(lambda lst: (lst[3],lst[-1]))\\\n",
        "         .reduceByKey(lambda amt1,amt2 : float(amt1)+float(amt2))\\\n",
        "         .collect()"
      ],
      "execution_count": 0,
      "outputs": [
        {
          "output_type": "execute_result",
          "data": {
            "text/plain": [
              "[('State', 'Amount'), ('NY', 850.0), ('TX', 650.0), ('CA', 700.0)]"
            ]
          },
          "metadata": {
            "tags": []
          },
          "execution_count": 42
        }
      ]
    },
    {
      "cell_type": "markdown",
      "metadata": {
        "id": "2vOEXFBtaO_q",
        "colab_type": "text"
      },
      "source": [
        "We can continue our analysis by sorting this output:"
      ]
    },
    {
      "cell_type": "code",
      "metadata": {
        "id": "j8DsxQG8aO_r",
        "colab_type": "code",
        "colab": {},
        "outputId": "d24711f8-3012-4abe-c164-cc738dec3ec9"
      },
      "source": [
        "# Grab state and amounts\n",
        "# Add them\n",
        "# Get rid of ('State','Amount')\n",
        "# Sort them by the amount value\n",
        "cleanServ.map(lambda lst: (lst[3],lst[-1]))\\\n",
        ".reduceByKey(lambda amt1,amt2 : float(amt1)+float(amt2))\\\n",
        ".filter(lambda x: not x[0]=='State')\\\n",
        ".sortBy(lambda stateAmount: stateAmount[1], ascending=False)\\\n",
        ".collect()"
      ],
      "execution_count": 0,
      "outputs": [
        {
          "output_type": "execute_result",
          "data": {
            "text/plain": [
              "[('NY', 850.0), ('CA', 700.0), ('TX', 650.0)]"
            ]
          },
          "metadata": {
            "tags": []
          },
          "execution_count": 69
        }
      ]
    },
    {
      "cell_type": "markdown",
      "metadata": {
        "id": "ZyNRXXS5aO_u",
        "colab_type": "text"
      },
      "source": [
        "** Remember to try to use unpacking for readability. For example: **"
      ]
    },
    {
      "cell_type": "code",
      "metadata": {
        "id": "FERSV8hJaO_v",
        "colab_type": "code",
        "colab": {}
      },
      "source": [
        "x = ['ID','State','Amount']"
      ],
      "execution_count": 0,
      "outputs": []
    },
    {
      "cell_type": "code",
      "metadata": {
        "id": "ZD-l-ZK1aO_y",
        "colab_type": "code",
        "colab": {}
      },
      "source": [
        "def func1(lst):\n",
        "    return lst[-1]"
      ],
      "execution_count": 0,
      "outputs": []
    },
    {
      "cell_type": "code",
      "metadata": {
        "id": "ChHm4UPFaO_9",
        "colab_type": "code",
        "colab": {}
      },
      "source": [
        "def func2(id_st_amt):\n",
        "    # Unpack Values\n",
        "    (Id,st,amt) = id_st_amt\n",
        "    return amt"
      ],
      "execution_count": 0,
      "outputs": []
    },
    {
      "cell_type": "code",
      "metadata": {
        "id": "ISuASm85aPAB",
        "colab_type": "code",
        "colab": {},
        "outputId": "4a1753ac-1fce-465a-a00f-6d7f6c2bf1e7"
      },
      "source": [
        "func1(x)"
      ],
      "execution_count": 0,
      "outputs": [
        {
          "output_type": "execute_result",
          "data": {
            "text/plain": [
              "'Amount'"
            ]
          },
          "metadata": {
            "tags": []
          },
          "execution_count": 84
        }
      ]
    },
    {
      "cell_type": "code",
      "metadata": {
        "id": "ivkoSFlYaPAE",
        "colab_type": "code",
        "colab": {},
        "outputId": "5a39d5ae-7732-4a8f-96ef-e0e9b3a9441a"
      },
      "source": [
        "func2(x)"
      ],
      "execution_count": 0,
      "outputs": [
        {
          "output_type": "execute_result",
          "data": {
            "text/plain": [
              "'Amount'"
            ]
          },
          "metadata": {
            "tags": []
          },
          "execution_count": 85
        }
      ]
    }
  ]
}