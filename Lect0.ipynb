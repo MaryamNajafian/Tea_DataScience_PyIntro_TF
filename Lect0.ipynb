{
  "nbformat": 4,
  "nbformat_minor": 0,
  "metadata": {
    "colab": {
      "name": "Lect0.ipynb",
      "provenance": [],
      "collapsed_sections": [],
      "authorship_tag": "ABX9TyM9XsPPTWLjrlWlj7dWqZ3m"
    },
    "kernelspec": {
      "name": "python3",
      "display_name": "Python 3"
    }
  },
  "cells": [
    {
      "cell_type": "code",
      "metadata": {
        "id": "o7U85D_ikSw2",
        "colab_type": "code",
        "outputId": "c0ee8226-f263-4525-b4ae-874c4b58d7d3",
        "colab": {
          "base_uri": "https://localhost:8080/",
          "height": 34
        }
      },
      "source": [
        "!python --version"
      ],
      "execution_count": 0,
      "outputs": [
        {
          "output_type": "stream",
          "text": [
            "Python 3.6.9\n"
          ],
          "name": "stdout"
        }
      ]
    },
    {
      "cell_type": "markdown",
      "metadata": {
        "id": "QcYZk4xbKKYy",
        "colab_type": "text"
      },
      "source": [
        "[slide](https://drive.google.com/drive/folders/1cAM251bjoBCYF2bHfMM07MOGEgU2Q2VQ?usp=sharing)\n",
        "\n",
        "[gitHub](https://github.com/Pierian-Data/Complete-Python-3-Bootcamp)\n",
        "\n",
        "[Source](https://www.udemy.com/course/complete-python-bootcamp)\n",
        "\n",
        "\n",
        "[Reading](https://www.python-course.eu/python3_re.php)\n",
        "\n",
        "\n"
      ]
    },
    {
      "cell_type": "markdown",
      "metadata": {
        "id": "lGr6ImDY1hHL",
        "colab_type": "text"
      },
      "source": [
        "\n",
        "\n",
        "* integers: whole number\n",
        "\n",
        "1 2 3 \n",
        "\n",
        "* floats: numbers with decimal point\n",
        "\n",
        "1.2 3.2 2.4\n",
        "\n",
        "* String: ordered immutable sequence of characters (immutable:you can't reassign characters)\n",
        "\n",
        "\"a banana\" 'an orange'\n",
        "\n",
        "* Tuples: (immutable lists) ordered immutable sequence of objects. Tuples are similar to list but they are immutable. Once an element is inside a tuple it can't be changed/reassigned.\n",
        "\n",
        "(10,\"hello\",200.3)\n",
        "\n",
        "* lists: Ordered mutable sequence of objects. Objects can be rereived by location. ordered sequence can be indexed or sliced.\n",
        "\n",
        "[10,\"hello\",200.3]\n",
        "\n",
        "* Dictionaries:  unordered key,value pairs. Dictionaries are unordered and can't be sorted. they provide mappings betwen k and v for storing objects. The key-value pair allows users to quickly grab objects without needing to know the index location.\n",
        "\n",
        "{\"key\":\"value\", \"key2\":\"value2\"}\n",
        "\n",
        "* sets: Unorderd mutable collection of  unique elements (hashable objects)\n",
        "\n",
        "    * set contents need to be immutable to be hashable. So you can have a set of\n",
        "tuples, but not a set of lists.\n",
        "\n",
        "{\"10\",\"hello\",\"200.3\"}\n",
        "{(1,2),(3,4),(5,6)}\n",
        "\n",
        "* boolean: logical value indicating True False\n",
        "\n",
        "True, False\n",
        "\n",
        "\n"
      ]
    },
    {
      "cell_type": "markdown",
      "metadata": {
        "id": "XqtJqqF17TZE",
        "colab_type": "text"
      },
      "source": [
        "objects are iterable : we can iterate over every element in object\n",
        "string and list are iterable, we can iterate over key indictionary\n"
      ]
    },
    {
      "cell_type": "code",
      "metadata": {
        "id": "J-lXqbI_8T-R",
        "colab_type": "code",
        "outputId": "5d131c61-2b0a-4bde-a641-0e4bb86d5c40",
        "colab": {
          "base_uri": "https://localhost:8080/",
          "height": 51
        }
      },
      "source": [
        "'''\n",
        "Itterable\n",
        "'''\n",
        "my_iterable_string='123'\n",
        "my_iterable_list=[1,2,3]\n",
        "my_iterable_tuple=(1,2,3)\n",
        "dictt={'hh':1,'gg':11}\n",
        "my_iterable_dict=dictt.items() #.keys() .values()\n",
        "index=0\n",
        "x=my_iterable_dict\n",
        "for item_name in x:\n",
        "    \n",
        "    print(index,item_name)\n",
        "    index += 1\n",
        "\n"
      ],
      "execution_count": 0,
      "outputs": [
        {
          "output_type": "stream",
          "text": [
            "0 ('hh', 1)\n",
            "1 ('gg', 11)\n"
          ],
          "name": "stdout"
        }
      ]
    },
    {
      "cell_type": "code",
      "metadata": {
        "id": "fASnZROnAL6I",
        "colab_type": "code",
        "outputId": "7aae4883-e876-4cff-eea9-bf5299fec71b",
        "colab": {
          "base_uri": "https://localhost:8080/",
          "height": 34
        }
      },
      "source": [
        "stringg='abc123abc'\n",
        "stringg='11'\n",
        "listt = [1,2,3]\n",
        "tuplee = (1,2,3)\n",
        "sett= {1,2,(1,3)}\n",
        "dictt = {'1':1,'2':2,('1','3'):3}\n",
        "dictt\n"
      ],
      "execution_count": 0,
      "outputs": [
        {
          "output_type": "execute_result",
          "data": {
            "text/plain": [
              "{('1', '3'): 3, '1': 1, '2': 2}"
            ]
          },
          "metadata": {
            "tags": []
          },
          "execution_count": 17
        }
      ]
    },
    {
      "cell_type": "code",
      "metadata": {
        "id": "Rnl7Z_MGCnEa",
        "colab_type": "code",
        "outputId": "14f38f31-8c0d-4ec6-abac-6628670d0186",
        "colab": {
          "base_uri": "https://localhost:8080/",
          "height": 68
        }
      },
      "source": [
        "stringg='ab\\tcd caef\\nch'\n",
        "\n",
        "#adjust by replacing certain value with another in all string or join parts\n",
        "a='..'.join(stringg) #'a..b..\\t..c..d.. ..c..a..e..f'\n",
        "a.replace('..','--') #'a--b--\\t--c--d-- --c--a--e--f'\n",
        "\n",
        "#adjust by split or patition\n",
        "stringg.partition('c') #('ab\\t', 'c', 'd caef')\n",
        "stringg.split('ca') #['ab\\tcd ', 'ef']\n",
        "stringg.split('c') #splits on the string or char: ['ab\\t', 'd ', 'aef']\n",
        "stringg.split() #splits on space and tab : ['ab', 'cd', 'caef']\n",
        "stringg.splitlines() #['ab\\tcd caef', 'ch ']\n",
        "\n",
        "\n",
        "# count and find/index/endswith patterns\n",
        "stringg.count('a') #2\n",
        "stringg.endswith('bca') #True\n",
        "stringg.startswith('ca') #False\n",
        "stringg.find('a') #return index 0\n",
        "stringg.find('ca',4,8) # returns 6 ('string,,start,endindex)\n",
        "stringg.index('ca',4,8) # returns 6 ('string,,start,endindex)\n",
        "# The index() method is similar to find() method for strings. \n",
        "# The only difference is that find() method returns -1 if the substring is not found, whereas index() throws an exception.\n",
        "stringg.find('z',2) #if not found return -1\n",
        "stringg.rfind('z',2) #if not found return -1\n",
        "#stringg.index('z') # if not found gives error****Important****\n",
        "\n",
        "\n",
        "#adjust the look by adjusting appearance to right or left\n",
        "stringg.zfill(10) #zero fill on the left:'0000000abc'\n",
        "stringg.expandtabs(10) #replacetabs with tabsize=N spaces\n",
        "stringg.ljust(17,'*') #(widthLen, char)'ab\\tcd caef\\nch ***'\n",
        "stringg.rjust(17,'*') #'****ab\\tcd caef\\nch'\n",
        "\n",
        "#adjust by removing space\n",
        "stringg.lstrip() #remove white space on left side\n",
        "stringg.strip()\n",
        "stringg.rstrip()\n",
        "\n",
        "#adjust by playing with caps case\n",
        "stringg.lower()\n",
        "stringg.title()\n",
        "stringg.swapcase()\n",
        "stringg.upper()\n",
        "\n",
        "# check status of the Caps case and/or contentent\n",
        "# stringg.isalnum()\n",
        "# stringg.isalpha()\n",
        "# stringg.isdecimal()\n",
        "# stringg.islower()\n",
        "# stringg.isnumeric()\n",
        "# stringg.isspace()\n",
        "# stringg.istitle()\n",
        "# stringg.isupper()\n",
        "\n",
        "# convert string to list\n",
        "list(stringg) #['a', 'b', '\\t', 'c', 'd', ' ', 'c', 'a', 'e', 'f', '\\n', 'c', 'h']\n",
        "\n",
        "#string in any of these followoing is** commands produce false except for alphanymeric\n",
        "\n",
        "# here a,b and c are characters and 1,2 and 3 \n",
        "# are numbers \n",
        "stringgg= \"abc123\"\n",
        "print(\"abc123: \", stringgg.isalnum()) \n",
        "  \n",
        "# here a,b and c are characters and 1,2 and 3  \n",
        "# are numbers but space is not a alphanumeric  \n",
        "# character \n",
        "stringgg = \"abc 123\" \n",
        "print(\"abc 123: \" ,stringgg.isalnum())\n",
        "\n",
        "'stringg'.isalpha() #true\n",
        "'string '.isalpha() #false\n",
        "'string1g '.isalpha() #false cuz of space\n",
        "\n",
        "'111'.isalnum() #true\n",
        "'11c1'.isalnum() #true\n",
        "'11c1 '.isalnum() #false\n",
        "' '.isalnum() #false\n",
        "'11.1'.isalnum() #false\n",
        "\n",
        "'111'.isdecimal() #true\n",
        "'11.01'.isdecimal() #false\n",
        "\n",
        "'111'.isnumeric() #true\n",
        "'11.1'.isnumeric() #false\n",
        "\n",
        "a='bn'\n",
        "b=a\n",
        "a=a.ljust(17,'*')\n",
        "a == b  #false\n",
        "\n",
        "# 'Oranges  |    10     |        10'\n",
        "'{0:<8} | {1:^9} | {1:>9}'.format('Oranges', 10, 'bananas\\n', 'Oranges', 10, 'bananas\\n')\n",
        "\n",
        "# 'Oranges | 10 | bananas\\n'\n",
        "\n",
        "'{} | {} | {}'.format('Oranges', 10, 'bananas\\n', 'Oranges', 10, 'bananas\\n') \n"
      ],
      "execution_count": 0,
      "outputs": [
        {
          "output_type": "stream",
          "text": [
            "abc123:  True\n",
            "abc 123:  False\n"
          ],
          "name": "stdout"
        },
        {
          "output_type": "execute_result",
          "data": {
            "text/plain": [
              "'Oranges  |    10     |        10'"
            ]
          },
          "metadata": {
            "tags": []
          },
          "execution_count": 149
        }
      ]
    },
    {
      "cell_type": "code",
      "metadata": {
        "id": "ZnkROZhBLw-s",
        "colab_type": "code",
        "outputId": "0d925305-d209-48a0-e9c1-4cc116797eff",
        "colab": {
          "base_uri": "https://localhost:8080/",
          "height": 238
        }
      },
      "source": [
        "c=[5,3,32,1,55] \n",
        "\n",
        "# only for lists reverse and sort\n",
        "# c.reverse # inplace reverse\n",
        "# c.sort # inplace sort\n",
        "\n",
        "# c.index and .count for all itterables string/list/tuple\n",
        "# c.count #same as string and list and tuple\n",
        "# c.index #c.index for all iterables (value,start,end) same as list, string, tuples (string has find too)\n",
        "\n",
        "\n",
        "# list append/extend/insert corresponds to add in set\n",
        "# c.append # appends to the end as it is\n",
        "# c.extend # appends to the end only itterable elementrs one char at a time\n",
        "# c.insert # insert object before index : (index,object)\n",
        "\n",
        "# c.pop # for mutables only: inplace c.pop(indexx) similar to list [] dict {} nand set {}\n",
        "# c.remove # for removing an element from the list[] and set{} c.remove(oneChar) remove only one char by value in place\n",
        "# a=c.copy  # **list same as **dictionary and **set\n",
        "\n",
        "\n",
        "print(sorted(c))\n",
        "print(reversed(c))\n",
        "\n",
        "c.sort() # in place [1, 3, 5, 32, 55]\n",
        "print(c)\n",
        "\n",
        "c.reverse() #in place [55, 32, 5, 3, 1]\n",
        "print(c)\n",
        "\n",
        "c.append(2)\n",
        "c.append('gf') #[55, 32, 5, 3, 1, 2, 'gf']\n",
        "c.append((1,2)) #[55, 32, 5, 3, 1, 2, 'gf',(1,2)]\n",
        "c.append([1,2]) #[55, 32, 5, 3, 1, 2, 'gf',[1,2]]\n",
        "c.append({'1':2}) #[55, 32, 5, 3, 1, 2, 'gf',{'1':2}]\n",
        "c.append(1)\n",
        "c=c[:4]\n",
        "print(c)\n",
        "\n",
        "c.extend('gf') #[55, 32, 5, 3, 1, 2, 'gf', 'g', 'f']\n",
        "c.extend([1,2]) #[55, 32, 5, 3, 1, 2, 'gf', 'g', 'f', 1, 2]\n",
        "print(c)\n",
        "c.insert(0,'gf')\n",
        "\n",
        "print(c)\n",
        "\n",
        "#remove only one char by indexx in place\n",
        "indexx=3\n",
        "c.pop(indexx)\n",
        "c.pop(-1)\n",
        "print(c)\n",
        "\n",
        "#remove only one char by value in place\n",
        "c.remove('g')\n",
        "print('removeee',c)\n",
        "\n",
        "#c.sort() Error sort not supported between instances of 'int' and 'str'\n",
        "#print(c) \n",
        "\n",
        "c.count(2)\n",
        "print(c.count(2))\n",
        "\n",
        "b=c.copy()\n",
        "c.append('h') #creates copy\n",
        "print(len(b)==len(c))\n",
        "b=c #creates pointer\n",
        "c.append('gh')\n",
        "print(len(b)==len(c))\n",
        "\n",
        "c.pop(2)\n",
        "print(c)\n",
        "\n"
      ],
      "execution_count": 0,
      "outputs": [
        {
          "output_type": "stream",
          "text": [
            "[1, 3, 5, 32, 55]\n",
            "<list_reverseiterator object at 0x7f8cd798ca20>\n",
            "[1, 3, 5, 32, 55]\n",
            "[55, 32, 5, 3, 1]\n",
            "[55, 32, 5, 3]\n",
            "[55, 32, 5, 3, 'g', 'f', 1, 2]\n",
            "['gf', 55, 32, 5, 3, 'g', 'f', 1, 2]\n",
            "['gf', 55, 32, 3, 'g', 'f', 1]\n",
            "removeee ['gf', 55, 32, 3, 'f', 1]\n",
            "0\n",
            "False\n",
            "True\n",
            "['gf', 55, 3, 'f', 1, 'h', 'gh']\n"
          ],
          "name": "stdout"
        }
      ]
    },
    {
      "cell_type": "code",
      "metadata": {
        "id": "MjbZW0Th3Yhg",
        "colab_type": "code",
        "outputId": "de5f9aeb-a573-4837-8ce0-7519b167303c",
        "colab": {
          "base_uri": "https://localhost:8080/",
          "height": 34
        }
      },
      "source": [
        "# tuple()\n",
        "#.index and .count for all itterabkes string/list/tuple\n",
        "# c.index\n",
        "# c.count\n",
        "\n",
        "c=(1,2,3,1,2,1,3)\n",
        "c.count(1) #2\n",
        "# c.index(val,includedstart,excludedend) #returns first index with value\n",
        "c.index(1) #0\n",
        "c.index(1) #0\n",
        "c.index(1,1,-1) # 3 ***** Error if x not in tuple\n",
        "c.index(1,3) # 3\n",
        "c.index(1,4) # 5\n",
        "c.index(3,5) #6\n",
        "# c.index(3,5,-1) #Get an error/value at last element so by excluding the end of the string by putting -1 \n"
      ],
      "execution_count": 0,
      "outputs": [
        {
          "output_type": "execute_result",
          "data": {
            "text/plain": [
              "6"
            ]
          },
          "metadata": {
            "tags": []
          },
          "execution_count": 136
        }
      ]
    },
    {
      "cell_type": "code",
      "metadata": {
        "id": "nnnhurQyP9YS",
        "colab_type": "code",
        "outputId": "6ea12145-dd75-4105-89bd-d82175ed61a6",
        "colab": {
          "base_uri": "https://localhost:8080/",
          "height": 119
        }
      },
      "source": [
        "dictt = {'1':1,'2':2,'3':3}\n",
        "print(dictt)\n",
        "dictt.pop('2') # dictt.pop() gives error\n",
        "print(dictt)\n",
        "dictt.popitem()\n",
        "print(dictt)\n",
        "dictt = {'1':1,'2':2,'3':3}\n",
        "print(dictt.values())\n",
        "print(dictt.keys())\n",
        "print(dictt.items())\n"
      ],
      "execution_count": 0,
      "outputs": [
        {
          "output_type": "stream",
          "text": [
            "{'1': 1, '2': 2, '3': 3}\n",
            "{'1': 1, '3': 3}\n",
            "{'1': 1}\n",
            "dict_values([1, 2, 3])\n",
            "dict_keys(['1', '2', '3'])\n",
            "dict_items([('1', 1), ('2', 2), ('3', 3)])\n"
          ],
          "name": "stdout"
        }
      ]
    },
    {
      "cell_type": "code",
      "metadata": {
        "id": "Dn_Hn0OQRzKH",
        "colab_type": "code",
        "outputId": "313876d3-94ef-477a-fc3a-70f7a64175d5",
        "colab": {
          "base_uri": "https://localhost:8080/",
          "height": 255
        }
      },
      "source": [
        "sett={1,2,3}\n",
        "\n",
        "# set([1,3])   | set([4,6])    #{1,3,4,6}\n",
        "# set([1,4,3]) & set([4,6])    #{4}\n",
        "# set([1,4,3]) - set([4,6])    #{1, 3}\n",
        "# set([4,6])   - set([1,4,3])  #6\n",
        "\n",
        "# sett.pop\n",
        "# sett.remove\n",
        "# sett.copy\n",
        "# sett.add\n",
        "\n",
        "# sett.intersection\n",
        "# sett.union\n",
        "# sett.difference\n",
        "# sett.discard\n",
        "# sett.symmetric_difference\n",
        "\n",
        "print(sett)\n",
        "sett.pop() # no index or value available\n",
        "print(sett)\n",
        "sett.remove(2) # remove value available\n",
        "print(sett)\n",
        "sett.add(2)\n",
        "print(sett)\n",
        "sett.add(2)\n",
        "print(sett)\n",
        "sett.add(22)\n",
        "print(sett)\n",
        "a=b=sett.union(sett)\n",
        "print(a)\n",
        "sett.difference(sett)\n",
        "print(b)\n",
        "c=sett.intersection(sett)\n",
        "print(c)\n",
        "print(sett.symmetric_difference(sett))\n",
        "\n",
        "x = {\"apple\", \"banana\", \"cherry\"}\n",
        "y = {\"google\", \"microsoft\", \"apple\"}\n",
        "\n",
        "print(x.intersection(y))\n",
        "print(x.union(y))\n",
        "print(x.difference(y))\n",
        "print(x.symmetric_difference(y))\n",
        "\n",
        "# sett.difference\n",
        "# sett.union\n",
        "# sett.symmetric_difference\n",
        "# sett.intersection\n",
        "# sett.issubset\n",
        "# sett.issuperset\n",
        "# sett.isdisjoint\n",
        "# sett.pop\n",
        "# sett.remove"
      ],
      "execution_count": 0,
      "outputs": [
        {
          "output_type": "stream",
          "text": [
            "{1, 2, 3}\n",
            "{2, 3}\n",
            "{3}\n",
            "{2, 3}\n",
            "{2, 3}\n",
            "{2, 3, 22}\n",
            "{2, 3, 22}\n",
            "{2, 3, 22}\n",
            "{2, 3, 22}\n",
            "set()\n",
            "{'apple'}\n",
            "{'microsoft', 'google', 'banana', 'apple', 'cherry'}\n",
            "{'banana', 'cherry'}\n",
            "{'google', 'banana', 'cherry', 'microsoft'}\n"
          ],
          "name": "stdout"
        }
      ]
    },
    {
      "cell_type": "code",
      "metadata": {
        "id": "2z91rHdg5FIk",
        "colab_type": "code",
        "outputId": "87e0c05f-e9e9-4b7a-aaa9-edf2f18035d2",
        "colab": {
          "base_uri": "https://localhost:8080/",
          "height": 34
        }
      },
      "source": [
        "'b'=='B' #false\n",
        "2.0 == 2 # true\n",
        "2 != 3 #true\n",
        "1 < 2 #true\n",
        "1<=2 #true\n",
        "1>=2 #false\n",
        "\n",
        "2 != 3 and 2 != 3 \n",
        "2 != 3 or 2 != 3\n",
        "\n",
        "1<2>3 #false\n",
        "1<2 and 2> 3 #false\n",
        "(1<2 ) and (2> 3) #false\n",
        "\n",
        "not 1==1\n",
        "not(1==1)\n",
        "\n"
      ],
      "execution_count": 0,
      "outputs": [
        {
          "output_type": "stream",
          "text": [
            "bmn\n"
          ],
          "name": "stdout"
        }
      ]
    },
    {
      "cell_type": "code",
      "metadata": {
        "id": "xU66dmsJlyWM",
        "colab_type": "code",
        "outputId": "cb00a61e-44a1-4a26-afc6-3773c0e379cb",
        "colab": {
          "base_uri": "https://localhost:8080/",
          "height": 34
        }
      },
      "source": [
        "# only two\n",
        "min(1,2)\n",
        "\n",
        "# as many in the list\n",
        "min([1,2,3])"
      ],
      "execution_count": 0,
      "outputs": [
        {
          "output_type": "execute_result",
          "data": {
            "text/plain": [
              "1"
            ]
          },
          "metadata": {
            "tags": []
          },
          "execution_count": 247
        }
      ]
    },
    {
      "cell_type": "code",
      "metadata": {
        "id": "oSMVcqI8605r",
        "colab_type": "code",
        "outputId": "667d7fec-814a-4b99-e175-40d292527515",
        "colab": {
          "base_uri": "https://localhost:8080/",
          "height": 51
        }
      },
      "source": [
        "\n",
        "hungry=True\n",
        "if hungry:\n",
        "    a=input()\n",
        "    print(a,\"bmn\")\n",
        "elif 1==1:\n",
        "    print(\"jl\")\n",
        "else:\n",
        "    print('n,m')\n",
        "\n"
      ],
      "execution_count": 0,
      "outputs": [
        {
          "output_type": "stream",
          "text": [
            "kj\n",
            "kj bmn\n"
          ],
          "name": "stdout"
        }
      ]
    },
    {
      "cell_type": "code",
      "metadata": {
        "id": "nxm0AhGZoDK5",
        "colab_type": "code",
        "outputId": "6cc0c5d6-70ea-4293-8a22-26b996974f1a",
        "colab": {
          "base_uri": "https://localhost:8080/",
          "height": 34
        }
      },
      "source": [
        "def makes_twenty(n,m):\n",
        "    return (n+m)==20 or n==20 or m==20\n",
        "\n",
        "n,m=20,0\n",
        "makes_twenty(n,m)"
      ],
      "execution_count": 0,
      "outputs": [
        {
          "output_type": "execute_result",
          "data": {
            "text/plain": [
              "True"
            ]
          },
          "metadata": {
            "tags": []
          },
          "execution_count": 249
        }
      ]
    },
    {
      "cell_type": "code",
      "metadata": {
        "id": "IcYMT_j5omNQ",
        "colab_type": "code",
        "outputId": "4adbac68-a237-4ebc-e06f-58cb860bd1de",
        "colab": {
          "base_uri": "https://localhost:8080/",
          "height": 51
        }
      },
      "source": [
        "def myfunc(st):\n",
        "    print(type(st))\n",
        "    a=st[0].upper() + st[1:2] +st[3].upper()+st[3:]\n",
        "    return a\n",
        "myfunc('bananna')\n"
      ],
      "execution_count": 0,
      "outputs": [
        {
          "output_type": "stream",
          "text": [
            "<class 'str'>\n"
          ],
          "name": "stdout"
        },
        {
          "output_type": "execute_result",
          "data": {
            "text/plain": [
              "'BaAanna'"
            ]
          },
          "metadata": {
            "tags": []
          },
          "execution_count": 265
        }
      ]
    },
    {
      "cell_type": "code",
      "metadata": {
        "id": "zewxf45GsDAO",
        "colab_type": "code",
        "outputId": "f683d508-1779-4470-e6d8-a095f7886690",
        "colab": {
          "base_uri": "https://localhost:8080/",
          "height": 34
        }
      },
      "source": [
        "def textrevereser(text):\n",
        "    a=text.split()\n",
        "    a.reverse()\n",
        "    return str(a)\n",
        "print(textrevereser('I am home already'))"
      ],
      "execution_count": 0,
      "outputs": [
        {
          "output_type": "stream",
          "text": [
            "['already', 'home', 'am', 'I']\n"
          ],
          "name": "stdout"
        }
      ]
    },
    {
      "cell_type": "markdown",
      "metadata": {
        "id": "yGJAtzsxL7ov",
        "colab_type": "text"
      },
      "source": [
        "## Extending the string\n"
      ]
    },
    {
      "cell_type": "code",
      "metadata": {
        "id": "30pOpvtHFIsZ",
        "colab_type": "code",
        "outputId": "47bff612-bba8-45f6-e42c-20c1513014e1",
        "colab": {
          "base_uri": "https://localhost:8080/",
          "height": 34
        }
      },
      "source": [
        "def string3x(st):\n",
        "    '''\n",
        "    Given a string return a string that every char repeated 3X\n",
        "    '''\n",
        "    st3=''\n",
        "    for i in st:\n",
        "        st3+=3*i\n",
        "    return st3\n",
        "print(string3x(\"Happy Monday!\"))"
      ],
      "execution_count": 0,
      "outputs": [
        {
          "output_type": "stream",
          "text": [
            "HHHaaappppppyyy   MMMooonnndddaaayyy!!!\n"
          ],
          "name": "stdout"
        }
      ]
    },
    {
      "cell_type": "code",
      "metadata": {
        "id": "TP47BLwnSnvA",
        "colab_type": "code",
        "outputId": "96b440e2-7185-4f7b-edd8-3bb7e4a0012c",
        "colab": {
          "base_uri": "https://localhost:8080/",
          "height": 34
        }
      },
      "source": [
        "a,b,c=1,2,3\n",
        "sum([a,b,c])\n",
        "sum([a,b])"
      ],
      "execution_count": 0,
      "outputs": [
        {
          "output_type": "execute_result",
          "data": {
            "text/plain": [
              "3"
            ]
          },
          "metadata": {
            "tags": []
          },
          "execution_count": 287
        }
      ]
    },
    {
      "cell_type": "code",
      "metadata": {
        "id": "KZRjXE0xS4mF",
        "colab_type": "code",
        "outputId": "7aa0d7d6-5a91-465c-a102-53f11bc6c921",
        "colab": {
          "base_uri": "https://localhost:8080/",
          "height": 102
        }
      },
      "source": [
        "'''\n",
        "return sum of array element except ignore sections between 6 and 9\n",
        "'''\n",
        "\n",
        "t=0\n",
        "a=[0, 3, 6, 9]\n",
        "b=a.copy()\n",
        "for i in a:\n",
        "    print(i,a,b)\n",
        "    if i==6 or t==1:    \n",
        "        t=1\n",
        "        b.remove(i)\n",
        "        if i==9:\n",
        "            t=0\n",
        "            continue\n",
        "   \n",
        "    \n",
        "print(f\"sum of {b} is {sum(b)}\")"
      ],
      "execution_count": 0,
      "outputs": [
        {
          "output_type": "stream",
          "text": [
            "0 [0, 3, 6, 9] [0, 3, 6, 9]\n",
            "3 [0, 3, 6, 9] [0, 3, 6, 9]\n",
            "6 [0, 3, 6, 9] [0, 3, 6, 9]\n",
            "9 [0, 3, 6, 9] [0, 3, 9]\n",
            "sum of [0, 3] is 3\n"
          ],
          "name": "stdout"
        }
      ]
    },
    {
      "cell_type": "code",
      "metadata": {
        "id": "ewHijnI7yqg1",
        "colab_type": "code",
        "outputId": "c2091685-af74-4932-e19f-321638f819df",
        "colab": {
          "base_uri": "https://localhost:8080/",
          "height": 34
        }
      },
      "source": [
        "def myfunc(a):\n",
        "    b=''\n",
        "    for i in a:\n",
        "        if i==0 or i==7:\n",
        "            b+=str(i)\n",
        "            if '007' in b:\n",
        "                return True\n",
        "    return False\n",
        "\n",
        "a=[1,2,0,4,0,8,7,9]\n",
        "myfunc(a)"
      ],
      "execution_count": 0,
      "outputs": [
        {
          "output_type": "execute_result",
          "data": {
            "text/plain": [
              "True"
            ]
          },
          "metadata": {
            "tags": []
          },
          "execution_count": 10
        }
      ]
    },
    {
      "cell_type": "code",
      "metadata": {
        "id": "_LZhmYnzwPEN",
        "colab_type": "code",
        "outputId": "6b66ba7d-dd14-408a-a01d-147814d2c2f4",
        "colab": {
          "base_uri": "https://localhost:8080/",
          "height": 130
        }
      },
      "source": [
        "#learn if its float or not\n",
        "\n",
        "a=9/(9**0.5)\n",
        "int(3.0)==3\n",
        "\n",
        "i=9\n",
        "list(range(2,int(i**0.5)+1))\n",
        "\n"
      ],
      "execution_count": 0,
      "outputs": [
        {
          "output_type": "error",
          "ename": "SyntaxError",
          "evalue": "ignored",
          "traceback": [
            "\u001b[0;36m  File \u001b[0;32m\"<ipython-input-22-4ffed8b41f03>\"\u001b[0;36m, line \u001b[0;32m8\u001b[0m\n\u001b[0;31m    list(range(5:1:-1))\u001b[0m\n\u001b[0m                ^\u001b[0m\n\u001b[0;31mSyntaxError\u001b[0m\u001b[0;31m:\u001b[0m invalid syntax\n"
          ]
        }
      ]
    },
    {
      "cell_type": "code",
      "metadata": {
        "id": "az4j7ExnzmAb",
        "colab_type": "code",
        "outputId": "aed2eca0-3dd1-4535-9113-435e54d7bc9b",
        "colab": {
          "base_uri": "https://localhost:8080/",
          "height": 51
        }
      },
      "source": [
        "print (\"Displaying list of numbers by reverse order using range()\")\n",
        "list(range(4,-1,-1)) # [4, 3, 2, 1, 0]\n",
        "list(range(16,12,-1)) # [16, 15, 14, 13]\n",
        "list(range(4,0,-1)) # [4, 3, 2, 1]"
      ],
      "execution_count": 0,
      "outputs": [
        {
          "output_type": "stream",
          "text": [
            "Displaying list of numbers by reverse order using range()\n"
          ],
          "name": "stdout"
        },
        {
          "output_type": "execute_result",
          "data": {
            "text/plain": [
              "[4, 3, 2, 1]"
            ]
          },
          "metadata": {
            "tags": []
          },
          "execution_count": 30
        }
      ]
    },
    {
      "cell_type": "code",
      "metadata": {
        "id": "tA_bUDIkpakk",
        "colab_type": "code",
        "outputId": "c7ff97a0-f74e-49b8-8333-60b57f8e9a19",
        "colab": {
          "base_uri": "https://localhost:8080/",
          "height": 34
        }
      },
      "source": [
        "def myfunc(a=[17,4,2,3,1,6,16]):\n",
        "    '''\n",
        "    Prime number: can be devided by only itself and one\n",
        "    Prime NO. Z= X*Y X=1 and Y=Z\n",
        "    loop through from 1:sqrt(z) and see if z/(1:sqrt(z))\n",
        "    '''\n",
        "\n",
        "    prime=[]\n",
        "    for i in a:\n",
        "        for j in range(int(i**0.5),0,-1):\n",
        "            # print(f\"testing {i}, with {j}\")\n",
        "            # figures out if number is devidable by other numbers\n",
        "            if j==1: #23=23*1\n",
        "                    prime.append(i)\n",
        "                    #print(f\"{i} is prime\")       \n",
        "            elif int(i/j) == i/j: #20/4=5 5==5.0\n",
        "                break\n",
        "    return prime\n",
        "\n",
        "\n",
        "            \n",
        "print(f\"List of all primes: {myfunc()}\")\n",
        "            \n"
      ],
      "execution_count": 0,
      "outputs": [
        {
          "output_type": "stream",
          "text": [
            "List of all primes: [17, 2, 3, 1]\n"
          ],
          "name": "stdout"
        }
      ]
    },
    {
      "cell_type": "markdown",
      "metadata": {
        "id": "fEVMMMcQlBCt",
        "colab_type": "text"
      },
      "source": [
        "Floating-point numbers are represented in computer hardware as base 2 (binary) fractions. \n",
        "https://docs.python.org/2/tutorial/floatingpoint.html\n",
        "\n",
        "C language converts floating point numbers to fractions and when those fractions are called by Python they again are converted to float and the conversion between a float and fraction are not always accurate. Round() will round the floating point number to a certain number to the right of the decimal which we can control in the syntax."
      ]
    },
    {
      "cell_type": "code",
      "metadata": {
        "id": "kIa-k9nQmsIf",
        "colab_type": "code",
        "outputId": "3a221bff-7251-4c8f-d8a2-687dd58e5130",
        "colab": {
          "base_uri": "https://localhost:8080/",
          "height": 34
        }
      },
      "source": [
        "round(0.1 + 0.2 - 0.3,1)   "
      ],
      "execution_count": 0,
      "outputs": [
        {
          "output_type": "execute_result",
          "data": {
            "text/plain": [
              "0.0"
            ]
          },
          "metadata": {
            "tags": []
          },
          "execution_count": 11
        }
      ]
    },
    {
      "cell_type": "code",
      "metadata": {
        "id": "he5-nI8AwnpN",
        "colab_type": "code",
        "outputId": "8be802fa-43eb-45b7-b840-cc0dca8df0f6",
        "colab": {
          "base_uri": "https://localhost:8080/",
          "height": 51
        }
      },
      "source": [
        "print(\"I am a\\nbanana\")"
      ],
      "execution_count": 0,
      "outputs": [
        {
          "output_type": "stream",
          "text": [
            "I am a\n",
            "banana\n"
          ],
          "name": "stdout"
        }
      ]
    },
    {
      "cell_type": "code",
      "metadata": {
        "id": "igWLgoMTp6EI",
        "colab_type": "code",
        "outputId": "b0094902-9881-466b-dd80-1ce689565029",
        "colab": {
          "base_uri": "https://localhost:8080/",
          "height": 34
        }
      },
      "source": [
        "0.1 + 0.2 - 0.3"
      ],
      "execution_count": 0,
      "outputs": [
        {
          "output_type": "execute_result",
          "data": {
            "text/plain": [
              "5.551115123125783e-17"
            ]
          },
          "metadata": {
            "tags": []
          },
          "execution_count": 12
        }
      ]
    },
    {
      "cell_type": "markdown",
      "metadata": {
        "id": "vTJy79nJ6UBz",
        "colab_type": "text"
      },
      "source": [
        "**Python Operators: Order & Precedence**\n",
        "In order of highest to lowest Precedence\n",
        "* President\t()\tParentheses\n",
        "* Powers\t**\tExponentiation\n",
        "* Asterisk\t*\tMultiplication\n",
        "* Slash\t/\tDivision\n",
        "* Plus\t+\tAddition\n",
        "* Minus\t–\tSubtraction"
      ]
    },
    {
      "cell_type": "code",
      "metadata": {
        "id": "ADakMefZ6TcF",
        "colab_type": "code",
        "colab": {}
      },
      "source": [
        ""
      ],
      "execution_count": 0,
      "outputs": []
    },
    {
      "cell_type": "code",
      "metadata": {
        "id": "LUTU7vNlm0mz",
        "colab_type": "code",
        "outputId": "dac3ac15-923d-4a62-b182-56ed55c0b996",
        "colab": {
          "base_uri": "https://localhost:8080/",
          "height": 238
        }
      },
      "source": [
        "mystring=\"Heyo pretty world!\"\n",
        "print(mystring[-2])\n",
        "print(mystring[:-2])\n",
        "print(mystring[1:3])\n",
        "print(mystring[2:])\n",
        "print(mystring[1:5:2])\n",
        "print(\"backward reverse:\",mystring[::-1])\n",
        "print(mystring[::2])\n",
        "print(mystring[:])\n",
        "print(mystring[::])\n",
        "print(mystring[3::])\n",
        "print(\"Hello\\tWorld\"[7])\n",
        "print(\"Hello World\"[7])\n",
        "print(\"Hello\\nWorld\"[7])\n"
      ],
      "execution_count": 0,
      "outputs": [
        {
          "output_type": "stream",
          "text": [
            "d\n",
            "Heyo pretty worl\n",
            "ey\n",
            "yo pretty world!\n",
            "eo\n",
            "backward reverse: !dlrow ytterp oyeH\n",
            "Hy rtywrd\n",
            "Heyo pretty world!\n",
            "Heyo pretty world!\n",
            "o pretty world!\n",
            "o\n",
            "o\n",
            "o\n"
          ],
          "name": "stdout"
        }
      ]
    },
    {
      "cell_type": "markdown",
      "metadata": {
        "id": "m1PjIDseDWT9",
        "colab_type": "text"
      },
      "source": [
        "\n",
        "String Formatting\n",
        "String formatting lets you inject items into a string rather than trying to chain items together using commas or string concatenation. As a quick comparison, consider:"
      ]
    },
    {
      "cell_type": "code",
      "metadata": {
        "id": "0ua4TMk60lLh",
        "colab_type": "code",
        "outputId": "ef99b9fc-213d-4fe4-88b3-24dc02d0d55a",
        "colab": {
          "base_uri": "https://localhost:8080/",
          "height": 51
        }
      },
      "source": [
        "# immutable means can't change\n",
        "name = \"SAm\"\n",
        "# name[0]=\"p\"\n",
        "# you get an error cause strings are immutable\n",
        "newname='P'+'Sam'[1:]\n",
        "print(newname)\n",
        "\n",
        "newname='P'*3+'Sam'[1:]\n",
        "print(newname)"
      ],
      "execution_count": 0,
      "outputs": [
        {
          "output_type": "stream",
          "text": [
            "Pam\n",
            "PPPam\n"
          ],
          "name": "stdout"
        }
      ]
    },
    {
      "cell_type": "markdown",
      "metadata": {
        "id": "YZSVJCo-DSZK",
        "colab_type": "text"
      },
      "source": [
        ""
      ]
    },
    {
      "cell_type": "code",
      "metadata": {
        "id": "3ovYlc7W2ekl",
        "colab_type": "code",
        "outputId": "4e4e20da-22de-415e-f855-8039e981ec3d",
        "colab": {
          "base_uri": "https://localhost:8080/",
          "height": 85
        }
      },
      "source": [
        "a= 'string '*3\n",
        "print(a.title())\n",
        "print(a.upper())\n",
        "print(a.split())\n",
        "print(a.split('s'))\n"
      ],
      "execution_count": 0,
      "outputs": [
        {
          "output_type": "stream",
          "text": [
            "String String String \n",
            "STRING STRING STRING \n",
            "['string', 'string', 'string']\n",
            "['', 'tring ', 'tring ', 'tring ']\n"
          ],
          "name": "stdout"
        }
      ]
    },
    {
      "cell_type": "code",
      "metadata": {
        "id": "nGKJWZb_8Q1f",
        "colab_type": "code",
        "outputId": "1f105894-a94b-4f98-caf8-9a32cb6b1bb9",
        "colab": {
          "base_uri": "https://localhost:8080/",
          "height": 102
        }
      },
      "source": [
        "print('This is a string {}'.format('blaaaa'))\n",
        "\n",
        "print(\"The ordered {} {} {}\".format('bla','blaa','blaaa'))\n",
        "\n",
        "print(\"The reverse {2} {1} {0}\".format('bla','blaa','blaaa'))\n",
        "\n",
        "print(\"The reverse {c} {a} {b}\".format(a='bla',b='blaa',c='blaaa'))\n",
        "\n",
        "print(\"The reverse {c} {c} {c}\".format(a='bla',b='blaa',c='blaaa'))\n"
      ],
      "execution_count": 0,
      "outputs": [
        {
          "output_type": "stream",
          "text": [
            "This is a string blaaaa\n",
            "The ordered bla blaa blaaa\n",
            "The reverse blaaa blaa bla\n",
            "The reverse blaaa bla blaa\n",
            "The reverse blaaa blaaa blaaa\n"
          ],
          "name": "stdout"
        }
      ]
    },
    {
      "cell_type": "code",
      "metadata": {
        "id": "dc1OAAdi9ILs",
        "colab_type": "code",
        "outputId": "9426c710-7df7-4876-9133-5dec9e73d457",
        "colab": {
          "base_uri": "https://localhost:8080/",
          "height": 153
        }
      },
      "source": [
        "result=104.12345\n",
        "print(result)\n",
        "print(\"the result {r}\".format(r=result))\n",
        "print(\"the result {}\".format(result))\n",
        "print(\"float formatting rule: {value:width.precisionf}\")\n",
        "\n",
        "print(\"the result {r:1.3f}\".format(r=result))\n",
        "print(\"the result {r:10.3f}\".format(r=result))\n",
        "print(\"the result {r:10.5f}\".format(r=result))\n"
      ],
      "execution_count": 0,
      "outputs": [
        {
          "output_type": "stream",
          "text": [
            "104.12345\n",
            "the result 104.12345\n",
            "the result 104.12345\n",
            "float formatting rule: {value:width.precision f}\n",
            "the result 104.123\n",
            "the result    104.123\n",
            "the result  104.12345\n",
            "his name is Jose\n"
          ],
          "name": "stdout"
        }
      ]
    },
    {
      "cell_type": "code",
      "metadata": {
        "id": "KKNzHj4xCBzX",
        "colab_type": "code",
        "outputId": "15b9658c-fe19-43f2-a5c4-855bee0ee0d8",
        "colab": {
          "base_uri": "https://localhost:8080/",
          "height": 51
        }
      },
      "source": [
        "\n",
        "name = \"Jose\"\n",
        "age = 3\n",
        "print(\"his name is {} and he is {} years old\".format(name,age))\n",
        "\n",
        "print(f\"his name is {name} and he is {age} years old\")"
      ],
      "execution_count": 0,
      "outputs": [
        {
          "output_type": "stream",
          "text": [
            "his name is Jose and he is 3 years old\n",
            "his name is Jose and he is 3 years old\n"
          ],
          "name": "stdout"
        }
      ]
    },
    {
      "cell_type": "markdown",
      "metadata": {
        "id": "skwzzmcREGqi",
        "colab_type": "text"
      },
      "source": [
        "Alignment, padding and precision with .format()\n",
        "Within the curly braces you can assign field lengths, left/right alignments, rounding parameters and more\n",
        "\n",
        "\n",
        "By default, .format() aligns text to the left, numbers to the right. You can pass an optional <,^, or > to set a left, center or right alignment:\n",
        "\n",
        "\n",
        "Also you can precede the aligment operator with a padding character"
      ]
    },
    {
      "cell_type": "code",
      "metadata": {
        "id": "J2-HkcGtEDIP",
        "colab_type": "code",
        "outputId": "402be0d1-b15e-49df-8a78-5eb42f50cb1f",
        "colab": {
          "base_uri": "https://localhost:8080/",
          "height": 187
        }
      },
      "source": [
        "print('{0:8} | {1:9}'.format('Fruit', 'Quantity'))\n",
        "print('{0:8} | {1:9}'.format('Apples', 3.))\n",
        "print('{0:8} | {1:9}'.format('Oranges', 10))\n",
        "print('{0:8} | {1:9}'.format('Oranges', 10))\n",
        "print(\"the result {rez:10.5f}\".format(rez=result))\n",
        "\n",
        "\n",
        "print('{0:<8} | {1:^8} | {2:>8}'.format('Left','Center','Right'))\n",
        "print('{0:<8} | {1:^8} | {2:>8}'.format(11,22,33))\n",
        "\n",
        "\n",
        "\n",
        "print('{0:=<8} | {1:-^8} | {2:.>8}'.format('Left','Center','Right'))\n",
        "print('{0:=<8} | {1:-^8} | {2:.>8}'.format(11,22,33))\n",
        "\n",
        "\n",
        "num = 23.45\n",
        "print(\"My 10 character, four decimal number is:{0:10.4f}\".format(num))\n"
      ],
      "execution_count": 0,
      "outputs": [
        {
          "output_type": "stream",
          "text": [
            "Fruit    | Quantity \n",
            "Apples   |       3.0\n",
            "Oranges  |        10\n",
            "Oranges  |        10\n",
            "the result  104.12345\n",
            "Left     |  Center  |    Right\n",
            "11       |    22    |       33\n",
            "Left==== | -Center- | ...Right\n",
            "11====== | ---22--- | ......33\n",
            "My 10 character, four decimal number is:   23.4500\n"
          ],
          "name": "stdout"
        }
      ]
    },
    {
      "cell_type": "code",
      "metadata": {
        "id": "ceXy0YZsJdQW",
        "colab_type": "code",
        "outputId": "1a0cf6da-e1a6-4150-8be2-3e7856dc15a8",
        "colab": {
          "base_uri": "https://localhost:8080/",
          "height": 119
        }
      },
      "source": [
        "num=3.565\n",
        "name='hgjfhgj'\n",
        "print(f\"My 10 character, four decimal number is:{num:10.4}\")\n",
        "print(f'helloo   \\t {name:<8} | {name:^8} | {name:>8}  ')\n",
        "print(f'helloo   \\t {name:.<8} | {name:.^8} | {name:.>8}  ')\n",
        "\n",
        "print(f\"{'mon':<8} \\t {'tue':^8} \\t {'wed':>8}\")\n",
        "\n",
        "a,b,c,d,e,f,g=\"mon\",\"tue\",\"wed\",\"thu\",\"fri\",\"sat\",\"sun\"\n",
        "print(f\"{a:<8} \\t {b:^8} \\t {c:>8}\")\n",
        "print(f\"{d:<8} \\t {e:^8} \\t {f:>8}\")\n",
        "\n"
      ],
      "execution_count": 0,
      "outputs": [
        {
          "output_type": "stream",
          "text": [
            "My 10 character, four decimal number is:     3.565\n",
            "helloo   \t hgjfhgj  | hgjfhgj  |  hgjfhgj  \n",
            "helloo   \t hgjfhgj. | hgjfhgj. | .hgjfhgj  \n",
            "mon      \t   tue    \t      wed\n",
            "mon      \t   tue    \t      wed\n",
            "thu      \t   fri    \t      sat\n"
          ],
          "name": "stdout"
        }
      ]
    },
    {
      "cell_type": "code",
      "metadata": {
        "id": "dhNBge-NLvXr",
        "colab_type": "code",
        "colab": {}
      },
      "source": [
        "'{} {}'.format('one', 'two')\n",
        "\n"
      ],
      "execution_count": 0,
      "outputs": []
    },
    {
      "cell_type": "code",
      "metadata": {
        "id": "abQHLgZPLwzl",
        "colab_type": "code",
        "outputId": "ee0e0956-1149-4cd3-d29c-19b3741c6211",
        "colab": {
          "base_uri": "https://localhost:8080/",
          "height": 34
        }
      },
      "source": [
        "'{:f}'.format(3.141592653589793)"
      ],
      "execution_count": 0,
      "outputs": [
        {
          "output_type": "execute_result",
          "data": {
            "text/plain": [
              "'3.141593'"
            ]
          },
          "metadata": {
            "tags": []
          },
          "execution_count": 122
        }
      ]
    },
    {
      "cell_type": "code",
      "metadata": {
        "id": "OlooX6hHLzcX",
        "colab_type": "code",
        "outputId": "2e846bf7-bfed-4c4d-dc00-2a26196689eb",
        "colab": {
          "base_uri": "https://localhost:8080/",
          "height": 34
        }
      },
      "source": [
        "'{:0.2f}'.format(33.0798798)"
      ],
      "execution_count": 0,
      "outputs": [
        {
          "output_type": "execute_result",
          "data": {
            "text/plain": [
              "'33.08'"
            ]
          },
          "metadata": {
            "tags": []
          },
          "execution_count": 81
        }
      ]
    },
    {
      "cell_type": "code",
      "metadata": {
        "id": "CYiE8-LHL1xg",
        "colab_type": "code",
        "outputId": "3bc1277a-fdfa-46d0-b3c9-f3106ec90fb7",
        "colab": {
          "base_uri": "https://localhost:8080/",
          "height": 34
        }
      },
      "source": [
        "'{:d}'.format(33)"
      ],
      "execution_count": 0,
      "outputs": [
        {
          "output_type": "execute_result",
          "data": {
            "text/plain": [
              "'33'"
            ]
          },
          "metadata": {
            "tags": []
          },
          "execution_count": 23
        }
      ]
    },
    {
      "cell_type": "markdown",
      "metadata": {
        "id": "LaTiZcJ-MHBw",
        "colab_type": "text"
      },
      "source": [
        "Named placeholders\n",
        "Both formatting styles support named placeholders."
      ]
    },
    {
      "cell_type": "code",
      "metadata": {
        "id": "UHpbBsgWMGk-",
        "colab_type": "code",
        "outputId": "688c76ca-3965-4e90-f9f4-6d22152e9be3",
        "colab": {
          "base_uri": "https://localhost:8080/",
          "height": 34
        }
      },
      "source": [
        "data = {'first': 'Hodor', 'last': 'Hodor!'}\n",
        "'{first} {last}'.format(**data)\n",
        "\n"
      ],
      "execution_count": 0,
      "outputs": [
        {
          "output_type": "execute_result",
          "data": {
            "text/plain": [
              "'Hodor Hodor!'"
            ]
          },
          "metadata": {
            "tags": []
          },
          "execution_count": 130
        }
      ]
    },
    {
      "cell_type": "code",
      "metadata": {
        "id": "HjMqyqmkM_WO",
        "colab_type": "code",
        "outputId": "63dcf622-836a-474f-e3ef-81f9f6411154",
        "colab": {
          "base_uri": "https://localhost:8080/",
          "height": 34
        }
      },
      "source": [
        "'{:{align}{width}}'.format('test', align='^', width='10')\n",
        "f\"{'test':<8}\"\n"
      ],
      "execution_count": 0,
      "outputs": [
        {
          "output_type": "execute_result",
          "data": {
            "text/plain": [
              "'hjh     '"
            ]
          },
          "metadata": {
            "tags": []
          },
          "execution_count": 141
        }
      ]
    },
    {
      "cell_type": "code",
      "metadata": {
        "id": "BZhrbCqUNyBn",
        "colab_type": "code",
        "outputId": "7ccca61c-96e1-45cd-dcf7-a4535732935a",
        "colab": {
          "base_uri": "https://localhost:8080/",
          "height": 34
        }
      },
      "source": [
        "aa='test'\n",
        "f\"{aa :<8}\""
      ],
      "execution_count": 0,
      "outputs": [
        {
          "output_type": "execute_result",
          "data": {
            "text/plain": [
              "'test    '"
            ]
          },
          "metadata": {
            "tags": []
          },
          "execution_count": 142
        }
      ]
    },
    {
      "cell_type": "code",
      "metadata": {
        "id": "w6unZK9qMeUg",
        "colab_type": "code",
        "colab": {}
      },
      "source": [
        "data = [4, 8, 15, 16, 23, 42]\n",
        "'{d[4]} {d[5]}'.format(d=data)"
      ],
      "execution_count": 0,
      "outputs": []
    },
    {
      "cell_type": "code",
      "metadata": {
        "id": "A_SXK_QtONz8",
        "colab_type": "code",
        "outputId": "b92d4bae-04f5-422f-f37c-cdfe9c9e29ac",
        "colab": {
          "base_uri": "https://localhost:8080/",
          "height": 34
        }
      },
      "source": [
        "print(f\"{'python rules' :8>} | {'python rules' :8>}\")\n"
      ],
      "execution_count": 0,
      "outputs": [
        {
          "output_type": "stream",
          "text": [
            "python rules | python rules\n"
          ],
          "name": "stdout"
        }
      ]
    },
    {
      "cell_type": "code",
      "metadata": {
        "id": "PpirLs8sO6vi",
        "colab_type": "code",
        "outputId": "bda48c97-868d-46d7-e2f1-8c39d000334b",
        "colab": {
          "base_uri": "https://localhost:8080/",
          "height": 34
        }
      },
      "source": [
        "f\"{'python rules' :8>} |  {'python rules' :8>}\""
      ],
      "execution_count": 0,
      "outputs": [
        {
          "output_type": "execute_result",
          "data": {
            "text/plain": [
              "'python rules |  python rules'"
            ]
          },
          "metadata": {
            "tags": []
          },
          "execution_count": 151
        }
      ]
    },
    {
      "cell_type": "code",
      "metadata": {
        "id": "oTCYRTCBPHWw",
        "colab_type": "code",
        "outputId": "84bac39e-98e4-4e37-ee29-876b29ac59b5",
        "colab": {
          "base_uri": "https://localhost:8080/",
          "height": 34
        }
      },
      "source": [
        "f\"{'bla' :5} | {'bli':5}\""
      ],
      "execution_count": 0,
      "outputs": [
        {
          "output_type": "execute_result",
          "data": {
            "text/plain": [
              "'bla   | bli  '"
            ]
          },
          "metadata": {
            "tags": []
          },
          "execution_count": 152
        }
      ]
    },
    {
      "cell_type": "code",
      "metadata": {
        "id": "W0mMZZpSPPaP",
        "colab_type": "code",
        "outputId": "2aa81ae8-697b-44bb-eb69-14787074a9fd",
        "colab": {
          "base_uri": "https://localhost:8080/",
          "height": 34
        }
      },
      "source": [
        "f\"{'blii' :.<5} | {'blu' :.<5}\""
      ],
      "execution_count": 0,
      "outputs": [
        {
          "output_type": "execute_result",
          "data": {
            "text/plain": [
              "'blii. | blu..'"
            ]
          },
          "metadata": {
            "tags": []
          },
          "execution_count": 154
        }
      ]
    },
    {
      "cell_type": "code",
      "metadata": {
        "id": "May6X8DlPqe9",
        "colab_type": "code",
        "outputId": "ad1c9dad-547f-468e-b313-fec6fcc5d6bf",
        "colab": {
          "base_uri": "https://localhost:8080/",
          "height": 34
        }
      },
      "source": [
        "f\"{'a':.<6} | {'b':.^7} | {'c':.>6}\""
      ],
      "execution_count": 0,
      "outputs": [
        {
          "output_type": "execute_result",
          "data": {
            "text/plain": [
              "'a..... | ...b... | .....c'"
            ]
          },
          "metadata": {
            "tags": []
          },
          "execution_count": 155
        }
      ]
    },
    {
      "cell_type": "markdown",
      "metadata": {
        "id": "o27HKxq9Vn0m",
        "colab_type": "text"
      },
      "source": [
        "List is a mutable ordered list of objects"
      ]
    },
    {
      "cell_type": "code",
      "metadata": {
        "id": "Hef72mXBVnT-",
        "colab_type": "code",
        "outputId": "660f6cf9-51c8-4059-c66d-ad50db8d1bb7",
        "colab": {
          "base_uri": "https://localhost:8080/",
          "height": 241
        }
      },
      "source": [
        "a=['one',2,3]\n",
        "\n",
        "b=['onee',22,33]\n",
        "len(a)\n",
        "a.append('appended item')\n",
        "c=a+b\n",
        "print(\"before mutation:\",c)\n",
        "c[3]='four'\n",
        "print(\"after mutation:\",c)\n",
        "\n",
        "d=c.pop()\n",
        "print(\"popped item:\",d)\n",
        "print(\"newlist:\",c)\n",
        "\n",
        "d=c.pop(1)\n",
        "print(\"popped item in index 1:\",d)\n",
        "print(\"newlist:\",c)\n",
        "\n",
        "c=[5,3,32,1,55]\n",
        "\n",
        "print(\"sorted in place the following list\",c)\n",
        "print('does not change and modify the list after showing its sorted version',sorted(c))\n",
        "print('list stays the same unsorted',c)\n",
        "c.sort()\n",
        "print('final list after inplace sorting: ', c)\n",
        "\n",
        "print(\"reversed in place the following list\",c)\n",
        "c.reverse()\n",
        "print('final list: ', c)\n",
        "\n"
      ],
      "execution_count": 0,
      "outputs": [
        {
          "output_type": "stream",
          "text": [
            "before mutation: ['one', 2, 3, 'appended item', 'onee', 22, 33]\n",
            "after mutation: ['one', 2, 3, 'four', 'onee', 22, 33]\n",
            "popped item: 33\n",
            "newlist: ['one', 2, 3, 'four', 'onee', 22]\n",
            "popped item in index 1: 2\n",
            "newlist: ['one', 3, 'four', 'onee', 22]\n",
            "sorted in place the following list [5, 3, 32, 1, 55]\n",
            "does not change and modify the list after showing its sorted version [1, 3, 5, 32, 55]\n",
            "list stays the same unsorted [5, 3, 32, 1, 55]\n",
            "final list after inplace sorting:  [1, 3, 5, 32, 55]\n",
            "reversed in place the following list [1, 3, 5, 32, 55]\n",
            "final list:  [55, 32, 5, 3, 1]\n"
          ],
          "name": "stdout"
        }
      ]
    },
    {
      "cell_type": "code",
      "metadata": {
        "id": "X2LX9bCWZb61",
        "colab_type": "code",
        "outputId": "99131d97-a23c-4de3-a943-92d6412bf0ff",
        "colab": {
          "base_uri": "https://localhost:8080/",
          "height": 51
        }
      },
      "source": [
        "a=['one',2,3]\n",
        "c='abc'\n",
        "print(\"another way to reverse the list like string\")\n",
        "print(f\"reversed list: {a[::-1]} and reversed string: {c[::-1]}\")\n"
      ],
      "execution_count": 0,
      "outputs": [
        {
          "output_type": "stream",
          "text": [
            "another way to reverse the list like string\n",
            "reversed list: [3, 2, 'one'] and reversed string: cba\n"
          ],
          "name": "stdout"
        }
      ]
    },
    {
      "cell_type": "markdown",
      "metadata": {
        "id": "aS-cjdJQaSnf",
        "colab_type": "text"
      },
      "source": [
        "access nested list element: 1. How do I index a nested list? For example if I want to grab 2 from [1,1,[1,2]]?\n",
        "\n",
        "You would just add another set of brackets for indexing the nested list, for example: my_list[2][1] . We'll discover later on more nested objects and you will be quizzed on them later!"
      ]
    },
    {
      "cell_type": "code",
      "metadata": {
        "id": "mxcBBHyAaMU6",
        "colab_type": "code",
        "outputId": "5917b4d5-adff-4373-a244-2c2e8440ad23",
        "colab": {
          "base_uri": "https://localhost:8080/",
          "height": 34
        }
      },
      "source": [
        "a=[1,2,[3,4]]\n",
        "a[2][0]"
      ],
      "execution_count": 0,
      "outputs": [
        {
          "output_type": "execute_result",
          "data": {
            "text/plain": [
              "3"
            ]
          },
          "metadata": {
            "tags": []
          },
          "execution_count": 189
        }
      ]
    },
    {
      "cell_type": "code",
      "metadata": {
        "id": "CxS9FhdlWkU3",
        "colab_type": "code",
        "outputId": "73280a53-28d0-466e-bc6c-ca9b78873293",
        "colab": {
          "base_uri": "https://localhost:8080/",
          "height": 317
        }
      },
      "source": [
        "my_dict = {'k1':'v1','k2':'v2','k3':[10,12,22,'apple'], 'k4':{'insideKey':2}}\n",
        "my_dict['k1'] #v1\n",
        "my_dict['k3'][0] #10\n",
        "my_dict['k3'][3].upper() #'Apple'\n",
        "my_dict['k4']['insideKey'] #2\n",
        "\n",
        "shopping_receipt={'apples':1.99, 'banana':2.99}\n",
        "print(f\"banana price is: {shopping_receipt['banana']}\")\n",
        "\n",
        "shopping_receipt['pineapples']=3\n",
        "shopping_receipt['pineapples']=3.50\n",
        "print(shopping_receipt)\n",
        "\n",
        "shopping_receipt.items() #tuples (key,value)\n",
        "shopping_receipt.keys()\n",
        "shopping_receipt.values()\n",
        "shopping_receipt.pop('banana','notfound')\n",
        "print(shopping_receipt)\n",
        "shopping_receipt.popitem()\n",
        "\n",
        "print(shopping_receipt.get('apple','not fount'))\n",
        "print(shopping_receipt.get('apples','not fount'))\n",
        "print(shopping_receipt['apple'])\n",
        "print(shopping_receipt)\n",
        "\n"
      ],
      "execution_count": 0,
      "outputs": [
        {
          "output_type": "stream",
          "text": [
            "banana price is: 2.99\n",
            "{'apples': 1.99, 'banana': 2.99, 'pineapples': 3.5}\n",
            "{'apples': 1.99, 'pineapples': 3.5}\n",
            "not fount\n",
            "1.99\n"
          ],
          "name": "stdout"
        },
        {
          "output_type": "error",
          "ename": "KeyError",
          "evalue": "ignored",
          "traceback": [
            "\u001b[0;31m---------------------------------------------------------------------------\u001b[0m",
            "\u001b[0;31mKeyError\u001b[0m                                  Traceback (most recent call last)",
            "\u001b[0;32m<ipython-input-216-e6ce334dab58>\u001b[0m in \u001b[0;36m<module>\u001b[0;34m()\u001b[0m\n\u001b[1;32m     21\u001b[0m \u001b[0mprint\u001b[0m\u001b[0;34m(\u001b[0m\u001b[0mshopping_receipt\u001b[0m\u001b[0;34m.\u001b[0m\u001b[0mget\u001b[0m\u001b[0;34m(\u001b[0m\u001b[0;34m'apple'\u001b[0m\u001b[0;34m,\u001b[0m\u001b[0;34m'not fount'\u001b[0m\u001b[0;34m)\u001b[0m\u001b[0;34m)\u001b[0m\u001b[0;34m\u001b[0m\u001b[0;34m\u001b[0m\u001b[0m\n\u001b[1;32m     22\u001b[0m \u001b[0mprint\u001b[0m\u001b[0;34m(\u001b[0m\u001b[0mshopping_receipt\u001b[0m\u001b[0;34m.\u001b[0m\u001b[0mget\u001b[0m\u001b[0;34m(\u001b[0m\u001b[0;34m'apples'\u001b[0m\u001b[0;34m,\u001b[0m\u001b[0;34m'not fount'\u001b[0m\u001b[0;34m)\u001b[0m\u001b[0;34m)\u001b[0m\u001b[0;34m\u001b[0m\u001b[0;34m\u001b[0m\u001b[0m\n\u001b[0;32m---> 23\u001b[0;31m \u001b[0mprint\u001b[0m\u001b[0;34m(\u001b[0m\u001b[0mshopping_receipt\u001b[0m\u001b[0;34m[\u001b[0m\u001b[0;34m'apple'\u001b[0m\u001b[0;34m]\u001b[0m\u001b[0;34m)\u001b[0m\u001b[0;34m\u001b[0m\u001b[0;34m\u001b[0m\u001b[0m\n\u001b[0m\u001b[1;32m     24\u001b[0m \u001b[0mprint\u001b[0m\u001b[0;34m(\u001b[0m\u001b[0mshopping_receipt\u001b[0m\u001b[0;34m)\u001b[0m\u001b[0;34m\u001b[0m\u001b[0;34m\u001b[0m\u001b[0m\n\u001b[1;32m     25\u001b[0m \u001b[0;34m\u001b[0m\u001b[0m\n",
            "\u001b[0;31mKeyError\u001b[0m: 'apple'"
          ]
        }
      ]
    },
    {
      "cell_type": "markdown",
      "metadata": {
        "id": "A96NpPNWh6J0",
        "colab_type": "text"
      },
      "source": [
        "Tupples are ordered sequence of items"
      ]
    },
    {
      "cell_type": "code",
      "metadata": {
        "id": "N1VuTkmJh5SG",
        "colab_type": "code",
        "outputId": "d413aee3-837e-4f8d-c16c-60c4eeefe159",
        "colab": {
          "base_uri": "https://localhost:8080/",
          "height": 85
        }
      },
      "source": [
        "mytuple=(1,2,3,1,11,12)\n",
        "mylist=[1,2,3,1,11,12]\n",
        "\n",
        "len(mytuple)\n",
        "mytuple[0]\n",
        "mytuple.count(1)\n",
        "firstTimeIndex = mytuple.index(1)\n",
        "reversedtuple= mytuple[::-1]\n",
        "print(reversedtuple)\n",
        "print(mytuple[:-5:-1])\n",
        "print(mytuple[2:5:2])\n",
        "print(mytuple[-2])\n",
        "\n",
        "\n"
      ],
      "execution_count": 0,
      "outputs": [
        {
          "output_type": "stream",
          "text": [
            "(12, 11, 1, 3, 2, 1)\n",
            "(12, 11, 1, 3)\n",
            "(3, 11)\n",
            "11\n"
          ],
          "name": "stdout"
        }
      ]
    },
    {
      "cell_type": "code",
      "metadata": {
        "id": "BFbq4etF-i9O",
        "colab_type": "code",
        "outputId": "6d11e60d-961b-4c15-f177-814957205324",
        "colab": {
          "base_uri": "https://localhost:8080/",
          "height": 51
        }
      },
      "source": [
        "myemptytuple2= ()\n",
        "print(type(myemptytuple2))\n",
        "myemptytuple= tuple()\n",
        "print(type(myemptytuple))"
      ],
      "execution_count": 0,
      "outputs": [
        {
          "output_type": "stream",
          "text": [
            "<class 'tuple'>\n",
            "<class 'tuple'>\n"
          ],
          "name": "stdout"
        }
      ]
    },
    {
      "cell_type": "markdown",
      "metadata": {
        "id": "wp4YogMVkNWg",
        "colab_type": "text"
      },
      "source": [
        "sets are unordered collection of unique elements\n"
      ]
    },
    {
      "cell_type": "code",
      "metadata": {
        "id": "RfZnCTaPkMo3",
        "colab_type": "code",
        "outputId": "444c9983-803c-4e8b-c4f9-ec95bce68a4b",
        "colab": {
          "base_uri": "https://localhost:8080/",
          "height": 102
        }
      },
      "source": [
        "myset = set()\n",
        "myset.add(1)\n",
        "myset.add(11)\n",
        "myset.add(2)\n",
        "myset.add(22)\n",
        "print(myset)\n",
        "myset.remove(22)\n",
        "print(myset)\n",
        "mysett=myset.copy()\n",
        "myset.add(22)\n",
        "print(myset)\n",
        "print(mysett)\n",
        "listt = [11,11,11,2,3,33,33]\n",
        "list(set(listt)) #remove repetition\n"
      ],
      "execution_count": 0,
      "outputs": [
        {
          "output_type": "stream",
          "text": [
            "{1, 2, 11, 22}\n",
            "{1, 2, 11}\n",
            "{1, 2, 11, 22}\n",
            "{1, 2, 11}\n"
          ],
          "name": "stdout"
        },
        {
          "output_type": "execute_result",
          "data": {
            "text/plain": [
              "[3, 33, 2, 11]"
            ]
          },
          "metadata": {
            "tags": []
          },
          "execution_count": 239
        }
      ]
    },
    {
      "cell_type": "code",
      "metadata": {
        "id": "NXLE_UIkl2nl",
        "colab_type": "code",
        "outputId": "709d63d4-497c-4ac6-88f9-affc7252a692",
        "colab": {
          "base_uri": "https://localhost:8080/",
          "height": 34
        }
      },
      "source": [
        "type(False)"
      ],
      "execution_count": 0,
      "outputs": [
        {
          "output_type": "execute_result",
          "data": {
            "text/plain": [
              "bool"
            ]
          },
          "metadata": {
            "tags": []
          },
          "execution_count": 240
        }
      ]
    },
    {
      "cell_type": "code",
      "metadata": {
        "id": "8UkyALyMmBxh",
        "colab_type": "code",
        "outputId": "bb5207e9-baed-4dc2-fef3-47a70424511b",
        "colab": {
          "base_uri": "https://localhost:8080/",
          "height": 34
        }
      },
      "source": [
        "1>2"
      ],
      "execution_count": 0,
      "outputs": [
        {
          "output_type": "execute_result",
          "data": {
            "text/plain": [
              "False"
            ]
          },
          "metadata": {
            "tags": []
          },
          "execution_count": 241
        }
      ]
    },
    {
      "cell_type": "code",
      "metadata": {
        "id": "9K9-owhYmDoR",
        "colab_type": "code",
        "outputId": "abb2a08d-b6f6-4373-85f7-ca6f1150b81c",
        "colab": {
          "base_uri": "https://localhost:8080/",
          "height": 34
        }
      },
      "source": [
        "1==1"
      ],
      "execution_count": 0,
      "outputs": [
        {
          "output_type": "execute_result",
          "data": {
            "text/plain": [
              "True"
            ]
          },
          "metadata": {
            "tags": []
          },
          "execution_count": 242
        }
      ]
    },
    {
      "cell_type": "code",
      "metadata": {
        "id": "bXy6kZk_mHzz",
        "colab_type": "code",
        "colab": {}
      },
      "source": [
        "b = None # itis a placeholder\n"
      ],
      "execution_count": 0,
      "outputs": []
    },
    {
      "cell_type": "code",
      "metadata": {
        "id": "uTFWDyP1mmkH",
        "colab_type": "code",
        "outputId": "b3d5304c-75be-4b1f-a5f0-2a67ccfc06f0",
        "colab": {
          "base_uri": "https://localhost:8080/",
          "height": 34
        }
      },
      "source": [
        "%%writefile myfile.txt\n",
        "Hellloooo\n",
        "whatuppp \n",
        "banaaaaana applesss orangesss\n"
      ],
      "execution_count": 0,
      "outputs": [
        {
          "output_type": "stream",
          "text": [
            "Writing myfile.txt\n"
          ],
          "name": "stdout"
        }
      ]
    },
    {
      "cell_type": "markdown",
      "metadata": {
        "id": "2JfCrQLOz-9N",
        "colab_type": "text"
      },
      "source": [
        "\n",
        "* mode='r'   read\n",
        "* mode='r+'  read+write\n",
        "* mode='w'   write ( if file exists: overwrites existing file; if not exist creates a new file)\n",
        "* mode='w+'  read+write ( if file exists: overwrites existing file; if not exist creates a new file)\n",
        "* mode='a'   only appends (will add on to file)  \n",
        "\n"
      ]
    },
    {
      "cell_type": "code",
      "metadata": {
        "id": "sw78sgU4tVbj",
        "colab_type": "code",
        "outputId": "393c9e25-26e3-4565-8fc3-dc1dcd4dbc52",
        "colab": {
          "base_uri": "https://localhost:8080/",
          "height": 700
        }
      },
      "source": [
        "myfile = open('myfile.txt')\n",
        "print(myfile.read()) #read(): string is output\n",
        "# to read again you need to reset the curser back to the begining of file\n",
        "myfile.seek(0)\n",
        "print(myfile.readlines()) # readlines() : list is output\n",
        "myfile.seek(0) \n",
        "print(myfile.readline())  #readline(): string is output\n",
        "myfile.close()\n",
        "\n",
        "# to avoid closing an openning we do the following\n",
        "\n",
        "with open('myfile.txt') as myfile:\n",
        "    contents= myfile.read()\n",
        "    print(contents)\n",
        "\n",
        "with open('myfile.txt','r') as myfile:\n",
        "    print( myfile.read())\n",
        "\n",
        "\n",
        "with open('myfile.txt','a') as myfile:\n",
        "    myfile.write(\"\\n added line\")\n",
        "\n",
        "with open('myfile.txt','r') as myfile:\n",
        "    print(myfile.read())\n",
        "\n",
        "with open('myfile2.txt','w') as myfile2:\n",
        "    myfile2.write('bla\\nblaa\\nblaa')\n",
        "\n",
        "with open('myfile2.txt','r') as myfile2:\n",
        "    print(myfile2.read())\n"
      ],
      "execution_count": 0,
      "outputs": [
        {
          "output_type": "stream",
          "text": [
            "Hellloooo\n",
            "whatuppp \n",
            "banaaaaana applesss orangesssadded line\n",
            " added line\n",
            " added line\n",
            " added line\n",
            " added line\n",
            " added line\n",
            "['Hellloooo\\n', 'whatuppp \\n', 'banaaaaana applesss orangesssadded line\\n', ' added line\\n', ' added line\\n', ' added line\\n', ' added line\\n', ' added line']\n",
            "Hellloooo\n",
            "\n",
            "Hellloooo\n",
            "whatuppp \n",
            "banaaaaana applesss orangesssadded line\n",
            " added line\n",
            " added line\n",
            " added line\n",
            " added line\n",
            " added line\n",
            "Hellloooo\n",
            "whatuppp \n",
            "banaaaaana applesss orangesssadded line\n",
            " added line\n",
            " added line\n",
            " added line\n",
            " added line\n",
            " added line\n",
            "Hellloooo\n",
            "whatuppp \n",
            "banaaaaana applesss orangesssadded line\n",
            " added line\n",
            " added line\n",
            " added line\n",
            " added line\n",
            " added line\n",
            " added line\n",
            "bla\n",
            "blaa\n",
            "blaa\n"
          ],
          "name": "stdout"
        }
      ]
    },
    {
      "cell_type": "code",
      "metadata": {
        "id": "KjaWAFDAyLFZ",
        "colab_type": "code",
        "outputId": "5dbcaea0-bcba-44b7-8c67-06ef6dc284af",
        "colab": {
          "base_uri": "https://localhost:8080/",
          "height": 255
        }
      },
      "source": [
        "with open('myfile3.txt','w+') as myfile3:\n",
        "    myfile3.write('blaaaa\\nblaaaaaaaa\\n')\n",
        "    myfile3.seek(0)  # Important: return to the top of the file before reading,\n",
        "    print(myfile3.read())\n",
        "\n",
        "with open('myfile3.txt','w+') as myfile3:\n",
        "    myfile3.write('blaaaa\\nblaaaaaaaa\\n')\n",
        "    myfile3.seek(0)  # Important: return to the top of the file before reading,\n",
        "    print(myfile3.read())\n",
        "\n",
        "with open('myfile3.txt','r+') as myfile3:\n",
        "    myfile3.write('blaaaa\\nblaaaaaaaa\\n')\n",
        "    myfile3.seek(0)  # Important: return to the top of the file before reading,\n",
        "    print(myfile3.read())\n",
        "   \n",
        "with open('myfile3.txt','a') as myfile3:\n",
        "    myfile3.write('blaaaa2\\nblaaaaaaaa2\\n')\n",
        "\n",
        "with open('myfile3.txt','r') as myfile3:\n",
        "    print(myfile3.read())"
      ],
      "execution_count": 0,
      "outputs": [
        {
          "output_type": "stream",
          "text": [
            "blaaaa\n",
            "blaaaaaaaa\n",
            "\n",
            "blaaaa\n",
            "blaaaaaaaa\n",
            "\n",
            "blaaaa\n",
            "blaaaaaaaa\n",
            "\n",
            "blaaaa\n",
            "blaaaaaaaa\n",
            "blaaaa2\n",
            "blaaaaaaaa2\n",
            "\n"
          ],
          "name": "stdout"
        }
      ]
    },
    {
      "cell_type": "markdown",
      "metadata": {
        "id": "d0UmvsE3Dm3i",
        "colab_type": "text"
      },
      "source": [
        "# Generators vs Functions\n",
        "\n",
        "* range(start,end,stepsize) \n",
        "\n",
        "* zip(list1,list2)\n",
        "\n",
        "* enumerate(list)\n",
        "\n",
        "* range is a generator is a type of function that generates the values instead of saving it in to the memory\n",
        "\n",
        "* hence its more efficient\n"
      ]
    },
    {
      "cell_type": "code",
      "metadata": {
        "id": "9-8vMYwOuorY",
        "colab_type": "code",
        "outputId": "3e42d4ce-3135-4764-a5d5-07a214529f37",
        "colab": {
          "base_uri": "https://localhost:8080/",
          "height": 374
        }
      },
      "source": [
        "mylist=[4,5,6,7,8]\n",
        "three=len(mylist)\n",
        "startindex=2\n",
        "endindex=three+2        \n",
        "for num in range(0,8,2):\n",
        "    print(num)\n",
        "print('--'*5)\n",
        "for i in range(startindex,endindex,2):\n",
        "    print(i)\n",
        "print('--'*5)\n",
        "for i in range(len(mylist)):\n",
        "    print(i,mylist[i])\n",
        "print('--'*5)\n",
        "for i in mylist:\n",
        "    print(i)\n",
        "\n",
        "list(range(2,11,2)) # [2, 3, 4, 6, 8, 10]"
      ],
      "execution_count": 0,
      "outputs": [
        {
          "output_type": "stream",
          "text": [
            "0\n",
            "2\n",
            "4\n",
            "6\n",
            "----------\n",
            "2\n",
            "4\n",
            "6\n",
            "----------\n",
            "0 4\n",
            "1 5\n",
            "2 6\n",
            "3 7\n",
            "4 8\n",
            "----------\n",
            "4\n",
            "5\n",
            "6\n",
            "7\n",
            "8\n"
          ],
          "name": "stdout"
        },
        {
          "output_type": "execute_result",
          "data": {
            "text/plain": [
              "[2, 4, 6, 8, 10]"
            ]
          },
          "metadata": {
            "tags": []
          },
          "execution_count": 629
        }
      ]
    },
    {
      "cell_type": "code",
      "metadata": {
        "id": "m7Ksp8rtEtCe",
        "colab_type": "code",
        "outputId": "6ac0e4f8-be7f-44d7-fe29-a32ba11fcf4d",
        "colab": {
          "base_uri": "https://localhost:8080/",
          "height": 272
        }
      },
      "source": [
        "index_count=0\n",
        "for letter in 'abcd':\n",
        "    print(f\"at {index_count} the letter is {letter}\")\n",
        "    index_count+=1\n",
        "# at 0 the letter is a\n",
        "# at 1 the letter is b\n",
        "# at 2 the letter is c\n",
        "# at 3 the letter is d\n",
        "for item in enumerate('abcd'):\n",
        "    print(item)\n",
        "# (0, 'a')\n",
        "# (1, 'b')\n",
        "# (2, 'c')\n",
        "# (3, 'd')\n",
        "for index,letter in enumerate('abcd'):\n",
        "    # print(index)\n",
        "    # print(letter)\n",
        "    print(index,letter)\n",
        "    # 0 a\n",
        "    # 1 b\n",
        "    # 2 c\n",
        "    # 3 d\n",
        "for index,letter in enumerate([8,9,5]):\n",
        "    # print(index)\n",
        "    # print(letter)\n",
        "    print(index,letter)\n",
        "    # 0 8\n",
        "    # 1 9\n",
        "    # 2 5"
      ],
      "execution_count": 0,
      "outputs": [
        {
          "output_type": "stream",
          "text": [
            "at 0 the letter is a\n",
            "at 1 the letter is b\n",
            "at 2 the letter is c\n",
            "at 3 the letter is d\n",
            "(0, 'a')\n",
            "(1, 'b')\n",
            "(2, 'c')\n",
            "(3, 'd')\n",
            "0 a\n",
            "1 b\n",
            "2 c\n",
            "3 d\n",
            "0 8\n",
            "1 9\n",
            "2 5\n"
          ],
          "name": "stdout"
        }
      ]
    },
    {
      "cell_type": "code",
      "metadata": {
        "id": "8GIBvuwAGzoX",
        "colab_type": "code",
        "outputId": "9cd96bba-6151-4841-ae40-654ae92a63d1",
        "colab": {
          "base_uri": "https://localhost:8080/",
          "height": 136
        }
      },
      "source": [
        "list1=list(range(3))\n",
        "list2=['a','b','c']\n",
        "list3=list(range(5))\n",
        "\n",
        "#generators\n",
        "print(\"list of a range(start,end,step)):\",list(range(1,10,2))) #[1, 3, 5, 7, 9]\n",
        "print(\"list of enumerate one list\",list(enumerate(list1))) #[(0, 0), (1, 1), (2, 2)]\n",
        "print(\"list of enumerate one list\",list(enumerate(list1,2))) #[(2, 0), (3, 1), (4, 2)]\n",
        "print(\"list of zipped three lists\",list(zip(list1,list2,list3))) # [(0, 'a', 0), (1, 'b', 1), (2, 'c', 2)]\n",
        "\n",
        "for a,b,c in zip(list1,list2,list3):\n",
        "    print(a,b,c)\n",
        "\n"
      ],
      "execution_count": 0,
      "outputs": [
        {
          "output_type": "stream",
          "text": [
            "list of a range(start,end,step)): [1, 3, 5, 7, 9]\n",
            "list of enumerate one list [(0, 0), (1, 1), (2, 2)]\n",
            "list of enumerate one list [(2, 0), (3, 1), (4, 2)]\n",
            "list of zipped three lists [(0, 'a', 0), (1, 'b', 1), (2, 'c', 2)]\n",
            "0 a 0\n",
            "1 b 1\n",
            "2 c 2\n"
          ],
          "name": "stdout"
        }
      ]
    },
    {
      "cell_type": "markdown",
      "metadata": {
        "id": "0-Deh40HIx5b",
        "colab_type": "text"
      },
      "source": [
        "# item in itterable\n"
      ]
    },
    {
      "cell_type": "code",
      "metadata": {
        "id": "wQw9lQrtIspg",
        "colab_type": "code",
        "outputId": "8976da1e-3eb2-4e12-efc8-bb4b3f27d4c2",
        "colab": {
          "base_uri": "https://localhost:8080/",
          "height": 102
        }
      },
      "source": [
        "print('a' in 'abc')\n",
        "print('a' in {'a':1})\n",
        "print('a' in {'a','b'})\n",
        "print(1 in {'a':1}.values())\n",
        "print('a' in ['a','b','c'])\n"
      ],
      "execution_count": 0,
      "outputs": [
        {
          "output_type": "stream",
          "text": [
            "True\n",
            "True\n",
            "True\n",
            "True\n",
            "True\n"
          ],
          "name": "stdout"
        }
      ]
    },
    {
      "cell_type": "markdown",
      "metadata": {
        "id": "pbZ-gIBjJjLT",
        "colab_type": "text"
      },
      "source": [
        "#min and max and rand"
      ]
    },
    {
      "cell_type": "code",
      "metadata": {
        "id": "jDR4Cvd-JnC6",
        "colab_type": "code",
        "outputId": "30afa3bb-6513-4086-af94-bcb0db81b314",
        "colab": {
          "base_uri": "https://localhost:8080/",
          "height": 34
        }
      },
      "source": [
        "mylist=[1,2,5,7]\n",
        "min(mylist)\n",
        "max(mylist)"
      ],
      "execution_count": 0,
      "outputs": [
        {
          "output_type": "execute_result",
          "data": {
            "text/plain": [
              "7"
            ]
          },
          "metadata": {
            "tags": []
          },
          "execution_count": 648
        }
      ]
    },
    {
      "cell_type": "code",
      "metadata": {
        "id": "o7-Jy75hJ7R5",
        "colab_type": "code",
        "outputId": "cd5fdf43-1a9b-4a73-f2aa-00d362209fe7",
        "colab": {
          "base_uri": "https://localhost:8080/",
          "height": 119
        }
      },
      "source": [
        "from random import shuffle, randint\n",
        "\n",
        "mylist=[1,2,5,7,8,6,7,3,0]\n",
        "print(\"before shuffle:\",mylist)\n",
        "\n",
        "shuffle(mylist) # in place shuffling\n",
        "print(\"after shuffle:\",mylist)\n",
        "\n",
        "mynum=randint(3,10) #grab rand number in range of [a,b]\n",
        "print(mynum)\n",
        "\n",
        "result=input('Hi User: Enter a float or an int number: ')\n",
        "result=float(result)+3.4 \n",
        "print(result)\n",
        "result=input('Hi User: Enter only an int number: ')\n",
        "result=int(result)+3 #\n",
        "print(result)"
      ],
      "execution_count": 0,
      "outputs": [
        {
          "output_type": "stream",
          "text": [
            "before shuffle: [1, 2, 5, 7, 8, 6, 7, 3, 0]\n",
            "after shuffle: [7, 6, 3, 0, 8, 2, 5, 1, 7]\n",
            "3\n",
            "Hi User: Enter a float or an int number: 24\n",
            "Hi User: Enter only an int number: 7\n",
            "10\n"
          ],
          "name": "stdout"
        }
      ]
    },
    {
      "cell_type": "markdown",
      "metadata": {
        "id": "3Y_GAZDYuaD9",
        "colab_type": "text"
      },
      "source": [
        "## List comprehension\n"
      ]
    },
    {
      "cell_type": "code",
      "metadata": {
        "id": "V4tq_v3YuZQK",
        "colab_type": "code",
        "outputId": "b9a901e9-b691-404a-b82b-b4e55bb33676",
        "colab": {
          "base_uri": "https://localhost:8080/",
          "height": 51
        }
      },
      "source": [
        "[i for i in 'apple' if i!='A' and i!='p'] #['a', 'l', 'e']\n",
        "[num**2 for num in range(1,10,2) if num%2==0] #[1, 9, 25, 49, 81]\n",
        "\n",
        "celcius = [0,10,20, 34, 100]\n",
        "fahrenheit = [((9/5) * temp + 31) for temp in celcius] #[31.0, 49.0, 67.0, 92.2, 211.0]\n",
        "print(fahrenheit)\n",
        "\n",
        "#[0, '0DD', 2, '0DD', 4, '0DD', 6, '0DD', 8, '0DD', 10]\n",
        "[x if x%2 == 0 else '0DD' for x in range(0,11)] #only if else goes at beggining\n",
        "\n"
      ],
      "execution_count": 0,
      "outputs": [
        {
          "output_type": "stream",
          "text": [
            "[31.0, 49.0, 67.0, 92.2, 211.0]\n"
          ],
          "name": "stdout"
        },
        {
          "output_type": "execute_result",
          "data": {
            "text/plain": [
              "[0, '0DD', 2, '0DD', 4, '0DD', 6, '0DD', 8, '0DD', 10]"
            ]
          },
          "metadata": {
            "tags": []
          },
          "execution_count": 195
        }
      ]
    },
    {
      "cell_type": "markdown",
      "metadata": {
        "id": "oU2blXz9xSUH",
        "colab_type": "text"
      },
      "source": [
        "# methods and builtin objects\n",
        "\n",
        "* To get documentation on object you \n",
        "\n",
        "help(mylist.insert)\n",
        "\n",
        "* Mylist.insert+press (shift+tab ) in jupyter notebook"
      ]
    },
    {
      "cell_type": "code",
      "metadata": {
        "id": "ASZBKUGrxR4q",
        "colab_type": "code",
        "outputId": "e56164ea-fc2c-40f1-f999-6ab90990cf19",
        "colab": {
          "base_uri": "https://localhost:8080/",
          "height": 204
        }
      },
      "source": [
        "def my_function():\n",
        "    '''\n",
        "    DESCRIPTION: Info about my func\n",
        "    DATE WRITTEN: 8th of FEB 2020\n",
        "    INPUT: name\n",
        "    OUTPUT: Hello name\n",
        "    '''\n",
        "    name_user=input(\"Pleae enter your name: \")\n",
        "    return(name_user.title())\n",
        "\n",
        "print(f\"Function description: {help(my_function)}\")\n",
        "print(f\"Hello {my_function()}\")\n",
        "\n"
      ],
      "execution_count": 0,
      "outputs": [
        {
          "output_type": "stream",
          "text": [
            "Help on function my_function in module __main__:\n",
            "\n",
            "my_function()\n",
            "    DESCRIPTION: Info about my func\n",
            "    DATE WRITTEN: 8th of FEB 2020\n",
            "    INPUT: name\n",
            "    OUTPUT: Hello name\n",
            "\n",
            "Function description: None\n",
            "Pleae enter your name: m gh hj\n",
            "Hello M Gh Hj\n"
          ],
          "name": "stdout"
        }
      ]
    },
    {
      "cell_type": "code",
      "metadata": {
        "id": "OVEQiLSU8kIV",
        "colab_type": "code",
        "outputId": "4f203bbf-91e6-4f3b-da64-faaca79346c5",
        "colab": {
          "base_uri": "https://localhost:8080/",
          "height": 68
        }
      },
      "source": [
        "def say_hello(name='Name'):\n",
        "    print(f'Hello {name}')\n",
        "\n",
        "say_hello() #Hello Name\n",
        "say_hello('Bella') #Hello Bella\n",
        "\n",
        "def say_hello(name='Name'):\n",
        "    return f'Hello {name}'\n",
        "print(f\"{say_hello('Lucas')}\")\n",
        "\n"
      ],
      "execution_count": 0,
      "outputs": [
        {
          "output_type": "stream",
          "text": [
            "Hello Name\n",
            "Hello Bella\n",
            "Hello Lucas\n"
          ],
          "name": "stdout"
        }
      ]
    },
    {
      "cell_type": "code",
      "metadata": {
        "id": "OxxGMNww9d2T",
        "colab_type": "code",
        "outputId": "5403ca3d-0c1a-40a6-ef2a-e4eb09f8853d",
        "colab": {
          "base_uri": "https://localhost:8080/",
          "height": 51
        }
      },
      "source": [
        "# def dog_finder(st=''):\n",
        "\n",
        "#     '''\n",
        "#     DESCRIPTION: findout if the word \"dog\" is in the string?\n",
        "#     INPUT: string\n",
        "#     OUTPUT: TRUE/FALSE\n",
        "#     '''\n",
        "\n",
        "#     if len(st)==0:\n",
        "#         return False\n",
        "\n",
        "#     else:\n",
        "#         for i in st.split():\n",
        "#             if i.lower()==\"dog\":\n",
        "#                 return True\n",
        "\n",
        "def dog_finder(st=''):\n",
        "\n",
        "    '''\n",
        "    DESCRIPTION: findout if the word \"dog\" is in the string?\n",
        "    INPUT: string\n",
        "    OUTPUT: TRUE/FALSE\n",
        "    '''\n",
        "    return \"dog\" in st\n",
        "              \n",
        "\n",
        "n=input(\"please type: \")\n",
        "print(f\"It is {dog_finder(st=n)} that there is a dog in the sentense\")"
      ],
      "execution_count": 0,
      "outputs": [
        {
          "output_type": "stream",
          "text": [
            "please type: hj gh dog\n",
            "It is True that there is a dog in the sentense\n"
          ],
          "name": "stdout"
        }
      ]
    },
    {
      "cell_type": "code",
      "metadata": {
        "id": "_K35jhymABMn",
        "colab_type": "code",
        "outputId": "e0c18ef9-8608-4f04-e058-43370813e3b5",
        "colab": {
          "base_uri": "https://localhost:8080/",
          "height": 102
        }
      },
      "source": [
        "def myfunc(a,b):\n",
        "    '''\n",
        "    returns 5% of the sum of a and b\n",
        "    a,b are two positioal arguments \n",
        "    '''\n",
        "    return sum((a,b))*0.05\n",
        "\n",
        "# help(myfunc)\n",
        "myfunc(40,60)\n",
        "\n",
        "#what if we want to work with more than two numbers??\n",
        "# maybe user puts more than two arguments\n",
        "#when a function parameter starts with {*} \n",
        "#we treat it as a tuple of arbitrary number arguments"
      ],
      "execution_count": 0,
      "outputs": [
        {
          "output_type": "stream",
          "text": [
            "Help on function my_fun in module __main__:\n",
            "\n",
            "my_fun(a, b)\n",
            "    returns 5% of the sum of a and b\n",
            "\n"
          ],
          "name": "stdout"
        }
      ]
    },
    {
      "cell_type": "markdown",
      "metadata": {
        "id": "EUa5M4PnAB_0",
        "colab_type": "text"
      },
      "source": [
        "# \\*args and **kwargs\n",
        "\n",
        "## passing arbitrary number of arguments or keyworded arguments: with\n",
        "\n",
        "* \\*args = arguments\n",
        "* **kwargs = Keyword arguments\n",
        "\n",
        "When you want to accept an arbitarary number of arguments and keyword arguments without having to pre-define a bunch of parameters in your function calls\n"
      ]
    },
    {
      "cell_type": "code",
      "metadata": {
        "id": "0jeAyw-U--sA",
        "colab_type": "code",
        "outputId": "5143967e-87e5-4222-fa5d-66a63757bfcb",
        "colab": {
          "base_uri": "https://localhost:8080/",
          "height": 119
        }
      },
      "source": [
        "def myfunc(*args):\n",
        "    #args returns back a TUPLES\n",
        "    print(args)\n",
        "    for item in args:\n",
        "        print(item)\n",
        "\n",
        "myfunc(4,5,6,7,8)"
      ],
      "execution_count": 0,
      "outputs": [
        {
          "output_type": "stream",
          "text": [
            "(4, 5, 6, 7, 8)\n",
            "4\n",
            "5\n",
            "6\n",
            "7\n",
            "8\n"
          ],
          "name": "stdout"
        }
      ]
    },
    {
      "cell_type": "code",
      "metadata": {
        "id": "r5YRLw38MAbi",
        "colab_type": "code",
        "outputId": "820d75f0-1159-4599-aede-b3ba4303aafb",
        "colab": {
          "base_uri": "https://localhost:8080/",
          "height": 51
        }
      },
      "source": [
        "def myfunc(**kwargs):\n",
        "    #kwargs returns a dictionary\n",
        "    print(kwargs)\n",
        "    if 'fruit' in kwargs:\n",
        "        print(f\"my fruit of choice is {kwargs['fruit']}\")\n",
        "    else:\n",
        "        print('I did not find any fruit name')\n",
        "\n",
        "myfunc(fruit='apple',veggie='lettuce')\n"
      ],
      "execution_count": 0,
      "outputs": [
        {
          "output_type": "stream",
          "text": [
            "{'fruit': 'apple', 'veggie': 'lettuce'}\n",
            "my fruit of choice is apple\n"
          ],
          "name": "stdout"
        }
      ]
    },
    {
      "cell_type": "code",
      "metadata": {
        "id": "XtQHCtBEiSFP",
        "colab_type": "code",
        "outputId": "d4a260b3-e2e6-407d-ca99-b4697ccc996a",
        "colab": {
          "base_uri": "https://localhost:8080/",
          "height": 34
        }
      },
      "source": [
        "\n"
      ],
      "execution_count": 0,
      "outputs": [
        {
          "output_type": "execute_result",
          "data": {
            "text/plain": [
              "{6}"
            ]
          },
          "metadata": {
            "tags": []
          },
          "execution_count": 243
        }
      ]
    },
    {
      "cell_type": "code",
      "metadata": {
        "id": "qcHz__HMPZzg",
        "colab_type": "code",
        "outputId": "07797cd5-0484-4378-b618-de0fdba95d07",
        "colab": {
          "base_uri": "https://localhost:8080/",
          "height": 68
        }
      },
      "source": [
        "def myfunc(*args,**kwargs):\n",
        "    print(args)\n",
        "    print(kwargs)\n",
        "    print(f\"I would like {args[0]} {kwargs['food']}\")\n",
        "#myfunc(position is important args shoud be first kwargs should be second to match function above\n",
        "myfunc(10,20,30, fruits='orange', food='eggs', animal='dogs')"
      ],
      "execution_count": 0,
      "outputs": [
        {
          "output_type": "stream",
          "text": [
            "(10, 20, 30)\n",
            "{'fruits': 'orange', 'food': 'eggs', 'animal': 'dogs'}\n",
            "I would like 10 eggs\n"
          ],
          "name": "stdout"
        }
      ]
    },
    {
      "cell_type": "markdown",
      "metadata": {
        "id": "hCznXS2d8RLj",
        "colab_type": "text"
      },
      "source": [
        "# Lambda expression, Map and Filter\n",
        "\n",
        "* Map function: you pass along the function you want to apply to every element in the itterable (e.g list) and avoid the for loop. (Map is generator so we need list to see the contrents) \n",
        "    * map(func,*iterableObject): map applies the func to every eement in the iterator\n",
        "    * To use: map(funcNameWithoutParanthesis,ListName)\n",
        "    * To see generator output using list use: list(map(myfunc,mylist))\n",
        "\n",
        "\n",
        "* Filter function: returns an iterator yielding those items of the iterable than when passed through the function the result is True. You need to use a function that returns true or false\n",
        "    * filter(function or None, iterable)\n",
        "    * see generator output using list: list(filter(funcWithBoolOutput, iterable))\n",
        "    * filter is going to filter based on the functions condition\n",
        "\n",
        "\n",
        "* Lamda expression (anonomous function):\n",
        "\n"
      ]
    },
    {
      "cell_type": "code",
      "metadata": {
        "id": "qf1nwGjHPNgY",
        "colab_type": "code",
        "outputId": "2e78f103-ea05-4144-892a-637b4758e24b",
        "colab": {
          "base_uri": "https://localhost:8080/",
          "height": 119
        }
      },
      "source": [
        "#square func for [1,2,3,4,5]\n",
        "def square(num):\n",
        "    return num**2\n",
        "for i in [1,2,3,4,5]:\n",
        "    print(square(i))\n",
        "\n",
        "#replace for loop with Map\n",
        "list(map(square,[1,2,3,4,5]))"
      ],
      "execution_count": 0,
      "outputs": [
        {
          "output_type": "stream",
          "text": [
            "1\n",
            "4\n",
            "9\n",
            "16\n",
            "25\n"
          ],
          "name": "stdout"
        },
        {
          "output_type": "execute_result",
          "data": {
            "text/plain": [
              "[1, 4, 9, 16, 25]"
            ]
          },
          "metadata": {
            "tags": []
          },
          "execution_count": 52
        }
      ]
    },
    {
      "cell_type": "code",
      "metadata": {
        "id": "qJQMwTib9FDR",
        "colab_type": "code",
        "outputId": "98659548-c455-4a90-9eae-381afc8dc7ea",
        "colab": {
          "base_uri": "https://localhost:8080/",
          "height": 34
        }
      },
      "source": [
        "def splicer(mystring):\n",
        "    if len(mystring)%2 == 0:\n",
        "        return 'Even'\n",
        "    else:\n",
        "        return mystring[0]\n",
        "\n",
        "names=['Andy','Eve','Sally']\n",
        "\n",
        "# use splicer than splicer() so map executes it not you\n",
        "\n",
        "list(map(splicer,names)) #['Even', 'E', 'S']\n",
        "\n",
        "#replace myfunc with map and lambda to only get first letter for not even length names\n",
        "mylist=['Andy','Eve','Sally']\n",
        "list(map(lambda names: names[0], mylist)) #['A', 'E', 'S']\n",
        "\n",
        "#replace myfunc with map and lambda to only get reverse of names\n",
        "list(map(lambda i: i[::-1] , mylist)) #['ydnA', 'evE', 'yllaS']\n"
      ],
      "execution_count": 0,
      "outputs": [
        {
          "output_type": "execute_result",
          "data": {
            "text/plain": [
              "['ydnA', 'evE', 'yllaS']"
            ]
          },
          "metadata": {
            "tags": []
          },
          "execution_count": 72
        }
      ]
    },
    {
      "cell_type": "code",
      "metadata": {
        "id": "Jfnmhgyz9f9A",
        "colab_type": "code",
        "outputId": "53cc51fc-c4bd-4eb6-c515-5bd669dcd69f",
        "colab": {
          "base_uri": "https://localhost:8080/",
          "height": 34
        }
      },
      "source": [
        "#Boolean function return true or false\n",
        "def check_even(num):\n",
        "    if num%2==0:\n",
        "        return num\n",
        "\n",
        "#Instead use the filter function\n",
        "# when you want to filter out of \n",
        "# a contion is true for ypur inputs\n",
        "\n",
        "#Boolean function return true or false\n",
        "def check_even(num):\n",
        "    return num%2==0\n",
        "mynums = [1,2,3,4,5]\n",
        "\n",
        "#it filters based on the function and returns items that are result in True\n",
        "list(filter(check_even,mynums)) # output [2,4]\n",
        "\n",
        "#replace myfunc with lambda and apply filter to it\n",
        "list(filter(lambda num: num%2==0, mynums))  # output [2,4]"
      ],
      "execution_count": 0,
      "outputs": [
        {
          "output_type": "execute_result",
          "data": {
            "text/plain": [
              "[2, 4]"
            ]
          },
          "metadata": {
            "tags": []
          },
          "execution_count": 65
        }
      ]
    },
    {
      "cell_type": "code",
      "metadata": {
        "id": "jtenaq1NCITs",
        "colab_type": "code",
        "outputId": "30e3a046-bd1c-4fbb-cc51-f60ef7f04825",
        "colab": {
          "base_uri": "https://localhost:8080/",
          "height": 34
        }
      },
      "source": [
        "#step 1\n",
        "def square(num):\n",
        "    result = num ** 2\n",
        "    return result\n",
        "\n",
        "#step 2\n",
        "def square(num):\n",
        "    return num ** 2\n",
        "\n",
        "#step 3\n",
        "def square(num): return num ** 2\n",
        "\n",
        "#step 4\n",
        "def square(num): return num ** 2\n",
        "\n",
        "#step 5\n",
        "lambda num: num ** 2\n",
        "\n",
        "#step 6 (optional)\n",
        "square = lambda num: num ** 2\n",
        "\n",
        "square(5)\n",
        "\n",
        "#step 7 (usualy used lambda with Map and filter)\n",
        "#map(func,mylist)\n",
        "#lambda funcInput: funcReturnedOutput\n",
        "mynums=[1,2,3,4,5]\n",
        "list(map(lambda num:num**2,mynums))"
      ],
      "execution_count": 0,
      "outputs": [
        {
          "output_type": "execute_result",
          "data": {
            "text/plain": [
              "[1, 4, 9, 16, 25]"
            ]
          },
          "metadata": {
            "tags": []
          },
          "execution_count": 62
        }
      ]
    },
    {
      "cell_type": "markdown",
      "metadata": {
        "id": "vaIkzUDAEGzD",
        "colab_type": "text"
      },
      "source": [
        "#usualy used lambda with Map and filter\n",
        "\n",
        "* map(func,mylist)\n",
        "* lambda funcInput: funcReturnedOutput\n",
        "* combined: map(lambda funcInput: funcReturnedOutput, mylist)"
      ]
    },
    {
      "cell_type": "markdown",
      "metadata": {
        "id": "nJqfZx-zKty7",
        "colab_type": "text"
      },
      "source": [
        "#LEGB Rule for variable scope assignment (Local Enclosing Global Built-in based on variable scope)\n",
        "\n",
        "\n",
        "In Python, the LEGB rule is used to decide the order in which the namespaces are to be searched for scope resolution.\n",
        "The scopes are listed below in terms of hierarchy(highest to lowest/narrowest to broadest):\n",
        "\n",
        "* Local(L): Defined inside function/class\n",
        "    * (e.g name in this) \n",
        "```\n",
        "    \n",
        "    def greet():    \n",
        "        def hello():\n",
        "            name ='Local string' #Local\n",
        "            print('Hello I am a ',name)\n",
        "        hello()\n",
        " ```\n",
        "```\n",
        "\n",
        "* Enclosed(E): Defined inside enclosing functions(Nested function concept)\n",
        "    * (e.g name in this) \n",
        "    ```\n",
        "    def greet():\n",
        "        name ='I am Enclosing string' #Enclosing\n",
        "        def hello():\n",
        "            print('Hello',name)\n",
        "        hello()\n",
        "    ```\n",
        "\n",
        "* Global(G): Defined at the uppermost level\n",
        "    * (e.g name in this) \n",
        "```\n",
        "    name ='I am a Global string' #Global\n",
        "    def greet():    \n",
        "        def hello():\n",
        "            print('Hello',name)\n",
        "        hello()\n",
        " ```\n",
        "* Built-in(B): Reserved names in Python builtin modules\n",
        "    "
      ]
    },
    {
      "cell_type": "code",
      "metadata": {
        "id": "Rw0CAn2JDQ8h",
        "colab_type": "code",
        "outputId": "0cd0f3bf-8ce0-478e-ee51-c53e1aca8c9b",
        "colab": {
          "base_uri": "https://localhost:8080/",
          "height": 102
        }
      },
      "source": [
        "x=50\n",
        "\n",
        "def funcc():\n",
        "    print(f'X is {x}')\n",
        "    #local reassignment on global variable\n",
        "    x=\"New Value\"\n",
        "    print(f'I just  locally changed global X to {x}')\n",
        "\n",
        "def func():\n",
        "    global x\n",
        "    print(f'X is {x}')\n",
        "    #local reassignment on global variable\n",
        "    x=\"New Value\"\n",
        "    print(f'I just  locally changed global X to {x}')\n",
        "\n",
        "print(x) #50\n",
        "print(func()) # X is 50 // I just  locally changed global X to New Value\n",
        "print(x) #New value\n",
        "#print(funcc()) #UnboundLocalError: local variable 'x' referenced before assignment\n"
      ],
      "execution_count": 0,
      "outputs": [
        {
          "output_type": "stream",
          "text": [
            "50\n",
            "X is 50\n",
            "I just  locally changed global X to New Value\n",
            "None\n",
            "New Value\n"
          ],
          "name": "stdout"
        }
      ]
    },
    {
      "cell_type": "markdown",
      "metadata": {
        "id": "3_wyvHGzQe1I",
        "colab_type": "text"
      },
      "source": [
        "#Avoid using global re-assignment!\n",
        "Use the following return variable instead of using global re-assignment"
      ]
    },
    {
      "cell_type": "code",
      "metadata": {
        "id": "WVCQ7WcrQSAu",
        "colab_type": "code",
        "colab": {}
      },
      "source": [
        "x=50\n",
        "def func():\n",
        "    global x\n",
        "    print(f'X is {x}')\n",
        "    #local reassignment on global variable\n",
        "    x=\"New Value\"\n",
        "    print(f'I just  locally changed global X to {x}')\n",
        "    return x\n",
        "\n",
        "x=funx() "
      ],
      "execution_count": 0,
      "outputs": []
    },
    {
      "cell_type": "code",
      "metadata": {
        "id": "M0vjYJ1CSxaN",
        "colab_type": "code",
        "outputId": "513af5ea-6058-455c-b777-d259b5cb09b6",
        "colab": {
          "base_uri": "https://localhost:8080/",
          "height": 34
        }
      },
      "source": [
        "'''\n",
        "Compute sphere volume:\n",
        "Solve for volume\n",
        "V=(4/3)*π*r^3\n",
        "'''\n",
        "r=3\n",
        "volume=(4/3)*3.14*r**3\n",
        "f\"{volume:0.2f}\" \n",
        "\n",
        "\n",
        "r=3\n",
        "volume = lambda r : (4/3)*3.14*r**3\n",
        "print(f\"{volume(r):0.2f}\")\n"
      ],
      "execution_count": 0,
      "outputs": [
        {
          "output_type": "stream",
          "text": [
            "113.04\n"
          ],
          "name": "stdout"
        }
      ]
    },
    {
      "cell_type": "code",
      "metadata": {
        "id": "iUcJA66Wbzfh",
        "colab_type": "code",
        "outputId": "fb958fdc-3b67-420a-d551-8f558f244703",
        "colab": {
          "base_uri": "https://localhost:8080/",
          "height": 34
        }
      },
      "source": [
        "def inlist(i,mylist=[3,7,9,4,6]):\n",
        "    return i in mylist\n",
        "\n",
        "\n",
        "i=[4,5,6]\n",
        "v=list(filter(inlist,i))\n",
        "print(v)\n"
      ],
      "execution_count": 0,
      "outputs": [
        {
          "output_type": "stream",
          "text": [
            "[4, 6]\n"
          ],
          "name": "stdout"
        }
      ]
    },
    {
      "cell_type": "code",
      "metadata": {
        "id": "S5_zTrIUd87e",
        "colab_type": "code",
        "outputId": "41a69dec-0876-4122-a685-d0b002b387be",
        "colab": {
          "base_uri": "https://localhost:8080/",
          "height": 221
        }
      },
      "source": [
        "'''\n",
        "Count Upper Case and Lower Case strings\n",
        "'''\n",
        "string='ORANGE or APPLE or BANNANA'\n",
        "\n",
        "mydict=dict()\n",
        "\n",
        "keys=set(str)\n",
        "\n",
        "for i in string:\n",
        "    if i not in mydict.keys():\n",
        "        mydict[i]=1\n",
        "    else:\n",
        "        mydict[i]+=1\n",
        "\n",
        "mydict\n",
        "\n"
      ],
      "execution_count": 0,
      "outputs": [
        {
          "output_type": "execute_result",
          "data": {
            "text/plain": [
              "{' ': 4,\n",
              " 'A': 5,\n",
              " 'B': 1,\n",
              " 'E': 2,\n",
              " 'G': 1,\n",
              " 'L': 1,\n",
              " 'N': 4,\n",
              " 'O': 1,\n",
              " 'P': 2,\n",
              " 'R': 1,\n",
              " 'o': 2,\n",
              " 'r': 2}"
            ]
          },
          "metadata": {
            "tags": []
          },
          "execution_count": 106
        }
      ]
    },
    {
      "cell_type": "code",
      "metadata": {
        "id": "uHZVKMyvywgE",
        "colab_type": "code",
        "outputId": "baf726f1-1a62-441c-9c77-c4b00afba928",
        "colab": {
          "base_uri": "https://localhost:8080/",
          "height": 68
        }
      },
      "source": [
        "'''\n",
        "No. of upper and lower case chars\n",
        "'''\n",
        "string='ORANGE or APPLE or BANNANA'\n",
        "d={'upper':0,'lower':0}\n",
        "for c in string:\n",
        "    if c.isupper():\n",
        "        d['upper']+=1\n",
        "    if c.islower():\n",
        "        d['lower']+=1\n",
        "    else:\n",
        "        pass\n",
        "\n",
        "print(f\"org string: {string}\")\n",
        "print(f\"upper string count: {d['upper']}\")\n",
        "print(f\"lower string count: {d['lower']}\")"
      ],
      "execution_count": 0,
      "outputs": [
        {
          "output_type": "stream",
          "text": [
            "org string: ORANGE or APPLE or BANNANA\n",
            "upper string count: 18\n",
            "lower string count: 4\n"
          ],
          "name": "stdout"
        }
      ]
    },
    {
      "cell_type": "code",
      "metadata": {
        "id": "969wZQatgUOi",
        "colab_type": "code",
        "outputId": "eb041e98-04c6-4019-a70f-a89cf10762a9",
        "colab": {
          "base_uri": "https://localhost:8080/",
          "height": 34
        }
      },
      "source": [
        "'''\n",
        "Unique numbers in list.\n",
        "'''\n",
        "mylist=[11,11,3,4,5,6,88,88,99,77,77]\n",
        "uniqlist=list(set(mylist)) #[3, 4, 5, 6, 99, 11, 77, 88]\n",
        "\n",
        "\n",
        "uniqlist=lambda mylist: list(set(mylist))\n",
        "uniqlist(mylist)\n"
      ],
      "execution_count": 0,
      "outputs": [
        {
          "output_type": "execute_result",
          "data": {
            "text/plain": [
              "[3, 4, 5, 6, 99, 11, 77, 88]"
            ]
          },
          "metadata": {
            "tags": []
          },
          "execution_count": 115
        }
      ]
    },
    {
      "cell_type": "code",
      "metadata": {
        "id": "Ae4bbbgakO_R",
        "colab_type": "code",
        "outputId": "dda4a3ed-73db-45d1-fc98-9cc2cc2e58a2",
        "colab": {
          "base_uri": "https://localhost:8080/",
          "height": 34
        }
      },
      "source": [
        "i=2\n",
        "i*=3 \n",
        "i+=3\n",
        "i/=3\n",
        "i**=2\n",
        "\n",
        "i"
      ],
      "execution_count": 0,
      "outputs": [
        {
          "output_type": "execute_result",
          "data": {
            "text/plain": [
              "9.0"
            ]
          },
          "metadata": {
            "tags": []
          },
          "execution_count": 125
        }
      ]
    },
    {
      "cell_type": "code",
      "metadata": {
        "id": "p-D-fEoxkqVp",
        "colab_type": "code",
        "outputId": "3e9d1b1d-0b65-4373-c4bb-705ef091b835",
        "colab": {
          "base_uri": "https://localhost:8080/",
          "height": 34
        }
      },
      "source": [
        ""
      ],
      "execution_count": 0,
      "outputs": [
        {
          "output_type": "execute_result",
          "data": {
            "text/plain": [
              "[3, 6, 9]"
            ]
          },
          "metadata": {
            "tags": []
          },
          "execution_count": 131
        }
      ]
    },
    {
      "cell_type": "code",
      "metadata": {
        "id": "5dmRSVH7jVT9",
        "colab_type": "code",
        "outputId": "480fe571-52dc-4b67-af12-7903836651ee",
        "colab": {
          "base_uri": "https://localhost:8080/",
          "height": 34
        }
      },
      "source": [
        "'''\n",
        "Multiply all numbers in a list\n",
        "'''\n",
        "\n",
        "a=[1,2,3]\n",
        "listXed=[i*3 for i in a]"
      ],
      "execution_count": 0,
      "outputs": [
        {
          "output_type": "execute_result",
          "data": {
            "text/plain": [
              "10"
            ]
          },
          "metadata": {
            "tags": []
          },
          "execution_count": 119
        }
      ]
    },
    {
      "cell_type": "code",
      "metadata": {
        "id": "DKmz3TBhlMMA",
        "colab_type": "code",
        "outputId": "f47b6063-9ee0-4ad2-9a3b-96d71001910d",
        "colab": {
          "base_uri": "https://localhost:8080/",
          "height": 51
        }
      },
      "source": [
        "'''\n",
        "Palindrome check\n",
        "Write a Python function that checks \n",
        "whether a passed string is palindrome or not.\n",
        "\n",
        "Note: A palindrome is word, phrase, or \n",
        "sequence that reads the same backward as forward,\n",
        " e.g., madam or nurses run.\n",
        "\n",
        "string='madam'\n",
        "string[:]==string[::-1]\n",
        "\n",
        "string='nurses run'\n",
        "string=string.replace(' ','')\n",
        "string[:]==string[::-1]\n",
        "\n",
        "'''\n",
        "string='nurses run'\n",
        "\n",
        "def Palindrome(string):\n",
        "    string=string.replace(' ','')\n",
        "    return string[:]==string[::-1]\n",
        "\n",
        "\n",
        "print(f\"{string} is a {Palindrome(string)}\")\n",
        "\n",
        "string[:]==string[::-1]"
      ],
      "execution_count": 0,
      "outputs": [
        {
          "output_type": "stream",
          "text": [
            "nurses run is a True\n"
          ],
          "name": "stdout"
        },
        {
          "output_type": "execute_result",
          "data": {
            "text/plain": [
              "False"
            ]
          },
          "metadata": {
            "tags": []
          },
          "execution_count": 143
        }
      ]
    },
    {
      "cell_type": "code",
      "metadata": {
        "id": "cXum_d7bmxvl",
        "colab_type": "code",
        "outputId": "0a23b8d5-f9d2-4e01-ecb6-127e134da326",
        "colab": {
          "base_uri": "https://localhost:8080/",
          "height": 34
        }
      },
      "source": [
        "'''\n",
        "Pangram check\n",
        "A pangram is a sentence that contains all \n",
        "the letters of the English alphabet at least once. \n",
        "For example: The quick brown fox jumps over the lazy dog.\n",
        "'''\n",
        "aa=\"The quick brown fox jumps over the lazy dog\"\n",
        "a=\"apple\"\n",
        "\n",
        "\n",
        "AZlist=sorted(list(set(aa.replace(' ','').lower())))\n",
        "\n",
        "lenAZlist=26\n",
        "\n",
        "string=\"going to with a zebra is fun\"\n",
        "string=\"The quick brown fox jumps over the lazy dog\"\n",
        "def myfunc(string,AZlist):\n",
        "    res=sorted(list(set(string.replace(' ','').lower())))\n",
        "    return res==AZlist\n",
        "\n",
        "myfunc(string,AZlist)\n",
        "\n"
      ],
      "execution_count": 0,
      "outputs": [
        {
          "output_type": "execute_result",
          "data": {
            "text/plain": [
              "'abcdefghijklmnopqrstuvwxyz'"
            ]
          },
          "metadata": {
            "tags": []
          },
          "execution_count": 155
        }
      ]
    },
    {
      "cell_type": "code",
      "metadata": {
        "id": "-6Q9zuba3ynI",
        "colab_type": "code",
        "colab": {}
      },
      "source": [
        "'''\n",
        "Pangram check\n",
        "A pangram is a sentence that contains all \n",
        "the letters of the English alphabet at least once. \n",
        "For example: The quick brown fox jumps over the lazy dog.\n",
        "\n",
        "            import string\n",
        "            alphabet=string.ascii_lowercase\n",
        "            'abcdefghijklmnopqrstuvwxyz'\n",
        "\n",
        "'''\n",
        "\n",
        "import string\n",
        "\n",
        "def ispangram(str1, alphabet=string.ascii_lowercase):  \n",
        "    alphaset = set(alphabet)  \n",
        "    return alphaset <= set(str1.lower())"
      ],
      "execution_count": 0,
      "outputs": []
    },
    {
      "cell_type": "markdown",
      "metadata": {
        "id": "dAUKqcha-Vr7",
        "colab_type": "text"
      },
      "source": [
        "# PRoject Assignment\n",
        "Do this later!\n",
        "\n",
        "Milestone Project 1: Full Walk-through Code Solution\n",
        "Below is the filled in code that goes along with the complete walk-through video. Check out the corresponding lecture videos for more information on this code!\n",
        "\n",
        "```\n",
        "Address:\n",
        "\n",
        "https://github.com/Pierian-Data/Complete-Python-3-Bootcamp/blob/master/04-Milestone%20Project%20-%201/03-Milestone%20Project%201%20-%20Complete%20Walkthrough%20Solution.ipynb\n",
        "\n",
        "https://www.udemy.com/course/complete-python-bootcamp/learn/lecture/9442462#overview\n",
        "\n",
        "```\n",
        "\n"
      ]
    },
    {
      "cell_type": "markdown",
      "metadata": {
        "id": "MeC0bT35_G_G",
        "colab_type": "text"
      },
      "source": [
        "#OOP\n",
        "Object Oriented programming allows programmers to creat their own objects that have methods and attributes.\n",
        "\n",
        "E.g. after defining a string,list, dict, or other objects, you were able to call the methods off of them with the method_name() syntax\n",
        "\n",
        "OOP allows us to create code that is repeatable and organized\n"
      ]
    },
    {
      "cell_type": "code",
      "metadata": {
        "id": "416Hcfe4EUo8",
        "colab_type": "code",
        "outputId": "5be2854e-52a4-48a3-f5e0-ad8bb8b8e3b3",
        "colab": {
          "base_uri": "https://localhost:8080/",
          "height": 34
        }
      },
      "source": [
        "class Dog():\n",
        "    # CLASS OBJECT ATTRIBUTE \n",
        "    # SAME FOR ANY INSTANCE OF CLASS\n",
        "    # HENCE IT DOESN'T NEED attribute.self FORMAT\n",
        "    species = 'mammal'\n",
        "\n",
        "    # USER DEFINED ATTRIBUTES breed, name, spots\n",
        "    def __init__(self,breed, name, spots):\n",
        "        # ATTRIBUTES\n",
        "        # TAKE IN ARGUMENTS\n",
        "        # ASSIGN TO USER DEFINED ATTRIBUTES\n",
        "\n",
        "        self.breed=breed #string\n",
        "        self.name=name  #string\n",
        "        self.spots=spots #boolen True/False\n",
        "\n",
        "\n",
        "    # METHODS ARE FUNCTIONS ACTING ON AN OBJECT THROUGH THE USE OF SELF KEYWORD\n",
        "    # METHODS ARE FUNCTIONS DEFINED INSIDE THE CLASS\n",
        "    # THEY PERFORM OPPERATIONS USING ATTRIBUTES OF THE CREATED OBJECT\n",
        "\n",
        "    def bark(self,number):\n",
        "        print(f\" woof! my name is {self.name} and my ID is {number}\")\n",
        "\n",
        "my_dog=Dog(breed='Lab', name= 'Doggie', spots=False)\n",
        "\n",
        "type(my_dog)    #__main__.Dog\n",
        "my_dog.species  #'mammal'\n",
        "my_dog.bark(10)\n",
        "\n"
      ],
      "execution_count": 0,
      "outputs": [
        {
          "output_type": "stream",
          "text": [
            " woof! my name is Doggie and my ID is 10\n"
          ],
          "name": "stdout"
        }
      ]
    },
    {
      "cell_type": "code",
      "metadata": {
        "id": "hK2GxD1TYPS8",
        "colab_type": "code",
        "outputId": "3887c15c-fcbf-4a98-8c0d-b7800bfa782a",
        "colab": {
          "base_uri": "https://localhost:8080/",
          "height": 51
        }
      },
      "source": [
        "class Circle():\n",
        "    # class object attribute \n",
        "    # is same on any instance of the class\n",
        "    pi = 3.14\n",
        "    def __init__(self,radius=1):\n",
        "        self.radius=radius\n",
        "    def get_area(self):\n",
        "        return self.radius*self.pi*2\n",
        "    \n",
        "my_circle = Circle()\n",
        "print('Default vals:',my_circle.pi,' and ',my_circle.radius)\n",
        "print('area is: ', my_circle.get_area())"
      ],
      "execution_count": 0,
      "outputs": [
        {
          "output_type": "stream",
          "text": [
            "Default vals: 3.14  and  1\n",
            "area is:  6.28\n"
          ],
          "name": "stdout"
        }
      ]
    },
    {
      "cell_type": "code",
      "metadata": {
        "id": "LrwlF1UMZ-Lv",
        "colab_type": "code",
        "outputId": "e88bb892-98a2-4438-92b4-a79b5e687851",
        "colab": {
          "base_uri": "https://localhost:8080/",
          "height": 34
        }
      },
      "source": [
        "class Circle():\n",
        "    # class object attribute \n",
        "    # is same on any instance of the class\n",
        "    \n",
        "    pi = 3.14\n",
        "    \n",
        "    def __init__(self,radius=1):\n",
        "        self.radius=radius\n",
        "        self.area=radius*self.pi*2\n",
        "\n",
        "    def get_area(self):\n",
        "        return self.radius*self.pi*2\n",
        "\n",
        "my_circle=Circle()\n",
        "my_circle.area"
      ],
      "execution_count": 0,
      "outputs": [
        {
          "output_type": "execute_result",
          "data": {
            "text/plain": [
              "6.28"
            ]
          },
          "metadata": {
            "tags": []
          },
          "execution_count": 193
        }
      ]
    },
    {
      "cell_type": "markdown",
      "metadata": {
        "id": "SbwpWDSea3Kx",
        "colab_type": "text"
      },
      "source": [
        "#Inheritence and Polymorphism\n",
        "\n",
        "* Inheritence: is a way of forming new classes from existing already defined classes.(resduce complexity and reuse code\n",
        "\n",
        "* newly formed classes can use the animal class in order to inherit some of its methods you may want to use again\n",
        "\n",
        "\n",
        "```\n",
        "Dog is inheriting or deriving from Animal class:\n",
        "\n",
        "Dog(Animal)\n",
        "```\n",
        "\n",
        "Polymorphism: refers to the way in which different object classes can share the same method name, and those methods can be called from the same place eventhough a variety of different objects might be passed in.\n",
        "\n",
        "\n"
      ]
    },
    {
      "cell_type": "markdown",
      "metadata": {
        "id": "F-Btavu-iUCo",
        "colab_type": "text"
      },
      "source": [
        "#Inheritence"
      ]
    },
    {
      "cell_type": "code",
      "metadata": {
        "id": "AmYMSLuHbRws",
        "colab_type": "code",
        "outputId": "4768f7c8-980e-4c68-e73a-fb689a8c055f",
        "colab": {
          "base_uri": "https://localhost:8080/",
          "height": 68
        }
      },
      "source": [
        "class Animal():\n",
        "    def __init__(self):\n",
        "        print(\"Animal created\")\n",
        "    def who_am_I(self):\n",
        "        print(\"I am an animal\")\n",
        "    def eat(self):\n",
        "        print(\"I am eating\")\n",
        "\n",
        "\n",
        "my_animal=Animal()\n",
        "my_animal.who_am_I()\n",
        "my_animal.eat()\n",
        "\n"
      ],
      "execution_count": 0,
      "outputs": [
        {
          "output_type": "stream",
          "text": [
            "Animal created\n",
            "I am an animal\n",
            "I am eating\n"
          ],
          "name": "stdout"
        }
      ]
    },
    {
      "cell_type": "code",
      "metadata": {
        "id": "VjvUBGDCd4uA",
        "colab_type": "code",
        "outputId": "0255c67c-507d-4f7d-efdb-c12f61cb4baf",
        "colab": {
          "base_uri": "https://localhost:8080/",
          "height": 102
        }
      },
      "source": [
        "\n",
        "class Dog(Animal):\n",
        "    #creating an instance of the Dog class\n",
        "    def __init__(self):\n",
        "        #creating an instance of the Animal class\n",
        "        Animal.__init__(self)\n",
        "        print(\"Dog created\")\n",
        "\n",
        "    #overwrite inherited methods from base class if needed\n",
        "    def who_am_I(self):\n",
        "        print(\"I am overwritten version of the old dog from inhertence from Animal\")\n",
        "    \n",
        "    #overwrite inherited methods from base class if needed\n",
        "    def eat(self):\n",
        "        print(\"I am eating a delicious food\")\n",
        "        \n",
        "    #addon to methods from base class\n",
        "    def bark(self):\n",
        "        print(\"Woof!\")\n",
        "\n",
        "mydog = Dog()\n",
        "mydog.eat()\n",
        "mydog.who_am_I()\n",
        "mydog.bark()\n",
        "\n"
      ],
      "execution_count": 0,
      "outputs": [
        {
          "output_type": "stream",
          "text": [
            "Animal created\n",
            "Dog created\n",
            "I am eating a delicious food\n",
            "I am overwritten version of the old dog from inhertence from Animal\n",
            "Woof!\n"
          ],
          "name": "stdout"
        }
      ]
    },
    {
      "cell_type": "markdown",
      "metadata": {
        "id": "xZwiCJu4iQq6",
        "colab_type": "text"
      },
      "source": [
        "# Polymorphism"
      ]
    },
    {
      "cell_type": "code",
      "metadata": {
        "id": "1XG--5coiKSV",
        "colab_type": "code",
        "outputId": "b2ff9940-75fa-4ee1-dabf-691e4a1bd6d4",
        "colab": {
          "base_uri": "https://localhost:8080/",
          "height": 51
        }
      },
      "source": [
        "class Dog():\n",
        "    def __init__(self,name):\n",
        "        self.name=name\n",
        "    def speak(self):\n",
        "        return self.name+\" says woof!\"\n",
        "\n",
        "class Cat():\n",
        "    def __init__(self,name):\n",
        "        self.name=name\n",
        "    def speak(self):\n",
        "        return self.name+\" says meow!\"\n",
        "\n",
        "\n",
        "niko = Dog(\"Niko\")\n",
        "felix = Cat(\"Felix\")\n",
        "\n",
        "print(niko.speak())\n",
        "print(felix.speak())"
      ],
      "execution_count": 0,
      "outputs": [
        {
          "output_type": "stream",
          "text": [
            "Niko says woof!\n",
            "Felix says meow!\n"
          ],
          "name": "stdout"
        }
      ]
    },
    {
      "cell_type": "code",
      "metadata": {
        "id": "gfoLSB5TjJg3",
        "colab_type": "code",
        "outputId": "e18cbb13-1bd0-450b-dd77-59c59038c218",
        "colab": {
          "base_uri": "https://localhost:8080/",
          "height": 85
        }
      },
      "source": [
        ""
      ],
      "execution_count": 0,
      "outputs": [
        {
          "output_type": "stream",
          "text": [
            "<class '__main__.Dog'>\n",
            "Niko says woof!\n",
            "<class '__main__.Cat'>\n",
            "Felix says meow!\n"
          ],
          "name": "stdout"
        }
      ]
    },
    {
      "cell_type": "code",
      "metadata": {
        "id": "rqee7k4Fjt9z",
        "colab_type": "code",
        "outputId": "01b90d1b-a89c-4291-d064-3c9549c31458",
        "colab": {
          "base_uri": "https://localhost:8080/",
          "height": 102
        }
      },
      "source": [
        "################ polymorphism using function ########################\n",
        "# pet_speak function is calling .speak() method\n",
        "# it doesn't know which of dog or cat class\n",
        "# is going to be passed on by the user.\n",
        "\n",
        "# we get object specific results by \n",
        "# calling same function (e.g pet_speak)\n",
        "def pet_speak(pet):\n",
        "    print(pet.speak())\n",
        "\n",
        "pet_speak(niko)\n",
        "\n",
        "################# polymorphism using for loop #######################\n",
        "for pet in [niko, felix]:\n",
        "    print(type(pet))\n",
        "    print(pet.speak())\n"
      ],
      "execution_count": 0,
      "outputs": [
        {
          "output_type": "stream",
          "text": [
            "Niko says woof!\n",
            "<class '__main__.Dog'>\n",
            "Niko says woof!\n",
            "<class '__main__.Cat'>\n",
            "Felix says meow!\n"
          ],
          "name": "stdout"
        }
      ]
    },
    {
      "cell_type": "markdown",
      "metadata": {
        "id": "tgsXKh07ltQA",
        "colab_type": "text"
      },
      "source": [
        "# Abstract class\n",
        "\n",
        "* when we have a class that never expects to be instantiated\n",
        "instead it is only meant to be used * as a base class\n"
      ]
    },
    {
      "cell_type": "code",
      "metadata": {
        "id": "ASTHtGLblmAS",
        "colab_type": "code",
        "outputId": "20f950ae-1136-406a-a373-62ef55e1c564",
        "colab": {
          "base_uri": "https://localhost:8080/",
          "height": 51
        }
      },
      "source": [
        "class Animal():\n",
        "    def __init__(self,name):\n",
        "        self.name=name\n",
        "    def speak(self):\n",
        "        raise NotImplementedError(\"subclass must be implement this abstract method\")\n",
        "\n",
        "class Dog(Animal):\n",
        "    def speak(self):\n",
        "        return self.name+\" says woof!\" \n",
        "\n",
        "class Cat(Animal):\n",
        "    def speak(self):\n",
        "        return self.name+\" says meaw!\" \n",
        "\n",
        "fido = Dog(\"Fido\")\n",
        "sphinx = Cat(\"Sphinx\") \n",
        "\n",
        "print(fido.speak())\n",
        "print(sphinx.speak())"
      ],
      "execution_count": 0,
      "outputs": [
        {
          "output_type": "stream",
          "text": [
            "Fido says woof!\n",
            "Sphinx says meaw!\n"
          ],
          "name": "stdout"
        }
      ]
    },
    {
      "cell_type": "markdown",
      "metadata": {
        "id": "HAIpTPnIobqr",
        "colab_type": "text"
      },
      "source": [
        "# Magic methods\n",
        "Use builtin python functions like (len and print) with my own user defined objects.\n"
      ]
    },
    {
      "cell_type": "code",
      "metadata": {
        "id": "AtnDBycuoxfU",
        "colab_type": "code",
        "outputId": "8af9d1d4-8b7d-46d7-9624-b309e1145c53",
        "colab": {
          "base_uri": "https://localhost:8080/",
          "height": 51
        }
      },
      "source": [
        "class Book():\n",
        "    def __init__(self, title, author, pages):\n",
        "        self.title = title\n",
        "        self.author = author\n",
        "        self.pages=pages\n",
        "\n",
        "    # MOST POPULAR MAGIC/DUNDER METHODS\n",
        "    def __str__(self): #print function extracts string from here for printing\n",
        "        return f\"{self.title} by {self.author}\"\n",
        "\n",
        "    def __len__(self): #show len when we call len\n",
        "        return self.pages\n",
        "    \n",
        "    def __del__(self): # show the text bellow when u dlete the instance\n",
        "        print(\"Book has been deleted\")\n",
        "\n",
        "\n",
        "b = Book('Python rocks','Maryam',200)\n",
        "print(b)\n",
        "len(b)\n",
        "del(b) # can type: del b\n"
      ],
      "execution_count": 0,
      "outputs": [
        {
          "output_type": "stream",
          "text": [
            "Python rocks by Maryam\n",
            "Book has been deleted\n"
          ],
          "name": "stdout"
        }
      ]
    },
    {
      "cell_type": "code",
      "metadata": {
        "id": "VEC-YMvVssrB",
        "colab_type": "code",
        "outputId": "ca86f38a-5ed7-4908-adb2-b7f450d37806",
        "colab": {
          "base_uri": "https://localhost:8080/",
          "height": 34
        }
      },
      "source": [
        "# Fill in the Line class methods to accept coordinates as a pair \n",
        "# of tuples and return the slope and distance of the line.\n",
        "class Line(object):\n",
        "    \n",
        "    def __init__(self,coor1,coor2):\n",
        "        self.coor1 = coor1\n",
        "        self.coor2 = coor2\n",
        "    \n",
        "    def distance(self):\n",
        "        x1,y1 = self.coor1 # x,y = tuple unpacking\n",
        "        x2,y2 = self.coor2\n",
        "        #2 decimal points\n",
        "        return f\"{((x2-x1)**2 + (y2-y1)**2)**0.5:0.2f}\"\n",
        "    \n",
        "    def slope(self):\n",
        "        x1,y1 = self.coor1\n",
        "        x2,y2 = self.coor2\n",
        "        return (y2-y1)/(x2-x1)\n",
        "\n",
        "\n",
        "\n",
        "coordinate1 = (3,2)\n",
        "coordinate2 = (8,10)\n",
        "\n",
        "li = Line(coordinate1,coordinate2)\n",
        "\n",
        "li.distance()\n",
        "\n",
        "#li.slope()\n"
      ],
      "execution_count": 0,
      "outputs": [
        {
          "output_type": "execute_result",
          "data": {
            "text/plain": [
              "'9.43'"
            ]
          },
          "metadata": {
            "tags": []
          },
          "execution_count": 227
        }
      ]
    },
    {
      "cell_type": "code",
      "metadata": {
        "id": "EN6XdHJjtvdT",
        "colab_type": "code",
        "outputId": "9d709c29-2ab8-4e6b-fc92-9068fc48725f",
        "colab": {
          "base_uri": "https://localhost:8080/",
          "height": 34
        }
      },
      "source": [
        "class Cylinder:\n",
        "    \n",
        "    def __init__(self,height=1,radius=1):\n",
        "        self.height = height\n",
        "        self.radius = radius\n",
        "        \n",
        "    def volume(self):\n",
        "        return self.height*3.14*(self.radius)**2\n",
        "    \n",
        "    def surface_area(self):\n",
        "        top = 3.14 * (self.radius)**2\n",
        "        return (2*top) + (2*3.14*self.radius*self.height)\n",
        "\n",
        "c = Cylinder(2,3)\n",
        "\n",
        "c.volume() #56.52\n",
        "\n",
        "c.surface_area()# 94.2"
      ],
      "execution_count": 0,
      "outputs": [
        {
          "output_type": "execute_result",
          "data": {
            "text/plain": [
              "94.2"
            ]
          },
          "metadata": {
            "tags": []
          },
          "execution_count": 229
        }
      ]
    },
    {
      "cell_type": "code",
      "metadata": {
        "id": "WuWqoR-1uhHZ",
        "colab_type": "code",
        "colab": {}
      },
      "source": [
        "class Account:\n",
        "    def __init__(self,owner,balance=0):\n",
        "        self.owner = owner\n",
        "        self.balance = balance\n",
        "        \n",
        "    def __str__(self):\n",
        "        return f'Account owner:   {self.owner}\\nAccount balance: ${self.balance}'\n",
        "        \n",
        "    def deposit(self,dep_amt):\n",
        "        self.balance += dep_amt\n",
        "        print('Deposit Accepted')\n",
        "        \n",
        "    def withdraw(self,wd_amt):\n",
        "        if self.balance >= wd_amt:\n",
        "            self.balance -= wd_amt\n",
        "            print('Withdrawal Accepted')\n",
        "        else:\n",
        "            print('Funds Unavailable!')\n",
        "\n",
        "# 1. Instantiate the class\n",
        "acct1 = Account('Jose',100)\n",
        "\n",
        "# 2. Print the object\n",
        "print(acct1)\n",
        "Account owner:   Jose #Account balance: $100\n",
        "\n",
        "# 3. Show the account owner attribute\n",
        "acct1.owner #'Jose'\n",
        "\n",
        "# 4. Show the account balance attribute\n",
        "acct1.balance #100\n",
        "\n",
        "# 5. Make a series of deposits and withdrawals\n",
        "acct1.deposit(50)\n",
        "\n",
        "acct1.withdraw(75) #Withdrawal Accepted\n",
        "\n",
        "# 6. Make a withdrawal that exceeds the available balance\n",
        "acct1.withdraw(500)"
      ],
      "execution_count": 0,
      "outputs": []
    },
    {
      "cell_type": "markdown",
      "metadata": {
        "id": "GTYMlbp3v1gC",
        "colab_type": "text"
      },
      "source": [
        "# Create your own modules and packages and subpackages\n",
        "\n",
        "* Modules are just .py scripts that you call in another .py script\n",
        "* packages are collection of modules.\n",
        "\n",
        "* if you have a large script you are not going to put everything in a giant .py file. Instead you split it up among different .py files which means you split it among different modules. \n",
        "    \n",
        "\n",
        "```\n",
        "#mymodule.py and mymodule2 are both under same directory and contain my_func and my_func2 functions correspondingly\n",
        "\n",
        "from mymodule import my_func\n",
        "from mymodule2 import my_func2 as mf\n",
        "\n",
        "```\n",
        "\n",
        "\n",
        "\n",
        "* At some point having too many modules is not easy to handle and you can use a bunch of modules to create different packages.\n",
        "    * create a 'directory' (e.g \"MyMainPackageDir\") and inside that you can have 'subdirectories' e.g \"SubPackageDir\").\n",
        "    * create a blank files with '__init__.py' name in all 'directory' and 'subdirectories' so when python goes searching inside these packages it understand that it is not a normal directory and it is an actual package\n",
        "\n",
        "```\n",
        "\n",
        "from MyMainPackageDir import some_main_script\n",
        "\n",
        "from MyMainPackageDir.SubPackageDir import mysubscript\n",
        "\n",
        "some_main_script.my_func_definition()\n",
        "\n",
        "mysubscript.my_func_definition()\n",
        "\n",
        "```\n",
        "\n",
        "\n",
        "\n",
        "\n",
        "\n"
      ]
    },
    {
      "cell_type": "code",
      "metadata": {
        "id": "XF3nKPNgwnp5",
        "colab_type": "code",
        "outputId": "ba1ce455-4f3f-4530-e870-03c6e58cc7e8",
        "colab": {
          "base_uri": "https://localhost:8080/",
          "height": 34
        }
      },
      "source": [
        "!pwd"
      ],
      "execution_count": 0,
      "outputs": [
        {
          "output_type": "stream",
          "text": [
            "/content\n"
          ],
          "name": "stdout"
        }
      ]
    },
    {
      "cell_type": "code",
      "metadata": {
        "id": "-AqCL-MAwsuE",
        "colab_type": "code",
        "colab": {}
      },
      "source": [
        "\n",
        "with open('mymodule.py','w') as myfile:\n",
        "    myfile.write(\"def my_func():\\n\\tprint('Hey I am in mymodule')\\n\")\n",
        "\n",
        "with open('mymodule2.py','w') as myfile:\n",
        "    myfile.write(\"\"\"\n",
        "def my_func2():\n",
        "    print('Hey I am in mymodule 2')\"\"\")\n",
        "\n",
        "\n",
        "with open('myprogram.py','w') as myfile:\n",
        "    myfile.write(\"\"\"\n",
        "from mymodule import my_func\n",
        "from mymodule2 import my_func2 as mf\n",
        "my_func()\n",
        "mf()\n",
        "\"\"\")\n",
        "\n",
        "\n"
      ],
      "execution_count": 0,
      "outputs": []
    },
    {
      "cell_type": "code",
      "metadata": {
        "id": "DmTeunMM02Xm",
        "colab_type": "code",
        "outputId": "5041a4d8-cc57-44de-9133-bd481405009f",
        "colab": {
          "base_uri": "https://localhost:8080/",
          "height": 204
        }
      },
      "source": [
        "!cat myprogram.py\n",
        "!cat myprogram2.py\n",
        "!cat mymodule.py\n",
        "\n",
        "!python myprogram.py\n"
      ],
      "execution_count": 0,
      "outputs": [
        {
          "output_type": "stream",
          "text": [
            "\n",
            "from mymodule import my_func\n",
            "from mymodule2 import my_func2 as mf\n",
            "my_func()\n",
            "mf()\n",
            "\n",
            "def my_func():\n",
            "    print('Hey I am in mymodule')def my_func():\n",
            "\tprint('Hey I am in mymodule')\n",
            "Hey I am in mymodule\n",
            "Hey I am in mymodule 2\n"
          ],
          "name": "stdout"
        }
      ]
    },
    {
      "cell_type": "code",
      "metadata": {
        "id": "S4W4fU9Nz3-d",
        "colab_type": "code",
        "outputId": "c1016c03-d598-4b36-a51f-4b3e915bdf66",
        "colab": {
          "base_uri": "https://localhost:8080/",
          "height": 119
        }
      },
      "source": [
        "print(\"\"\"\n",
        "hi\n",
        "*    holla\n",
        "heyyy\n",
        "*            hollaaaa\n",
        "\"\"\")"
      ],
      "execution_count": 0,
      "outputs": [
        {
          "output_type": "stream",
          "text": [
            "\n",
            "hi\n",
            "*    holla\n",
            "heyyy\n",
            "*            hollaaaa\n",
            "\n"
          ],
          "name": "stdout"
        }
      ]
    },
    {
      "cell_type": "markdown",
      "metadata": {
        "id": "hxaM4P3McNM5",
        "colab_type": "text"
      },
      "source": [
        "# \\_\\_name\\_\\_ and \\_\\_main\\_\\_\n",
        "\n",
        "* Sometimes you see at the bottom of the code \n",
        "\n",
        "    * if \\_\\_name\\_\\_ == \\_\\_main\\_\\_\n",
        "\n",
        "* sometime when you are importing from a module, you want to know whether a module function is being used as an import, or if you are using the original.py file of that module\n",
        "    * on desktop create one.py and two.py\n",
        "    * when you call a \".py\" file all the code will gets run\n",
        "    * in python there is a builtin variabe called \"\\_\\_name\\_\\\"\n",
        "    * This variable \"\\_\\_name\\_\\\" gets assigned different names\n",
        "    * when you run a file.py directly it assignes \n",
        "\"\\_\\_name\\_\\\"=\"\\_\\_main\\_\\_\"\n",
        "\n",
        "\n",
        "```\n",
        "# This is formatted as code\n",
        "\n",
        "if __name__=__main__\n",
        "\n",
        "```\n",
        "\n",
        "\n"
      ]
    },
    {
      "cell_type": "markdown",
      "metadata": {
        "id": "dtERl5MnRurN",
        "colab_type": "text"
      },
      "source": [
        "Sometimes when you are importing from a module, you would like to know whether\n",
        "a modules function is being used as an import, or if you are using the original\n",
        ".py file of that module. In this case we can use the:\n",
        "\n",
        "      if __name__ == \"__main__\":\n",
        "\n",
        "line to determine this. For example:\n",
        "\n",
        "When your script is run by passing it as a command to the Python interpreter:\n",
        "\n",
        "    python myscript.py\n",
        "\n",
        "all of the code that is at indentation level 0 gets executed. Functions and\n",
        "classes that are defined are, well, defined, but none of their code gets ran.\n",
        "Unlike other languages, there's no main() function that gets run automatically\n",
        "- the main() function is implicitly all the code at the top level.\n",
        "\n",
        "In this case, the top-level code is an if block.  __name__ is a built-in variable\n",
        " which evaluate to the name of the current module. However, if a module is being\n",
        " run directly (as in myscript.py above), then __name__ instead is set to the\n",
        " string \"__main__\". Thus, you can test whether your script is being run directly\n",
        "  or being imported by something else by testing\n",
        "\n",
        "    if __name__ == \"__main__\":\n",
        "        ...\n",
        "\n",
        "If that code is being imported into another module, the various function and\n",
        "class definitions will be imported, but the main() code won't get run. As a\n",
        "basic example, consider the following two scripts:\n",
        "\n",
        "    # file one.py\n",
        "    def func():\n",
        "        print(\"func() in one.py\")\n",
        "\n",
        "    print(\"top-level in one.py\")\n",
        "\n",
        "    if __name__ == \"__main__\":\n",
        "        print(\"one.py is being run directly\")\n",
        "    else:\n",
        "        print(\"one.py is being imported into another module\")\n",
        "\n",
        "and then:\n",
        "\n",
        "    # file two.py\n",
        "    import one\n",
        "\n",
        "    print(\"top-level in two.py\")\n",
        "    one.func()\n",
        "\n",
        "    if __name__ == \"__main__\":\n",
        "        print(\"two.py is being run directly\")\n",
        "    else:\n",
        "        print(\"two.py is being imported into another module\")\n",
        "\n",
        "Now, if you invoke the interpreter as\n",
        "\n",
        "    python one.py\n",
        "\n",
        "The output will be\n",
        "\n",
        "    top-level in one.py\n",
        "\n",
        "one.py is being run directly\n",
        "If you run two.py instead:\n",
        "\n",
        "    python two.py\n",
        "\n",
        "You get\n",
        "\n",
        "  top-level in one.py\n",
        "  one.py is being imported into another module\n",
        "  top-level in two.py\n",
        "  func() in one.py\n",
        "  two.py is being run directly\n",
        "  \n",
        "Thus, when module one gets loaded, its __name__ equals \"one\" instead of __main__.**bold text**"
      ]
    },
    {
      "cell_type": "markdown",
      "metadata": {
        "id": "2drvoBLnyGR6",
        "colab_type": "text"
      },
      "source": [
        "#Creating a Decorator\n",
        "\n",
        "When you want to add more new capabilities to a function, adding extra code to old code or creating new codes are NOT good ways to proceed. Because you don't either have capability of calling the old function or you had to create the old function over again and add more new code and functionality.\n",
        "\n",
        "Thats when decorateors come to the picture: Python has decorators that allow you to attach new extra functionality to an already existing function. They use \"@\" operator and are then placed on top of the original function.\n",
        "\n",
        "\n",
        "* easily add on extra functionality with a decoder\n",
        "```\n",
        "    @some_decoder\n",
        "\n",
        "    def simple_func():\n",
        "    # Do simple stuff\n",
        "        return something\n",
        "\n",
        "```"
      ]
    },
    {
      "cell_type": "markdown",
      "metadata": {
        "id": "yP9W3k2h0Da_",
        "colab_type": "text"
      },
      "source": [
        "#RETURN A FUNC WITHIN a FUNC"
      ]
    },
    {
      "cell_type": "code",
      "metadata": {
        "id": "TYqpOCrKyHmx",
        "colab_type": "code",
        "outputId": "fb1291b6-8a5c-4ac5-a54d-49fb666f5c29",
        "colab": {
          "base_uri": "https://localhost:8080/",
          "height": 119
        }
      },
      "source": [
        "def hello(name='Jose'):\n",
        "    print(\"the hello function has been executed\")\n",
        "    def greet():\n",
        "        return'\\t this is greet() func inside hello!'\n",
        "\n",
        "    def welcome():\n",
        "        return'\\t this is welcome() func inside hello!'\n",
        "\n",
        "    print('I am going to return a function')\n",
        "    if name =='Jose':\n",
        "        return greet #  ATTENTION NO PARANTHESIS greet()\n",
        "    else:\n",
        "        return welcome #  ATTENTION NO PARANTHESIS\n",
        "\n",
        "# DONT DO THE JOB - YOU NEED IT CALLED LIKE A FUNCTION\n",
        "print(hello('Jose'))\n",
        "\n",
        "# the hello function has been executed\n",
        "# I am going to return a function\n",
        "# <function hello.<locals>.greet at 0x7f61abbfdf28>\n",
        "\n",
        "# DOES THE JOB\n",
        "newFunc=hello('Jose')\n",
        "print(newFunc())\n",
        "# the hello function has been executed\n",
        "# I am going to return a function\n",
        "# this is greet() func inside hello!"
      ],
      "execution_count": 0,
      "outputs": [
        {
          "output_type": "stream",
          "text": [
            "the hello function has been executed\n",
            "I am going to return a function\n",
            "<function hello.<locals>.greet at 0x7f61abbfdf28>\n",
            "the hello function has been executed\n",
            "I am going to return a function\n",
            "\t this is greet() func inside hello!\n"
          ],
          "name": "stdout"
        }
      ]
    },
    {
      "cell_type": "code",
      "metadata": {
        "id": "l02nVg4-0Rqt",
        "colab_type": "code",
        "outputId": "cf6755e3-e505-4bdf-ae83-b3ad04a675eb",
        "colab": {
          "base_uri": "https://localhost:8080/",
          "height": 34
        }
      },
      "source": [
        "def cool():\n",
        "    def super_cool():\n",
        "        return 'I am very cool '\n",
        "    return super_cool\n",
        "\n",
        "some_func = cool()\n",
        "some_func()"
      ],
      "execution_count": 0,
      "outputs": [
        {
          "output_type": "execute_result",
          "data": {
            "text/plain": [
              "'I am very cool '"
            ]
          },
          "metadata": {
            "tags": []
          },
          "execution_count": 18
        }
      ]
    },
    {
      "cell_type": "code",
      "metadata": {
        "id": "Ds3zEr4v0_Mw",
        "colab_type": "code",
        "colab": {}
      },
      "source": [
        "def new_decorator(original_func):\n",
        "        def wrap_func():\n",
        "            print('some extra code added before original func')\n",
        "            original_func()\n",
        "            print('some extra code added after original func')\n",
        "        return wrap_func\n"
      ],
      "execution_count": 0,
      "outputs": []
    },
    {
      "cell_type": "code",
      "metadata": {
        "id": "qLAqHZp70VkK",
        "colab_type": "code",
        "outputId": "3b603198-fb3c-4c00-e78a-02836f11fb28",
        "colab": {
          "base_uri": "https://localhost:8080/",
          "height": 68
        }
      },
      "source": [
        "def func_needs_decorator():\n",
        "    print(\"I want to be decorated!\")\n",
        "\n",
        "decorated_func = new_decorator(func_needs_decorator)\n",
        "\n",
        "decorated_func()\n",
        "\n",
        "# some extra code added before original func\n",
        "# I want to be decorated!\n",
        "# some extra code added after original func"
      ],
      "execution_count": 0,
      "outputs": [
        {
          "output_type": "stream",
          "text": [
            "some extra code added before original func\n",
            "I want to be decorated!\n",
            "some extra code added after original func\n"
          ],
          "name": "stdout"
        }
      ]
    },
    {
      "cell_type": "markdown",
      "metadata": {
        "id": "Jjc7Tc9g2Vdn",
        "colab_type": "text"
      },
      "source": [
        "The above was complicated...Now lets use decorator:\n"
      ]
    },
    {
      "cell_type": "code",
      "metadata": {
        "id": "g2ovm8lI2Zj4",
        "colab_type": "code",
        "outputId": "9fb58de0-e646-4302-890c-7b489dbfed68",
        "colab": {
          "base_uri": "https://localhost:8080/",
          "height": 68
        }
      },
      "source": [
        "def new_decoratorr(original_func):\n",
        "        def wrap_func():\n",
        "            print('*some extra code added before original func')\n",
        "            original_func()\n",
        "            print('*some extra code added after original func')\n",
        "        return wrap_func\n",
        "\n",
        "\n",
        "@new_decoratorr\n",
        "def func_needs_decorator():\n",
        "    print(\"*I want to be decorated!\")\n",
        "\n",
        "func_needs_decorator()"
      ],
      "execution_count": 0,
      "outputs": [
        {
          "output_type": "stream",
          "text": [
            "*some extra code added before original func\n",
            "*I want to be decorated!\n",
            "*some extra code added after original func\n"
          ],
          "name": "stdout"
        }
      ]
    },
    {
      "cell_type": "markdown",
      "metadata": {
        "id": "82E0deuYNVYr",
        "colab_type": "text"
      },
      "source": [
        "\n",
        "In the previous example we actually manually created a Decorator. Here we will modify it to make its use case clear:\n",
        "\n",
        "```\n",
        "def new_decorator(func):\n",
        "\n",
        "    def wrap_func():\n",
        "        print(\"Code would be here, before executing the func\")\n",
        "\n",
        "        func()\n",
        "\n",
        "        print(\"Code here will execute after the func()\")\n",
        "\n",
        "    return wrap_func\n",
        "\n",
        "def func_needs_decorator():\n",
        "    print(\"This function is in need of a Decorator\")\n",
        "\n",
        "    ```\n",
        "\n",
        "    So what just happened here? A decorator simply wrapped the function and modified its behavior. Now let's understand how we can rewrite this code using the @ symbol, which is what Python uses for Decorators:\n",
        "\n",
        "\n",
        "\n",
        "```\n",
        "@new_decorator\n",
        "def func_needs_decorator():\n",
        "    print(\"This function is in need of a Decorator\")\n",
        "\n",
        "func_needs_decorator()\n",
        "\n",
        "```\n",
        "\n",
        "Great! You've now built a Decorator manually and then saw how we can use the @ symbol in Python to automate this and clean our code. You'll run into Decorators a lot if you begin using Python for Web Development, such as Flask or Django!\n",
        "\n"
      ]
    },
    {
      "cell_type": "markdown",
      "metadata": {
        "id": "MfQz4nj-yBNe",
        "colab_type": "text"
      },
      "source": [
        ""
      ]
    },
    {
      "cell_type": "markdown",
      "metadata": {
        "id": "IJWADefOx-Vy",
        "colab_type": "text"
      },
      "source": [
        ""
      ]
    },
    {
      "cell_type": "markdown",
      "metadata": {
        "id": "AeldI8_ENVjJ",
        "colab_type": "text"
      },
      "source": [
        "# Errors and Exception Handling\n",
        "\n",
        "[link text](https://docs.python.org/3/library/exceptions.html)\n",
        "\n",
        "\n",
        "If you execute this you get an error and you can't run anything after\n",
        "```\n",
        "In [1]:\n",
        "print('Hello)\n",
        "  File \"<ipython-input-1-db8c9988558c>\", line 1\n",
        "    print('Hello)\n",
        "\n",
        "\n",
        "\n",
        "\n",
        "SyntaxError: EOL while scanning string literal\n",
        "```\n",
        "\n",
        "Note how we get a SyntaxError, with the further description that it was an EOL (End of Line Error) while scanning the string literal. This is specific enough for us to see that we forgot a single quote at the end of the line. Understanding these various error types will help you debug your code much faster.\n",
        "\n",
        "This type of error and description is known as an Exception. Even if a statement or expression is syntactically correct, it may cause an error when an attempt is made to execute it. Errors detected during execution are called exceptions and are not unconditionally fatal.\n",
        "\n",
        "You can check out the full list of built-in exceptions here. Now let's learn how to handle errors and exceptions in our own code.\n",
        "\n",
        "# try (1) , except (2a), else (2a) , finally (3)\n",
        "The basic terminology and syntax used to handle errors in Python are the try and except statements. The code which can cause an exception to occur is put in the try block and the handling of the exception is then implemented in the except block of code. The syntax follows:\n",
        "\n",
        "```\n",
        "try:\n",
        "   You do your operations here...\n",
        "   ...\n",
        "except ExceptionI:\n",
        "   If there is ExceptionI, then execute this block.\n",
        "except ExceptionII:\n",
        "   If there is ExceptionII, then execute this block.\n",
        "   ...\n",
        "else:\n",
        "   If there is no exception then execute this block. \n",
        "   ```\n",
        "\n",
        "We can also just check for any exception with just using except: To get a better understanding of all this let's check out an example: We will look at some code that opens and writes a file:\n",
        "\n",
        "```\n",
        "try:\n",
        "    f = open('testfile','w')\n",
        "    f.write('Test write this')\n",
        "except IOError:\n",
        "    # This will only check for an IOError exception and then execute this print statement\n",
        "    print(\"Error: Could not find file or read data\")\n",
        "else:\n",
        "    print(\"Content written successfully\")\n",
        "    f.close()\n",
        "\n",
        "    ```\n",
        "\n",
        "    ```\n",
        "Content written successfully\n",
        "Now let's see what would happen if we did not have write permission (opening only with 'r'):\n",
        "```\n",
        "\n",
        "\n",
        "\n",
        "```\n",
        "try:\n",
        "    f = open('testfile','r')\n",
        "    f.write('Test write this')\n",
        "except IOError:\n",
        "    # This will only check for an IOError exception and then execute this print statement\n",
        "    print(\"Error: Could not find file or read data\")\n",
        "else:\n",
        "    print(\"Content written successfully\")\n",
        "    f.close()\n",
        "\n",
        "    ```\n",
        "\n",
        "Error: Could not find file or read data\n",
        "Great! Notice how we only printed a statement! The code still ran and we were able to continue doing actions and running code blocks. This is extremely useful when you have to account for possible input errors in your code. You can be prepared for the error and keep running code, instead of your code just breaking as we saw above.\n",
        "\n",
        "We could have also just said except: if we weren't sure what exception would occur. For example:\n",
        "```\n",
        "try:\n",
        "    f = open('testfile','r')\n",
        "    f.write('Test write this')\n",
        "except:\n",
        "    # This will check for any exception and then execute this print statement\n",
        "    print(\"Error: Could not find file or read data\")\n",
        "else:\n",
        "    print(\"Content written successfully\")\n",
        "    f.close()\n",
        "    ```\n",
        "    ```\n",
        "Error: Could not find file or read data\n",
        "Great! Now we don't actually need to memorize that list of exception types! Now what if we kept wanting to run code after the exception occurred? This is where finally comes in.\n",
        "\n",
        "finally\n",
        "The finally: block of code will always be run regardless if there was an exception in the try code block. The syntax is:\n",
        "```\n",
        "\n",
        "```\n",
        "try:\n",
        "   Code block here\n",
        "   ...\n",
        "   Due to any exception, this code may be skipped!\n",
        "finally:\n",
        "   This code block would always be executed.\n",
        "```\n",
        "For example:\n",
        "\n",
        "```\n",
        "try:\n",
        "    f = open(\"testfile\", \"w\")\n",
        "    f.write(\"Test write statement\")\n",
        "    f.close()\n",
        "finally:\n",
        "    print(\"Always execute finally code blocks\")\n",
        "Always execute finally code blocks\n",
        "We can use this in conjunction with except. Let's see a new example that will take into account a user providing the wrong input:\n",
        "```\n",
        "```\n",
        "def askint():\n",
        "    try:\n",
        "        val = int(input(\"Please enter an integer: \"))\n",
        "    except:\n",
        "        print(\"Looks like you did not enter an integer!\")\n",
        "\n",
        "    finally:\n",
        "        print(\"Finally, I executed!\")\n",
        "    print(val)\n",
        "```\n",
        "askint()\n",
        "\n",
        "Please enter an integer: 5\n",
        "Finally, I executed!\n",
        "5\n",
        "\n",
        "askint()\n",
        "Please enter an integer: five\n",
        "Looks like you did not enter an integer!\n",
        "Finally, I executed!\n",
        "---------------------------------------------------------------------------\n",
        "UnboundLocalError                         Traceback (most recent call last)\n",
        "<ipython-input-8-cc291aa76c10> in <module>()\n",
        "----> 1 askint()\n",
        "\n",
        "<ipython-input-6-c97dd1c75d24> in askint()\n",
        "      7     finally:\n",
        "      8         print(\"Finally, I executed!\")\n",
        "----> 9     print(val)\n",
        "\n",
        "UnboundLocalError: local variable 'val' referenced before assignment\n",
        "Notice how we got an error when trying to print val (because it was never properly assigned). Let's remedy this by asking the user and checking to make sure the input type is an integer:\n",
        "\n",
        "```\n",
        "def askint():\n",
        "    try:\n",
        "        val = int(input(\"Please enter an integer: \"))\n",
        "    except:\n",
        "        print(\"Looks like you did not enter an integer!\")\n",
        "        val = int(input(\"Try again-Please enter an integer: \"))\n",
        "    finally:\n",
        "        print(\"Finally, I executed!\")\n",
        "    print(val)\n",
        "```\n",
        "\n",
        "askint()\n",
        "Please enter an integer: five\n",
        "Looks like you did not enter an integer!\n",
        "Try again-Please enter an integer: four\n",
        "Finally, I executed!\n",
        "---------------------------------------------------------------------------\n",
        "ValueError                                Traceback (most recent call last)\n",
        "<ipython-input-9-92b5f751eb01> in askint()\n",
        "      2     try:\n",
        "----> 3         val = int(input(\"Please enter an integer: \"))\n",
        "      4     except:\n",
        "\n",
        "ValueError: invalid literal for int() with base 10: 'five'\n",
        "\n",
        "During handling of the above exception, another exception occurred:\n",
        "\n",
        "ValueError                                Traceback (most recent call last)\n",
        "<ipython-input-10-cc291aa76c10> in <module>()\n",
        "----> 1 askint()\n",
        "\n",
        "<ipython-input-9-92b5f751eb01> in askint()\n",
        "      4     except:\n",
        "      5         print(\"Looks like you did not enter an integer!\")\n",
        "----> 6         val = int(input(\"Try again-Please enter an integer: \"))\n",
        "      7     finally:\n",
        "      8         print(\"Finally, I executed!\")\n",
        "\n",
        "ValueError: invalid literal for int() with base 10: 'four'\n",
        "Hmmm...that only did one check. How can we continually keep checking? We can use a while loop!\n",
        "\n",
        "```\n",
        "def askint():\n",
        "    while True:\n",
        "        try:\n",
        "            val = int(input(\"Please enter an integer: \"))\n",
        "        except:\n",
        "            print(\"Looks like you did not enter an integer!\")\n",
        "            continue\n",
        "        else:\n",
        "            print(\"Yep that's an integer!\")\n",
        "            break\n",
        "        finally:\n",
        "            print(\"Finally, I executed!\")\n",
        "        print(val)\n",
        "```\n",
        "askint()\n",
        "Please enter an integer: five\n",
        "Looks like you did not enter an integer!\n",
        "Finally, I executed!\n",
        "Please enter an integer: four\n",
        "Looks like you did not enter an integer!\n",
        "Finally, I executed!\n",
        "Please enter an integer: 3\n",
        "Yep that's an integer!\n",
        "Finally, I executed!\n",
        "So why did our function print \"Finally, I executed!\" after each trial, yet it never printed val itself? This is because with a try/except/finally clause, any continue or break statements are reserved until after the try clause is completed. This means that even though a successful input of 3 brought us to the else: block, and a break statement was thrown, the try clause continued through to finally: before breaking out of the while loop. And since print(val) was outside the try clause, the break statement prevented it from running.\n",
        "\n",
        "Let's make one final adjustment:\n",
        "\n",
        "```\n",
        "def askint():\n",
        "    while True:\n",
        "        try:\n",
        "            val = int(input(\"Please enter an integer: \"))\n",
        "        except:\n",
        "            print(\"Looks like you did not enter an integer!\")\n",
        "            continue\n",
        "        else:\n",
        "            print(\"Yep that's an integer!\")\n",
        "            print(val)\n",
        "            break\n",
        "        finally:\n",
        "            print(\"Finally, I executed!\")\n",
        "            ```\n",
        "\n",
        "askint()\n",
        "Please enter an integer: six\n",
        "Looks like you did not enter an integer!\n",
        "Finally, I executed!\n",
        "Please enter an integer: 6\n",
        "Yep that's an integer!\n",
        "6\n",
        "Finally, I executed!\n",
        "Great! Now you know how to handle errors and exceptions in Python with the try, except, else, and finally notation!"
      ]
    },
    {
      "cell_type": "code",
      "metadata": {
        "id": "dUdFmr_pcKtr",
        "colab_type": "code",
        "outputId": "3cc5627f-ae73-460d-9215-60c30bbd6d3b",
        "colab": {
          "base_uri": "https://localhost:8080/",
          "height": 34
        }
      },
      "source": [
        "try:\n",
        "    for i in ['a','b','c']:\n",
        "        print(i**2)\n",
        "except TypeError:\n",
        "    print(\"Type error\")"
      ],
      "execution_count": 0,
      "outputs": [
        {
          "output_type": "stream",
          "text": [
            "Type error\n"
          ],
          "name": "stdout"
        }
      ]
    },
    {
      "cell_type": "code",
      "metadata": {
        "id": "I-40tp-3c779",
        "colab_type": "code",
        "outputId": "b3392350-51ff-4cd6-b5d8-d3e12f546bfd",
        "colab": {
          "base_uri": "https://localhost:8080/",
          "height": 34
        }
      },
      "source": [
        "try:\n",
        "    z=5/0\n",
        "except TypeError:\n",
        "    print(\"Type error\")\n",
        "except:\n",
        "    print(\"ZeroDivisionError\")"
      ],
      "execution_count": 0,
      "outputs": [
        {
          "output_type": "stream",
          "text": [
            "ZeroDivisionError\n"
          ],
          "name": "stdout"
        }
      ]
    },
    {
      "cell_type": "code",
      "metadata": {
        "id": "O1leRfU7d9HP",
        "colab_type": "code",
        "colab": {}
      },
      "source": [
        ""
      ],
      "execution_count": 0,
      "outputs": []
    },
    {
      "cell_type": "code",
      "metadata": {
        "id": "Xh1tEk2sdQfH",
        "colab_type": "code",
        "outputId": "b953ef0e-5148-42ca-c8ce-9f8925bd5485",
        "colab": {
          "base_uri": "https://localhost:8080/",
          "height": 102
        }
      },
      "source": [
        "# try except else\n",
        "while True:\n",
        "    try:\n",
        "        a=int(input(\"Please input int: \"))\n",
        "        \n",
        "    except:\n",
        "        print(\"Type error! please type int!\")\n",
        "        continue #optional\n",
        "    else:\n",
        "        print(f\"thank you\")\n",
        "        break\n",
        "print(f\"here is sqr: {a**2}, thank you\")\n"
      ],
      "execution_count": 0,
      "outputs": [
        {
          "output_type": "stream",
          "text": [
            "Please input int: g\n",
            "Type error! please type int!\n",
            "Please input int: 12\n",
            "thank you\n",
            "here is sqr: 144, thank you\n"
          ],
          "name": "stdout"
        }
      ]
    },
    {
      "cell_type": "code",
      "metadata": {
        "id": "qtG9ldpqe2xE",
        "colab_type": "code",
        "outputId": "af4302a0-522a-4037-f58c-bd16f88e626c",
        "colab": {
          "base_uri": "https://localhost:8080/",
          "height": 85
        }
      },
      "source": [
        "def ask():\n",
        "    waiting=True\n",
        "    while waiting:\n",
        "        try:\n",
        "            a=int(input(\"Please input int: \"))\n",
        "            \n",
        "        except:\n",
        "            print(\"Type error! please type int!\")\n",
        "            continue #optional\n",
        "        else:\n",
        "            print(f\"thank you\")\n",
        "            waiting=False\n",
        "    print(f\"here is sqr: {a**2}, thank you\")\n",
        "\n",
        "ask()"
      ],
      "execution_count": 0,
      "outputs": [
        {
          "output_type": "stream",
          "text": [
            "Type error! please type int!\n",
            "Please input int: 1\n",
            "thank you\n",
            "here is sqr: 1, thank you\n"
          ],
          "name": "stdout"
        }
      ]
    },
    {
      "cell_type": "markdown",
      "metadata": {
        "id": "H_wK8E90faly",
        "colab_type": "text"
      },
      "source": [
        "##Unit Testing\n",
        "Equally important as writing good code is writing good tests. Better to find bugs yourself than have them reported to you by end users!\n",
        "\n",
        "For this section we'll be working with files outside the notebook. We'll save our code to a .py file, and then save our test script to another .py file. Normally we would code these files using a text editor like Brackets or Atom, or inside an IDE like Spyder or Pycharm. But, since we're here, let's use Jupyter!\n",
        "\n",
        "Recall that with some IPython magic we can write the contents of a cell to a file using %%writefile.\n",
        "Something we haven't seen yet; you can run terminal commands from a jupyter cell using !\n",
        "\n",
        "\n",
        "##Testing tools\n",
        "There are dozens of good testing libraries out there. Most are third-party packages that require an install, such as:\n",
        "\n",
        "* pylint: cheks your code for possible error and styling \n",
        "* pyflakes\n",
        "* pep8 : set of style convention rules in python\n",
        "\n",
        "These are simple tools that merely look at your code, and they'll tell you if there are style issues or simple problems like variable names being called before assignment.\n",
        "\n",
        "A far better way to test your code is to write tests that send sample data to your program, and compare what's returned to a desired outcome.\n",
        "Two such tools are available from the standard library:\n",
        "\n",
        "* unittest\n",
        "* doctest\n",
        "\n",
        "Let's look at pylint first, then we'll do some heavier lifting with unittest.\n",
        "\n",
        "##pylint\n",
        "pylint tests for style as well as some very basic program logic.\n",
        "\n",
        "First, if you don't have it already (and you probably do, as it's part of the Anaconda distribution), you should install pylint.\n",
        "Once that's done feel free to comment out the cell, you won't need it anymore.\n",
        "\n",
        "\n",
        "```\n",
        "\n",
        "! pip install pylint\n",
        "\n",
        "```\n",
        "Let's save a very simple script:\n",
        "\n",
        "# This is formatted as code\n",
        "```\n",
        "%%writefile simple1.py\n",
        "a = 1\n",
        "b = 2\n",
        "print(a)\n",
        "print(B)\n",
        "# This is formatted as code\n",
        "```\n",
        "\n",
        "Overwriting simple1.py\n",
        "Now let's check it using pylint\n",
        "```\n",
        "! pylint simple1.py\n",
        "```"
      ]
    },
    {
      "cell_type": "code",
      "metadata": {
        "id": "mQVVjQ7sgHKD",
        "colab_type": "code",
        "outputId": "64ddebde-deec-4965-b83d-460213aff190",
        "colab": {
          "base_uri": "https://localhost:8080/",
          "height": 394
        }
      },
      "source": [
        "! pip install pylint"
      ],
      "execution_count": 0,
      "outputs": [
        {
          "output_type": "stream",
          "text": [
            "Collecting pylint\n",
            "\u001b[?25l  Downloading https://files.pythonhosted.org/packages/e9/59/43fc36c5ee316bb9aeb7cf5329cdbdca89e5749c34d5602753827c0aa2dc/pylint-2.4.4-py3-none-any.whl (302kB)\n",
            "\r\u001b[K     |█                               | 10kB 17.7MB/s eta 0:00:01\r\u001b[K     |██▏                             | 20kB 1.8MB/s eta 0:00:01\r\u001b[K     |███▎                            | 30kB 2.6MB/s eta 0:00:01\r\u001b[K     |████▎                           | 40kB 1.7MB/s eta 0:00:01\r\u001b[K     |█████▍                          | 51kB 2.1MB/s eta 0:00:01\r\u001b[K     |██████▌                         | 61kB 2.5MB/s eta 0:00:01\r\u001b[K     |███████▋                        | 71kB 2.9MB/s eta 0:00:01\r\u001b[K     |████████▋                       | 81kB 3.3MB/s eta 0:00:01\r\u001b[K     |█████████▊                      | 92kB 3.7MB/s eta 0:00:01\r\u001b[K     |██████████▉                     | 102kB 2.8MB/s eta 0:00:01\r\u001b[K     |████████████                    | 112kB 2.8MB/s eta 0:00:01\r\u001b[K     |█████████████                   | 122kB 2.8MB/s eta 0:00:01\r\u001b[K     |██████████████                  | 133kB 2.8MB/s eta 0:00:01\r\u001b[K     |███████████████▏                | 143kB 2.8MB/s eta 0:00:01\r\u001b[K     |████████████████▎               | 153kB 2.8MB/s eta 0:00:01\r\u001b[K     |█████████████████▎              | 163kB 2.8MB/s eta 0:00:01\r\u001b[K     |██████████████████▍             | 174kB 2.8MB/s eta 0:00:01\r\u001b[K     |███████████████████▌            | 184kB 2.8MB/s eta 0:00:01\r\u001b[K     |████████████████████▌           | 194kB 2.8MB/s eta 0:00:01\r\u001b[K     |█████████████████████▋          | 204kB 2.8MB/s eta 0:00:01\r\u001b[K     |██████████████████████▊         | 215kB 2.8MB/s eta 0:00:01\r\u001b[K     |███████████████████████▉        | 225kB 2.8MB/s eta 0:00:01\r\u001b[K     |████████████████████████▉       | 235kB 2.8MB/s eta 0:00:01\r\u001b[K     |██████████████████████████      | 245kB 2.8MB/s eta 0:00:01\r\u001b[K     |███████████████████████████     | 256kB 2.8MB/s eta 0:00:01\r\u001b[K     |████████████████████████████▏   | 266kB 2.8MB/s eta 0:00:01\r\u001b[K     |█████████████████████████████▏  | 276kB 2.8MB/s eta 0:00:01\r\u001b[K     |██████████████████████████████▎ | 286kB 2.8MB/s eta 0:00:01\r\u001b[K     |███████████████████████████████▍| 296kB 2.8MB/s eta 0:00:01\r\u001b[K     |████████████████████████████████| 307kB 2.8MB/s \n",
            "\u001b[?25hCollecting mccabe<0.7,>=0.6\n",
            "  Downloading https://files.pythonhosted.org/packages/87/89/479dc97e18549e21354893e4ee4ef36db1d237534982482c3681ee6e7b57/mccabe-0.6.1-py2.py3-none-any.whl\n",
            "Collecting isort<5,>=4.2.5\n",
            "\u001b[?25l  Downloading https://files.pythonhosted.org/packages/e5/b0/c121fd1fa3419ea9bfd55c7f9c4fedfec5143208d8c7ad3ce3db6c623c21/isort-4.3.21-py2.py3-none-any.whl (42kB)\n",
            "\u001b[K     |████████████████████████████████| 51kB 7.1MB/s \n",
            "\u001b[?25hCollecting astroid<2.4,>=2.3.0\n",
            "\u001b[?25l  Downloading https://files.pythonhosted.org/packages/ad/ae/86734823047962e7b8c8529186a1ac4a7ca19aaf1aa0c7713c022ef593fd/astroid-2.3.3-py3-none-any.whl (205kB)\n",
            "\u001b[K     |████████████████████████████████| 215kB 38.2MB/s \n",
            "\u001b[?25hRequirement already satisfied: six~=1.12 in /usr/local/lib/python3.6/dist-packages (from astroid<2.4,>=2.3.0->pylint) (1.12.0)\n",
            "Requirement already satisfied: wrapt==1.11.* in /usr/local/lib/python3.6/dist-packages (from astroid<2.4,>=2.3.0->pylint) (1.11.2)\n",
            "Collecting typed-ast<1.5,>=1.4.0; implementation_name == \"cpython\" and python_version < \"3.8\"\n",
            "\u001b[?25l  Downloading https://files.pythonhosted.org/packages/90/ed/5459080d95eb87a02fe860d447197be63b6e2b5e9ff73c2b0a85622994f4/typed_ast-1.4.1-cp36-cp36m-manylinux1_x86_64.whl (737kB)\n",
            "\u001b[K     |████████████████████████████████| 747kB 39.0MB/s \n",
            "\u001b[?25hCollecting lazy-object-proxy==1.4.*\n",
            "\u001b[?25l  Downloading https://files.pythonhosted.org/packages/0b/dd/b1e3407e9e6913cf178e506cd0dee818e58694d9a5cd1984e3f6a8b9a10f/lazy_object_proxy-1.4.3-cp36-cp36m-manylinux1_x86_64.whl (55kB)\n",
            "\u001b[K     |████████████████████████████████| 61kB 8.4MB/s \n",
            "\u001b[?25hInstalling collected packages: mccabe, isort, typed-ast, lazy-object-proxy, astroid, pylint\n",
            "Successfully installed astroid-2.3.3 isort-4.3.21 lazy-object-proxy-1.4.3 mccabe-0.6.1 pylint-2.4.4 typed-ast-1.4.1\n"
          ],
          "name": "stdout"
        }
      ]
    },
    {
      "cell_type": "code",
      "metadata": {
        "id": "T1KTBfHHgiIT",
        "colab_type": "code",
        "outputId": "c897eefe-da66-4efe-9732-fa8798d7fcff",
        "colab": {
          "base_uri": "https://localhost:8080/",
          "height": 34
        }
      },
      "source": [
        "\n",
        "%%writefile simple1.py\n",
        "a = 1\n",
        "b = 2\n",
        "print(a)\n",
        "print(B)"
      ],
      "execution_count": 0,
      "outputs": [
        {
          "output_type": "stream",
          "text": [
            "Writing simple1.py\n"
          ],
          "name": "stdout"
        }
      ]
    },
    {
      "cell_type": "code",
      "metadata": {
        "id": "E7qZDG6Egqml",
        "colab_type": "code",
        "outputId": "79e8e7ac-e68f-45ee-836d-bcb923baa7c1",
        "colab": {
          "base_uri": "https://localhost:8080/",
          "height": 207
        }
      },
      "source": [
        "! pylint simple1.py"
      ],
      "execution_count": 0,
      "outputs": [
        {
          "output_type": "stream",
          "text": [
            "************* Module simple1\n",
            "simple1.py:4:0: C0304: Final newline missing (missing-final-newline)\n",
            "simple1.py:1:0: C0114: Missing module docstring (missing-module-docstring)\n",
            "simple1.py:1:0: C0103: Constant name \"a\" doesn't conform to UPPER_CASE naming style (invalid-name)\n",
            "simple1.py:2:0: C0103: Constant name \"b\" doesn't conform to UPPER_CASE naming style (invalid-name)\n",
            "simple1.py:4:6: E0602: Undefined variable 'B' (undefined-variable)\n",
            "\n",
            "-------------------------------------\n",
            "Your code has been rated at -12.50/10\n",
            "\n"
          ],
          "name": "stdout"
        }
      ]
    },
    {
      "cell_type": "markdown",
      "metadata": {
        "id": "yMiEPDhiNUIs",
        "colab_type": "text"
      },
      "source": [
        "Pylint first lists some styling issues - it would like to see an extra newline at the end, modules and function definitions should have descriptive docstrings, and single characters are a poor choice for variable names.\n",
        "\n",
        "More importantly, however, pylint identified an error in the program - a variable called before assignment. This needs fixing.\n",
        "\n",
        "Note that pylint scored our program a negative 12.5 out of 10. Let's try to improve that!"
      ]
    },
    {
      "cell_type": "code",
      "metadata": {
        "id": "7HwkjdvRhAX2",
        "colab_type": "code",
        "colab": {}
      },
      "source": [
        "%%writefile simple2.py\n",
        "\"\"\"\n",
        "A very simple script.\n",
        "\"\"\"\n",
        "\n",
        "def myfunc():\n",
        "    \"\"\"\n",
        "    An extremely simple function.\n",
        "    \"\"\"\n",
        "    first = 1\n",
        "    second = 2\n",
        "    print(first)\n",
        "    print(second)\n",
        "\n",
        "myfunc()"
      ],
      "execution_count": 0,
      "outputs": []
    },
    {
      "cell_type": "code",
      "metadata": {
        "id": "DAx7Ubb4hHBp",
        "colab_type": "code",
        "outputId": "3e4680be-2be0-4028-ca13-84b2dae57d4e",
        "colab": {
          "base_uri": "https://localhost:8080/",
          "height": 51
        }
      },
      "source": [
        "! pylint simple2.py"
      ],
      "execution_count": 0,
      "outputs": [
        {
          "output_type": "stream",
          "text": [
            "************* Module simple2.py\n",
            "simple2.py:1:0: F0001: No module named simple2.py (fatal)\n"
          ],
          "name": "stdout"
        }
      ]
    },
    {
      "cell_type": "markdown",
      "metadata": {
        "id": "ziBnixNzNVBQ",
        "colab_type": "text"
      },
      "source": [
        "Much better! Our score climbed to 8.33 out of 10. Unfortunately, the final newline has to do with how jupyter writes to a file, and there's not much we can do about that here. Still, pylint helped us troubleshoot some of our problems. But what if the problem was more complex?"
      ]
    },
    {
      "cell_type": "code",
      "metadata": {
        "id": "RWeZj1pzhL0Q",
        "colab_type": "code",
        "colab": {}
      },
      "source": [
        "%%writefile simple2.py\n",
        "\"\"\"\n",
        "A very simple script.\n",
        "\"\"\"\n",
        "\n",
        "def myfunc():\n",
        "    \"\"\"\n",
        "    An extremely simple function.\n",
        "    \"\"\"\n",
        "    first = 1\n",
        "    second = 2\n",
        "    print(first)\n",
        "    print('second')\n",
        "\n",
        "myfunc()"
      ],
      "execution_count": 0,
      "outputs": []
    },
    {
      "cell_type": "markdown",
      "metadata": {
        "id": "u-zxRhvVhpvy",
        "colab_type": "text"
      },
      "source": [
        "pylint tells us there's an unused variable in line 10, but it doesn't know that we might get an unexpected output from line 12! For this we need a more robust set of tools. That's where unittest comes in.\n",
        "\n",
        "\n",
        "## unittest\n",
        "unittest lets you write your own test programs. The goal is to send a specific set of data to your program, and analyze the returned results against an expected result.\n",
        "\n",
        "Let's generate a simple script that capitalizes words in a given string. We'll call it cap.py.\n"
      ]
    },
    {
      "cell_type": "code",
      "metadata": {
        "id": "dLW799Tnn24n",
        "colab_type": "code",
        "outputId": "4b75fa3e-a1bb-478b-8f37-924510b0280f",
        "colab": {
          "base_uri": "https://localhost:8080/",
          "height": 34
        }
      },
      "source": [
        "\n",
        "%%writefile cap.py\n",
        "def cap_text(text):\n",
        "    return text.capitalize()"
      ],
      "execution_count": 0,
      "outputs": [
        {
          "output_type": "stream",
          "text": [
            "Writing cap.py\n"
          ],
          "name": "stdout"
        }
      ]
    },
    {
      "cell_type": "markdown",
      "metadata": {
        "id": "s3nFmKKZn5QA",
        "colab_type": "text"
      },
      "source": [
        "Overwriting cap.py\n",
        "Now we'll write a test script. We can call it whatever we want, but test_cap.py seems an obvious choice.\n",
        "\n",
        "When writing test functions, it's best to go from simple to complex, as each function will be run in order. Here we'll test simple, one-word strings, followed by a test of multiple word strings."
      ]
    },
    {
      "cell_type": "code",
      "metadata": {
        "id": "MrRmB5MfoFgK",
        "colab_type": "code",
        "outputId": "3a684184-79da-4ada-9e78-28f9994170e9",
        "colab": {
          "base_uri": "https://localhost:8080/",
          "height": 34
        }
      },
      "source": [
        "%%writefile test_cap.py # tests cap.py\n",
        "import unittest\n",
        "import cap #calls cap.py\n",
        "\n",
        "# we inherit from unittest.TestCase\n",
        "class TestCap(unittest.TestCase):\n",
        "    \n",
        "    def test_one_word(self):\n",
        "        text = 'python'\n",
        "        result = cap.cap_text(text)\n",
        "        self.assertEqual(result, 'Python')\n",
        "        \n",
        "    def test_multiple_words(self):\n",
        "        text = 'monty python'\n",
        "        result = cap.cap_text(text)\n",
        "        self.assertEqual(result, 'Monty Python')\n",
        "        \n",
        "if __name__ == '__main__':\n",
        "    unittest.main()\n",
        "\n"
      ],
      "execution_count": 0,
      "outputs": [
        {
          "output_type": "stream",
          "text": [
            "UsageError: unrecognized arguments: # tests cap.py\n"
          ],
          "name": "stderr"
        }
      ]
    },
    {
      "cell_type": "markdown",
      "metadata": {
        "id": "IMJ2lzaZpTHi",
        "colab_type": "text"
      },
      "source": [
        "What happened? It turns out that the .capitalize() method only capitalizes the first letter of the first word in a string. Doing a little research on string methods, we find that .title() might give us what we want."
      ]
    },
    {
      "cell_type": "markdown",
      "metadata": {
        "id": "wul3tYE13mcQ",
        "colab_type": "text"
      },
      "source": [
        "# Iterators and Generators\n",
        "**Generators are best for calculating large sets of results (particularly in calculations that involve loops themselves) in cases where we don’t want to allocate the memory for all of the results at the same time.**\n",
        "\n",
        "There are differences between iteration and generation in Python and how to construct our own Generators with the yield statement. Generators allow us to generate as we go along, instead of holding everything in memory.\n",
        "\n",
        "* built-in Python functions like:\n",
        " * range(), map() and filter().\n",
        "\n",
        "\n",
        "We created functions with def and the return statement. Generator functions allow us to write a function that can send back a value and then later resume to pick up where it left off. This type of function is a generator in Python, allowing us to generate a sequence of values over time. The main difference in syntax will be the use of a yield statement.\n",
        "\n",
        "In most aspects, a generator function will appear very similar to a normal function. The main difference is when a generator function is compiled they become an object that supports an iteration protocol. That means when they are called in your code they don't actually return a value and then exit. Instead, generator functions will automatically suspend and resume their execution and state around the last point of value generation. The main advantage here is that instead of having to compute an entire series of values up front, the generator computes one value and then suspends its activity awaiting the next instruction. This feature is known as state suspension.\n",
        "\n",
        "\n"
      ]
    },
    {
      "cell_type": "code",
      "metadata": {
        "id": "VPsTdAmV7L4K",
        "colab_type": "code",
        "outputId": "3c219f1c-f1c2-46e7-f303-477d32003244",
        "colab": {
          "base_uri": "https://localhost:8080/",
          "height": 187
        }
      },
      "source": [
        "# NOT Memory Efficient!\n",
        "# because we are keepin an entire result[] list in  memory\n",
        "def creat_cubes(n):\n",
        "    result=[]\n",
        "    for x in range(n):\n",
        "        result.append(x**3)\n",
        "    return result\n",
        "\n",
        "\n",
        "\n",
        "for x in creat_cubes(10):\n",
        "    print(x)"
      ],
      "execution_count": 0,
      "outputs": [
        {
          "output_type": "stream",
          "text": [
            "0\n",
            "1\n",
            "8\n",
            "27\n",
            "64\n",
            "125\n",
            "216\n",
            "343\n",
            "512\n",
            "729\n"
          ],
          "name": "stdout"
        }
      ]
    },
    {
      "cell_type": "code",
      "metadata": {
        "id": "y8C7joSR7oMn",
        "colab_type": "code",
        "outputId": "5be4f1dd-6c7d-428d-85fe-0a929b7b47bf",
        "colab": {
          "base_uri": "https://localhost:8080/",
          "height": 187
        }
      },
      "source": [
        "#USE YIELD TO BE MIORE MEMORY EFFICIENT\n",
        "def creat_cubes(n):\n",
        "\n",
        "    for x in range(n):\n",
        "        yield x**3\n",
        "\n",
        "for x in creat_cubes(10):\n",
        "    print(x)\n",
        "\n",
        "# if you needed a list you can still make it\n",
        "list(creat_cubes(10))"
      ],
      "execution_count": 0,
      "outputs": [
        {
          "output_type": "stream",
          "text": [
            "0\n",
            "1\n",
            "8\n",
            "27\n",
            "64\n",
            "125\n",
            "216\n",
            "343\n",
            "512\n",
            "729\n"
          ],
          "name": "stdout"
        }
      ]
    },
    {
      "cell_type": "markdown",
      "metadata": {
        "id": "wsM8ulC9Dy4X",
        "colab_type": "text"
      },
      "source": [
        "LIST and/or FOR LOOP helps seeing the output of the GENERATOR without having to type NEXT() statement to itterate through it."
      ]
    },
    {
      "cell_type": "code",
      "metadata": {
        "id": "OpG2GHLADXqV",
        "colab_type": "code",
        "outputId": "9564efac-f52e-4678-c3ca-fe48a5da4408",
        "colab": {
          "base_uri": "https://localhost:8080/",
          "height": 204
        }
      },
      "source": [
        "def sqgenerator(N):\n",
        "    for i in range(N):\n",
        "        yield i**2\n",
        "\n",
        "for x in sqgenerator(10):\n",
        "    print(x)\n",
        "\n",
        "\n",
        "list(sqgenerator(10))"
      ],
      "execution_count": 0,
      "outputs": [
        {
          "output_type": "stream",
          "text": [
            "0\n",
            "1\n",
            "4\n",
            "9\n",
            "16\n",
            "25\n",
            "36\n",
            "49\n",
            "64\n",
            "81\n"
          ],
          "name": "stdout"
        },
        {
          "output_type": "execute_result",
          "data": {
            "text/plain": [
              "[0, 1, 4, 9, 16, 25, 36, 49, 64, 81]"
            ]
          },
          "metadata": {
            "tags": []
          },
          "execution_count": 34
        }
      ]
    },
    {
      "cell_type": "code",
      "metadata": {
        "id": "zietnTsMEL5-",
        "colab_type": "code",
        "outputId": "039ec697-4f0d-411f-ef61-980e067329b2",
        "colab": {
          "base_uri": "https://localhost:8080/",
          "height": 425
        }
      },
      "source": [
        "# make generator for random numbers\n",
        "import random\n",
        "random.randint(1,10) #randint(a,b) range[a,b]\n",
        "\n",
        "\n",
        "'''\n",
        "Create a generator that yields \"N\" random numbers between a,b\n",
        "'''\n",
        "def rand_num(a,b,n):\n",
        "    for i in range(n):\n",
        "        yield random.randint(a,b)\n",
        "for num in rand_num(1,10,12):\n",
        "    print(f\"{num} \\n\")\n"
      ],
      "execution_count": 0,
      "outputs": [
        {
          "output_type": "stream",
          "text": [
            "8 \n",
            "\n",
            "5 \n",
            "\n",
            "5 \n",
            "\n",
            "7 \n",
            "\n",
            "10 \n",
            "\n",
            "9 \n",
            "\n",
            "5 \n",
            "\n",
            "9 \n",
            "\n",
            "4 \n",
            "\n",
            "2 \n",
            "\n",
            "3 \n",
            "\n",
            "8 \n",
            "\n"
          ],
          "name": "stdout"
        }
      ]
    },
    {
      "cell_type": "code",
      "metadata": {
        "id": "9A1Pr3vJGRpd",
        "colab_type": "code",
        "outputId": "6b369e5b-979c-46ed-af3a-a64990fec89e",
        "colab": {
          "base_uri": "https://localhost:8080/",
          "height": 102
        }
      },
      "source": [
        "#convert string from itterable to an itterator\n",
        "s=\"hello\"\n",
        "s=iter(s)\n",
        "print(next(s))\n",
        "print(next(s))\n",
        "print(next(s))\n",
        "print(next(s))\n",
        "print(next(s))"
      ],
      "execution_count": 0,
      "outputs": [
        {
          "output_type": "stream",
          "text": [
            "h\n",
            "e\n",
            "l\n",
            "l\n",
            "o\n"
          ],
          "name": "stdout"
        }
      ]
    },
    {
      "cell_type": "markdown",
      "metadata": {
        "id": "elm6j3DYG0IY",
        "colab_type": "text"
      },
      "source": [
        "# GenComp: Generator compression\n",
        "\n",
        "It is similar to list comprehension but instead of creating a list in memory it is going to generate it and all you need to do is to  itterate through your generator and not save all of this into the memory!\n",
        "\n",
        "\n"
      ]
    },
    {
      "cell_type": "code",
      "metadata": {
        "id": "pyy6sm7OGzjy",
        "colab_type": "code",
        "outputId": "9ed1e06d-c8e8-43e0-ea75-56b6773b3e97",
        "colab": {
          "base_uri": "https://localhost:8080/",
          "height": 51
        }
      },
      "source": [
        "my_list=[1,2,3,4,5]\n",
        "\n",
        "gencomp = (item for item in my_list if item >3 )\n",
        "\n",
        "for item in gencomp:\n",
        "    print(item)"
      ],
      "execution_count": 0,
      "outputs": [
        {
          "output_type": "stream",
          "text": [
            "4\n",
            "5\n"
          ],
          "name": "stdout"
        }
      ]
    },
    {
      "cell_type": "markdown",
      "metadata": {
        "id": "pW28v9ZfIKeJ",
        "colab_type": "text"
      },
      "source": [
        "# Advanced Python Modules\n",
        "\n",
        "\n",
        "\n",
        "\n",
        "\n",
        "\n",
        "\n",
        "\n",
        "\n",
        "\n",
        "\n",
        "\n",
        "\n",
        "\n",
        "\n"
      ]
    },
    {
      "cell_type": "markdown",
      "metadata": {
        "id": "7l_WnfY7LJ0a",
        "colab_type": "text"
      },
      "source": [
        "### Collections Module\n",
        "\n",
        "The collections module is a built-in module that implements specialized container data types providing alternatives to Python’s general purpose built-in containers. We've already gone over the basics: dict, list, set, and tuple.\n",
        "\n",
        "Now we'll learn about the alternatives that the collections module provides."
      ]
    },
    {
      "cell_type": "code",
      "metadata": {
        "id": "CcIMHutDFJfx",
        "colab_type": "code",
        "outputId": "7ea2dcc0-9650-407c-a0f3-4a7d876526d7",
        "colab": {
          "base_uri": "https://localhost:8080/",
          "height": 187
        }
      },
      "source": [
        "#Counter\n",
        "from collections import Counter\n",
        "# Bellow it counts number of repeated in a list and acts as a dictionary\n",
        "L=[1,1,1,2,2,2,333,3,3,3,]\n",
        "Counter(L)\n",
        "#output: Counter({1: 3, 2: 3, 3: 3, 333: 1})\n",
        "\n",
        "# Bellow it counts number of repeated in a string and acts as a dictionary\n",
        "\n",
        "s='asshehhrjekksbbsbbbebe'\n",
        "Counter(s)\n",
        "#output: Counter({'a': 1, 'b': 6, 'e': 4, 'h': 3, 'j': 1, 'k': 2, 'r': 1, 's': 4})\n",
        "\n",
        "\n",
        "sentence=\"How many times words repeat in this sentece? word word show!\"\n",
        "\n",
        "words=sentence.split()\n",
        "Counter(words)\n",
        "# Counter({'How': 1,\n",
        "        #  'in': 1,\n",
        "        #  'many': 1,\n",
        "        #  'repeat': 1,\n",
        "        #  'sentece?': 1,\n",
        "        #  'show!': 1,\n",
        "        #  'this': 1,\n",
        "        #  'times': 1,\n",
        "        #  'word': 2,\n",
        "        #  'words': 1})\n"
      ],
      "execution_count": 0,
      "outputs": [
        {
          "output_type": "execute_result",
          "data": {
            "text/plain": [
              "Counter({'How': 1,\n",
              "         'in': 1,\n",
              "         'many': 1,\n",
              "         'repeat': 1,\n",
              "         'sentece?': 1,\n",
              "         'show!': 1,\n",
              "         'this': 1,\n",
              "         'times': 1,\n",
              "         'word': 2,\n",
              "         'words': 1})"
            ]
          },
          "metadata": {
            "tags": []
          },
          "execution_count": 61
        }
      ]
    },
    {
      "cell_type": "code",
      "metadata": {
        "id": "wPsE00j4MnEW",
        "colab_type": "code",
        "outputId": "77326bea-e421-4ec2-d595-633a6879b2a8",
        "colab": {
          "base_uri": "https://localhost:8080/",
          "height": 34
        }
      },
      "source": [
        "sentence=\"How many times words repeat in this sentece? word word show!\"\n",
        "\n",
        "words=sentence.split()\n",
        "c = Counter(words)\n",
        "c.most_common(3) #top three most common\n",
        "[('word', 2), ('How', 1), ('many', 1)]\n",
        "sum(c.values)"
      ],
      "execution_count": 0,
      "outputs": [
        {
          "output_type": "execute_result",
          "data": {
            "text/plain": [
              "[('word', 2), ('How', 1), ('many', 1)]"
            ]
          },
          "metadata": {
            "tags": []
          },
          "execution_count": 62
        }
      ]
    },
    {
      "cell_type": "markdown",
      "metadata": {
        "id": "vSOx8KbyLJeR",
        "colab_type": "text"
      },
      "source": [
        "\n",
        "\n",
        "\n",
        "**Common patterns when using the Counter() object**\n",
        "\n",
        "Counter is a dictionary so you can use all these that can be used in dicts\n",
        "\n",
        "\n",
        "```\n",
        "sum(c.values())                 # total of all counts\n",
        "c.clear()                       # \n",
        "\n",
        "1.   List item\n",
        "2.   List item\n",
        "\n",
        "reset all counts\n",
        "list(c)                         # list unique elements\n",
        "set(c)                          # convert to a set\n",
        "dict(c)                         # convert to a regular dictionary\n",
        "c.items()                       # convert to a list of (elem, cnt) pairs\n",
        "Counter(dict(list_of_pairs))    # convert from a list of (elem, cnt) pairs\n",
        "c.most_common()[:-n-1:-1]       # n least common elements\n",
        "c += Counter()                  # remove zero and negative counts\n",
        "\n",
        "\n",
        "```"
      ]
    },
    {
      "cell_type": "markdown",
      "metadata": {
        "id": "q9Rqq4ziOlsf",
        "colab_type": "text"
      },
      "source": [
        "#defaultdict\n",
        "defaultdict is a dictionary-like object which provides all methods provided by a dictionary but takes a first argument (default_factory) as a default data type for the dictionary. Using defaultdict is faster than doing the same using dict.set_default method.\n",
        "\n",
        "Unline norml dictionaries, the default dict doesn't give you error whenyou request for a key not present in your dictionary"
      ]
    },
    {
      "cell_type": "code",
      "metadata": {
        "id": "8BrVsC3IO0Mn",
        "colab_type": "code",
        "outputId": "5e747751-e1c2-4691-b6e9-0e8b6fff4765",
        "colab": {
          "base_uri": "https://localhost:8080/",
          "height": 34
        }
      },
      "source": [
        "from collections import defaultdict\n",
        "\n",
        "## Normal dict\n",
        "# d={'k1':1}\n",
        "# d['k2'] : Error!: d['k2']=\n",
        "\n",
        "d = defaultdict(object)\n",
        "d[\"one\"]\n",
        "d[\"two\"]=3\n",
        "d\n",
        "                                                                                           "
      ],
      "execution_count": 0,
      "outputs": [
        {
          "output_type": "execute_result",
          "data": {
            "text/plain": [
              "defaultdict(object, {'one': <object at 0x7f61bb428e30>, 'two': 3})"
            ]
          },
          "metadata": {
            "tags": []
          },
          "execution_count": 67
        }
      ]
    },
    {
      "cell_type": "markdown",
      "metadata": {
        "id": "NXQzImGoRD7y",
        "colab_type": "text"
      },
      "source": [
        "#Ordered dict\n",
        "A normal Dict is only a mapping and doesn't retain the order of the keys"
      ]
    },
    {
      "cell_type": "code",
      "metadata": {
        "id": "zZsyB8cPQa2X",
        "colab_type": "code",
        "outputId": "eedef605-2dc0-472b-e7b9-eeee809f0f96",
        "colab": {
          "base_uri": "https://localhost:8080/",
          "height": 119
        }
      },
      "source": [
        "from collections import OrderedDict\n",
        "d={}\n",
        "d['a'],d['b'],d['c'], d['d'],d['e'] = 1,2,3,4,5\n"
      ],
      "execution_count": 0,
      "outputs": [
        {
          "output_type": "stream",
          "text": [
            "a 1\n",
            "b 2\n",
            "c 3\n",
            "d 4\n",
            "e 5\n"
          ],
          "name": "stdout"
        },
        {
          "output_type": "execute_result",
          "data": {
            "text/plain": [
              "True"
            ]
          },
          "metadata": {
            "tags": []
          },
          "execution_count": 80
        }
      ]
    },
    {
      "cell_type": "code",
      "metadata": {
        "id": "SP_DZ476Rwy_",
        "colab_type": "code",
        "outputId": "966e9139-94b3-4ac8-d745-83576055cd6f",
        "colab": {
          "base_uri": "https://localhost:8080/",
          "height": 102
        }
      },
      "source": [
        "from collections import OrderedDict\n",
        "\n",
        "d = OrderedDict()\n",
        "d['a'],d['b'],d['c'], d['d'],d['e'] = 1,2,3,4,5\n",
        "\n",
        "for k,v in d.items(): #the order is retained\n",
        "    print(k,v)\n",
        "\n"
      ],
      "execution_count": 0,
      "outputs": [
        {
          "output_type": "stream",
          "text": [
            "a 1\n",
            "b 2\n",
            "c 3\n",
            "d 4\n",
            "e 5\n"
          ],
          "name": "stdout"
        }
      ]
    },
    {
      "cell_type": "code",
      "metadata": {
        "id": "IN0_e1QOT6uU",
        "colab_type": "code",
        "outputId": "92dc5f94-6b8e-4306-929e-fe841f918eb8",
        "colab": {
          "base_uri": "https://localhost:8080/",
          "height": 119
        }
      },
      "source": [
        "############ Order doesn't matter - Default dict####################\n",
        "from collections import defaultdict\n",
        "\n",
        "d1,d2= defaultdict(),defaultdict()\n",
        "\n",
        "d1['a']=2\n",
        "d1['b']=1\n",
        "\n",
        "d2['b']=1\n",
        "d2['a']=2\n",
        "\n",
        "d1==d2 #True\n",
        "\n",
        "############ Order doesn't matter - Normal dict ####################\n",
        "#{'a': 1, 'b': 2, 'c': 3}\n",
        "for k,v in d.items():\n",
        "    print(k,v)\n",
        "\n",
        "d1,d2={},{}\n",
        "d1['a']=1\n",
        "d1['b']=2\n",
        "\n",
        "d2['b']=2\n",
        "d2['a']=1\n",
        "\n",
        "d1==d2 #True\n",
        "\n",
        "############ Order of filling dictionary MATTERS! OrderedDict ####################\n",
        "\n",
        "from collections import OrderedDict\n",
        "\n",
        "d1,d2= OrderedDict(),OrderedDict()\n",
        "\n",
        "d1['a']=2\n",
        "d1['b']=1\n",
        "\n",
        "d2['b']=1\n",
        "d2['a']=2\n",
        "\n",
        "d1==d2 #FALSE!"
      ],
      "execution_count": 0,
      "outputs": [
        {
          "output_type": "stream",
          "text": [
            "a 1\n",
            "b 2\n",
            "c 3\n",
            "d 4\n",
            "e 5\n"
          ],
          "name": "stdout"
        },
        {
          "output_type": "execute_result",
          "data": {
            "text/plain": [
              "False"
            ]
          },
          "metadata": {
            "tags": []
          },
          "execution_count": 83
        }
      ]
    },
    {
      "cell_type": "markdown",
      "metadata": {
        "id": "4ZSgAC6DUtRo",
        "colab_type": "text"
      },
      "source": [
        "#named tuple\n",
        "\n",
        "it assigns names as well as numerical index to eaach member of the tuple\n"
      ]
    },
    {
      "cell_type": "code",
      "metadata": {
        "id": "jkCa9G9sUxgn",
        "colab_type": "code",
        "outputId": "13799e11-1a11-4075-f4f3-455187ccf28c",
        "colab": {
          "base_uri": "https://localhost:8080/",
          "height": 34
        }
      },
      "source": [
        "# norml tuple\n",
        "t=(1,2,3)\n",
        "t[0]"
      ],
      "execution_count": 0,
      "outputs": [
        {
          "output_type": "execute_result",
          "data": {
            "text/plain": [
              "1"
            ]
          },
          "metadata": {
            "tags": []
          },
          "execution_count": 84
        }
      ]
    },
    {
      "cell_type": "code",
      "metadata": {
        "id": "_umeDMmSVJEJ",
        "colab_type": "code",
        "outputId": "95ef23ea-003d-486c-ff37-34cf820a7d89",
        "colab": {
          "base_uri": "https://localhost:8080/",
          "height": 34
        }
      },
      "source": [
        "from collections import namedtuple\n",
        "\n",
        "Dog = namedtuple('Dog','age breed name')\n",
        "Cat = namedtuple('Cat','fur claws name')\n",
        "\n",
        "sam =Dog(age=2, breed='Lab', name='Sammy')\n",
        "sam.age # 2\n",
        "sam.breed #Lab\n",
        "sam.name  #sammy\n",
        "sam.index('Sammy') #2\n",
        "sam.index('Lab') #1\n",
        "sam.index(2) #0\n",
        "sam.count('2') #0\n",
        "sam.count(2) #1\n",
        "sam.count('Lab') #1\n",
        "\n",
        "\n",
        "c=Cat(fur= 'Fuzzy', claws=False, name='Kitty')\n",
        "c.name # 'Kitty'\n",
        "c[2] #'Kitty'\n",
        "\n",
        "\n",
        "\n",
        "\n",
        "\n"
      ],
      "execution_count": 0,
      "outputs": [
        {
          "output_type": "execute_result",
          "data": {
            "text/plain": [
              "'Kitty'"
            ]
          },
          "metadata": {
            "tags": []
          },
          "execution_count": 112
        }
      ]
    },
    {
      "cell_type": "markdown",
      "metadata": {
        "id": "nmQoJRkoZZ87",
        "colab_type": "text"
      },
      "source": [
        "#datetime module\n"
      ]
    },
    {
      "cell_type": "code",
      "metadata": {
        "id": "KIeO6d2GZdSR",
        "colab_type": "code",
        "outputId": "741607d0-852e-433a-eabd-0c82d750b529",
        "colab": {
          "base_uri": "https://localhost:8080/",
          "height": 170
        }
      },
      "source": [
        "import datetime\n",
        "\n",
        "t = datetime.time(4, 20, 1)\n",
        "\n",
        "# Let's show the different components\n",
        "print(t)\n",
        "print('hour  :', t.hour)\n",
        "print('minute:', t.minute)\n",
        "print('second:', t.second)\n",
        "print('microsecond:', t.microsecond)\n",
        "print('tzinfo:', t.tzinfo)\n",
        "\n",
        "print('Earliest  :', datetime.time.min)\n",
        "print('Latest    :', datetime.time.max)\n",
        "print('Resolution:', datetime.time.resolution)"
      ],
      "execution_count": 0,
      "outputs": [
        {
          "output_type": "stream",
          "text": [
            "05:25:02\n",
            "00:00:00\n",
            "23:59:59.999999\n",
            "0:00:00.000001\n",
            "2020-02-10\n",
            "2020\n",
            "0001-01-01\n",
            "9999-12-31\n",
            "1 day, 0:00:00\n"
          ],
          "name": "stdout"
        }
      ]
    },
    {
      "cell_type": "code",
      "metadata": {
        "id": "CpWrCrKvfPuN",
        "colab_type": "code",
        "colab": {}
      },
      "source": [
        "today = datetime.date.today()\n",
        "print(today)\n",
        "print('ctime:', today.ctime())\n",
        "print('tuple:', today.timetuple())\n",
        "print('ordinal:', today.toordinal())\n",
        "print('Year :', today.year)\n",
        "print('Month:', today.month)\n",
        "print('Day  :', today.day)\n",
        "\n",
        "\n",
        "print('Earliest  :', datetime.date.min)\n",
        "print('Latest    :', datetime.date.max)\n",
        "print('Resolution:', datetime.date.resolution)\n"
      ],
      "execution_count": 0,
      "outputs": []
    },
    {
      "cell_type": "code",
      "metadata": {
        "id": "01fPqg1ofRro",
        "colab_type": "code",
        "colab": {}
      },
      "source": [
        "d1 = datetime.date(2015, 3, 11)\n",
        "print('d1:', d1)\n",
        "\n",
        "d2 = d1.replace(year=1990)\n",
        "print('d2:', d2)\n",
        "\n",
        "\n",
        "print('d1-d2', d1-d2)"
      ],
      "execution_count": 0,
      "outputs": []
    },
    {
      "cell_type": "markdown",
      "metadata": {
        "id": "CG8hJRVbfUBl",
        "colab_type": "text"
      },
      "source": [
        "#list min max sum"
      ]
    },
    {
      "cell_type": "code",
      "metadata": {
        "id": "bAoYZZTSanjL",
        "colab_type": "code",
        "outputId": "7017702a-a341-4eb5-ce0c-b3c67ba495fa",
        "colab": {
          "base_uri": "https://localhost:8080/",
          "height": 34
        }
      },
      "source": [
        "l=[11,3,2,30]\n",
        "min(l)\n",
        "sum(l)\n",
        "max(l)"
      ],
      "execution_count": 0,
      "outputs": [
        {
          "output_type": "execute_result",
          "data": {
            "text/plain": [
              "30"
            ]
          },
          "metadata": {
            "tags": []
          },
          "execution_count": 123
        }
      ]
    },
    {
      "cell_type": "markdown",
      "metadata": {
        "id": "6rd_XLhtfacS",
        "colab_type": "text"
      },
      "source": [
        "# Python Debugger (PDB)\n",
        "\n",
        "You've probably used a variety of print statements to try to find errors in your code. A better way of doing this is by using Python's built-in debugger module (pdb). The pdb module implements an interactive debugging environment for Python programs. It includes features to let you pause your program, look at the values of variables, and watch program execution step-by-step, so you can understand what your program actually does and find bugs in the logic.\n",
        "\n",
        "This is a bit difficult to show since it requires creating an error on purpose, but hopefully this simple example illustrates the power of the pdb module.\n",
        "Note: Keep in mind it would be pretty unusual to use pdb in an iPython Notebook setting.\n",
        "\n",
        "\n",
        "\n",
        "\n"
      ]
    },
    {
      "cell_type": "code",
      "metadata": {
        "id": "vSKjtqQnfgfo",
        "colab_type": "code",
        "outputId": "1993e317-dec0-4bad-be22-f5351fc55194",
        "colab": {
          "base_uri": "https://localhost:8080/",
          "height": 460
        }
      },
      "source": [
        "import pdb\n",
        "\n",
        "x = [1,3,4]\n",
        "y = 2\n",
        "z = 3\n",
        "\n",
        "result = y + z\n",
        "print(result)\n",
        "\n",
        "pdb.set_trace() # put it before error, press \"q\" to quit \n",
        "\n",
        "#Error result2 = y+x\n",
        "#print(result2)\n",
        "\n"
      ],
      "execution_count": 0,
      "outputs": [
        {
          "output_type": "stream",
          "text": [
            "5\n",
            "--Return--\n",
            "> <ipython-input-137-e9cff1a5e62b>(10)<module>()->None\n",
            "-> pdb.set_trace() # put it before error, press \"q\" to quit\n",
            "(Pdb) q\n"
          ],
          "name": "stdout"
        },
        {
          "output_type": "error",
          "ename": "BdbQuit",
          "evalue": "ignored",
          "traceback": [
            "\u001b[0;31m---------------------------------------------------------------------------\u001b[0m",
            "\u001b[0;31mBdbQuit\u001b[0m                                   Traceback (most recent call last)",
            "\u001b[0;32m<ipython-input-137-e9cff1a5e62b>\u001b[0m in \u001b[0;36m<module>\u001b[0;34m()\u001b[0m\n\u001b[1;32m      8\u001b[0m \u001b[0mprint\u001b[0m\u001b[0;34m(\u001b[0m\u001b[0mresult\u001b[0m\u001b[0;34m)\u001b[0m\u001b[0;34m\u001b[0m\u001b[0;34m\u001b[0m\u001b[0m\n\u001b[1;32m      9\u001b[0m \u001b[0;34m\u001b[0m\u001b[0m\n\u001b[0;32m---> 10\u001b[0;31m \u001b[0mpdb\u001b[0m\u001b[0;34m.\u001b[0m\u001b[0mset_trace\u001b[0m\u001b[0;34m(\u001b[0m\u001b[0;34m)\u001b[0m \u001b[0;31m# put it before error, press \"q\" to quit\u001b[0m\u001b[0;34m\u001b[0m\u001b[0;34m\u001b[0m\u001b[0m\n\u001b[0m\u001b[1;32m     11\u001b[0m \u001b[0;34m\u001b[0m\u001b[0m\n\u001b[1;32m     12\u001b[0m \u001b[0;31m#Error result2 = y+x\u001b[0m\u001b[0;34m\u001b[0m\u001b[0;34m\u001b[0m\u001b[0;34m\u001b[0m\u001b[0m\n",
            "\u001b[0;32m/usr/lib/python3.6/bdb.py\u001b[0m in \u001b[0;36mtrace_dispatch\u001b[0;34m(self, frame, event, arg)\u001b[0m\n\u001b[1;32m     53\u001b[0m             \u001b[0;32mreturn\u001b[0m \u001b[0mself\u001b[0m\u001b[0;34m.\u001b[0m\u001b[0mdispatch_call\u001b[0m\u001b[0;34m(\u001b[0m\u001b[0mframe\u001b[0m\u001b[0;34m,\u001b[0m \u001b[0marg\u001b[0m\u001b[0;34m)\u001b[0m\u001b[0;34m\u001b[0m\u001b[0;34m\u001b[0m\u001b[0m\n\u001b[1;32m     54\u001b[0m         \u001b[0;32mif\u001b[0m \u001b[0mevent\u001b[0m \u001b[0;34m==\u001b[0m \u001b[0;34m'return'\u001b[0m\u001b[0;34m:\u001b[0m\u001b[0;34m\u001b[0m\u001b[0;34m\u001b[0m\u001b[0m\n\u001b[0;32m---> 55\u001b[0;31m             \u001b[0;32mreturn\u001b[0m \u001b[0mself\u001b[0m\u001b[0;34m.\u001b[0m\u001b[0mdispatch_return\u001b[0m\u001b[0;34m(\u001b[0m\u001b[0mframe\u001b[0m\u001b[0;34m,\u001b[0m \u001b[0marg\u001b[0m\u001b[0;34m)\u001b[0m\u001b[0;34m\u001b[0m\u001b[0;34m\u001b[0m\u001b[0m\n\u001b[0m\u001b[1;32m     56\u001b[0m         \u001b[0;32mif\u001b[0m \u001b[0mevent\u001b[0m \u001b[0;34m==\u001b[0m \u001b[0;34m'exception'\u001b[0m\u001b[0;34m:\u001b[0m\u001b[0;34m\u001b[0m\u001b[0;34m\u001b[0m\u001b[0m\n\u001b[1;32m     57\u001b[0m             \u001b[0;32mreturn\u001b[0m \u001b[0mself\u001b[0m\u001b[0;34m.\u001b[0m\u001b[0mdispatch_exception\u001b[0m\u001b[0;34m(\u001b[0m\u001b[0mframe\u001b[0m\u001b[0;34m,\u001b[0m \u001b[0marg\u001b[0m\u001b[0;34m)\u001b[0m\u001b[0;34m\u001b[0m\u001b[0;34m\u001b[0m\u001b[0m\n",
            "\u001b[0;32m/usr/lib/python3.6/bdb.py\u001b[0m in \u001b[0;36mdispatch_return\u001b[0;34m(self, frame, arg)\u001b[0m\n\u001b[1;32m     97\u001b[0m             \u001b[0;32mfinally\u001b[0m\u001b[0;34m:\u001b[0m\u001b[0;34m\u001b[0m\u001b[0;34m\u001b[0m\u001b[0m\n\u001b[1;32m     98\u001b[0m                 \u001b[0mself\u001b[0m\u001b[0;34m.\u001b[0m\u001b[0mframe_returning\u001b[0m \u001b[0;34m=\u001b[0m \u001b[0;32mNone\u001b[0m\u001b[0;34m\u001b[0m\u001b[0;34m\u001b[0m\u001b[0m\n\u001b[0;32m---> 99\u001b[0;31m             \u001b[0;32mif\u001b[0m \u001b[0mself\u001b[0m\u001b[0;34m.\u001b[0m\u001b[0mquitting\u001b[0m\u001b[0;34m:\u001b[0m \u001b[0;32mraise\u001b[0m \u001b[0mBdbQuit\u001b[0m\u001b[0;34m\u001b[0m\u001b[0;34m\u001b[0m\u001b[0m\n\u001b[0m\u001b[1;32m    100\u001b[0m             \u001b[0;31m# The user issued a 'next' or 'until' command.\u001b[0m\u001b[0;34m\u001b[0m\u001b[0;34m\u001b[0m\u001b[0;34m\u001b[0m\u001b[0m\n\u001b[1;32m    101\u001b[0m             \u001b[0;32mif\u001b[0m \u001b[0mself\u001b[0m\u001b[0;34m.\u001b[0m\u001b[0mstopframe\u001b[0m \u001b[0;32mis\u001b[0m \u001b[0mframe\u001b[0m \u001b[0;32mand\u001b[0m \u001b[0mself\u001b[0m\u001b[0;34m.\u001b[0m\u001b[0mstoplineno\u001b[0m \u001b[0;34m!=\u001b[0m \u001b[0;34m-\u001b[0m\u001b[0;36m1\u001b[0m\u001b[0;34m:\u001b[0m\u001b[0;34m\u001b[0m\u001b[0;34m\u001b[0m\u001b[0m\n",
            "\u001b[0;31mBdbQuit\u001b[0m: "
          ]
        }
      ]
    },
    {
      "cell_type": "markdown",
      "metadata": {
        "id": "wGkoXZ-dhBh7",
        "colab_type": "text"
      },
      "source": [
        "#timing your code - timeit\n"
      ]
    },
    {
      "cell_type": "code",
      "metadata": {
        "id": "7NIrDDiqhFRJ",
        "colab_type": "code",
        "outputId": "05be4b93-6779-4ba2-9ffc-68b83ae250fc",
        "colab": {
          "base_uri": "https://localhost:8080/",
          "height": 34
        }
      },
      "source": [
        "'''\n",
        "creat this string and time it\n",
        "\n",
        "0-1-2-3-...,99\n",
        "\n",
        "'''\n",
        "\n",
        "# For loop\n",
        "timeit.timeit('\"-\".join(str(n) for n in range(100))', number=10000)\n",
        "#0.21865416520477374\n",
        "In [3]:\n",
        "# List comprehension\n",
        "timeit.timeit('\"-\".join([str(n) for n in range(100)])', number=10000)\n",
        "# 0.19484614421698643\n",
        "In [4]:\n",
        "# Map()\n",
        "timeit.timeit('\"-\".join(map(str, range(100)))', number=10000)\n",
        "Out[4]:\n",
        "0.15291817337139246"
      ],
      "execution_count": 0,
      "outputs": [
        {
          "output_type": "execute_result",
          "data": {
            "text/plain": [
              "2.5783022020004864"
            ]
          },
          "metadata": {
            "tags": []
          },
          "execution_count": 138
        }
      ]
    },
    {
      "cell_type": "markdown",
      "metadata": {
        "id": "l6ebGfYrj1pH",
        "colab_type": "text"
      },
      "source": [
        "Let's repeat the above examinations using iPython magic!\n"
      ]
    },
    {
      "cell_type": "code",
      "metadata": {
        "id": "JSWj9vb6khKk",
        "colab_type": "code",
        "outputId": "4a88c233-0a44-4180-cc32-3a9991266bee",
        "colab": {
          "base_uri": "https://localhost:8080/",
          "height": 68
        }
      },
      "source": [
        "# This is formatted as code\n",
        "\n",
        "%timeit \"-\".join(str(n) for n in range(100))\n",
        "#20.4 µs ± 269 ns per loop (mean ± std. dev. of 7 runs, 10000 loops each)\n",
        "\n",
        "%timeit \"-\".join([str(n) for n in range(100)])\n",
        "#18.1 µs ± 56.2 ns per loop (mean ± std. dev. of 7 runs, 100000 loops each)\n",
        "\n",
        "%timeit \"-\".join(map(str, range(100)))\n",
        "#14.4 µs ± 64.1 ns per loop (mean ± std. dev. of 7 runs, 100000 loops each)\n"
      ],
      "execution_count": 0,
      "outputs": [
        {
          "output_type": "stream",
          "text": [
            "10000 loops, best of 3: 22.9 µs per loop\n",
            "10000 loops, best of 3: 20.6 µs per loop\n",
            "100000 loops, best of 3: 14.4 µs per loop\n"
          ],
          "name": "stdout"
        }
      ]
    },
    {
      "cell_type": "markdown",
      "metadata": {
        "id": "Cd12I5WZkJiU",
        "colab_type": "text"
      },
      "source": [
        "## Regular Expressions regexp regex\n",
        "\n",
        "**************************\n",
        "\n",
        "[link for more](https://www.tutorialspoint.com/python/python_reg_expressions.htm)\n",
        "\n",
        "[full doc](https://docs.python.org/3/library/re.html#regular-expression-syntax)\n",
        "\n",
        "### import re\n",
        "* re.findall(A, B) | Matches all instances of an expression A in a string B and returns them in a list.\n",
        "\n",
        "* re.search(A, B) | Matches the first instance of an expression A in a string B, and returns it as a re match object.\n",
        "\n",
        "* re.split(A, B) | Split a string B into a list using the delimiter A.\n",
        "\n",
        "* re.sub(A, B, C) | Replace A with B in the string C.\n",
        "\n",
        "****************************\n",
        "\n",
        "\n",
        "\n",
        "```\n",
        ".\tAny character except newline\n",
        "a\tThe character a\n",
        "ab\tThe string ab\n",
        "a|b\ta or b\n",
        "a*\t0 or more a's\n",
        "\\\tEscapes a special character\n",
        "\n",
        "\n",
        "*\t0 or more\n",
        "+\t1 or more\n",
        "?\t0 or 1\n",
        "{2}\tExactly 2\n",
        "{2, 5}\tBetween 2 and 5\n",
        "{2,}\t2 or more\n",
        "(,5}\tUp to 5\n",
        "\n",
        "\n",
        "ab-d]\tOne character of: a, b, c, d\n",
        "[^ab-d]\tOne character except: a, b, c, d\n",
        "[\\b]\tBackspace character\n",
        "\\d\tOne digit\n",
        "\\D\tOne non-digit\n",
        "\\s\tOne whitespace\n",
        "\\S\tOne non-whitespace\n",
        "\\w\tOne word character\n",
        "\\W\tOne non-word character\n",
        "\n",
        "\n",
        "^\tStart of string\n",
        "\\A\tStart of string, ignores m flag\n",
        "$\tEnd of string\n",
        "\\Z\tEnd of string, ignores m flag\n",
        "\\b\tWord boundary\n",
        "\\B\tNon-word boundary\n",
        "(?=...)\tPositive lookahead\n",
        "(?!...)\tNegative lookahead\n",
        "(?<=...)\tPositive lookbehind\n",
        "(?<!...)\tNegative lookbehind\n",
        "(?()|)\tConditional\n",
        "\n",
        "\n",
        "i\tIgnore case\n",
        "m\t^ and $ match start and end of line\n",
        "s\t. matches newline as well\n",
        "x\tAllow spaces and comments\n",
        "\n",
        "\n",
        "\\n\tNewline\n",
        "\\r\tCarriage return\n",
        "\\t\tTab\n",
        "\n",
        "```\n",
        "*****************************\n",
        "\n",
        "```\n",
        "examples\n",
        "'abc'                 # Matches the literal 'abc'\n",
        "r'\\w+'                # Matches a word\n",
        "r'\\d+\\s\\w+'           # Matches '1555 dogs'\n",
        "r'\\d+-\\d+-\\d+\\s.+'    # Matches '2005-12-05 Jons birthday'\n",
        "r'\\s+'                # Matches any number of whitespace\n",
        "\n",
        "[a-z0-9] | Matches characters from a to z and also from 0 to 9.\n",
        "[a-z] | Matches any alphabet from a to z.\n",
        "[amk] | Matches either a, m, or k. It does not match amk.\n",
        "```\n",
        "Regular expressions are text-matching \n",
        "patterns described with a formal syntax. You'll often hear regular expressions referred to as 'regex' or 'regexp' in conversation. Regular expressions can include a variety of rules, from finding repetition, to text-matching, and much more. As you advance in Python you'll see that a lot of your parsing problems can be solved with regular expressions (they're also a common interview question!).\n",
        "\n",
        "If you're familiar with Perl, you'll notice that the syntax for regular expressions are very similar in Python. We will be using the re module with Python for this lecture.\n",
        "\n",
        "###Searching for Patterns in Text\n",
        "One of the most common uses for the re module is for finding patterns in text. Let's do a quick example of using the search method in the re module to find some text:"
      ]
    },
    {
      "cell_type": "code",
      "metadata": {
        "id": "HPj5eMIwmUnS",
        "colab_type": "code",
        "outputId": "5ce3da2a-86c5-4dde-e01c-a72b500f9e1f",
        "colab": {
          "base_uri": "https://localhost:8080/",
          "height": 51
        }
      },
      "source": [
        "import re\n",
        "\n",
        "match=re.search('yam',\"I am Maryam, Je sue Maryam \")\n",
        "print(match)\n",
        "\n",
        "# Show start of match\n",
        "match.start() #8\n",
        "\n",
        "# Show end\n",
        "match.end() #11"
      ],
      "execution_count": 0,
      "outputs": [
        {
          "output_type": "stream",
          "text": [
            "<_sre.SRE_Match object; span=(8, 11), match='yam'>\n"
          ],
          "name": "stdout"
        },
        {
          "output_type": "execute_result",
          "data": {
            "text/plain": [
              "11"
            ]
          },
          "metadata": {
            "tags": []
          },
          "execution_count": 146
        }
      ]
    },
    {
      "cell_type": "code",
      "metadata": {
        "id": "vNZnlNaTk6aC",
        "colab_type": "code",
        "colab": {}
      },
      "source": [
        "import re\n",
        "\n",
        "\n",
        "re.sub()\n",
        "# List of patterns to search for\n",
        "patterns = ['term1', 'term2']\n",
        "\n",
        "# Text to parse\n",
        "text = 'This is a string with term1, but it does not have the other term.'\n",
        "\n",
        "for pattern in patterns:\n",
        "    print('Searching for \"%s\" in:\\n \"%s\"\\n' %(pattern,text))\n",
        "    \n",
        "    #Check for match\n",
        "    if re.search(pattern,text):\n",
        "        print('Match was found. \\n')\n",
        "    else:\n",
        "        print('No Match was found.\\n')"
      ],
      "execution_count": 0,
      "outputs": []
    },
    {
      "cell_type": "markdown",
      "metadata": {
        "id": "WOJ7LLkcnZH6",
        "colab_type": "text"
      },
      "source": [
        "### Split with regular expressions\n",
        "Let's see how we can split with the re syntax. This should look similar to how you used the split() method with strings.\n"
      ]
    },
    {
      "cell_type": "code",
      "metadata": {
        "id": "55X6xlVrnh6i",
        "colab_type": "code",
        "outputId": "1215a795-7b1d-43bc-ac36-31d57bab4307",
        "colab": {
          "base_uri": "https://localhost:8080/",
          "height": 51
        }
      },
      "source": [
        "import re\n",
        "\n",
        "# Term to split on\n",
        "split_term = '@'\n",
        "\n",
        "phrase = 'What is the domain name of someone with the email: hello@gmail.com and bla@yahoo.com'\n",
        "\n",
        "# Split the phrase\n",
        "re.split(split_term,phrase)\n",
        "#['What is the domain name of someone with the email: hello', 'gmail.com and bla','yahoo.com']\n",
        "\n",
        "\n",
        "phrase.split('@')\n",
        "#['What is the domain name of someone with the email: hello', 'gmail.com and bla','yahoo.com']\n",
        "\n",
        "\n",
        "phrase.split('@',1)\n",
        "#['What is the domain name of someone with the email: hello','gmail.com and bla@yahoo.com']\n",
        "\n"
      ],
      "execution_count": 0,
      "outputs": [
        {
          "output_type": "execute_result",
          "data": {
            "text/plain": [
              "['What is the domain name of someone with the email: hello',\n",
              " 'gmail.com and bla@yahoo.com']"
            ]
          },
          "metadata": {
            "tags": []
          },
          "execution_count": 154
        }
      ]
    },
    {
      "cell_type": "code",
      "metadata": {
        "id": "JxGjuV1IwqJT",
        "colab_type": "code",
        "outputId": "c12aa10d-5600-4887-b8b4-e89f535d4a25",
        "colab": {
          "base_uri": "https://localhost:8080/",
          "height": 34
        }
      },
      "source": [
        "phrase = 'What is the domain name of someone with the email: hello@gmail.com and bla@yahoo.com'\n",
        "\n",
        "re.findall('@',phrase) #['@', '@']\n",
        "\n",
        "re.search('@',phrase) #<_sre.SRE_Match object; span=(56, 57), match='@'>\n"
      ],
      "execution_count": 0,
      "outputs": [
        {
          "output_type": "execute_result",
          "data": {
            "text/plain": [
              "<_sre.SRE_Match object; span=(56, 57), match='@'>"
            ]
          },
          "metadata": {
            "tags": []
          },
          "execution_count": 159
        }
      ]
    },
    {
      "cell_type": "markdown",
      "metadata": {
        "id": "UcvHaCnSpj1f",
        "colab_type": "text"
      },
      "source": [
        "### re.sub(pattern, repl, string, count=0, flags=0)\n",
        "\n",
        "Return the string obtained by replacing the leftmost non-overlapping occurrences of pattern in string by the replacement repl. If the pattern isn’t found, string is returned unchanged. repl can be a string or a function; if it is a string, any backslash escapes in it are processed. That is, \\n is converted to a single newline character, \\r is converted to a carriage return, and so forth. Unknown escapes of ASCII letters are reserved for future use and treated as errors. Other unknown escapes such as \\& are left alone. Backreferences, such as \\6, are replaced with the substring matched by group 6 in the pattern. \n",
        "\n",
        "\n",
        "### re.subn(pattern, repl, string, count=0, flags=0)\n",
        "Perform the same operation as sub(), but return a tuple (new_string, number_of_subs_made).\n",
        "\n",
        "\n",
        "## # re.findall()\n",
        "Finding all instances of a pattern\n",
        "You can use re.findall() to find all the instances of a pattern in a string. \n",
        "Pattern.findall(string[, pos[, endpos]])\n",
        "Similar to the findall() function, using the compiled pattern, but also accepts optional pos and endpos parameters that limit the search region like for search()."
      ]
    },
    {
      "cell_type": "code",
      "metadata": {
        "id": "zvv1Ep4Dqsn5",
        "colab_type": "code",
        "outputId": "20755666-78f1-443d-824e-8e123f5dbd6c",
        "colab": {
          "base_uri": "https://localhost:8080/",
          "height": 68
        }
      },
      "source": [
        "input = 'hjgk fhfj abc dfd abcd   ukhkabc'\n",
        "\n",
        "result = re.sub('abc',  '',    input)           # Delete pattern abc\n",
        "print(result)\n",
        "result = re.sub('abc',  'def', input)           # Replace pattern abc -> def\n",
        "print(result)\n",
        "result = re.sub(r'\\s+', ' ',   input)           # Eliminate duplicate whitespaces\n",
        "print(result)\n"
      ],
      "execution_count": 0,
      "outputs": [
        {
          "output_type": "stream",
          "text": [
            "hjgk fhfj  dfd d   ukhk\n",
            "hjgk fhfj def dfd defd   ukhkdef\n",
            "hjgk fhfj abc dfd abcd ukhkabc\n"
          ],
          "name": "stdout"
        }
      ]
    },
    {
      "cell_type": "code",
      "metadata": {
        "id": "3bnG-2Ok0rVK",
        "colab_type": "code",
        "colab": {}
      },
      "source": [
        ":\n",
        "def multi_re_find(patterns,phrase):\n",
        "    '''\n",
        "    Takes in a list of regex patterns\n",
        "    Prints a list of all matches\n",
        "    '''\n",
        "    for pattern in patterns:\n",
        "        print('Searching the phrase using the re check: %r' %(pattern))\n",
        "        print(re.findall(pattern,phrase))\n",
        "        print('\\n')"
      ],
      "execution_count": 0,
      "outputs": []
    },
    {
      "cell_type": "markdown",
      "metadata": {
        "id": "-kS4bOERyMNM",
        "colab_type": "text"
      },
      "source": [
        "#summary\n",
        "\n",
        "**********************************\n",
        "#### Repetition Syntax\n",
        "\n",
        "```\n",
        "\n",
        "test_phrase = 'sdsd..sssddd...sdddsddd...dsds...dsssss...sdddd'\n",
        "\n",
        "test_patterns = [ 'sd*',     # s followed by zero or more d's\n",
        "                'sd+',          # s followed by one or more d's\n",
        "                'sd?',          # s followed by zero or one d's\n",
        "                'sd{3}',        # s followed by three d's\n",
        "                'sd{2,3}',      # s followed by two to three d's\n",
        "                ]\n",
        "\n",
        "```\n",
        "\n",
        "### Character Sets\n",
        "\n",
        "\n",
        "\n",
        "```\n",
        "test_phrase = 'sdsd..sssddd...sdddsddd...dsds...dsssss...sdddd'\n",
        "\n",
        "test_patterns = ['[sd]',    # either s or d\n",
        "                's[sd]+']   # s followed by one or more s or d\n",
        "\n",
        "multi_re_find(test_patterns,test_phrase)\n",
        "```\n",
        "\n",
        "### Exclusion\n",
        "\n",
        "\n",
        "```\n",
        "Use [^!.? ] to check for matches that are not a !,.,?, or space. Add a + to check that the match appears at least once. This basically translates into finding the words.\n",
        "\n",
        "\n",
        "re.findall('[^!.? ]+',test_phrase)\n",
        "\n",
        "['This',\n",
        " 'is',\n",
        " 'a',\n",
        " 'string',\n",
        " 'But',\n",
        " 'it',\n",
        " 'has',\n",
        " 'punctuation',\n",
        " 'How',\n",
        " 'can',\n",
        " 'we',\n",
        " 'remove',\n",
        " 'it']\n",
        "\n",
        "\n",
        "```\n",
        "### Character Ranges\n",
        "\n",
        "\n",
        "\n",
        "```\n",
        "test_phrase = 'This is an example sentence. Lets see if we can find some letters.'\n",
        "\n",
        "test_patterns=['[a-z]+',      # sequences of lower case letters\n",
        "               '[A-Z]+',      # sequences of upper case letters\n",
        "               '[a-zA-Z]+',   # sequences of lower or upper case letters\n",
        "               '[A-Z][a-z]+'] # one upper case letter followed by lower case letters\n",
        "                \n",
        "multi_re_find(test_patterns,test_phrase)\n",
        "```\n",
        "\n",
        "### Escape Codes\n",
        "\n",
        "\n",
        "\n",
        "```\n",
        "\n",
        "test_phrase = 'This is a string with some numbers 1233 and a symbol #hashtag'\n",
        "\n",
        "test_patterns=[ r'\\d+', # sequence of digits\n",
        "                r'\\D+', # sequence of non-digits\n",
        "                r'\\s+', # sequence of whitespace\n",
        "                r'\\S+', # sequence of non-whitespace\n",
        "                r'\\w+', # alphanumeric characters\n",
        "                r'\\W+', # non-alphanumeric\n",
        "                ]\n",
        "\n",
        "multi_re_find(test_patterns,test_phrase)\n",
        "Searching the phrase using the re check: '\\\\d+'\n",
        "['1233']\n",
        "```\n",
        "\n",
        "\n",
        "\n",
        "\n",
        " \n"
      ]
    },
    {
      "cell_type": "code",
      "metadata": {
        "id": "84MtzlRH42D2",
        "colab_type": "code",
        "outputId": "dbdd05cf-926e-42dd-b5d6-89e1c759dcb7",
        "colab": {
          "base_uri": "https://localhost:8080/",
          "height": 34
        }
      },
      "source": [
        "hex(12)"
      ],
      "execution_count": 0,
      "outputs": [
        {
          "output_type": "execute_result",
          "data": {
            "text/plain": [
              "'0xc'"
            ]
          },
          "metadata": {
            "tags": []
          },
          "execution_count": 160
        }
      ]
    },
    {
      "cell_type": "code",
      "metadata": {
        "id": "DkJgvZpg435S",
        "colab_type": "code",
        "outputId": "d5aebba6-28bc-4f88-99f8-20eb5fedebcc",
        "colab": {
          "base_uri": "https://localhost:8080/",
          "height": 34
        }
      },
      "source": [
        "bin(128)"
      ],
      "execution_count": 0,
      "outputs": [
        {
          "output_type": "execute_result",
          "data": {
            "text/plain": [
              "'0b10000000'"
            ]
          },
          "metadata": {
            "tags": []
          },
          "execution_count": 161
        }
      ]
    },
    {
      "cell_type": "code",
      "metadata": {
        "id": "FQ-w6vrX47Gw",
        "colab_type": "code",
        "outputId": "ccdd1366-3217-47a0-8211-5ace977129d7",
        "colab": {
          "base_uri": "https://localhost:8080/",
          "height": 34
        }
      },
      "source": [
        "2**4"
      ],
      "execution_count": 0,
      "outputs": [
        {
          "output_type": "execute_result",
          "data": {
            "text/plain": [
              "16"
            ]
          },
          "metadata": {
            "tags": []
          },
          "execution_count": 162
        }
      ]
    },
    {
      "cell_type": "code",
      "metadata": {
        "id": "3uiscLvM4-c5",
        "colab_type": "code",
        "colab": {}
      },
      "source": [
        ""
      ],
      "execution_count": 0,
      "outputs": []
    },
    {
      "cell_type": "code",
      "metadata": {
        "id": "H3VBbgAi4-1a",
        "colab_type": "code",
        "outputId": "dc60aa7e-46f2-494f-b709-07e9a8b50f04",
        "colab": {
          "base_uri": "https://localhost:8080/",
          "height": 34
        }
      },
      "source": [
        "pow(2,3)"
      ],
      "execution_count": 0,
      "outputs": [
        {
          "output_type": "execute_result",
          "data": {
            "text/plain": [
              "8"
            ]
          },
          "metadata": {
            "tags": []
          },
          "execution_count": 163
        }
      ]
    },
    {
      "cell_type": "code",
      "metadata": {
        "id": "XSVBQgJy5Cvj",
        "colab_type": "code",
        "outputId": "5fbbe667-76ae-4edc-9de1-19cd07f42020",
        "colab": {
          "base_uri": "https://localhost:8080/",
          "height": 34
        }
      },
      "source": [
        "pow(2,4,3)"
      ],
      "execution_count": 0,
      "outputs": [
        {
          "output_type": "execute_result",
          "data": {
            "text/plain": [
              "1"
            ]
          },
          "metadata": {
            "tags": []
          },
          "execution_count": 164
        }
      ]
    },
    {
      "cell_type": "code",
      "metadata": {
        "id": "hqQl4NHN5I4B",
        "colab_type": "code",
        "outputId": "207f593f-eadf-4c46-dc7f-2f4d3305f903",
        "colab": {
          "base_uri": "https://localhost:8080/",
          "height": 34
        }
      },
      "source": [
        "abs(-3)"
      ],
      "execution_count": 0,
      "outputs": [
        {
          "output_type": "execute_result",
          "data": {
            "text/plain": [
              "3"
            ]
          },
          "metadata": {
            "tags": []
          },
          "execution_count": 165
        }
      ]
    },
    {
      "cell_type": "code",
      "metadata": {
        "id": "YkfqQoL95Ky1",
        "colab_type": "code",
        "outputId": "c137687a-3b26-49cb-f060-92b005cacfd3",
        "colab": {
          "base_uri": "https://localhost:8080/",
          "height": 34
        }
      },
      "source": [
        "round(3.9)"
      ],
      "execution_count": 0,
      "outputs": [
        {
          "output_type": "execute_result",
          "data": {
            "text/plain": [
              "4"
            ]
          },
          "metadata": {
            "tags": []
          },
          "execution_count": 166
        }
      ]
    },
    {
      "cell_type": "code",
      "metadata": {
        "id": "8GEvSX1C5N9y",
        "colab_type": "code",
        "outputId": "16381cb3-32ca-4e3c-fdb9-c3da0b5b7311",
        "colab": {
          "base_uri": "https://localhost:8080/",
          "height": 34
        }
      },
      "source": [
        "round(3.1)"
      ],
      "execution_count": 0,
      "outputs": [
        {
          "output_type": "execute_result",
          "data": {
            "text/plain": [
              "3"
            ]
          },
          "metadata": {
            "tags": []
          },
          "execution_count": 167
        }
      ]
    },
    {
      "cell_type": "code",
      "metadata": {
        "id": "Ta-TYKeJ5cCr",
        "colab_type": "code",
        "outputId": "7f10d049-93ae-4015-da6f-790a0fc0db48",
        "colab": {
          "base_uri": "https://localhost:8080/",
          "height": 34
        }
      },
      "source": [
        "round(3.14756,2)"
      ],
      "execution_count": 0,
      "outputs": [
        {
          "output_type": "execute_result",
          "data": {
            "text/plain": [
              "3.15"
            ]
          },
          "metadata": {
            "tags": []
          },
          "execution_count": 168
        }
      ]
    },
    {
      "cell_type": "code",
      "metadata": {
        "id": "HM7--Tfy6LxY",
        "colab_type": "code",
        "outputId": "6862fd1a-362d-44ed-bd79-b64a1dfadc68",
        "colab": {
          "base_uri": "https://localhost:8080/",
          "height": 51
        }
      },
      "source": [
        "import math\n",
        "math.ceil(3.2)#4\n",
        "a=math.pi+1\n",
        "print(f\"{a:0.2f}\")\n",
        "\n",
        "math.floor(3.9) #3\n",
        "math.sqrt(4)#2.0"
      ],
      "execution_count": 0,
      "outputs": [
        {
          "output_type": "stream",
          "text": [
            "4.14\n"
          ],
          "name": "stdout"
        },
        {
          "output_type": "execute_result",
          "data": {
            "text/plain": [
              "2.0"
            ]
          },
          "metadata": {
            "tags": []
          },
          "execution_count": 190
        }
      ]
    },
    {
      "cell_type": "code",
      "metadata": {
        "id": "DThSS0xS7xAR",
        "colab_type": "code",
        "colab": {}
      },
      "source": [
        "s=\"hello World!\"\n",
        "s.capitalize() #first word only in string\n",
        "s.upper()\n",
        "s.lower()\n",
        "s.count('o') \n",
        "s.find('o') # gives us index\n",
        "\n",
        "s.center(20,'#')\n",
        "s.endswith('o')\n",
        "s[-1] =='o'\n",
        "s.split('i') #all instances are found aand removed (white space removal)\n",
        "s.partition('i') #first instance only found and partitioned"
      ],
      "execution_count": 0,
      "outputs": []
    },
    {
      "cell_type": "code",
      "metadata": {
        "id": "IAFMglUx8wC4",
        "colab_type": "code",
        "colab": {}
      },
      "source": [
        "s=set()\n",
        "s.add(1)\n",
        "s.add(2)\n",
        "s.clear()\n",
        "s={1,2,3}\n",
        "sc=s.copy()\n",
        "s.add(5)\n",
        "s.discard(12)\n",
        "s-sc or {1,2,3,5} - {1,2,3} #{5}\n"
      ],
      "execution_count": 0,
      "outputs": []
    },
    {
      "cell_type": "code",
      "metadata": {
        "id": "AGi_2Zj79Ojo",
        "colab_type": "code",
        "outputId": "a1cdeac9-0284-4fd5-baf3-b47122c7c2b6",
        "colab": {
          "base_uri": "https://localhost:8080/",
          "height": 34
        }
      },
      "source": [
        "{1,2,3,5} - {1,2,3} #{5}"
      ],
      "execution_count": 0,
      "outputs": [
        {
          "output_type": "execute_result",
          "data": {
            "text/plain": [
              "{5}"
            ]
          },
          "metadata": {
            "tags": []
          },
          "execution_count": 191
        }
      ]
    },
    {
      "cell_type": "code",
      "metadata": {
        "id": "ajbK0R269niB",
        "colab_type": "code",
        "outputId": "084a8464-5005-4f8a-b864-4bc5a8c0233d",
        "colab": {
          "base_uri": "https://localhost:8080/",
          "height": 34
        }
      },
      "source": [
        "{1,2} | {5} #{1,2,5}"
      ],
      "execution_count": 0,
      "outputs": [
        {
          "output_type": "execute_result",
          "data": {
            "text/plain": [
              "{1, 2, 5}"
            ]
          },
          "metadata": {
            "tags": []
          },
          "execution_count": 196
        }
      ]
    },
    {
      "cell_type": "code",
      "metadata": {
        "id": "sU8wCcIM9rum",
        "colab_type": "code",
        "outputId": "7191ebe4-4bfd-4fe7-da8d-de5a9f1e2b2b",
        "colab": {
          "base_uri": "https://localhost:8080/",
          "height": 34
        }
      },
      "source": [
        "{1,2} & {1,4} #{1}"
      ],
      "execution_count": 0,
      "outputs": [
        {
          "output_type": "execute_result",
          "data": {
            "text/plain": [
              "{1}"
            ]
          },
          "metadata": {
            "tags": []
          },
          "execution_count": 198
        }
      ]
    },
    {
      "cell_type": "code",
      "metadata": {
        "id": "98pcbGh9-FdK",
        "colab_type": "code",
        "outputId": "5bdb45a0-8fe4-4511-cc16-27206229dfeb",
        "colab": {
          "base_uri": "https://localhost:8080/",
          "height": 34
        }
      },
      "source": [
        "1,2,6 in {1,2,3,4}\n"
      ],
      "execution_count": 0,
      "outputs": [
        {
          "output_type": "execute_result",
          "data": {
            "text/plain": [
              "(1, 2, False)"
            ]
          },
          "metadata": {
            "tags": []
          },
          "execution_count": 206
        }
      ]
    },
    {
      "cell_type": "code",
      "metadata": {
        "id": "JhxzoxRM-cV1",
        "colab_type": "code",
        "outputId": "e2c98d67-72e9-4c1d-e322-bdcab0fc61e2",
        "colab": {
          "base_uri": "https://localhost:8080/",
          "height": 34
        }
      },
      "source": [
        "sc={1,2,3,4}\n",
        "s={1,2}\n",
        "s.issubset(sc)"
      ],
      "execution_count": 0,
      "outputs": [
        {
          "output_type": "execute_result",
          "data": {
            "text/plain": [
              "True"
            ]
          },
          "metadata": {
            "tags": []
          },
          "execution_count": 209
        }
      ]
    },
    {
      "cell_type": "code",
      "metadata": {
        "id": "6ewF5BbP-jcb",
        "colab_type": "code",
        "outputId": "afb08618-31ec-4124-b1a0-fbc2508833bd",
        "colab": {
          "base_uri": "https://localhost:8080/",
          "height": 34
        }
      },
      "source": [
        ""
      ],
      "execution_count": 0,
      "outputs": [
        {
          "output_type": "execute_result",
          "data": {
            "text/plain": [
              "''"
            ]
          },
          "metadata": {
            "tags": []
          },
          "execution_count": 208
        }
      ]
    },
    {
      "cell_type": "code",
      "metadata": {
        "id": "kLurf0-W-A2V",
        "colab_type": "code",
        "outputId": "6e405a75-3177-448f-8bcd-8b0d31ae2d96",
        "colab": {
          "base_uri": "https://localhost:8080/",
          "height": 34
        }
      },
      "source": [
        "{1,2} =={2,1}"
      ],
      "execution_count": 0,
      "outputs": [
        {
          "output_type": "execute_result",
          "data": {
            "text/plain": [
              "True"
            ]
          },
          "metadata": {
            "tags": []
          },
          "execution_count": 201
        }
      ]
    },
    {
      "cell_type": "code",
      "metadata": {
        "id": "wYKBvhR394Q1",
        "colab_type": "code",
        "outputId": "1a9a12d4-aa06-4786-a6c0-2cea13c9e182",
        "colab": {
          "base_uri": "https://localhost:8080/",
          "height": 34
        }
      },
      "source": [
        "{1,3} =={1,3}\n",
        "{1,3} =={4,3}"
      ],
      "execution_count": 0,
      "outputs": [
        {
          "output_type": "execute_result",
          "data": {
            "text/plain": [
              "False"
            ]
          },
          "metadata": {
            "tags": []
          },
          "execution_count": 200
        }
      ]
    },
    {
      "cell_type": "code",
      "metadata": {
        "id": "kaj-HY6f7gZv",
        "colab_type": "code",
        "outputId": "62239cd5-2a3e-42ba-9e94-429f8c8bb6aa",
        "colab": {
          "base_uri": "https://localhost:8080/",
          "height": 34
        }
      },
      "source": [
        "s={1,2,3}\n",
        "s.discard(12)\n",
        "s.discard(1)\n",
        "s"
      ],
      "execution_count": 0,
      "outputs": [
        {
          "output_type": "execute_result",
          "data": {
            "text/plain": [
              "{2, 3}"
            ]
          },
          "metadata": {
            "tags": []
          },
          "execution_count": 195
        }
      ]
    },
    {
      "cell_type": "code",
      "metadata": {
        "id": "e01WHa6R-u7Z",
        "colab_type": "code",
        "outputId": "f1937bbb-6405-4c59-80c9-05359d47dcf0",
        "colab": {
          "base_uri": "https://localhost:8080/",
          "height": 34
        }
      },
      "source": [
        "d={'k1':1,'k2':2}\n",
        "{x:x**2 for x in range(10)}"
      ],
      "execution_count": 0,
      "outputs": [
        {
          "output_type": "execute_result",
          "data": {
            "text/plain": [
              "{0: 0, 1: 1, 2: 4, 3: 9, 4: 16, 5: 25, 6: 36, 7: 49, 8: 64, 9: 81}"
            ]
          },
          "metadata": {
            "tags": []
          },
          "execution_count": 210
        }
      ]
    },
    {
      "cell_type": "code",
      "metadata": {
        "id": "lUAZe7yq-_xt",
        "colab_type": "code",
        "outputId": "a2b3ec64-81d5-4d0c-bee1-93e64efd68f0",
        "colab": {
          "base_uri": "https://localhost:8080/",
          "height": 34
        }
      },
      "source": [
        "{k:v**2 for k,v in zip(['a','b'],range(2))}"
      ],
      "execution_count": 0,
      "outputs": [
        {
          "output_type": "execute_result",
          "data": {
            "text/plain": [
              "{'a': 0, 'b': 1}"
            ]
          },
          "metadata": {
            "tags": []
          },
          "execution_count": 211
        }
      ]
    },
    {
      "cell_type": "code",
      "metadata": {
        "id": "eFIT9M8Y_PA9",
        "colab_type": "code",
        "outputId": "ccc6b8d1-9331-41a7-bac0-cb6fe85c81a7",
        "colab": {
          "base_uri": "https://localhost:8080/",
          "height": 119
        }
      },
      "source": [
        "for k in d.items():\n",
        "    print(k)\n",
        "\n",
        "for k in d.keys():\n",
        "    print(k)\n",
        "\n",
        "for k in d.values():\n",
        "    print(k)"
      ],
      "execution_count": 0,
      "outputs": [
        {
          "output_type": "stream",
          "text": [
            "('k1', 1)\n",
            "('k2', 2)\n",
            "k1\n",
            "k2\n",
            "1\n",
            "2\n"
          ],
          "name": "stdout"
        }
      ]
    },
    {
      "cell_type": "code",
      "metadata": {
        "id": "th-2UkZN_wHQ",
        "colab_type": "code",
        "outputId": "04879773-74a7-436d-b9f9-298aa2acc90f",
        "colab": {
          "base_uri": "https://localhost:8080/",
          "height": 238
        }
      },
      "source": [
        "l=[1,2,3]\n",
        "l.append(5)\n",
        "print(l)\n",
        "l.append([4,5,6]) #append the whole itterable\n",
        "print(l)\n",
        "l.count(3) # whether or not it occures you won't get an error\n",
        "print(l.count(10))\n",
        "l.extend(['3']) #append the iterable one item at a time\n",
        "print(l)\n",
        "l.extend([4,5,6])\n",
        "print(l)\n",
        "l.index('3') #returns index of the first time it finds the item e.g '3' \n",
        "print(l)\n",
        "'''\n",
        "l.index('element not exist in list') #returns index of the first time it finds the item e.g '3' \n",
        "print('You get error')\n",
        "'''\n",
        "l.insert(0,'5') #['5', 1, 2, 3, 5, [4, 5, 6], '3', 4, 5, 6]\n",
        "print(l)\n",
        "l.pop()\n",
        "print(l) #['5', 1, 2, 3, 5, [4, 5, 6], '3', 4, 5]\n",
        "l.pop(0) # pops index 0 # [1, 2, 3, 5, [4, 5, 6], '3', 4, 5]\n",
        "print(l)\n",
        "l.remove(2) #  #inplace removes first instance of the item\n",
        "print(l)\n",
        "l.reverse() #inplace\n",
        "print(l)\n",
        "l=[5,76,8]\n",
        "l.sort() #inplace\n",
        "print(l)\n",
        "sorted(reversed(l)) #neither of the reveresed or sorted are inplace\n",
        "print(l)"
      ],
      "execution_count": 0,
      "outputs": [
        {
          "output_type": "stream",
          "text": [
            "[1, 2, 3, 5]\n",
            "[1, 2, 3, 5, [4, 5, 6]]\n",
            "0\n",
            "[1, 2, 3, 5, [4, 5, 6], '3']\n",
            "[1, 2, 3, 5, [4, 5, 6], '3', 4, 5, 6]\n",
            "[1, 2, 3, 5, [4, 5, 6], '3', 4, 5, 6]\n",
            "['5', 1, 2, 3, 5, [4, 5, 6], '3', 4, 5, 6]\n",
            "['5', 1, 2, 3, 5, [4, 5, 6], '3', 4, 5]\n",
            "[1, 2, 3, 5, [4, 5, 6], '3', 4, 5]\n",
            "[1, 3, 5, [4, 5, 6], '3', 4, 5]\n",
            "[5, 4, '3', [4, 5, 6], 5, 3, 1]\n",
            "[5, 8, 76]\n",
            "[5, 8, 76]\n"
          ],
          "name": "stdout"
        }
      ]
    },
    {
      "cell_type": "markdown",
      "metadata": {
        "id": "ArGIAv0yDDsX",
        "colab_type": "text"
      },
      "source": [
        "For more help you can watch tutorials here is link for discount \n",
        "\n",
        "[link text](https://docs.google.com/document/d/1TfB48iJcCAPaQYiOgB70_QgBXyGaU33nYyUZ6lgtLl8/edit)\n",
        "\n"
      ]
    },
    {
      "cell_type": "code",
      "metadata": {
        "id": "8YbbcXFH_xIW",
        "colab_type": "code",
        "outputId": "0cfb7ca3-b3fa-4089-d6b2-b8155d87aeb3",
        "colab": {
          "base_uri": "https://localhost:8080/",
          "height": 68
        }
      },
      "source": [
        "' '.join(['1','2','3'])#'1 2 3'\n",
        "''.join(['1','2','3'])#'123'\n",
        "for i in enumerate([1,2,3]):    \n",
        "    print(i)\n",
        "# (0, 1)\n",
        "# (1, 2)\n",
        "# (2, 3)\n"
      ],
      "execution_count": 0,
      "outputs": [
        {
          "output_type": "stream",
          "text": [
            "(0, 1)\n",
            "(1, 2)\n",
            "(2, 3)\n"
          ],
          "name": "stdout"
        }
      ]
    }
  ]
}