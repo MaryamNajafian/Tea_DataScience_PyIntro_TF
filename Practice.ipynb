{
  "nbformat": 4,
  "nbformat_minor": 0,
  "metadata": {
    "colab": {
      "name": "Practice.ipynb",
      "provenance": [],
      "collapsed_sections": [],
      "authorship_tag": "ABX9TyMEkyhVXk8LhU2jc2VI2khz"
    },
    "kernelspec": {
      "name": "python3",
      "display_name": "Python 3"
    }
  },
  "cells": [
    {
      "cell_type": "code",
      "metadata": {
        "id": "10ePpzuaHvfB",
        "colab_type": "code",
        "outputId": "690e4948-60cc-4bc8-f863-1e1de821cbb8",
        "colab": {
          "base_uri": "https://localhost:8080/",
          "height": 34
        }
      },
      "source": [
        "# bruteforce is two for loops going through the list: time_c O(n^2) space_c= O(1),\n",
        "# hasmap: go through the loop and store the {\"target -item_value\": item_index}= time/spac_c O(n)\n",
        "# hasmap space complexity O(n) \n",
        "\n",
        "\n",
        "# Given nums = [2, 7, 11, 15], target = 9,\n",
        "class Solution:\n",
        "    def twoSum(self, nums, target):\n",
        "        dict_n = {}\n",
        "        result = []\n",
        "        for index, i in enumerate(nums):\n",
        "            if i not in dict_n:\n",
        "                dict_n[target - i] = index\n",
        "            else:\n",
        "                result = (index, dict_n[i])\n",
        "        return result\n",
        "\n",
        "\n",
        "nums = [2, 7, 11, 15]\n",
        "target = 9\n",
        "\n",
        "l = Solution()\n",
        "print(l.twoSum(nums, target))\n",
        "\n",
        "\n",
        "\n",
        "\n",
        "\n",
        "\n",
        "\n",
        "\n"
      ],
      "execution_count": 0,
      "outputs": [
        {
          "output_type": "stream",
          "text": [
            "[]\n"
          ],
          "name": "stdout"
        }
      ]
    },
    {
      "cell_type": "markdown",
      "metadata": {
        "id": "D4Z6U5OufZIa",
        "colab_type": "text"
      },
      "source": [
        "Given a string containing just the characters '(', ')', '{', '}', '[' and ']', determine if the input string is valid.\n",
        "\n",
        "An input string is valid if:\n",
        "\n",
        "Open brackets must be closed by the same type of brackets.\n",
        "Open brackets must be closed in the correct order.\n",
        "Note that an empty string is also considered valid.\n",
        "\n",
        "Example 1:\n",
        "\n",
        "Input: \"()\"\n",
        "Output: true\n",
        "Example 2:\n",
        "\n",
        "Input: \"()[]{}\"\n",
        "Output: true\n",
        "Example 3:\n",
        "\n",
        "Input: \"(]\"\n",
        "Output: false"
      ]
    },
    {
      "cell_type": "code",
      "metadata": {
        "id": "ODxReMowzeox",
        "colab_type": "code",
        "outputId": "54989b6b-195b-40ce-f8fb-b253725f4219",
        "colab": {
          "base_uri": "https://localhost:8080/",
          "height": 34
        }
      },
      "source": [
        "class Solution:\n",
        "    def isValid(self, s):\n",
        "        k=[]\n",
        "        for j in s:\n",
        "            if j in '({[':\n",
        "                k.append(j)\n",
        "            else:\n",
        "                if len(k)==0:\n",
        "                    return False\n",
        "                op=k.pop()\n",
        "                if not self.isPair(op,j):\n",
        "                    return False\n",
        "\n",
        "        return len(k)==0\n",
        "    def isPair(self,op,j):\n",
        "        if (op,j) in [('(',')'),('{','}'),('[',']')] :\n",
        "            return True\n",
        "\n",
        "\n",
        "\n",
        "s = '[(())]'\n",
        "l = Solution()\n",
        "print(l.isValid(s))"
      ],
      "execution_count": 0,
      "outputs": [
        {
          "output_type": "stream",
          "text": [
            "False\n"
          ],
          "name": "stdout"
        }
      ]
    },
    {
      "cell_type": "markdown",
      "metadata": {
        "id": "aDauKSWv05f6",
        "colab_type": "text"
      },
      "source": [
        "Merge two sorted linked lists and return it as a new list. The new list should be made by splicing together the nodes of the first two lists.\n",
        "\n",
        "Example:\n",
        "\n",
        "Input: 1->2->4, 1->3->4\n",
        "Output: 1->1->2->3->4->4"
      ]
    },
    {
      "cell_type": "markdown",
      "metadata": {
        "id": "2rxrVK5lQJpk",
        "colab_type": "text"
      },
      "source": [
        ""
      ]
    },
    {
      "cell_type": "code",
      "metadata": {
        "id": "92iQ8jZNJPET",
        "colab_type": "code",
        "outputId": "d69f5570-0cf6-48c9-8f45-6e71c9a36587",
        "colab": {
          "base_uri": "https://localhost:8080/",
          "height": 102
        }
      },
      "source": [
        "\n",
        "# Definition for singly-linked list.\n",
        "class ListNode(object):\n",
        "    def __init__(self, x):\n",
        "        self.val = x\n",
        "        self.next = None\n",
        "\n",
        "class Solution(object):\n",
        "    def mergeTwoLists(self, l1, l2):\n",
        "\n",
        "        # list to return\n",
        "        head = ListNode(0)\n",
        "        ptr = head\n",
        "\n",
        "        while True:\n",
        "            if l1 is None and l2 is None:\n",
        "                break\n",
        "            elif l1 is None:\n",
        "                ptr.next = l2\n",
        "                break\n",
        "            elif l2 is None:\n",
        "                ptr.next = l1\n",
        "                break\n",
        "            else:\n",
        "                smallerVal = 0\n",
        "                if l1.val < l2.val:\n",
        "                    smallerVal = l1.val\n",
        "                    l1 = l1.next\n",
        "                else:\n",
        "                    smallerVal = l2.val\n",
        "                    l2 = l2.next\n",
        "\n",
        "                newNode = ListNode(smallerVal)\n",
        "                ptr.next = newNode\n",
        "                ptr = ptr.next\n",
        "\n",
        "        return head.next\n",
        "\n",
        "\n",
        "\n",
        "a=ListNode(1)\n",
        "b=ListNode(2)\n",
        "c=ListNode(3)\n",
        "a.next=b\n",
        "b.next=c\n",
        "\n",
        "aa=ListNode(11)\n",
        "bb=ListNode(22)\n",
        "cc=ListNode(33)\n",
        "aa.next=bb\n",
        "bb.next=cc\n",
        "\n",
        "l=Solution()\n",
        "cc=l.mergeTwoLists(aa,a)\n",
        "while cc.next != None:\n",
        "    print(cc.val)\n",
        "    cc=cc.next\n"
      ],
      "execution_count": 0,
      "outputs": [
        {
          "output_type": "stream",
          "text": [
            "1\n",
            "2\n",
            "3\n",
            "11\n",
            "22\n"
          ],
          "name": "stdout"
        }
      ]
    },
    {
      "cell_type": "markdown",
      "metadata": {
        "id": "Cp6o8diXEPdy",
        "colab_type": "text"
      },
      "source": [
        "## print a linkedlist"
      ]
    },
    {
      "cell_type": "code",
      "metadata": {
        "id": "am6ALyxKRGur",
        "colab_type": "code",
        "outputId": "c3301b3b-ee2e-4a62-983e-9803f920ca7d",
        "colab": {
          "base_uri": "https://localhost:8080/",
          "height": 34
        }
      },
      "source": [
        " class ListNode:\n",
        "     def __init__(self,val):\n",
        "        self.val=val\n",
        "        self.next=None\n",
        "\n",
        "def printll(node):\n",
        "    while node.next != None:\n",
        "        print(f'{node.val}->',end='')\n",
        "        node=node.next\n",
        "    print(f'{node.val}')\n",
        "\n",
        "\n",
        "aa=ListNode(11)\n",
        "bb=ListNode(22)\n",
        "cc=ListNode(33)\n",
        "aa.next=bb\n",
        "bb.next=cc\n",
        "printll(aa)\n",
        "\n",
        "\n"
      ],
      "execution_count": 0,
      "outputs": [
        {
          "output_type": "stream",
          "text": [
            "11->22->33\n"
          ],
          "name": "stdout"
        }
      ]
    },
    {
      "cell_type": "markdown",
      "metadata": {
        "id": "i6GTF4K3EWH4",
        "colab_type": "text"
      },
      "source": [
        "## Reverse a Linked List"
      ]
    },
    {
      "cell_type": "code",
      "metadata": {
        "id": "WjF0q-LzP-_y",
        "colab_type": "code",
        "outputId": "268b9ce2-cb5a-43fe-bc8e-d43f09c8ec10",
        "colab": {
          "base_uri": "https://localhost:8080/",
          "height": 51
        }
      },
      "source": [
        "    \n",
        "class ListNode:\n",
        "    def __init__(self,val):\n",
        "        self.val=val\n",
        "        self.nextnode=None\n",
        "\n",
        "def reverse(head):\n",
        "    previous = None\n",
        "    current = head\n",
        "    nextnode = None\n",
        "    while current:\n",
        "        #change pointer direction\n",
        "        nextnode = current.nextnode\n",
        "        current.nextnode = previous\n",
        "        #getting ready for next round\n",
        "        previous = current\n",
        "        current = nextnode\n",
        "    return previous\n",
        "    \n",
        "def printll(node):\n",
        "    while node.nextnode != None:\n",
        "        print(f'{node.val}->',end='')\n",
        "        node=node.nextnode\n",
        "    print(f'{node.val}')\n",
        "\n",
        "aa=ListNode(11)\n",
        "bb=ListNode(22)\n",
        "cc=ListNode(33)\n",
        "aa.nextnode=bb\n",
        "bb.nextnode=cc\n",
        "\n",
        "printll(aa)\n",
        "bbb=reverse(aa)\n",
        "printll(bbb)"
      ],
      "execution_count": 0,
      "outputs": [
        {
          "output_type": "stream",
          "text": [
            "11->22->33\n",
            "33->22->11\n"
          ],
          "name": "stdout"
        }
      ]
    },
    {
      "cell_type": "markdown",
      "metadata": {
        "id": "mwM2BrnYM9-O",
        "colab_type": "text"
      },
      "source": [
        "You are given two non-empty linked lists representing two non-negative integers. The digits are stored in reverse order and each of their nodes contain a single digit. Add the two numbers and return it as a linked list.\n",
        "\n",
        "You may assume the two numbers do not contain any leading zero, except the number 0 itself.\n",
        "\n",
        "Example:\n",
        "\n",
        "Input: (2 -> 4 -> 3) + (5 -> 6 -> 4)\n",
        "Output: 7 -> 0 -> 8\n",
        "Explanation: 342 + 465 = 807."
      ]
    },
    {
      "cell_type": "code",
      "metadata": {
        "id": "zh_FjSF0PGuP",
        "colab_type": "code",
        "outputId": "193a5467-5675-4244-e03e-94fa5dc995a9",
        "colab": {
          "base_uri": "https://localhost:8080/",
          "height": 68
        }
      },
      "source": [
        "class ListNode:\n",
        "    def __init__(self,val):\n",
        "        self.val=val\n",
        "        self.nextnode=None\n",
        "\n",
        "def reverse(head):\n",
        "    previous = None\n",
        "    current = head\n",
        "    nextnode = None\n",
        "    while current:\n",
        "        #change pointer direction\n",
        "        nextnode = current.nextnode\n",
        "        current.nextnode = previous\n",
        "        #getting ready for next round\n",
        "        previous = current\n",
        "        current = nextnode\n",
        "    return previous\n",
        "    \n",
        "def printll(node):\n",
        "    while node.nextnode != None:\n",
        "        print(f'{node.val}->',end='')\n",
        "        node=node.nextnode\n",
        "    print(f'{node.val}')\n",
        "\n",
        "def addTwoNumbers(l1, l2):    \n",
        "    p1 = reverse(l1)\n",
        "    p2 = reverse(l2)\n",
        "    carry=0\n",
        "    head = newl = ListNode(0)\n",
        "\n",
        "    while p1 or p2 or carry:\n",
        "\n",
        "        cur = carry\n",
        "        if p1:\n",
        "            cur = cur+p1.val\n",
        "        if p2:\n",
        "            cur = cur+p2.val\n",
        "        if cur >=10:\n",
        "            carry=cur//10\n",
        "            cur=cur%10\n",
        "        else:\n",
        "            carry=0\n",
        "\n",
        "        newl.nextnode = ListNode(cur)\n",
        "        newl = newl.nextnode\n",
        "        \n",
        "        if p1 is None and p2 is None:\n",
        "            break\n",
        "        elif p1 is None:\n",
        "            p2 = p2.nextnode\n",
        "        elif p2 is None:\n",
        "            p1 = p1.nextnode\n",
        "        else:\n",
        "            p1 = p1.nextnode\n",
        "            p2 = p2.nextnode\n",
        "       \n",
        "    return head.nextnode\n",
        "\n",
        "a=ListNode(1)\n",
        "b=ListNode(5)\n",
        "c=ListNode(9)\n",
        "a.nextnode=b\n",
        "b.nextnode=c\n",
        "printll(a)\n",
        "\n",
        "aa=ListNode(7)\n",
        "bb=ListNode(6)\n",
        "cc=ListNode(3)\n",
        "aa.nextnode=bb\n",
        "bb.nextnode=cc\n",
        "printll(aa)\n",
        "\n",
        "\n",
        "print(\"sum 2 reversed linkedlist:\",end='')\n",
        "aaa=addTwoNumbers(aa, a)\n",
        "printll(aaa)"
      ],
      "execution_count": 0,
      "outputs": [
        {
          "output_type": "stream",
          "text": [
            "1->5->9\n",
            "7->6->3\n",
            "sum 2 reversed linkedlist:2->2->9\n"
          ],
          "name": "stdout"
        }
      ]
    },
    {
      "cell_type": "code",
      "metadata": {
        "id": "uoVz77W4kDiw",
        "colab_type": "code",
        "colab": {}
      },
      "source": [
        "# Definition for singly-linked list.\n",
        "class ListNode:\n",
        "    def __init__(self, x):\n",
        "        self.val = x\n",
        "        self.nextnode = None\n",
        "\n",
        "class Solution(object):\n",
        "    def addTwoNumbers(self, l1, l2):\n",
        "        \"\"\"\n",
        "        :type l1: ListNode\n",
        "        :type l2: ListNode\n",
        "        :rtype: ListNode\n",
        "        \"\"\"\n",
        "        result = ListNode(0)\n",
        "        result_tail = result\n",
        "        carry = 0\n",
        "                \n",
        "        while l1 or l2 or carry:            \n",
        "            val1  = (l1.val if l1 else 0)\n",
        "            val2  = (l2.val if l2 else 0)\n",
        "            carry, out = divmod(val1+val2 + carry, 10)    \n",
        "                      \n",
        "            result_tail.next = ListNode(out)\n",
        "            result_tail = result_tail.next                      \n",
        "            \n",
        "            l1 = (l1.next if l1 else None)\n",
        "            l2 = (l2.next if l2 else None)\n",
        "               \n",
        "        return result.next"
      ],
      "execution_count": 0,
      "outputs": []
    },
    {
      "cell_type": "markdown",
      "metadata": {
        "id": "mxhSqW_dlVxW",
        "colab_type": "text"
      },
      "source": [
        "##isSameTree\n",
        "\n",
        "Given two binary trees, write a function to check if they are the same or not.\n",
        "\n",
        "Two binary trees are considered the same if they are structurally identical and the nodes have the same value.\n",
        "\n",
        "\n",
        "```\n",
        "\n",
        "\n",
        "\n",
        "Example 1:\n",
        "\n",
        "Input:     1         1\n",
        "          / \\       / \\\n",
        "         2   3     2   3\n",
        "\n",
        "        [1,2,3],   [1,2,3]\n",
        "\n",
        "Output: true\n",
        "Example 2:\n",
        "\n",
        "Input:     1         1\n",
        "          /           \\\n",
        "         2             2\n",
        "\n",
        "        [1,2],     [1,null,2]\n",
        "\n",
        "Output: false\n",
        "Example 3:\n",
        "\n",
        "Input:     1         1\n",
        "          / \\       / \\\n",
        "         2   1     1   2\n",
        "\n",
        "        [1,2,1],   [1,1,2]\n",
        "\n",
        "Output: false\n",
        "# This is formatted as code\n",
        "```"
      ]
    },
    {
      "cell_type": "code",
      "metadata": {
        "id": "aNwm_7KmpnXh",
        "colab_type": "code",
        "colab": {}
      },
      "source": [
        "# class TreeNode(object):\n",
        "#     def __init__(self, x):\n",
        "#         self.val = x\n",
        "#         self.left = None\n",
        "#         self.right = None\n",
        "\n",
        "class Solution(object):\n",
        "    def isSameTree(self, p, q):\n",
        "        \"\"\"\n",
        "        :type p: TreeNode\n",
        "        :type q: TreeNode\n",
        "        :rtype: bool\n",
        "        \"\"\"\n",
        "        if p is None and q is None:\n",
        "            return True\n",
        "\n",
        "        if p is None:\n",
        "            return False\n",
        "\n",
        "        if q is None:\n",
        "            return False\n",
        "\n",
        "        if p.val != q.val:\n",
        "            return False\n",
        "\n",
        "        leftIsSame = self.isSameTree(p.left, q.left)\n",
        "        rightIsSame = self.isSameTree(p.right, q.right)\n",
        "        return leftIsSame and rightIsSame"
      ],
      "execution_count": 0,
      "outputs": []
    },
    {
      "cell_type": "markdown",
      "metadata": {
        "id": "RZO-yu55pjsd",
        "colab_type": "text"
      },
      "source": [
        "# inorder tree traversal code"
      ]
    },
    {
      "cell_type": "code",
      "metadata": {
        "id": "U7oXyybllcPt",
        "colab_type": "code",
        "outputId": "736825a1-988b-47b5-b512-c11f2f5f7119",
        "colab": {
          "base_uri": "https://localhost:8080/",
          "height": 102
        }
      },
      "source": [
        " class Tree:\n",
        "     def __init__(self,val):\n",
        "        self.key=val\n",
        "        self.right=None\n",
        "        self.left=None\n",
        "\n",
        "     def getLeftChild(self):\n",
        "        return self.left\n",
        "    \n",
        "     def getRightChild(self):\n",
        "        return self.right\n",
        "        \n",
        "     def getRootVal(self):\n",
        "        return self.key\n",
        "        \n",
        "\n",
        "def inorder(p):\n",
        "    if p:\n",
        "        inorder(p.left)\n",
        "        print(p.key)\n",
        "        inorder(p.right)\n",
        "\n",
        "\n",
        "a=Tree(5)\n",
        "b=Tree(4)\n",
        "c=Tree(3)\n",
        "d=Tree(2)\n",
        "e=Tree(1)\n",
        "\n",
        "a.left=b\n",
        "a.right=c\n",
        "b.left=d\n",
        "b.right=e\n",
        "\n",
        "inorder(a)\n",
        "\n"
      ],
      "execution_count": 0,
      "outputs": [
        {
          "output_type": "stream",
          "text": [
            "2\n",
            "4\n",
            "1\n",
            "5\n",
            "3\n"
          ],
          "name": "stdout"
        }
      ]
    },
    {
      "cell_type": "markdown",
      "metadata": {
        "id": "tO4LGvZwr6H8",
        "colab_type": "text"
      },
      "source": [
        "## Longest palindromic substring\n",
        "\n",
        "\n",
        "\n",
        "```\n",
        "Example 1:\n",
        "\n",
        "Input: \"babad\"\n",
        "Output: \"bab\"\n",
        "Note: \"aba\" is also a valid answer.\n",
        "Example 2:\n",
        "\n",
        "Input: \"cbbd\"\n",
        "Output: \"bb\"\n",
        "```\n",
        "\n"
      ]
    },
    {
      "cell_type": "code",
      "metadata": {
        "id": "1cA0UyNIpgQQ",
        "colab_type": "code",
        "outputId": "7d80aedb-a886-43bd-ea15-7440847442e2",
        "colab": {
          "base_uri": "https://localhost:8080/",
          "height": 34
        }
      },
      "source": [
        "class Solution:\n",
        "    def longestPalindrome(self, s):\n",
        "        i = 1\n",
        "        result, d = [], []\n",
        "        while i < len(s):\n",
        "\n",
        "            if s[i] == s[i - 1]:\n",
        "                d, i = self.finder(s, i - 1, i)\n",
        "                if len(d) > len(result):\n",
        "                    result = d\n",
        "\n",
        "            elif i == len(s) - 1:\n",
        "                break\n",
        "\n",
        "            elif s[i - 1] == s[i + 1]:\n",
        "                d, i = self.finder(s, i, i)\n",
        "                if len(d) > len(result):\n",
        "                    result = d\n",
        "\n",
        "            else:\n",
        "                i += 1\n",
        "                \n",
        "        return result\n",
        "\n",
        "    def finder(self, s, b, f):\n",
        "        if f == b:\n",
        "            d = s[b]\n",
        "        else:\n",
        "            d = s[b] + s[f]\n",
        "        f += 1\n",
        "        b -= 1\n",
        "        while f < len(s) and b >= 0:\n",
        "            if s[f] == s[b]:\n",
        "                d = s[b] + d + s[f]\n",
        "                f += 1\n",
        "                b -= 1\n",
        "\n",
        "            else:\n",
        "                break\n",
        "        return d, f"
      ],
      "execution_count": 0,
      "outputs": [
        {
          "output_type": "stream",
          "text": [
            "igoogi\n"
          ],
          "name": "stdout"
        }
      ]
    },
    {
      "cell_type": "code",
      "metadata": {
        "id": "8fRQoUXEve6H",
        "colab_type": "code",
        "colab": {}
      },
      "source": [
        ""
      ],
      "execution_count": 0,
      "outputs": []
    },
    {
      "cell_type": "code",
      "metadata": {
        "id": "lg6kls29vMkV",
        "colab_type": "code",
        "outputId": "2dcc0d84-1a82-48a1-de2d-ce541cfa5e8e",
        "colab": {
          "base_uri": "https://localhost:8080/",
          "height": 34
        }
      },
      "source": [
        "class Tree:\n",
        "    def __init__(self, val):\n",
        "        self.val = val\n",
        "        self.right = None\n",
        "        self.left = None\n",
        "\n",
        "\n",
        "class Solution:\n",
        "    def isSubTree(self, p, q):\n",
        "        if p is None and q is None:\n",
        "            return True\n",
        "        if q is None:\n",
        "            return True\n",
        "        if p is None and q is not None:\n",
        "            return False\n",
        "        return self.isSameTree(p, q) or self.isSubTree(p.left, q) or self.isSubTree(p.right, q)\n",
        "\n",
        "    def isSameTree(self, p, q):\n",
        "        if p is None and q is None:\n",
        "            return True\n",
        "\n",
        "        if p is None or q is None:\n",
        "            return False\n",
        "\n",
        "        if p.val != q.val:\n",
        "            return False\n",
        "        \n",
        "        return p.val == q.val and self.isSameTree(p.left, q.left) and self.isSameTree(p.right, q.right)\n",
        "\n",
        "\n",
        "a = Tree(5)\n",
        "b = Tree(4)\n",
        "c = Tree(3)\n",
        "d = Tree(2)\n",
        "e = Tree(1)\n",
        "f = Tree(33)\n",
        "g = Tree(2)\n",
        "\n",
        "a.left = b\n",
        "a.right = c\n",
        "b.left = d\n",
        "b.right = e\n",
        "# c.left = f\n",
        "# c.right = g\n",
        "\n",
        "l = Solution()\n",
        "print(l.isSubTree(a, a))"
      ],
      "execution_count": 0,
      "outputs": [
        {
          "output_type": "stream",
          "text": [
            "True\n"
          ],
          "name": "stdout"
        }
      ]
    },
    {
      "cell_type": "markdown",
      "metadata": {
        "id": "Z_pjkbcv1R0H",
        "colab_type": "text"
      },
      "source": [
        "103. Binary Tree Zigzag Level Order Traversal\n",
        "\n",
        "Share\n",
        "Given a binary tree, return the zigzag level order traversal of its nodes' values. (ie, from left to right, then right to left for the next level and alternate between).\n",
        "\n",
        "For example:\n",
        "Given binary tree [3,9,20,null,null,15,7],\n",
        "    3\n",
        "   / \\\n",
        "  9  20\n",
        "    /  \\\n",
        "   15   7\n",
        "return its zigzag level order traversal as:\n",
        "[\n",
        "  [3],\n",
        "  [20,9],\n",
        "  [15,7]\n",
        "]"
      ]
    },
    {
      "cell_type": "code",
      "metadata": {
        "id": "fBVFZ0mxIDvA",
        "colab_type": "code",
        "outputId": "8031e132-c531-48c6-c466-a474b3e58933",
        "colab": {
          "base_uri": "https://localhost:8080/",
          "height": 102
        }
      },
      "source": [
        "class Tree:\n",
        "    def __init__(self,val):\n",
        "        self.val=val\n",
        "        self.right=None\n",
        "        self.left=None\n",
        "\n",
        "def levelOrder(p):\n",
        "\n",
        "    if p == None:\n",
        "        return []\n",
        "    \n",
        "    q=[] # q is infact a queue\n",
        "    q.insert(0,p)\n",
        "    while len(q)>0:\n",
        "        current = q[-1]\n",
        "        print(current.val)\n",
        "        q.pop()\n",
        "        if current.left:\n",
        "            q.insert(0,current.left)\n",
        "        if current.right:\n",
        "            q.insert(0,current.right)\n",
        "\n",
        "\n",
        "a = Tree(5)\n",
        "b = Tree(4)\n",
        "c = Tree(3)\n",
        "d = Tree(2)\n",
        "e = Tree(1)\n",
        "f = Tree(33)\n",
        "g = Tree(2)\n",
        "\n",
        "a.left = b\n",
        "a.right = c\n",
        "b.left = d\n",
        "b.right = e\n",
        "# c.left = f\n",
        "# c.right = g\n",
        "\n",
        "levelOrder(a)"
      ],
      "execution_count": 0,
      "outputs": [
        {
          "output_type": "stream",
          "text": [
            "5\n",
            "4\n",
            "3\n",
            "2\n",
            "1\n"
          ],
          "name": "stdout"
        }
      ]
    },
    {
      "cell_type": "code",
      "metadata": {
        "id": "Soc97DPIwAr1",
        "colab_type": "code",
        "outputId": "3df5b2ec-dc17-411a-f1c6-f333866bb570",
        "colab": {
          "base_uri": "https://localhost:8080/",
          "height": 34
        }
      },
      "source": [
        "stringg='bhj b0z bjhbk gkj'\n",
        "a=stringg.split(' ')\n",
        "a.reverse()\n",
        "a.sort()\n",
        "f\"{2**0.5:0.2f}\"\n",
        "\n",
        "a=[0,9,9,8]\n",
        "a[::-1]"
      ],
      "execution_count": 0,
      "outputs": [
        {
          "output_type": "execute_result",
          "data": {
            "text/plain": [
              "[8, 9, 9, 0]"
            ]
          },
          "metadata": {
            "tags": []
          },
          "execution_count": 62
        }
      ]
    },
    {
      "cell_type": "markdown",
      "metadata": {
        "id": "nNVZbbtyiNlG",
        "colab_type": "text"
      },
      "source": [
        "Given an array nums of n integers where n > 1,  return an array output such that output[i] is equal to the product of all the elements of nums except nums[i].\n",
        "\n",
        "Example:\n",
        "\n",
        "Input:  [1,2,3,4]\n",
        "Output: [24,12,8,6]\n",
        "Note: Please solve it without division and in O(n)."
      ]
    },
    {
      "cell_type": "code",
      "metadata": {
        "id": "nJu7WcEmnCTw",
        "colab_type": "code",
        "colab": {
          "base_uri": "https://localhost:8080/",
          "height": 34
        },
        "outputId": "ce04ed2c-13d3-44c1-e984-36d97dea7f6e"
      },
      "source": [
        "a=[]\n",
        "b=[1,2,3,4]\n",
        "class Solution:\n",
        "    def productExceptSelf(self, b):\n",
        "\n",
        "        i=0\n",
        "        mul=1\n",
        "        a=len(b)*[1]\n",
        "        for i in range(1,len(b)):\n",
        "            a[i]=b[i-1]*a[i-1]\n",
        "        R=1\n",
        "        for i in range(len(b)-1,-1,-1):\n",
        "            a[i] = a[i] * R\n",
        "            R = R * b[i]\n",
        "        return a\n",
        "\n",
        "l=Solution()\n",
        "l.productExceptSelf(b)"
      ],
      "execution_count": 6,
      "outputs": [
        {
          "output_type": "execute_result",
          "data": {
            "text/plain": [
              "[24, 12, 8, 6]"
            ]
          },
          "metadata": {
            "tags": []
          },
          "execution_count": 6
        }
      ]
    },
    {
      "cell_type": "code",
      "metadata": {
        "id": "Gy-w7eYPiM39",
        "colab_type": "code",
        "colab": {
          "base_uri": "https://localhost:8080/",
          "height": 34
        },
        "outputId": "dac982c4-298b-4b1b-b019-6b871b98bb8f"
      },
      "source": [
        "a=[]\n",
        "b=[1,2,3,4]\n",
        "class Solution:\n",
        "    def productExceptSelf(self, nums):\n",
        "\n",
        "        i=0\n",
        "        mul=1\n",
        "        a=len(nums)*[1]\n",
        "        while i<len(nums):\n",
        "            for k in nums[:i]+nums[i+1:]:\n",
        "                a[i]=a[i]*k\n",
        "            i+=1\n",
        "\n",
        "        return a\n",
        "\n",
        "l=Solution()\n",
        "l.productExceptSelf(b)"
      ],
      "execution_count": 13,
      "outputs": [
        {
          "output_type": "execute_result",
          "data": {
            "text/plain": [
              "[24, 12, 8, 6]"
            ]
          },
          "metadata": {
            "tags": []
          },
          "execution_count": 13
        }
      ]
    }
  ]
}