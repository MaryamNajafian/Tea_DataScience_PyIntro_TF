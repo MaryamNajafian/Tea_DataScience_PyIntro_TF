{
  "nbformat": 4,
  "nbformat_minor": 0,
  "metadata": {
    "colab": {
      "name": "Lect1.ipynb",
      "provenance": [],
      "collapsed_sections": [],
      "authorship_tag": "ABX9TyNQDCc1lefJl/eZap/wUuPC"
    },
    "kernelspec": {
      "name": "python3",
      "display_name": "Python 3"
    }
  },
  "cells": [
    {
      "cell_type": "markdown",
      "metadata": {
        "id": "xUQcXbQkZmO5",
        "colab_type": "text"
      },
      "source": [
        "#Big O\n",
        "[link text](https://nbviewer.jupyter.org/github/jmportilla/Python-for-Algorithms--Data-Structures--and-Interviews/blob/master/Algorithm%20Analysis%20and%20Big%20O/Big%20O%20Notation.ipynb)\n",
        "\n",
        "## Time complexity\n",
        "Big-O notation describes how quickly runtime will grow relative to the input as the input get arbitrarily large.\n",
        "\n",
        "\n",
        "\n",
        "```\n",
        "Big-O\tName\n",
        "1\tConstant\n",
        "log(n)\tLogarithmic\n",
        "n\t    Linear\n",
        "nlog(n)\tLog Linear\n",
        "n^2\tQuadratic\n",
        "n^3\tCubic\n",
        "2^n\tExponential\n",
        "n! Factorial\n",
        "```\n",
        "\n",
        "## Space complexity\n",
        "Big-O notation describes how quickly space will grow relative to the input as the input get arbitrarily large.\n"
      ]
    },
    {
      "cell_type": "code",
      "metadata": {
        "id": "UC9lDnCvbByh",
        "colab_type": "code",
        "colab": {}
      },
      "source": [
        "def printer(n):\n",
        "    '''\n",
        "    Time complexity O(n)\n",
        "    Space complexity O(1)\n",
        "    '''\n",
        "    for x in range(10):\n",
        "        print(\"Hello world!\")\n",
        "\n"
      ],
      "execution_count": 0,
      "outputs": []
    },
    {
      "cell_type": "markdown",
      "metadata": {
        "id": "Z108M5PSe7uN",
        "colab_type": "text"
      },
      "source": [
        "#Lists\n",
        "In Python lists act as **dynamic arrays** and support a number of common operations through methods called on them. The two most common operations performed on a list are **indexing and assigning to an index position**. These operations are both designed to be run in constant time,** O(1)**.\\\n",
        "\n",
        "\n",
        "```\n",
        "Table of Big-O for common list operations\n",
        "Please note, in order to see this table, you may need to download this .ipynb file and view it locally, sometimes GitHub or nbveiwer have trouble showing the HTML for it...\n",
        "\n",
        "Operation\tBig-O Efficiency\n",
        "index []\tO(1)\n",
        "index assignment\tO(1)\n",
        "append\tO(1)\n",
        "pop()\tO(1)\n",
        "pop(i)\tO(n)\n",
        "insert(i,item)\tO(n)\n",
        "del operator\tO(n)\n",
        "iteration\tO(n)\n",
        "contains (in)\tO(n)\n",
        "get slice [x:y]\tO(k)\n",
        "del slice\tO(n)\n",
        "set slice\tO(n+k)\n",
        "reverse\tO(n)\n",
        "concatenate\tO(k)\n",
        "sort\tO(n log n)\n",
        "multiply\tO(nk)\n",
        "\n",
        "```\n",
        "\n"
      ]
    },
    {
      "cell_type": "markdown",
      "metadata": {
        "id": "nRb_G51xfqza",
        "colab_type": "text"
      },
      "source": [
        "## Dictionaries\n",
        "Dictionaries in Python are an implementation of a hash table. They operate with keys and values.\n",
        "\n",
        "Something that is pretty amazing is that getting and setting items in a dictionary are O(1)! Hash tables are designed with efficiency in mind, and we will explore them in much more detail later on in the course as one of the most important data structures to undestand. In the meantime, refer to the table below for Big-O efficiencies of common dictionary operations.\n",
        "\n",
        "\n",
        "```\n",
        "Operation\tBig-O Efficiency\n",
        "copy\tO(n)\n",
        "get item\tO(1)\n",
        "set item\tO(1)\n",
        "delete item\tO(1)\n",
        "contains (in)\tO(1)\n",
        "iteration\tO(n)\n",
        "```\n",
        "\n",
        "\n"
      ]
    },
    {
      "cell_type": "markdown",
      "metadata": {
        "id": "pvfzEVdNhCw7",
        "colab_type": "text"
      },
      "source": [
        "## Array Based Sequences¶\n",
        "\n",
        "This object classes available in Python. These are mainly the **list,tuple, and string ** objects. The main commonaility between these object types is the ability to index to access individual elements in the sequence. For example:\n",
        "\n",
        "**1byte = 8bits**\n",
        "**1 unicode = char 2bytes = 2*8 bits **\n",
        "\n",
        "```\n",
        "\n",
        "\n",
        "\n",
        "l = [1,2,3]\n",
        "l[0]\n",
        "1\n",
        "t = (1,2,3)\n",
        "t[0]\n",
        "1\n",
        "s = '123'\n",
        "s[0]\n",
        "'1'\n",
        "# This is formatted as code\n",
        "```"
      ]
    },
    {
      "cell_type": "markdown",
      "metadata": {
        "id": "uk8mdKJllZyF",
        "colab_type": "text"
      },
      "source": [
        "##Referencial arrays\n",
        "each element is a reference  to the object\n",
        "##Dynamic Array:\n",
        "dont need to specify how large the array is beforehand.\n"
      ]
    },
    {
      "cell_type": "code",
      "metadata": {
        "id": "ghTx3HPYmrTl",
        "colab_type": "code",
        "outputId": "f049a347-9851-4d0f-d246-94ac24159a84",
        "colab": {
          "base_uri": "https://localhost:8080/",
          "height": 187
        }
      },
      "source": [
        "import sys\n",
        "n=10\n",
        "data=[]\n",
        "\n",
        "for i in range(n):\n",
        "    a=len(data)\n",
        "    b=sys.getsizeof(data)\n",
        "    print(f\"length {a:3}; Size in bytes {b:4}\")\n",
        "    data.append(n)\n",
        "    #as we add more elemets the memory usage jumps in chuncks"
      ],
      "execution_count": 0,
      "outputs": [
        {
          "output_type": "stream",
          "text": [
            "length   0; Size in bytes   64\n",
            "length   1; Size in bytes   96\n",
            "length   2; Size in bytes   96\n",
            "length   3; Size in bytes   96\n",
            "length   4; Size in bytes   96\n",
            "length   5; Size in bytes  128\n",
            "length   6; Size in bytes  128\n",
            "length   7; Size in bytes  128\n",
            "length   8; Size in bytes  128\n",
            "length   9; Size in bytes  192\n"
          ],
          "name": "stdout"
        }
      ]
    },
    {
      "cell_type": "code",
      "metadata": {
        "id": "OWbVEK3SnRo_",
        "colab_type": "code",
        "outputId": "92876862-0fe0-46da-ccf6-5feb34e17673",
        "colab": {
          "base_uri": "https://localhost:8080/",
          "height": 34
        }
      },
      "source": [
        "a=2.3\n",
        "f\"{a:5}\""
      ],
      "execution_count": 0,
      "outputs": [
        {
          "output_type": "execute_result",
          "data": {
            "text/plain": [
              "'  2.3'"
            ]
          },
          "metadata": {
            "tags": []
          },
          "execution_count": 3
        }
      ]
    },
    {
      "cell_type": "markdown",
      "metadata": {
        "id": "lFdVNGljo1vU",
        "colab_type": "text"
      },
      "source": [
        "## implement Dynamic Array\n",
        "\n",
        "A quick note on public vs private methods, we can use an underscore _ before the method name to keep it non-public. \n",
        "\n",
        "* 1-Allocate a new array B with larger capacity\n",
        "* set B[i]=A[i] for i in [0,n-1], where n is current number of items\n",
        "* Set A=B, and we use B as the supporting list\n",
        "* insert new element n into the  new array\n"
      ]
    },
    {
      "cell_type": "code",
      "metadata": {
        "id": "L5TlapIgpPnb",
        "colab_type": "code",
        "colab": {}
      },
      "source": [
        "import ctypes\n",
        "\n",
        "class DynamicArray():\n",
        "    '''\n",
        "    DYNAMIC ARRAY CLASS (Similar to Python List)\n",
        "    '''\n",
        "    \n",
        "    def __init__(self):\n",
        "        self.n = 0 # Count actual elements (Default is 0)\n",
        "        self.capacity = 1 # Default Capacity 1 element\n",
        "        self.A = self.make_array(self.capacity)# \n",
        "        \n",
        "    def __len__(self):\n",
        "        \"\"\"\n",
        "        Return number of elements sorted in array\n",
        "        \"\"\"\n",
        "        return self.n\n",
        "    \n",
        "    def __getitem__(self,k):\n",
        "        \"\"\"\n",
        "        Return element at index k\n",
        "        \"\"\"\n",
        "        if not 0 <= k <self.n:\n",
        "            return IndexError('K is out of bounds!') # Check it k index is in bounds of array\n",
        "        \n",
        "        return self.A[k] #Retrieve from array at index k\n",
        "        \n",
        "    def append(self, ele):\n",
        "        \"\"\"\n",
        "        Add element to end of the array\n",
        "        \"\"\"\n",
        "        if self.n == self.capacity:\n",
        "            self._resize(2*self.capacity) #Double capacity if not enough room\n",
        "        \n",
        "        self.A[self.n] = ele #Set self.n index to element\n",
        "        self.n += 1\n",
        "        \n",
        "    def _resize(self,new_cap):\n",
        "        \"\"\"\n",
        "        Resize internal array to capacity new_cap\n",
        "        \"\"\"\n",
        "        \n",
        "        B = self.make_array(new_cap) # New bigger array\n",
        "        \n",
        "        for k in range(self.n): # Reference all existing values\n",
        "            B[k] = self.A[k]\n",
        "            \n",
        "        self.A = B # Call A the new bigger array\n",
        "        self.capacity = new_cap # Reset the capacity\n",
        "        \n",
        "    def make_array(self,new_cap):\n",
        "        \"\"\"\n",
        "        Returns a new array with new_cap capacity\n",
        "        ctypes.py_object is a raw array holder\n",
        "        \"\"\"\n",
        "        return (new_cap * ctypes.py_object)()"
      ],
      "execution_count": 0,
      "outputs": []
    },
    {
      "cell_type": "markdown",
      "metadata": {
        "id": "si8bn7-mvvvw",
        "colab_type": "text"
      },
      "source": [
        "* strategy of replacing an array with a new larger array might seem slow.\n",
        "* A single append operation may require O(n) time to perform\n",
        "* Our new array may allow us to add n new elements before the array must be replaced again\n",
        "* using an algorithmic design pattern called amortization we can show that performing a sequence of such append operations on a dynamic array is actually quite efficient\n",
        "\n",
        "    * Allocate memory for a larger array of size, 2X the old array\n",
        "    * Copy the contents of old array to new array\n",
        "    * free the old array\n",
        "\n"
      ]
    },
    {
      "cell_type": "code",
      "metadata": {
        "id": "flQbk_eqo1NU",
        "colab_type": "code",
        "colab": {}
      },
      "source": [
        "class M():\n",
        "    \n",
        "    def public(self):\n",
        "        print 'Use Tab to see me!'\n",
        "        \n",
        "    def _private(self):\n",
        "        print \"You won't be able to Tab to see me!\"\n",
        "\n",
        "m=M()\n",
        "m.public()\n",
        "m._private()\n"
      ],
      "execution_count": 0,
      "outputs": []
    },
    {
      "cell_type": "markdown",
      "metadata": {
        "id": "NzOeZHa9yDZ8",
        "colab_type": "text"
      },
      "source": [
        "# Anagram Check\n",
        "Problem\n",
        "Given two strings, check to see if they are anagrams. An anagram is when the two strings can be written using the exact same letters (so you can just rearrange the letters to get a different phrase or word).\n",
        "\n",
        "For example:\n",
        "\n",
        "\"public relations\" is an anagram of \"crap built on lies.\"\n",
        "\n",
        "\"clint eastwood\" is an anagram of \"old west action\"\n",
        "Note: Ignore spaces and capitalization. So \"d go\" is an anagram of \"God\" and \"dog\" and \"o d g\"."
      ]
    },
    {
      "cell_type": "code",
      "metadata": {
        "id": "iUV-_VoPqc_d",
        "colab_type": "code",
        "outputId": "3e7f6e1d-f0ff-41ef-d7df-767f4fca20aa",
        "colab": {
          "base_uri": "https://localhost:8080/",
          "height": 34
        }
      },
      "source": [
        "# anagram\n",
        "a='do g'\n",
        "a.replace(' ','')\n",
        "b='go d'\n",
        "b.replace(' ','')\n",
        "d=dict()\n",
        "for i in a:\n",
        "    if i in d.keys():\n",
        "        d[i]+=1\n",
        "    else:\n",
        "        d[i]=1\n",
        "dd=dict()\n",
        "for i in b:\n",
        "    if i in dd.keys():\n",
        "        dd[i]+=1\n",
        "    else:\n",
        "        dd[i]=1\n",
        "\n",
        "print(d,dd)"
      ],
      "execution_count": 0,
      "outputs": [
        {
          "output_type": "stream",
          "text": [
            "{'d': 1, 'o': 1, ' ': 1, 'g': 1} {'g': 1, 'o': 1, ' ': 1, 'd': 1}\n"
          ],
          "name": "stdout"
        }
      ]
    },
    {
      "cell_type": "code",
      "metadata": {
        "id": "IPdhZAzNz4ZP",
        "colab_type": "code",
        "outputId": "38eb7496-c7dc-4bf0-db17-410192e20901",
        "colab": {
          "base_uri": "https://localhost:8080/",
          "height": 34
        }
      },
      "source": [
        "# not as efficient as hash tables\n",
        "def anagram(s1,s2):\n",
        "    \n",
        "    #edge cases\n",
        "    if len(s1) !\n",
        "\n",
        "    s1=s1.replace(' ','').lower()\n",
        "    s2=s2.replace(' ','').lower()\n",
        "    return sorted(s1) == sorted(s2)\n",
        "\n",
        "ss = \"app leB ee\"\n",
        "bb = \"eeB le ppha\"\n",
        "anagram(ss,bb)\n",
        "\n",
        "\n"
      ],
      "execution_count": 0,
      "outputs": [
        {
          "output_type": "execute_result",
          "data": {
            "text/plain": [
              "False"
            ]
          },
          "metadata": {
            "tags": []
          },
          "execution_count": 28
        }
      ]
    },
    {
      "cell_type": "code",
      "metadata": {
        "id": "DDvGkWXwXRxR",
        "colab_type": "code",
        "colab": {}
      },
      "source": [
        "from collections import Counter \n",
        "\n",
        "\n",
        "def are_anagrams(str1, str2):\n",
        "    \"\"\"Return True if str1 and str2 are anagrams and False otherwise.\"\"\" \n",
        "    return Counter(str1) == Counter(str2)\n",
        "\n",
        "    #O(len(str1)+len(str2)+min(len(str1)+len(str2))"
      ],
      "execution_count": 0,
      "outputs": []
    },
    {
      "cell_type": "code",
      "metadata": {
        "id": "Q9eIu11a3Bit",
        "colab_type": "code",
        "outputId": "5e05d19a-9896-4daa-a6f5-73a696a23780",
        "colab": {
          "base_uri": "https://localhost:8080/",
          "height": 34
        }
      },
      "source": [
        "#use dict only\n",
        "#complexit is O(n)\n",
        "def anagram(s1,s2):\n",
        "    count={}\n",
        "    for letter in s1:\n",
        "        if letter in count:\n",
        "            count[letter] +=1\n",
        "        else:\n",
        "            count[letter]=1\n",
        "\n",
        "    for letter in s2:\n",
        "        if letter in count:\n",
        "            count[letter]-=1\n",
        "        else:\n",
        "            count[letter]=1\n",
        "\n",
        "\n",
        "    for k in count:\n",
        "        if count[k] !=0:\n",
        "            return False\n",
        "\n",
        "    return True\n",
        "\n",
        "\n",
        "\n",
        "ss = \"app leB ee\"\n",
        "bb = \"eeB le ppha\"\n",
        "anagram(ss,bb)"
      ],
      "execution_count": 0,
      "outputs": [
        {
          "output_type": "execute_result",
          "data": {
            "text/plain": [
              "False"
            ]
          },
          "metadata": {
            "tags": []
          },
          "execution_count": 32
        }
      ]
    },
    {
      "cell_type": "code",
      "metadata": {
        "id": "YHqbm8lL0U2m",
        "colab_type": "code",
        "outputId": "ffdcf21b-f08a-416b-f5df-d98f1b2b3f43",
        "colab": {
          "base_uri": "https://localhost:8080/",
          "height": 34
        }
      },
      "source": [
        "s1='app leB ee'\n",
        "s1.replace(' ','').lower()"
      ],
      "execution_count": 0,
      "outputs": [
        {
          "output_type": "execute_result",
          "data": {
            "text/plain": [
              "'applebee'"
            ]
          },
          "metadata": {
            "tags": []
          },
          "execution_count": 24
        }
      ]
    },
    {
      "cell_type": "code",
      "metadata": {
        "id": "j9_xNx1acOgH",
        "colab_type": "code",
        "outputId": "4f1d3314-9bb7-43a0-c3cb-9be73ccc57b6",
        "colab": {
          "base_uri": "https://localhost:8080/",
          "height": 34
        }
      },
      "source": [
        "'''\n",
        "\n",
        "Given an int array, \n",
        "output unique pairs that sum up to specific k \n",
        "arr=[1,3,2,2,6,4,5,8]\n",
        "pair_sum(arr,k)\n",
        "pair_sum(arr,10): \n",
        "uniq_pair=[(5,5),(4,6),(8,2)]\n",
        "\n",
        "\n",
        "'''\n",
        "import pdb #pdb.set_trace() # put it before error, press \"q\" to quit \n",
        "\n",
        "k=11\n",
        "arr=[1,3,2,2,6,4,5,5,9,8, 10,7]\n",
        "arr2=list(set(arr))\n",
        "uniq_pair=[]\n",
        "arr2.sort() # [1,2,4,5,8]\n",
        "\n",
        "if int(k/2)==k/2 and arr.count(int(k/2))>=2:\n",
        "    uniq_pair.append((int(k/2),int(k/2)))\n",
        "    arr2.remove(int(k/2))\n",
        "\n",
        "for i in arr2:\n",
        "    if (k-i) in arr2 and i <= (int(k/2)):\n",
        "         uniq_pair.append((i,k-i))\n",
        "\n",
        "print(uniq_pair)\n",
        "\n"
      ],
      "execution_count": 0,
      "outputs": [
        {
          "output_type": "stream",
          "text": [
            "[(1, 10), (2, 9), (3, 8), (4, 7), (5, 6)]\n"
          ],
          "name": "stdout"
        }
      ]
    },
    {
      "cell_type": "code",
      "metadata": {
        "id": "RrS7t70EutKL",
        "colab_type": "code",
        "outputId": "af3fd029-7229-45c5-de47-78009171de95",
        "colab": {
          "base_uri": "https://localhost:8080/",
          "height": 34
        }
      },
      "source": [
        "import pdb\n",
        "def pair_sum(arr,k):\n",
        "    '''\n",
        "    We go through the list and each time ask, is the \n",
        "    number completing the num (target) been seen before?\n",
        "    If it has been seen we add them,else we put it in \n",
        "    the seen set and wait for its complementer to arrive \n",
        "    and pick it up from the seen\n",
        "    '''\n",
        "    #edge case: array of len 2\n",
        "    if len(arr)==2:\n",
        "        return\n",
        "    # Sets for tracking\n",
        "    seen = set()\n",
        "    output = set()\n",
        "    for num in arr:\n",
        "        target = k - num\n",
        "        if target not in seen:\n",
        "            seen.add(num)\n",
        "        else:\n",
        "            output.add((min(num,target),max(num,target)))\n",
        "    #pdb.set_trace()\n",
        "    #return len(output)\n",
        "    print(f\"{' '.join(map(str,list(output)))},an the length is {len(output)}\")\n",
        "\n",
        "pair_sum([1,3,2,2],4)"
      ],
      "execution_count": 0,
      "outputs": [
        {
          "output_type": "stream",
          "text": [
            "(1, 3) (2, 2),an the length is 2\n"
          ],
          "name": "stdout"
        }
      ]
    },
    {
      "cell_type": "code",
      "metadata": {
        "id": "7lyRJjbOML11",
        "colab_type": "code",
        "outputId": "1b591800-756b-4cc6-cd25-8f8bacaa375c",
        "colab": {
          "base_uri": "https://localhost:8080/",
          "height": 34
        }
      },
      "source": [
        "len({1,2})"
      ],
      "execution_count": 0,
      "outputs": [
        {
          "output_type": "execute_result",
          "data": {
            "text/plain": [
              "2"
            ]
          },
          "metadata": {
            "tags": []
          },
          "execution_count": 112
        }
      ]
    },
    {
      "cell_type": "code",
      "metadata": {
        "id": "A3A0KBOw2b3i",
        "colab_type": "code",
        "outputId": "a38bb2f1-95e9-4efe-e1ef-f5c6fc263af3",
        "colab": {
          "base_uri": "https://localhost:8080/",
          "height": 119
        }
      },
      "source": [
        "'''\n",
        "Complexity O(n)\n",
        "Inputs:\n",
        "Original array: an range of positive ints\n",
        "Second array: Shuffling the elements of the \n",
        "Original array and deleting a random element\n",
        "\n",
        "Outputs=Find the missing number\n",
        "\n",
        "# if you use lists with 2 for loops: O(N^2)\n",
        "# sort first array, then binary search second one O(NlongN)\n",
        "# Dictionare O(n). \n",
        "# you can sum 2 arrays then subtract. However it can be problematic if the arrays are too long \n",
        "or the numbers are too large (u can overflow when summing up the numbers) \n",
        "Or if numbers have a lot of decimal places u may loose some information\n",
        "'''\n",
        "\n",
        "\n",
        "def find_missing(org_array):\n",
        "    # org_array = [1,23,2,3,1,5,4]\n",
        "    # second_array= [1,23,2,3,5,4]\n",
        "    print(\"1\",org_array)\n",
        "    second_array = shuffle_remove_randitem(org_array)\n",
        "    print(\"2\",second_array,org_array)\n",
        "    res=find_missing_element(org_array,second_array)\n",
        "    print(\"3\",res)\n",
        "    return f\"{org_array}-{second_array}={res}\"\n",
        "\n",
        "\n",
        "def shuffle_remove_randitem(org_array):\n",
        "    from random import shuffle, randint\n",
        "    #if you dont assign org_array here it changes in the main function\n",
        "    input_array = org_array.copy()\n",
        "    shuffle(input_array)\n",
        "    randindex=randint(0,len(input_array)-1)\n",
        "    input_array.pop(randindex)\n",
        "    print(\"ret:\",input_array)\n",
        "    return input_array\n",
        "\n",
        "def find_missing_elementUdemy(arr1,arr2):\n",
        "    import collections\n",
        "    # default dict getting ints and if \n",
        "    # key not in dont give error like normal dict\n",
        "    d=collections.defaultdict(int) \n",
        "    for num in arr2:\n",
        "        d[num] += 1\n",
        "    for num in arr1:\n",
        "        if d[num] == 0:\n",
        "            return num\n",
        "        else:\n",
        "            d[num] -= 1\n",
        "    \n",
        "\n",
        "\n",
        "def find_missing_element(org_array,second_array):\n",
        " # Time complexity of converting list to set is O(n)\n",
        " # Iterating over a list is O(n) and adding each element\n",
        " # to the hash set is O(1), so the total operation is O(n).\n",
        "\n",
        "    org_arrayset=set(org_array)\n",
        "    second_arrayset=set(second_array)\n",
        "    orglen=len(org_arrayset)\n",
        "    seclen=len(second_arrayset)\n",
        "    second_arraydict=dict()\n",
        "\n",
        "    if orglen == seclen:\n",
        "        for item in  second_array:\n",
        "            if item in second_arraydict:\n",
        "                second_arraydict[item]+=1    \n",
        "            else:\n",
        "                second_arraydict[item]=1\n",
        "\n",
        "        for item in org_array:\n",
        "            if item in second_arraydict:\n",
        "                second_arraydict[item]-=1 \n",
        "                if second_arraydict[item] == -1:\n",
        "                    return item\n",
        " \n",
        "    else:\n",
        "        #orglen > seclen:\n",
        "        res=org_arrayset - second_arrayset\n",
        "        return f\"{org_arrayset - second_arrayset}\"\n",
        "\n",
        "\n",
        "print(\"Hi there\")\n",
        "org_array = [1,23,2,3,1,5,4]\n",
        "find_missing(org_array)"
      ],
      "execution_count": 0,
      "outputs": [
        {
          "output_type": "stream",
          "text": [
            "Hi there\n",
            "1 [1, 23, 2, 3, 1, 5, 4]\n",
            "ret: [23, 2, 1, 4, 3, 5]\n",
            "2 [23, 2, 1, 4, 3, 5] [1, 23, 2, 3, 1, 5, 4]\n",
            "3 1\n"
          ],
          "name": "stdout"
        },
        {
          "output_type": "execute_result",
          "data": {
            "text/plain": [
              "'[1, 23, 2, 3, 1, 5, 4]-[23, 2, 1, 4, 3, 5]=1'"
            ]
          },
          "metadata": {
            "tags": []
          },
          "execution_count": 153
        }
      ]
    },
    {
      "cell_type": "code",
      "metadata": {
        "id": "VEsmnvX_H6Oi",
        "colab_type": "code",
        "outputId": "539924cf-3b27-4a31-dc65-498f393ae8f1",
        "colab": {
          "base_uri": "https://localhost:8080/",
          "height": 34
        }
      },
      "source": [
        "# complexity O(nlogn) above method is better\n",
        "def finderUdemy(arr1,arr2):\n",
        "    # \n",
        "    arr1.sort()\n",
        "    arr2.sort()\n",
        "\n",
        "    for num1,num2 in zip(arr1, arr2):\n",
        "        if num1 !=num2:\n",
        "            return num1\n",
        "    return arr1[-1]\n",
        "\n",
        "arr1=[1, 23, 2, 3, 1, 5, 4]\n",
        "arr2=[23, 2, 1, 4, 3, 5]\n",
        "finderUdemy(arr1,arr2)\n"
      ],
      "execution_count": 0,
      "outputs": [
        {
          "output_type": "execute_result",
          "data": {
            "text/plain": [
              "1"
            ]
          },
          "metadata": {
            "tags": []
          },
          "execution_count": 155
        }
      ]
    },
    {
      "cell_type": "code",
      "metadata": {
        "id": "WyMurin04Xil",
        "colab_type": "code",
        "outputId": "66829918-f06e-4d5d-e847-6bffa8465e8b",
        "colab": {
          "base_uri": "https://localhost:8080/",
          "height": 34
        }
      },
      "source": [
        "'''\n",
        "O(n)\n",
        "Given an array of +/-ints find largest continious sum\n",
        "'''\n",
        "def large_cont_sum(arr):\n",
        "    arr=[-10,-1,1,2,3,4,-3,10,-1]\n",
        "    #edge case check\n",
        "    if len(arr)==0:\n",
        "        return 0\n",
        "    max_sum=current_sum=arr[0]\n",
        "    for num in arr[1:]:\n",
        "        current_sum =max(current_sum+num,num)\n",
        "        max_sum = max(current_sum,max_sum)\n",
        "    return max_sum\n",
        "\n",
        "large_cont_sum([-10,-1,1,2,3,4,10,-1])\n",
        "\n",
        "\n"
      ],
      "execution_count": 0,
      "outputs": [
        {
          "output_type": "execute_result",
          "data": {
            "text/plain": [
              "17"
            ]
          },
          "metadata": {
            "tags": []
          },
          "execution_count": 167
        }
      ]
    },
    {
      "cell_type": "code",
      "metadata": {
        "id": "2fVeBvvOMc1-",
        "colab_type": "code",
        "outputId": "09efe967-a3f4-4553-f74d-b71eb1931ea6",
        "colab": {
          "base_uri": "https://localhost:8080/",
          "height": 34
        }
      },
      "source": [
        "'''\n",
        "Give a string of words, reverse all the words.\n",
        "Also remove leading and tailing space\n",
        "method: split by words than put them in a stack \n",
        "'''\n",
        "a=\"This is the best\"\n",
        "b=\"best the is This\"\n",
        "\n",
        "##\n",
        "def rev_word(s):\n",
        "    words=[]\n",
        "    reverse=[]\n",
        "    length=len(s)\n",
        "    i=0 #index tracker\n",
        "\n",
        "    while i<length:\n",
        "        if s[i] != ' ':\n",
        "            word_start = i\n",
        "            while i< length and s[i] !=' ':\n",
        "                i+=1\n",
        "            words.append(s[word_start:i])\n",
        "            reverse.insert(0,s[word_start:i])\n",
        "        i+=1\n",
        "    #return \" \".join(reversed(words))\n",
        "    return \" \".join(reverse)\n",
        "\n",
        "\n",
        "\n",
        "\n",
        "# def otherMethods():\n",
        "#     ## two line solution\n",
        "#     lista=a.split(' ') #O(n)\n",
        "#     listb=lista[::-1]  #O(n)\n",
        "#     ## one line solution\n",
        "#     listb=' '.join(reversed(a.split()))\n",
        "#     return True\n",
        "\n",
        "\n",
        "\n",
        "rev_word(a)\n",
        "\n",
        "\n",
        "\n"
      ],
      "execution_count": 0,
      "outputs": [
        {
          "output_type": "execute_result",
          "data": {
            "text/plain": [
              "'best the is This'"
            ]
          },
          "metadata": {
            "tags": []
          },
          "execution_count": 10
        }
      ]
    },
    {
      "cell_type": "code",
      "metadata": {
        "id": "Y3lyk-wi-hml",
        "colab_type": "code",
        "outputId": "720491ff-256e-4d30-a092-9dc229321231",
        "colab": {
          "base_uri": "https://localhost:8080/",
          "height": 122
        }
      },
      "source": [
        "!pip install nose\n"
      ],
      "execution_count": 0,
      "outputs": [
        {
          "output_type": "stream",
          "text": [
            "Collecting nose\n",
            "\u001b[?25l  Downloading https://files.pythonhosted.org/packages/15/d8/dd071918c040f50fa1cf80da16423af51ff8ce4a0f2399b7bf8de45ac3d9/nose-1.3.7-py3-none-any.whl (154kB)\n",
            "\r\u001b[K     |██▏                             | 10kB 24.3MB/s eta 0:00:01\r\u001b[K     |████▎                           | 20kB 3.2MB/s eta 0:00:01\r\u001b[K     |██████▍                         | 30kB 4.0MB/s eta 0:00:01\r\u001b[K     |████████▌                       | 40kB 2.9MB/s eta 0:00:01\r\u001b[K     |██████████▋                     | 51kB 3.3MB/s eta 0:00:01\r\u001b[K     |████████████▊                   | 61kB 4.0MB/s eta 0:00:01\r\u001b[K     |██████████████▉                 | 71kB 4.3MB/s eta 0:00:01\r\u001b[K     |█████████████████               | 81kB 4.4MB/s eta 0:00:01\r\u001b[K     |███████████████████             | 92kB 4.9MB/s eta 0:00:01\r\u001b[K     |█████████████████████▏          | 102kB 4.8MB/s eta 0:00:01\r\u001b[K     |███████████████████████▎        | 112kB 4.8MB/s eta 0:00:01\r\u001b[K     |█████████████████████████▍      | 122kB 4.8MB/s eta 0:00:01\r\u001b[K     |███████████████████████████▌    | 133kB 4.8MB/s eta 0:00:01\r\u001b[K     |█████████████████████████████▋  | 143kB 4.8MB/s eta 0:00:01\r\u001b[K     |███████████████████████████████▊| 153kB 4.8MB/s eta 0:00:01\r\u001b[K     |████████████████████████████████| 163kB 4.8MB/s \n",
            "\u001b[?25hInstalling collected packages: nose\n",
            "Successfully installed nose-1.3.7\n"
          ],
          "name": "stdout"
        }
      ]
    },
    {
      "cell_type": "code",
      "metadata": {
        "id": "K_zkgxPq9Yev",
        "colab_type": "code",
        "outputId": "f48edc74-2950-4c59-af52-31f895c9bd06",
        "colab": {
          "base_uri": "https://localhost:8080/",
          "height": 34
        }
      },
      "source": [
        "\"\"\"\n",
        "RUN THIS CELL TO TEST YOUR SOLUTION\n",
        "\"\"\"\n",
        "\n",
        "from nose.tools import assert_equal\n",
        "\n",
        "class ReversalTest():\n",
        "    \n",
        "    def test(self,sol):\n",
        "        assert_equal(sol('    space before'),'before space')\n",
        "        assert_equal(sol('space after     '),'after space')\n",
        "        assert_equal(sol('   Hello John    how are you   '),'you are how John Hello')\n",
        "        assert_equal(sol('1'),'1')\n",
        "        print (\"ALL TEST CASES PASSED\")\n",
        "        \n",
        "# Run and test\n",
        "t = ReversalTest()\n",
        "t.test(rev_word)"
      ],
      "execution_count": 0,
      "outputs": [
        {
          "output_type": "stream",
          "text": [
            "ALL TEST CASES PASSED\n"
          ],
          "name": "stdout"
        }
      ]
    },
    {
      "cell_type": "code",
      "metadata": {
        "id": "VgYtfPlZSBNC",
        "colab_type": "code",
        "colab": {}
      },
      "source": [
        "'''\n",
        "Given a string \n",
        "\"AAAABBBDDEffFF\"\n",
        "compress it to return (case sensetive)\n",
        "\"A4B3D2E1f2F2\"\n",
        "'''\n",
        "take a look with careful attention to the explanatory comments:\n",
        "\n",
        "def compress(s):\n",
        "    \"\"\"\n",
        "    This solution compresses without checking. Known as the RunLength Compression algorithm.\n",
        "    \"\"\"\n",
        "    \n",
        "    # Begin Run as empty string\n",
        "    r = \"\"\n",
        "    listlen = len(s)\n",
        "    \n",
        "    # Check for length 0\n",
        "    if listlen == 0:\n",
        "        return \"\"\n",
        "    \n",
        "    # Check for length 1\n",
        "    if listlen == 1:\n",
        "        return s + \"1\"\n",
        "    \n",
        "    #Intialize Values\n",
        "    last = s[0] #element one of string\n",
        "    cnt = 1\n",
        "    i = 1\n",
        "    \n",
        "    while i < listlen: # l length of list\n",
        "        \n",
        "        # Check to see if it is the same letter\n",
        "        if s[i] == s[i - 1]: #if a char == char before\n",
        "            # Add a count if same as previous\n",
        "            cnt += 1\n",
        "        else:\n",
        "            # Otherwise store the previous data\n",
        "            r = r + s[i - 1] + str(cnt) #concatinting string to old strings\n",
        "            cnt = 1 # resetting the count!\n",
        "            \n",
        "        # Add to index count to terminate while loop\n",
        "        i += 1\n",
        "    \n",
        "    # Put everything back into run\n",
        "    r = r + s[i - 1] + str(cnt)\n",
        "    \n",
        "    return r\n",
        "\n",
        "compres(s)       "
      ],
      "execution_count": 0,
      "outputs": []
    },
    {
      "cell_type": "code",
      "metadata": {
        "id": "F1U8U60e4lAX",
        "colab_type": "code",
        "colab": {}
      },
      "source": [
        "\"\"\"\n",
        "RUN THIS CELL TO TEST YOUR SOLUTION\n",
        "\"\"\"\n",
        "from nose.tools import assert_equal\n",
        "\n",
        "class TestCompress():\n",
        "\n",
        "    def test(self, sol):\n",
        "        assert_equal(sol(''), '')\n",
        "        assert_equal(sol('AABBCC'), 'A2B2C2')\n",
        "        assert_equal(sol('AAABCCDDDDD'), 'A3B1C2D5')\n",
        "        print 'ALL TEST CASES PASSED'\n",
        "\n",
        "# Run Tests\n",
        "t = TestCompress()\n",
        "t.test(compress)"
      ],
      "execution_count": 0,
      "outputs": []
    },
    {
      "cell_type": "code",
      "metadata": {
        "id": "gC4RJ3xR4_E0",
        "colab_type": "code",
        "outputId": "d116500a-bd34-4150-9f36-5db9f4314496",
        "colab": {
          "base_uri": "https://localhost:8080/",
          "height": 51
        }
      },
      "source": [
        "'''\n",
        "Check if your string comprises of unique characters only.\n",
        "sol('abcd')=True\n",
        "sol('accd')=False\n",
        "'''\n",
        "\n",
        "def uni_char2(st):\n",
        "    chars = set()\n",
        "    for let in st:\n",
        "        if let in chars:\n",
        "            return False\n",
        "        else:\n",
        "            chars.add(let)\n",
        "    return True\n",
        "\n",
        "\n",
        "def uni_char(st):\n",
        "    return len(set(st))==len(st)\n",
        "\n",
        "st='accd'\n",
        "print(uni_char2(st))\n",
        "print(uni_char(st))\n"
      ],
      "execution_count": 0,
      "outputs": [
        {
          "output_type": "stream",
          "text": [
            "False\n",
            "False\n"
          ],
          "name": "stdout"
        }
      ]
    },
    {
      "cell_type": "code",
      "metadata": {
        "id": "MqIsGs7H6OSF",
        "colab_type": "code",
        "outputId": "5e29fbc5-2b21-46d4-81e0-2c17d969c8ab",
        "colab": {
          "base_uri": "https://localhost:8080/",
          "height": 34
        }
      },
      "source": [
        "from nose.tools import assert_equal as ae\n",
        "\n",
        "class TestCompress():\n",
        "\n",
        "    def test(self, myfunc):\n",
        "        ae(myfunc('abdcc'), False)\n",
        "        ae(myfunc('aaa'), False)\n",
        "        ae(myfunc('abc'), True)\n",
        "        print('ALL TEST CASES PASSED')\n",
        "# Run Tests\n",
        "t = TestCompress()\n",
        "t.test(uni_char2)"
      ],
      "execution_count": 0,
      "outputs": [
        {
          "output_type": "stream",
          "text": [
            "ALL TEST CASES PASSED\n"
          ],
          "name": "stdout"
        }
      ]
    },
    {
      "cell_type": "code",
      "metadata": {
        "id": "iRVTHT6e73hO",
        "colab_type": "code",
        "colab": {}
      },
      "source": [
        "from collections import defaultdict \n",
        "dc=defaultdict(str)\n",
        "dc=defaultdict(float)\n",
        "dc=defaultdict(int)\n",
        "dc=defaultdict(list)\n",
        "dc=defaultdict(set)\n",
        "\n",
        "'''\n",
        "Setting the default_factory to set makes the defaultdict useful for building a dictionary of sets:\n",
        "\n",
        ">>> s = [('red', 1), ('blue', 2), ('red', 3), ('blue', 4), ('red', 1), ('blue', 4)]\n",
        ">>> d = defaultdict(set)\n",
        ">>> for k, v in s:\n",
        "...     d[k].add(v)\n",
        "...\n",
        ">>> d.items()\n",
        "[('blue', set([2, 4])), ('red', set([1, 3]))]\n",
        "\n",
        "'''\n",
        "##################################\n",
        "'''\n",
        "\n",
        "Using list as the default_factory, it is easy to group a sequence of key-value pairs into a dictionary of lists:\n",
        "\n",
        ">>> s = [('yellow', 1), ('blue', 2), ('yellow', 3), ('blue', 4), ('red', 1)]\n",
        ">>> d = defaultdict(list)\n",
        ">>> for k, v in s:\n",
        "...     d[k].append(v)\n",
        "...\n",
        ">>> d.items()\n",
        "[('blue', [2, 4]), ('red', [1]), ('yellow', [1, 3])]\n",
        "\n",
        "'''\n",
        "##################################\n",
        "\n",
        "\n",
        "'''\n",
        "Setting the default_factory to int makes the defaultdict useful for counting (like a bag or multiset in other languages):\n",
        "\n",
        ">>> s = 'mississippi'\n",
        ">>> d = defaultdict(int)\n",
        ">>> for k in s:\n",
        "...     d[k] += 1\n",
        "...\n",
        ">>> d.items()\n",
        "[('i', 4), ('p', 2), ('s', 4), ('m', 1)]\n",
        "\n",
        "'''\n",
        "##################################\n",
        "\n"
      ],
      "execution_count": 0,
      "outputs": []
    },
    {
      "cell_type": "markdown",
      "metadata": {
        "id": "7KscI78RBb9x",
        "colab_type": "text"
      },
      "source": [
        "## Stacks  (LIFO) Last in is first out\n",
        "A stack is an orderdered collection of items where the addition of new items and the removal of existing items always takes place at the same end\n",
        "\n",
        "* This endis commonly reffered to as \"top\"\n",
        "* The end opposite the top is known as the \"base\"\n",
        "* The base of the stack is significant since items stored in the stack that are closer to the base represent those that have been in the stack the longest\n",
        "* The most recently added item is the one that is in position to be removed\n",
        "* **This ordering principle is sometimes called Last In First Out (LIFO)**\n",
        "    * Newer items are near the top, while older items are near the base\n",
        "\n",
        "* The items are \"pushed\" to the top of the stack and \"popped\" from top of the stack\n",
        "\n",
        "* stacks are fundamentally iportant, as they can be used to reverse the order of the items.\n",
        "* **The order of insertion is the reverse of the order of removal**\n",
        "* You can think of examples of stacks that occure as you use your computer (E.g. back botton Web browser URLs! or CTRL+Z in word)\n",
        "\n",
        "\n"
      ]
    },
    {
      "cell_type": "code",
      "metadata": {
        "id": "qauKxBDFKS7X",
        "colab_type": "code",
        "outputId": "f164ad38-729c-4b2b-dc0e-4a1c80281a47",
        "colab": {
          "base_uri": "https://localhost:8080/",
          "height": 571
        }
      },
      "source": [
        "from IPython.display import Image\n",
        "Image('https://media.geeksforgeeks.org/wp-content/cdn-uploads/Stack-Queue.png')\n"
      ],
      "execution_count": 0,
      "outputs": [
        {
          "output_type": "execute_result",
          "data": {
            "image/png": "[encoded data removed]",
            "text/plain": [
              "<IPython.core.display.Image object>"
            ]
          },
          "metadata": {
            "tags": []
          },
          "execution_count": 16
        }
      ]
    },
    {
      "cell_type": "markdown",
      "metadata": {
        "id": "pClcew51Kg5S",
        "colab_type": "text"
      },
      "source": [
        "# Stack Attributes and Methods\n",
        "\n",
        "The stack abstract data type is defined by the following structure and operations. \n",
        "\n",
        "* Stack() creates a new stack that is empty. It needs no parameters and returns an empty stack.\n",
        "\n",
        "* push(item) adds a new item to the top of the stack. It needs the item and returns nothing.\n",
        "\n",
        "* pop() removes the top item from the stack. It needs no parameters and returns the item. The stack is modified.\n",
        "\n",
        "* peek() returns the top item from the stack but does not remove it. It needs no parameters. The stack is not modified.\n",
        "\n",
        "* isEmpty() tests to see whether the stack is empty. It needs no parameters and returns a boolean value.\n",
        "\n",
        "* size() returns the number of items on the stack. It needs no parameters and returns an integer."
      ]
    },
    {
      "cell_type": "code",
      "metadata": {
        "id": "E1qD3t2UKgJS",
        "colab_type": "code",
        "colab": {}
      },
      "source": [
        "class Stack:\n",
        "    \n",
        "    \n",
        "    def __init__(self):\n",
        "        self.items = []\n",
        "\n",
        "    def isEmpty(self):\n",
        "        return self.items == []\n",
        "\n",
        "    def push(self, item):\n",
        "        self.items.append(item)\n",
        "\n",
        "    def pop(self):\n",
        "        return self.items.pop()\n",
        "\n",
        "    def peek(self):\n",
        "        return self.items[len(self.items)-1]\n",
        "\n",
        "    def size(self):\n",
        "        return len(self.items)"
      ],
      "execution_count": 0,
      "outputs": []
    },
    {
      "cell_type": "code",
      "metadata": {
        "id": "pNG0gLXbOXt4",
        "colab_type": "code",
        "outputId": "e0c6417a-829e-443a-e0a6-7f62e6c53b18",
        "colab": {
          "base_uri": "https://localhost:8080/",
          "height": 153
        }
      },
      "source": [
        "s = Stack()\n",
        "print(s.isEmpty())\n",
        "\n",
        "s.push(1)\n",
        "s.push('two')\n",
        "s.push('3')\n",
        "s.push(4)\n",
        "s.push(True)\n",
        "s.push(8)\n",
        "\n",
        "print(s.peek())\n",
        "print(s.isEmpty())\n",
        "\n",
        "print(s.pop())\n",
        "print(s.pop())\n",
        "print(s.pop())\n",
        "print(s.size())\n",
        "print(s) # <__main__.Stack object at 0x7f43ca8ac4e0>"
      ],
      "execution_count": 0,
      "outputs": [
        {
          "output_type": "stream",
          "text": [
            "True\n",
            "8\n",
            "False\n",
            "8\n",
            "True\n",
            "4\n",
            "3\n",
            "<__main__.Stack object at 0x7f43ca8ac4e0>\n"
          ],
          "name": "stdout"
        }
      ]
    },
    {
      "cell_type": "markdown",
      "metadata": {
        "id": "kgaRyOxaPHe5",
        "colab_type": "text"
      },
      "source": [
        "## Queue (FIFO) First in is first out\n",
        "\n",
        "A queue is an ordered collection of items where the addition of new items happens at one end, called the “rear,” and the removal of existing items occurs at the other end, commonly called the “front.” As an element enters the queue it starts at the rear and makes its way toward the front, waiting until that time when it is the next element to be removed.\n",
        "\n",
        "The most recently added item in the queue must wait at the end of the collection. The item that has been in the collection the longest is at the front. This ordering principle is sometimes called FIFO, first-in first-out. It is also known as “first-come first-served.”\n",
        "\n",
        "The simplest example of a queue is the typical line that we all participate in from time to time. We wait in a line for a movie, we wait in the check-out line at a grocery store, and we wait in the cafeteria line. The first person in that line is also the first person to get serviced/helped."
      ]
    },
    {
      "cell_type": "code",
      "metadata": {
        "id": "CHn-TwlDPeUm",
        "colab_type": "code",
        "colab": {}
      },
      "source": [
        "from IPython.display import Image\n",
        "url = 'https://netmatze.files.wordpress.com/2014/08/queue.png'\n",
        "Image(url)"
      ],
      "execution_count": 0,
      "outputs": []
    },
    {
      "cell_type": "markdown",
      "metadata": {
        "id": "fCjSin31PhC8",
        "colab_type": "text"
      },
      "source": [
        "Note how we have two terms here, Enqueue and Dequeue. The enqueue term describes when we add a new item to the rear of the queue. The dequeue term describes removing the front item from the queue."
      ]
    },
    {
      "cell_type": "code",
      "metadata": {
        "id": "3_i1xYp9PiF6",
        "colab_type": "code",
        "outputId": "5d9f1b58-37a2-47e6-b903-29ca30081cbd",
        "colab": {
          "base_uri": "https://localhost:8080/",
          "height": 288
        }
      },
      "source": [
        "from IPython.display import Image\n",
        "Image('https://www.pythoncentral.io/wp-content/uploads/2017/07/wordpress-hints-stack-google.png')"
      ],
      "execution_count": 0,
      "outputs": [
        {
          "output_type": "execute_result",
          "data": {
            "image/png": "[encoded data removed]",
            "text/plain": [
              "<IPython.core.display.Image object>"
            ]
          },
          "metadata": {
            "tags": []
          },
          "execution_count": 14
        }
      ]
    },
    {
      "cell_type": "markdown",
      "metadata": {
        "id": "nihIAlV8Pn8M",
        "colab_type": "text"
      },
      "source": [
        "## Queue Methods and Attributes\n",
        "\n",
        "* Queue() creates a new queue that is empty. It needs no parameters and returns an empty queue.\n",
        "\n",
        "* enqueue(item) adds a new item to the rear of the queue. It needs the item and returns nothing.\n",
        "\n",
        "* dequeue() removes the front item from the queue. It needs no parameters and returns the item. The queue is modified.\n",
        "\n",
        "* isEmpty() tests to see whether the queue is empty. It needs no parameters and returns a boolean value.\n",
        "\n",
        "* size() returns the number of items in the queue. It needs no parameters and returns an integer.\n"
      ]
    },
    {
      "cell_type": "code",
      "metadata": {
        "id": "A4zUbhakP8pp",
        "colab_type": "code",
        "colab": {}
      },
      "source": [
        "class Queue:\n",
        "    def __init__(self):\n",
        "        self.items = []\n",
        "\n",
        "    def isEmpty(self):\n",
        "        return self.items == []\n",
        "\n",
        "    def enqueue(self, item):\n",
        "        self.items.insert(0,item)\n",
        "\n",
        "    def dequeue(self):\n",
        "        return self.items.pop()\n",
        "\n",
        "    def size(self):\n",
        "        return len(self.items)"
      ],
      "execution_count": 0,
      "outputs": []
    },
    {
      "cell_type": "code",
      "metadata": {
        "id": "-7oeKVvfQKHw",
        "colab_type": "code",
        "outputId": "c373735a-e62d-47b7-aeca-632a7a15ec80",
        "colab": {
          "base_uri": "https://localhost:8080/",
          "height": 68
        }
      },
      "source": [
        "q = Queue()\n",
        "q.size()\n",
        "q.isEmpty()\n",
        "q.enqueue(1)\n",
        "q.enqueue('2')\n",
        "q.enqueue('three')\n",
        "print(q.dequeue())\n",
        "print(q.dequeue())\n",
        "print(q) #<__main__.Queue object at 0x7f43ca8e5080>\n",
        "\n"
      ],
      "execution_count": 0,
      "outputs": [
        {
          "output_type": "stream",
          "text": [
            "1\n",
            "2\n",
            "<__main__.Queue object at 0x7f43ca8e5080>\n"
          ],
          "name": "stdout"
        }
      ]
    },
    {
      "cell_type": "markdown",
      "metadata": {
        "id": "51n1Z8UWQzmS",
        "colab_type": "text"
      },
      "source": [
        "#Deques: Double ended queue (you can add/remove items from front/back)\n",
        "\n",
        "A deque, also known as a double-ended queue, is an ordered collection of items similar to the queue. It has two ends, a front and a rear, and the items remain positioned in the collection. What makes a deque different is the unrestrictive nature of adding and removing items. New items can be added at either the front or the rear. Likewise, existing items can be removed from either end. In a sense, this hybrid linear structure provides all the capabilities of stacks and queues in a single data structure.\n",
        "\n",
        "It is important to note that even though the deque can assume many of the characteristics of stacks and queues, it does not require the LIFO and FIFO orderings that are enforced by those data structures. It is up to you to make consistent use of the addition and removal operations."
      ]
    },
    {
      "cell_type": "code",
      "metadata": {
        "id": "lbr_8y-jRCOP",
        "colab_type": "code",
        "outputId": "4f39a3b5-2f09-43ba-b42c-5a856f255372",
        "colab": {
          "base_uri": "https://localhost:8080/",
          "height": 262
        }
      },
      "source": [
        " from IPython.display import Image\n",
        "Image('http://www.codeproject.com/KB/recipes/669131/deque.png')"
      ],
      "execution_count": 0,
      "outputs": [
        {
          "output_type": "execute_result",
          "data": {
            "image/png": "[encoded data removed]",
            "text/plain": [
              "<IPython.core.display.Image object>"
            ]
          },
          "metadata": {
            "tags": []
          },
          "execution_count": 53
        }
      ]
    },
    {
      "cell_type": "markdown",
      "metadata": {
        "id": "OPohsSUrRRDT",
        "colab_type": "text"
      },
      "source": [
        "# Deque Methods and Attributes\n",
        "\n",
        "* Deque() creates a new deque that is empty. It needs no parameters and returns an empty deque.\n",
        "\n",
        "* addFront(item) adds a new item to the front of the deque. It needs the item and returns nothing.\n",
        "\n",
        "* addRear(item) adds a new item to the rear of the deque. It needs the item and returns nothing.\n",
        "\n",
        "* removeFront() removes the front item from the deque. It needs no parameters and returns the item. The deque is modified.\n",
        "\n",
        "* removeRear() removes the rear item from the deque. It needs no parameters and returns the item. The deque is modified.\n",
        "\n",
        "* isEmpty() tests to see whether the deque is empty. It needs no parameters and returns a boolean value.\n",
        "\n",
        "* size() returns the number of items in the deque. It needs no parameters and returns an integer."
      ]
    },
    {
      "cell_type": "code",
      "metadata": {
        "id": "ANNQsk29fSV_",
        "colab_type": "code",
        "colab": {}
      },
      "source": [
        ""
      ],
      "execution_count": 0,
      "outputs": []
    },
    {
      "cell_type": "code",
      "metadata": {
        "id": "nNX_YX3gRMB4",
        "colab_type": "code",
        "colab": {}
      },
      "source": [
        "class Deque:\n",
        "    def __init__(self):\n",
        "        self.items = []\n",
        "\n",
        "    def isEmpty(self):\n",
        "        return self.items == []\n",
        "\n",
        "    def addFront(self, item):\n",
        "        self.items.append(item)\n",
        "\n",
        "    def addRear(self, item):\n",
        "        self.items.insert(0,item)\n",
        "\n",
        "    def removeFront(self):\n",
        "        return self.items.pop()\n",
        "\n",
        "    def removeRear(self):\n",
        "        return self.items.pop(0)\n",
        "\n",
        "    def size(self):\n",
        "        return len(self.items)"
      ],
      "execution_count": 0,
      "outputs": []
    },
    {
      "cell_type": "code",
      "metadata": {
        "id": "Ixt6GpiuRhs2",
        "colab_type": "code",
        "outputId": "67128c51-3b39-4af5-e7b2-e9f2cceeda27",
        "colab": {
          "base_uri": "https://localhost:8080/",
          "height": 34
        }
      },
      "source": [
        "d = Deque()\n",
        "d.addFront('hello')\n",
        "d.addRear('world')\n",
        "d.size()\n",
        "print(d.removeFront() + ' ' +  d.removeRear())\n",
        "d.size()"
      ],
      "execution_count": 0,
      "outputs": [
        {
          "output_type": "stream",
          "text": [
            "hello world\n"
          ],
          "name": "stdout"
        }
      ]
    },
    {
      "cell_type": "markdown",
      "metadata": {
        "id": "LRC_f1n6fUlK",
        "colab_type": "text"
      },
      "source": [
        "# Balanced Parentheses Check \n",
        "Given a string of opening and closing parentheses, check whether it’s balanced. We have 3 types of parentheses: round brackets: (), square brackets: [], and curly brackets: {}. Assume that the string doesn’t contain any other character than these, no spaces words or numbers. As a reminder, balanced parentheses require every opening parenthesis to be closed in the reverse order opened. For example ‘([])’ is balanced but ‘([)]’ is not.\n",
        "\n"
      ]
    },
    {
      "cell_type": "code",
      "metadata": {
        "id": "1ufMSGo3riO1",
        "colab_type": "code",
        "colab": {}
      },
      "source": [
        "'''\n",
        "Give a string\n",
        "Check if it is balanced or not\n",
        "s='[()]' balanced=True\n",
        "s='{()}' not balanced\n",
        "'''\n",
        "\n"
      ],
      "execution_count": 0,
      "outputs": []
    },
    {
      "cell_type": "markdown",
      "metadata": {
        "id": "YfPeMU3Zvyu1",
        "colab_type": "text"
      },
      "source": [
        "First we will scan the string from left to right, and every time we see an opening parenthesis we push it to a stack, because we want the last opening parenthesis to be closed first. (Remember the FILO structure of a stack!)\n",
        "\n",
        "Then, when we see a closing parenthesis we check whether the last opened one is the corresponding closing match, by popping an element from the stack. If it’s a valid match, then we proceed forward, if not return false.\n",
        "\n",
        "Or if the stack is empty we also return false, because there’s no opening parenthesis associated with this closing one. In the end, we also check whether the stack is empty. If so, we return true, otherwise return false because there were some opened parenthesis that were not closed."
      ]
    },
    {
      "cell_type": "code",
      "metadata": {
        "id": "mQF6FUUr2UVC",
        "colab_type": "code",
        "outputId": "7292bce6-451f-4410-d555-b826dabec8a4",
        "colab": {
          "base_uri": "https://localhost:8080/",
          "height": 122
        }
      },
      "source": [
        "!pip install nose"
      ],
      "execution_count": 0,
      "outputs": [
        {
          "output_type": "stream",
          "text": [
            "Collecting nose\n",
            "\u001b[?25l  Downloading https://files.pythonhosted.org/packages/15/d8/dd071918c040f50fa1cf80da16423af51ff8ce4a0f2399b7bf8de45ac3d9/nose-1.3.7-py3-none-any.whl (154kB)\n",
            "\r\u001b[K     |██▏                             | 10kB 20.0MB/s eta 0:00:01\r\u001b[K     |████▎                           | 20kB 1.8MB/s eta 0:00:01\r\u001b[K     |██████▍                         | 30kB 2.3MB/s eta 0:00:01\r\u001b[K     |████████▌                       | 40kB 1.8MB/s eta 0:00:01\r\u001b[K     |██████████▋                     | 51kB 1.9MB/s eta 0:00:01\r\u001b[K     |████████████▊                   | 61kB 2.3MB/s eta 0:00:01\r\u001b[K     |██████████████▉                 | 71kB 2.5MB/s eta 0:00:01\r\u001b[K     |█████████████████               | 81kB 2.7MB/s eta 0:00:01\r\u001b[K     |███████████████████             | 92kB 3.0MB/s eta 0:00:01\r\u001b[K     |█████████████████████▏          | 102kB 2.8MB/s eta 0:00:01\r\u001b[K     |███████████████████████▎        | 112kB 2.8MB/s eta 0:00:01\r\u001b[K     |█████████████████████████▍      | 122kB 2.8MB/s eta 0:00:01\r\u001b[K     |███████████████████████████▌    | 133kB 2.8MB/s eta 0:00:01\r\u001b[K     |█████████████████████████████▋  | 143kB 2.8MB/s eta 0:00:01\r\u001b[K     |███████████████████████████████▊| 153kB 2.8MB/s eta 0:00:01\r\u001b[K     |████████████████████████████████| 163kB 2.8MB/s \n",
            "\u001b[?25hInstalling collected packages: nose\n",
            "Successfully installed nose-1.3.7\n"
          ],
          "name": "stdout"
        }
      ]
    },
    {
      "cell_type": "code",
      "metadata": {
        "id": "0kazjWSOfYEm",
        "colab_type": "code",
        "colab": {}
      },
      "source": [
        "def balance_check(s):\n",
        "    \n",
        "    # Check is even number of brackets\n",
        "    if len(s)%2 != 0:\n",
        "        return False\n",
        "    \n",
        "    # Set of opening brackets\n",
        "    opening = set('([{') \n",
        "    \n",
        "    # Matching Pairs\n",
        "    matches = set([ ('(',')'), ('[',']'), ('{','}') ]) \n",
        "    \n",
        "    # Use a list as a \"Stack\"\n",
        "    stack = []\n",
        "    \n",
        "    # Check every parenthesis in string\n",
        "    for paren in s:\n",
        "        \n",
        "        # If its an opening, append it to list\n",
        "        if paren in opening:\n",
        "            stack.append(paren)\n",
        "        \n",
        "        else:\n",
        "            \n",
        "            # Check that there are parentheses in Stack\n",
        "            if len(stack) == 0:\n",
        "                return False\n",
        "            \n",
        "            # Check the last open parenthesis\n",
        "            last_open = stack.pop()\n",
        "            \n",
        "            # Check if it has a closing match\n",
        "            if (last_open,paren) not in matches:\n",
        "                return False\n",
        "            \n",
        "    return len(stack) == 0"
      ],
      "execution_count": 0,
      "outputs": []
    },
    {
      "cell_type": "code",
      "metadata": {
        "id": "UDrVYWzP2PEw",
        "colab_type": "code",
        "outputId": "0c9eb8bd-ab5b-4884-a61f-893197a46d9c",
        "colab": {
          "base_uri": "https://localhost:8080/",
          "height": 34
        }
      },
      "source": [
        "'''\n",
        "RUN THIS CELL TO TEST YOUR SOLUTION\n",
        "'''\n",
        "from nose.tools import assert_equal\n",
        "\n",
        "class TestBalanceCheck():\n",
        "    \n",
        "    def test(self,sol):\n",
        "        assert_equal(sol('[](){([[[]]])}('),False)\n",
        "        assert_equal(sol('[{{{(())}}}]((()))'),True)\n",
        "        assert_equal(sol('[[[]])]'),False)\n",
        "        print('ALL TEST CASES PASSED')\n",
        "        \n",
        "# Run Tests\n",
        "\n",
        "t = TestBalanceCheck()\n",
        "t.test(balance_check)"
      ],
      "execution_count": 0,
      "outputs": [
        {
          "output_type": "stream",
          "text": [
            "ALL TEST CASES PASSED\n"
          ],
          "name": "stdout"
        }
      ]
    },
    {
      "cell_type": "markdown",
      "metadata": {
        "id": "q2-YRhUQ4ne8",
        "colab_type": "text"
      },
      "source": [
        "## Implement a Queue - Using Two Stacks \n",
        "\n",
        "Given the Stack class, implement a Queue class using two stacks. The key insight is that a **stack reverses order (while a queue doesn't)**. A sequence of elements pushed on a stack comes back in reversed order when popped. **Consequently, two stacks chained together will return elements in the same order, since reversed order reversed again is original order.**\n",
        "\n",
        "We use an in-stack that we fill when an element is enqueued and the dequeue operation takes elements from an out-stack. If the out-stack is empty we pop all elements from the in-stack and push them onto the out-stack.\n"
      ]
    },
    {
      "cell_type": "code",
      "metadata": {
        "id": "DESmelkl6R6G",
        "colab_type": "code",
        "colab": {}
      },
      "source": [
        "class Queuefrom2Stacks():\n",
        "#implement a Queue class using two stacks stack1=[]\n",
        "# stack2=[] \n",
        "    def __init__(self):        \n",
        "        # Two Stacks\n",
        "        self.instack = []\n",
        "        self.outstack = []\n",
        "     \n",
        "    def enqueue(self,item):       \n",
        "        # Add an enqueue with the \"IN\" stack\n",
        "        self.instack.append(item)\n",
        "    \n",
        "    def dequeue(self):\n",
        "        if not self.outstack: # if outstack is not empty\n",
        "            while self.instack:\n",
        "                # Add the elements to the outstack to reverse the order when called\n",
        "                self.outstack.append(self.instack.pop())\n",
        "        return self.outstack.pop()  \n",
        "\n"
      ],
      "execution_count": 0,
      "outputs": []
    },
    {
      "cell_type": "code",
      "metadata": {
        "id": "4K-TG5IBFPoY",
        "colab_type": "code",
        "outputId": "148647ed-233c-400f-ffda-20d28f495c77",
        "colab": {
          "base_uri": "https://localhost:8080/",
          "height": 68
        }
      },
      "source": [
        "\"\"\"\n",
        "RUN THIS CELL TO CHECK THAT YOUR SOLUTION OUTPUT MAKES SENSE AND BEHAVES AS A QUEUE\n",
        "\"\"\"\n",
        "q = Queuefrom2Stacks()\n",
        "\n",
        "# we pretend a list is a stack\n",
        "stack1=[1,2,3]\n",
        "\n",
        "\n",
        "for i in stack1:\n",
        "    q.enqueue(i)\n",
        "    \n",
        "for i in range(len(stack1)):\n",
        "    print(q.dequeue())\n"
      ],
      "execution_count": 0,
      "outputs": [
        {
          "output_type": "stream",
          "text": [
            "1\n",
            "2\n",
            "3\n"
          ],
          "name": "stdout"
        }
      ]
    },
    {
      "cell_type": "markdown",
      "metadata": {
        "id": "cvkhyJFz5mnb",
        "colab_type": "text"
      },
      "source": [
        "#Linked Lists\n",
        "\n",
        "\n",
        "* Singly Linked Lists\n",
        "* Implementing a Singly Linked List\n",
        "* Doubly Linked Lists\n",
        "* Implementing a Doubly Linked list\n",
        "* Linked Lists Interview Problems\n",
        "\n",
        "\n",
        "\n"
      ]
    },
    {
      "cell_type": "markdown",
      "metadata": {
        "id": "f5_7qHT3BdIL",
        "colab_type": "text"
      },
      "source": [
        "## Singly Linked List\n",
        "\n",
        "It is a collection of nodes that collectively form a linear sequence. Each node stores a reference to an object that is an element of the sequence, as well as a refernce to the next node of the list.\n",
        "\n",
        "* The list instance maintains a memeber named head that identifies the first node of the list.\n",
        "\n",
        "\n",
        "* In some applications another member bamed that identifies the last node of the list.\n",
        "\n",
        "* The first and last node of a linked list are known as the head and tail of the list.\n",
        "\n",
        "* We can identifying the tail as the node having None as its next reference.\n",
        "\n",
        "* The process of going through a list node by node is called traversing the linked list\n",
        "\n",
        "* each node is represented as a unique object, with that instance atoring a reference to its element and a reference to the next node(or None)"
      ]
    },
    {
      "cell_type": "code",
      "metadata": {
        "id": "DQj9BSFd6Nyk",
        "colab_type": "code",
        "outputId": "9df5fbd8-fbc6-40dd-dd01-bfb0d296ea5a",
        "colab": {
          "base_uri": "https://localhost:8080/",
          "height": 186
        }
      },
      "source": [
        "from IPython.display import Image\n",
        "url ='https://he-s3.s3.amazonaws.com/media/uploads/1b76d10.png'\n",
        "\n",
        "Image(url)"
      ],
      "execution_count": 0,
      "outputs": [
        {
          "output_type": "execute_result",
          "data": {
            "image/png": "[encoded data removed]",
            "text/plain": [
              "<IPython.core.display.Image object>"
            ]
          },
          "metadata": {
            "tags": []
          },
          "execution_count": 1
        }
      ]
    },
    {
      "cell_type": "markdown",
      "metadata": {
        "id": "7BK-dvBrGF_7",
        "colab_type": "text"
      },
      "source": [
        "An important property of a linked list is that it does not have a predetermined fixed size. It uses space proportional to its current number of elements.\n",
        "* To insert a new element at the head of the list:\n",
        "    * we create a new code\n",
        "    * Set its element to the new element\n",
        "    * Set its next link to refer to the current head\n",
        "    * then set the lists head to point to the new node\n",
        "\n",
        "* We can insert an element at the tail of the list.\n",
        "    * create a new node\n",
        "    * assign its next reference to None\n",
        "    * Set the next reference of the tail to point to this new node\n",
        "    * Then update the tail reference itself to this new node\n",
        "\n",
        "* removing an element from a singly list\n",
        "    * removing an element from the head of a singly linkedlist is essentially the reverse operation of inserting a new element at the head\n",
        "\n",
        "* deleting last node of singly linked list is not as easy as deleting te first node\n",
        "    * we need to access the node before the last node in order to remove the last node\n",
        "    * but we can't reach the node before the tail by following next links from the tail.\n",
        "    * if we want to support that opperation efficiently, we will need to make our list a doubly linked \n",
        "\n"
      ]
    },
    {
      "cell_type": "markdown",
      "metadata": {
        "id": "nUBBJGOwaSce",
        "colab_type": "text"
      },
      "source": [
        "# Singly Linked List Implementation\n",
        "\n",
        "---\n",
        "\n"
      ]
    },
    {
      "cell_type": "markdown",
      "metadata": {
        "id": "WKwhpGIVcr8a",
        "colab_type": "text"
      },
      "source": [
        "In a singly linked list, we have an ordered list of items as individual Nodes that have pointers to other Nodes.\n",
        "\n",
        "In a Linked List the first node is called the head and the last node is called the tail.\n",
        "\n",
        "##**Pros**\n",
        "* Linked Lists have **constant-time insertions and deletions** in any position, in comparison, **arrays require O(n) time** to do the same thing.\n",
        "\n",
        "* Linked lists can continue to expand **without having to specify their size ahead of time **.\n",
        "\n",
        "##**Cons**\n",
        "* To access an element in a linked list, you need to take **O(k) time to go from the head of the list to the kth element**. In contrast, arrays have **constant time operations to access elements in an array**."
      ]
    },
    {
      "cell_type": "code",
      "metadata": {
        "id": "xFbBd0r9aJRY",
        "colab_type": "code",
        "colab": {}
      },
      "source": [
        "class Node():\n",
        "    \n",
        "    def __init__(self,value):\n",
        "        \n",
        "        self.value = value\n",
        "        self.nextnode = None\n",
        "\n",
        "        "
      ],
      "execution_count": 0,
      "outputs": []
    },
    {
      "cell_type": "code",
      "metadata": {
        "id": "2Z937jpwdIfl",
        "colab_type": "code",
        "colab": {}
      },
      "source": [
        "# defining nodes\n",
        "a = Node(1)\n",
        "b = Node(2)\n",
        "c = Node(3)"
      ],
      "execution_count": 0,
      "outputs": []
    },
    {
      "cell_type": "code",
      "metadata": {
        "id": "3SqgPy_ZdauA",
        "colab_type": "code",
        "colab": {}
      },
      "source": [
        "#defining next nodes\n",
        "a.nextnode = b\n"
      ],
      "execution_count": 0,
      "outputs": []
    },
    {
      "cell_type": "code",
      "metadata": {
        "id": "0HW6CT1_dczF",
        "colab_type": "code",
        "colab": {}
      },
      "source": [
        "#defining next nodes\n",
        "b.nextnode = c\n"
      ],
      "execution_count": 0,
      "outputs": []
    },
    {
      "cell_type": "code",
      "metadata": {
        "id": "iIt8SNIUp_kP",
        "colab_type": "code",
        "outputId": "754f56ff-d204-46d2-9515-f76d4cbeab52",
        "colab": {
          "base_uri": "https://localhost:8080/",
          "height": 34
        }
      },
      "source": [
        "a.value"
      ],
      "execution_count": 0,
      "outputs": [
        {
          "output_type": "execute_result",
          "data": {
            "text/plain": [
              "1"
            ]
          },
          "metadata": {
            "tags": []
          },
          "execution_count": 10
        }
      ]
    },
    {
      "cell_type": "code",
      "metadata": {
        "id": "pdj-gRKMqHEg",
        "colab_type": "code",
        "outputId": "bdfa67b5-bb49-43b7-cae7-35d8ddeb9b1a",
        "colab": {
          "base_uri": "https://localhost:8080/",
          "height": 34
        }
      },
      "source": [
        "a.nextnode.value"
      ],
      "execution_count": 0,
      "outputs": [
        {
          "output_type": "execute_result",
          "data": {
            "text/plain": [
              "2"
            ]
          },
          "metadata": {
            "tags": []
          },
          "execution_count": 11
        }
      ]
    },
    {
      "cell_type": "markdown",
      "metadata": {
        "id": "GRys1P3QqihH",
        "colab_type": "text"
      },
      "source": [
        "## Doubly linked list\n",
        "\n",
        "* In a doubly linkedlist we define a linked list in which each node keeps an explicit reference to the node before it and a reference to the node after it.\n",
        "* these lists allow a greater variety of O(1)-time update operations, including insertions and deletions.\n",
        "* A **header** node is defined at the beginning of the list\n",
        "* A **trailer** node is defined at the end of the list\n",
        "* Every insertion into a doubly linked list will take place between a pair of existing nodes\n",
        "* After creating a new node, we insert a new node between two two nodes by linking neighbors to the new node\n",
        "* the neigbors of the node to be  deleted are linked directly to each other. As a result that node will no longer be considered as part of the list and it can be reclaimed by the system.\n"
      ]
    },
    {
      "cell_type": "markdown",
      "metadata": {
        "id": "eGGbK8_xxw04",
        "colab_type": "text"
      },
      "source": [
        "## Doubly Linked List Implementation"
      ]
    },
    {
      "cell_type": "code",
      "metadata": {
        "id": "Dm_LAp4ExbN4",
        "colab_type": "code",
        "colab": {}
      },
      "source": [
        "class DoublyLinkedListNode():\n",
        "    \n",
        "    def __init__(self,value):\n",
        "        \n",
        "        self.value = value\n",
        "        self.next_node = None\n",
        "        self.prev_node = None"
      ],
      "execution_count": 0,
      "outputs": []
    },
    {
      "cell_type": "code",
      "metadata": {
        "id": "-d8xjcJpyBIG",
        "colab_type": "code",
        "colab": {}
      },
      "source": [
        "a = DoublyLinkedListNode(1)\n",
        "b = DoublyLinkedListNode(2)\n",
        "c = DoublyLinkedListNode(3)"
      ],
      "execution_count": 0,
      "outputs": []
    },
    {
      "cell_type": "code",
      "metadata": {
        "id": "rz4UhT1TygqL",
        "colab_type": "code",
        "colab": {}
      },
      "source": [
        "# Setting b after a\n",
        "b.prev_node = a\n",
        "a.next_node = b"
      ],
      "execution_count": 0,
      "outputs": []
    },
    {
      "cell_type": "code",
      "metadata": {
        "id": "r4V03uNzykeF",
        "colab_type": "code",
        "colab": {}
      },
      "source": [
        "# Setting c after a\n",
        "b.next_node = c\n",
        "c.prev_node = b"
      ],
      "execution_count": 0,
      "outputs": []
    },
    {
      "cell_type": "markdown",
      "metadata": {
        "id": "5ogYtIPd2U58",
        "colab_type": "text"
      },
      "source": [
        "# Singly Linked List Cycle Check\n",
        "\n",
        "Given a singly linked list, write a function which takes in the first node in a singly linked list and returns a boolean indicating if the linked list contains a \"cycle\".\n",
        "\n",
        "A cycle is when a node's next point actually points back to a previous node in the list. This is also sometimes known as a circularly linked list.\n",
        "\n",
        "To solve this problem we will have two markers traversing through the list. marker1 and marker2. We will have both makers begin at the first node of the list and traverse through the linked list. However the second marker, marker2, will move two nodes ahead for every one node that marker1 moves.\n",
        "\n",
        "By this logic we can imagine that the markers are \"racing\" through the linked list, with marker2 moving faster. If the linked list has a cylce and is circularly connected we will have the analogy of a track, in this case the marker2 will eventually be \"lapping\" the marker1 and they will equal each other.\n",
        "\n",
        "If the linked list has no cycle, then marker2 should be able to continue on until the very end, never equaling the first marker.\n",
        "\n"
      ]
    },
    {
      "cell_type": "code",
      "metadata": {
        "id": "8n8YU0l53IV8",
        "colab_type": "code",
        "colab": {}
      },
      "source": [
        "class Node():\n",
        "    \n",
        "    def __init__(self,value):\n",
        "        \n",
        "        self.value = value\n",
        "        self.nextnode = None\n",
        "\n",
        "def cycle_check(node):\n",
        "\n",
        "    # Begin both markers at the first node\n",
        "    marker1 = node\n",
        "    marker2 = node\n",
        "\n",
        "    # Go until end of list\n",
        "    while marker2 != None and marker2.nextnode != None:\n",
        "        \n",
        "        # Note\n",
        "        marker1 = marker1.nextnode\n",
        "        marker2 = marker2.nextnode.nextnode\n",
        "\n",
        "        # Check if the markers have matched\n",
        "        if marker2 == marker1:\n",
        "            return True\n",
        "\n",
        "    # Case where marker ahead reaches the end of the list\n",
        "    return False"
      ],
      "execution_count": 0,
      "outputs": []
    },
    {
      "cell_type": "code",
      "metadata": {
        "id": "U57672q55YsB",
        "colab_type": "code",
        "colab": {}
      },
      "source": [
        "\"\"\"\n",
        "RUN THIS CELL TO TEST YOUR SOLUTION\n",
        "\"\"\"\n",
        "from nose.tools import assert_equal\n",
        "\n",
        "# CREATE CYCLE LIST\n",
        "a = Node(1)\n",
        "b = Node(2)\n",
        "c = Node(3)\n",
        "\n",
        "a.nextnode = b\n",
        "b.nextnode = c\n",
        "c.nextnode = a # Cycle Here!\n",
        "\n",
        "\n",
        "# CREATE NON CYCLE LIST\n",
        "x = Node(1)\n",
        "y = Node(2)\n",
        "z = Node(3)\n",
        "\n",
        "x.nextnode = y\n",
        "y.nextnode = z\n",
        "\n",
        "\n",
        "#############\n",
        "class TestCycleCheck():\n",
        "    \n",
        "    def test(self,sol):\n",
        "        assert_equal(sol(a),True)\n",
        "        assert_equal(sol(x),False)\n",
        "        \n",
        "        print(\"ALL TEST CASES PASSED\")\n",
        "        \n",
        "# Run Tests\n",
        "\n",
        "t = TestCycleCheck()\n",
        "t.test(cycle_check)"
      ],
      "execution_count": 0,
      "outputs": []
    }
  ]
}