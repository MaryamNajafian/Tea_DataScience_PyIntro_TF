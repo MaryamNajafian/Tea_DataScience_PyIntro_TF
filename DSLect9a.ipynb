{
  "nbformat": 4,
  "nbformat_minor": 0,
  "metadata": {
    "kernelspec": {
      "display_name": "Python 3",
      "language": "python",
      "name": "python3"
    },
    "language_info": {
      "codemirror_mode": {
        "name": "ipython",
        "version": 3
      },
      "file_extension": ".py",
      "mimetype": "text/x-python",
      "name": "python",
      "nbconvert_exporter": "python",
      "pygments_lexer": "ipython3",
      "version": "3.5.1"
    },
    "colab": {
      "name": "DSLect9a.ipynb",
      "provenance": []
    }
  },
  "cells": [
    {
      "cell_type": "markdown",
      "metadata": {
        "id": "aboMD-T7Ze43",
        "colab_type": "text"
      },
      "source": [
        "# Introduction to Spark and Python\n",
        "\n",
        "Let's learn how to use Spark with Python by using the pyspark library! Make sure to view the video lecture explaining Spark and RDDs before continuing on with this code.\n",
        "\n",
        "This notebook will serve as reference code for the Big Data section of the course involving Amazon Web Services. The video will provide fuller explanations for what the code is doing.\n",
        "\n",
        "## Creating a SparkContext\n",
        "\n",
        "First we need to create a SparkContext. We will import this from pyspark:"
      ]
    },
    {
      "cell_type": "code",
      "metadata": {
        "id": "3TyBchVbZe46",
        "colab_type": "code",
        "colab": {}
      },
      "source": [
        "from pyspark import SparkContext"
      ],
      "execution_count": 0,
      "outputs": []
    },
    {
      "cell_type": "markdown",
      "metadata": {
        "id": "X18vCSavZe5A",
        "colab_type": "text"
      },
      "source": [
        "Now create the SparkContext,A SparkContext represents the connection to a Spark cluster, and can be used to create an RDD and broadcast variables on that cluster.\n",
        "\n",
        "*Note! You can only have one SparkContext at a time the way we are running things here.*"
      ]
    },
    {
      "cell_type": "code",
      "metadata": {
        "id": "SraBeX-BZe5B",
        "colab_type": "code",
        "colab": {}
      },
      "source": [
        "sc = SparkContext()"
      ],
      "execution_count": 0,
      "outputs": []
    },
    {
      "cell_type": "markdown",
      "metadata": {
        "id": "GGmWqtz1Ze5H",
        "colab_type": "text"
      },
      "source": [
        "## Basic Operations\n",
        "\n",
        "We're going to start with a 'hello world' example, which is just reading a text file. First let's create a text file.\n",
        "___"
      ]
    },
    {
      "cell_type": "markdown",
      "metadata": {
        "collapsed": true,
        "id": "tq1pm2lAZe5I",
        "colab_type": "text"
      },
      "source": [
        "Let's write an example text file to read, we'll use some special jupyter notebook commands for this, but feel free to use any .txt file:"
      ]
    },
    {
      "cell_type": "code",
      "metadata": {
        "id": "lqKLUnWCZe5K",
        "colab_type": "code",
        "colab": {},
        "outputId": "6799aaf6-991a-4271-de6e-7d63ec9e15be"
      },
      "source": [
        "%%writefile example.txt\n",
        "first line\n",
        "second line\n",
        "third line\n",
        "fourth line"
      ],
      "execution_count": 0,
      "outputs": [
        {
          "output_type": "stream",
          "text": [
            "Overwriting example.txt\n"
          ],
          "name": "stdout"
        }
      ]
    },
    {
      "cell_type": "markdown",
      "metadata": {
        "id": "4zAm4wJfZe5X",
        "colab_type": "text"
      },
      "source": [
        "### Creating the RDD"
      ]
    },
    {
      "cell_type": "markdown",
      "metadata": {
        "id": "NZ8oxXQNZe5Y",
        "colab_type": "text"
      },
      "source": [
        "Now we can take in the textfile using the **textFile** method off of the SparkContext we created. This method will read a text file from HDFS, a local file system (available on all\n",
        "nodes), or any Hadoop-supported file system URI, and return it as an RDD of Strings."
      ]
    },
    {
      "cell_type": "code",
      "metadata": {
        "id": "KZcjClC6Ze5Z",
        "colab_type": "code",
        "colab": {}
      },
      "source": [
        "textFile = sc.textFile('example.txt')"
      ],
      "execution_count": 0,
      "outputs": []
    },
    {
      "cell_type": "markdown",
      "metadata": {
        "id": "QUakOEuLZe5k",
        "colab_type": "text"
      },
      "source": [
        "Spark’s primary abstraction is a distributed collection of items called a Resilient Distributed Dataset (RDD). RDDs can be created from Hadoop InputFormats (such as HDFS files) or by transforming other RDDs. \n",
        "\n",
        "### Actions\n",
        "\n",
        "We have just created an RDD using the textFile method and can perform operations on this object, such as counting the rows.\n",
        "\n",
        "RDDs have actions, which return values, and transformations, which return pointers to new RDDs. Let’s start with a few actions:"
      ]
    },
    {
      "cell_type": "code",
      "metadata": {
        "id": "d0SfgJitZe5k",
        "colab_type": "code",
        "colab": {},
        "outputId": "a7194715-3651-4aab-b2cc-44fdc37686fc"
      },
      "source": [
        "textFile.count()"
      ],
      "execution_count": 0,
      "outputs": [
        {
          "output_type": "execute_result",
          "data": {
            "text/plain": [
              "4"
            ]
          },
          "metadata": {
            "tags": []
          },
          "execution_count": 8
        }
      ]
    },
    {
      "cell_type": "code",
      "metadata": {
        "id": "1nfWn5WFZe5r",
        "colab_type": "code",
        "colab": {},
        "outputId": "ec71e9ed-e2c8-4a98-8c2c-62b1a7db9a45"
      },
      "source": [
        "textFile.first()"
      ],
      "execution_count": 0,
      "outputs": [
        {
          "output_type": "execute_result",
          "data": {
            "text/plain": [
              "'first line'"
            ]
          },
          "metadata": {
            "tags": []
          },
          "execution_count": 10
        }
      ]
    },
    {
      "cell_type": "markdown",
      "metadata": {
        "id": "-qv-I4LxZe5z",
        "colab_type": "text"
      },
      "source": [
        "### Transformations\n",
        "\n",
        "Now we can use transformations, for example the filter transformation will return a new RDD with a subset of items in the file. Let's create a sample transformation using the filter() method. This method (just like Python's own filter function) will only return elements that satisfy the condition. Let's try looking for lines that contain the word 'second'. In which case, there should only be one line that has that."
      ]
    },
    {
      "cell_type": "code",
      "metadata": {
        "id": "0PwFiVHYZe50",
        "colab_type": "code",
        "colab": {}
      },
      "source": [
        "secfind = textFile.filter(lambda line: 'second' in line)"
      ],
      "execution_count": 0,
      "outputs": []
    },
    {
      "cell_type": "code",
      "metadata": {
        "id": "VdDzsi9UZe54",
        "colab_type": "code",
        "colab": {},
        "outputId": "5a1338e9-f5e2-4ad0-c4ee-24ff7422824e"
      },
      "source": [
        "# RDD\n",
        "secfind"
      ],
      "execution_count": 0,
      "outputs": [
        {
          "output_type": "execute_result",
          "data": {
            "text/plain": [
              "PythonRDD[7] at RDD at PythonRDD.scala:43"
            ]
          },
          "metadata": {
            "tags": []
          },
          "execution_count": 12
        }
      ]
    },
    {
      "cell_type": "code",
      "metadata": {
        "id": "9mAJ24R9Ze5-",
        "colab_type": "code",
        "colab": {},
        "outputId": "55c0c45b-c288-433b-9597-73c1c3f8b090"
      },
      "source": [
        "# Perform action on transformation\n",
        "secfind.collect()"
      ],
      "execution_count": 0,
      "outputs": [
        {
          "output_type": "execute_result",
          "data": {
            "text/plain": [
              "['second line']"
            ]
          },
          "metadata": {
            "tags": []
          },
          "execution_count": 13
        }
      ]
    },
    {
      "cell_type": "code",
      "metadata": {
        "id": "8GtTLu5WZe6E",
        "colab_type": "code",
        "colab": {},
        "outputId": "e39d90ad-59cd-422f-a39a-1ba61acec13c"
      },
      "source": [
        "# Perform action on transformation\n",
        "secfind.count()"
      ],
      "execution_count": 0,
      "outputs": [
        {
          "output_type": "execute_result",
          "data": {
            "text/plain": [
              "1"
            ]
          },
          "metadata": {
            "tags": []
          },
          "execution_count": 14
        }
      ]
    },
    {
      "cell_type": "markdown",
      "metadata": {
        "id": "pubiLBCFZe6J",
        "colab_type": "text"
      },
      "source": [
        "Notice how the transformations won't display an output and won't be run until an action is called. In the next lecture: Advanced Spark and Python we will begin to see many more examples of this transformation and action relationship!\n",
        "\n"
      ]
    }
  ]
}