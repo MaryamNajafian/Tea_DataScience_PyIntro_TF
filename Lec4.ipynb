{
  "nbformat": 4,
  "nbformat_minor": 0,
  "metadata": {
    "colab": {
      "name": "Lec4.ipynb",
      "provenance": [],
      "collapsed_sections": [],
      "authorship_tag": "ABX9TyPJviLF9dQ9rx+DXA1e12i6"
    },
    "kernelspec": {
      "name": "python3",
      "display_name": "Python 3"
    }
  },
  "cells": [
    {
      "cell_type": "markdown",
      "metadata": {
        "id": "KiXbscCQeBAW",
        "colab_type": "text"
      },
      "source": [
        "Get input from the user:"
      ]
    },
    {
      "cell_type": "code",
      "metadata": {
        "id": "ssK_cs_SWwgM",
        "colab_type": "code",
        "colab": {}
      },
      "source": [
        "while True:\n",
        "    try:\n",
        "        s=input('')\n",
        "    except EOFError:\n",
        "        break\n"
      ],
      "execution_count": 0,
      "outputs": []
    },
    {
      "cell_type": "markdown",
      "metadata": {
        "id": "FoNm-ia63jTH",
        "colab_type": "text"
      },
      "source": [
        "##Binary Tree"
      ]
    },
    {
      "cell_type": "code",
      "metadata": {
        "id": "qjg72W4wpcQa",
        "colab_type": "code",
        "outputId": "3ee5220e-4962-42be-cd07-fd5f1ecc8198",
        "colab": {
          "base_uri": "https://localhost:8080/",
          "height": 136
        }
      },
      "source": [
        "class BinaryTree:    \n",
        "    def __init__(self,key):\n",
        "        self.key = key\n",
        "        self.left = None\n",
        "        self.right = None\n",
        "\n",
        "    def insertLeft(self,newNode):\n",
        "        if self.left == None:\n",
        "            self.left = BinaryTree(newNode)\n",
        "        else:\n",
        "            temp = BinaryTree(newNode)\n",
        "            temp.left = self.left\n",
        "            self.left = temp\n",
        "\n",
        "    def insertRight(self,newNode):\n",
        "        if self.right == None:\n",
        "            self.right = BinaryTree(newNode)\n",
        "        else:\n",
        "            temp = BinaryTree(newNode)\n",
        "            temp.right = self.right\n",
        "            self.right = temp\n",
        "\n",
        "    def getLeftChild(self):\n",
        "        return self.left\n",
        "    \n",
        "    def getRightChild(self):\n",
        "        return self.right\n",
        "\n",
        "    def setRootVal(self,key):\n",
        "        self.key=key\n",
        "\n",
        "    def getRootVal(self):\n",
        "        return self.key\n",
        "    \n",
        "r = BinaryTree('a')\n",
        "print(r.getRootVal())\n",
        "print(r.getLeftChild())\n",
        "r.insertLeft('b')\n",
        "print(r.getLeftChild())\n",
        "print(r.getLeftChild().getRootVal())\n",
        "r.insertRight('c')\n",
        "print(r.getRightChild())\n",
        "print(r.getRightChild().getRootVal())\n",
        "r.getRightChild().setRootVal('hello')\n",
        "print(r.getRightChild().getRootVal())\n"
      ],
      "execution_count": 0,
      "outputs": [
        {
          "output_type": "stream",
          "text": [
            "a\n",
            "None\n",
            "<__main__.BinaryTree object at 0x7feeaac92160>\n",
            "b\n",
            "<__main__.BinaryTree object at 0x7feeaad07908>\n",
            "c\n",
            "hello\n"
          ],
          "name": "stdout"
        }
      ]
    },
    {
      "cell_type": "markdown",
      "metadata": {
        "id": "v9WHSFxH3hJK",
        "colab_type": "text"
      },
      "source": [
        "## Tree Traversal\n",
        "\n",
        "Three ways to visit nodes:\n",
        "\n",
        "* preorder: Root-Left-Right\n",
        "* inorder: Left-Root-Right\n",
        "* postorder: Left-Right-Root\n",
        "\n",
        "Watch this for details regarding next images:\n",
        "[link text](https://www.youtube.com/watch?v=98AGQU0z2wg&list=PLUVuIyC7hOz72uzMsvyz9yH_txj1zCqc4&index=67&t=18s)"
      ]
    },
    {
      "cell_type": "code",
      "metadata": {
        "id": "elp7yLAp6b3Q",
        "colab_type": "code",
        "outputId": "ac2c2667-bc25-4c19-a977-e4cb0bf5a64f",
        "colab": {
          "base_uri": "https://localhost:8080/",
          "height": 326
        }
      },
      "source": [
        "# show googledrive images by just change the \n",
        "# open?id to uc?id in the sharable link and it will instantly work.\n",
        "from IPython.display import Image\n",
        "#Image(url= \"https://i.ytimg.com/vi/WLvU5EQVZqY/maxresdefault.jpg\", width=600)\n",
        "Image(url=\"https://drive.google.com/uc?id=1UOcK2-tHHlJvDs2EPWK9ukA4ZhhKYzSE\", width=400)\n"
      ],
      "execution_count": 0,
      "outputs": [
        {
          "output_type": "execute_result",
          "data": {
            "text/html": [
              "<img src=\"https://drive.google.com/uc?id=1UOcK2-tHHlJvDs2EPWK9ukA4ZhhKYzSE\" width=\"400\"/>"
            ],
            "text/plain": [
              "<IPython.core.display.Image object>"
            ]
          },
          "metadata": {
            "tags": []
          },
          "execution_count": 29
        }
      ]
    },
    {
      "cell_type": "code",
      "metadata": {
        "id": "GZyFBdhx-Ihj",
        "colab_type": "code",
        "outputId": "03c18111-cd36-439c-dcf8-39e4ee3de253",
        "colab": {
          "base_uri": "https://localhost:8080/",
          "height": 320
        }
      },
      "source": [
        "\n",
        "from IPython.display import Image\n",
        "Image(url=\"https://drive.google.com/uc?id=1m3Za7eCAV2jqtwuijta7vuLPcsK8RMa2\", width=400)\n"
      ],
      "execution_count": 0,
      "outputs": [
        {
          "output_type": "execute_result",
          "data": {
            "text/html": [
              "<img src=\"https://drive.google.com/uc?id=1m3Za7eCAV2jqtwuijta7vuLPcsK8RMa2\" width=\"400\"/>"
            ],
            "text/plain": [
              "<IPython.core.display.Image object>"
            ]
          },
          "metadata": {
            "tags": []
          },
          "execution_count": 28
        }
      ]
    },
    {
      "cell_type": "code",
      "metadata": {
        "id": "wGC-0V7s3SzU",
        "colab_type": "code",
        "colab": {}
      },
      "source": [
        "# preorder: Root-Left-Right\n",
        "# inorder: Left-Root-Right\n",
        "# postorder: Left-Right-Root\n",
        "\n",
        "def preorder(tree):\n",
        "    if tree:\n",
        "        print(tree.getRootVal())\n",
        "        preorder(tree.getLeftChild())\n",
        "        preorder(tree.getRightChild())\n",
        "\n",
        "def inorder(tree):\n",
        "    if tree:\n",
        "        inorder(tree.getLeftChild())\n",
        "        print(tree.getRootVal())\n",
        "        inorder(tree.getRightChild())\n",
        "\n",
        "def postorder(tree):\n",
        "    if tree:\n",
        "        postorder(tree.getLeftChild())\n",
        "        postorder(tree.getRightChild())\n",
        "        print(tree.getRootVal())\n"
      ],
      "execution_count": 0,
      "outputs": []
    },
    {
      "cell_type": "markdown",
      "metadata": {
        "id": "lNCtXXnFeMHb",
        "colab_type": "text"
      },
      "source": [
        "# Fully paranthesized math expresion (calculator)"
      ]
    },
    {
      "cell_type": "code",
      "metadata": {
        "id": "8Qr0kIItw27H",
        "colab_type": "code",
        "outputId": "1ee90baa-2b50-4af1-b19c-ea913652170f",
        "colab": {
          "base_uri": "https://localhost:8080/",
          "height": 102
        }
      },
      "source": [
        "from pythonds.basic import Stack\n",
        "from pythonds.trees import BinaryTree\n",
        "\n",
        "def buildParseTree(mathString):\n",
        "    explist = mathString.split() # convert stringto list of chars\n",
        "    \n",
        "    expTree = BinaryTree('') #This is the tree we return\n",
        "    currentTree = expTree # this is a work in progress version of tree\n",
        "\n",
        "    stackparent = Stack() #push the parent: keep track of parent node for +-x/\n",
        "    stackparent.push(expTree) # we pop the parent for +-x/ when we see numbers\n",
        "                         \n",
        "    \n",
        "    for i in explist:\n",
        "        if i == '(':\n",
        "            #create new trees that later will be filled by+-*int\n",
        "            currentTree.insertLeft('') #insert '' placeholder\n",
        "            #saving root of that tree\n",
        "            stackparent.push(currentTree) #stack currentTree\n",
        "            #updating the tree current root, making it ready for next operation\n",
        "            currentTree = currentTree.getLeftChild() #next node\n",
        "\n",
        "        elif i in ['+', '-', '*', '/']:\n",
        "            currentTree.setRootVal(i)  #fill in the current node in the tree\n",
        "            currentTree.insertRight('') #creat a placeholder new node at right\n",
        "            stackparent.push(currentTree)\n",
        "            #updating the tree current root, making it ready for next operation\n",
        "            currentTree = currentTree.getRightChild()\n",
        "\n",
        "        elif i == ')':\n",
        "            currentTree = stackparent.pop()\n",
        "        \n",
        "        elif i not in ['+', '-', '*', '/', ')']:\n",
        "            try:\n",
        "                currentTree.setRootVal(int(i)) #fill in the current node in tree \n",
        "                currentTree  = stackparent.pop() #parent of node with integers\n",
        "                #currentTree = parent\n",
        "\n",
        "            except ValueError:\n",
        "                raise ValueError(\"token '{}' is not a valid integer\".format(i))\n",
        "            \n",
        "\n",
        "    return expTree\n",
        "\n",
        "mathTree = buildParseTree(\"( ( 10 + 5 ) * 3 )\")\n",
        "mathTree.postorder()  #defined and explained in the next section\n",
        "\n"
      ],
      "execution_count": 0,
      "outputs": [
        {
          "output_type": "stream",
          "text": [
            "10\n",
            "5\n",
            "+\n",
            "3\n",
            "*\n"
          ],
          "name": "stdout"
        }
      ]
    },
    {
      "cell_type": "markdown",
      "metadata": {
        "id": "af0tfRJT6glF",
        "colab_type": "text"
      },
      "source": [
        "# Priority Queues with Binary Heaps\n",
        "* A **Priority Queue** acts like a queue in that you dequeue an item by removing it from the front (fifo). However, in a priority queue the logical order of items inside a queue is determined by their priority.\n",
        "\n",
        "* **Binary Heap**: (1) It should be balance binary tree where every non-leaf has 2 children (2) every node is >< its children depending on being a minheap or maxheap\n",
        "* HeapSort\n",
        "    * MinHeap:  node value < children (always)\n",
        "    * MaxHeap:  node value > children (always)\n",
        "    * Sorting an array by using heapsort:\n",
        "        * Heapify: convert a binary tree to a binary heap\n",
        "        * append to sortedList: copy the head of the binaryheap and append it into the sortedlist\n",
        "        * replace the heap head with the heap last element (rightest leaf)\n",
        "        * Heapify the new binary tree and start again till there is only one element is left in the binary heap\n",
        "    * A **balanced binary tree** is a binary tree whose all levels except the last level are completely filled and all the leaves in the last level are all to the left side.\n",
        "\n",
        "* **Parent index**: \n",
        "    * if we index from \"1\" left child of parent node i at 2i and right child of parent i is at 2i+1 and the parent of i is at i/2. In this nore we have the index 1 considered as the head node.\n",
        "    * if we index from \"0\" left child of i = 2i+1 and right child of i is 2i-1 and the parent is at (i-1)/2.\n",
        "\n",
        "* Advantages of sorting with BinaryHeaps over lists:\n",
        "    * Inserting into a list is 𝑂(𝑛) and sorting a list is  𝑂(𝑛log𝑛)\n",
        "    * A binary heap will allow us both enqueue and dequeue items in 𝑂(log𝑛). \n",
        "    * Using the fact that you can build a heap from a list in 𝑂(𝑛) time, you can construct a sorting algorithm that uses a heap and sorts a list in 𝑂(𝑛log𝑛))\n",
        "\n",
        "Watch this for details regarding next images: [link text](https://www.youtube.com/watch?v=EuUBxM_E03E)"
      ]
    },
    {
      "cell_type": "code",
      "metadata": {
        "id": "6Luqks7r55qR",
        "colab_type": "code",
        "outputId": "21a12eaa-607b-4c04-eabd-488e88ae0c02",
        "colab": {
          "base_uri": "https://localhost:8080/",
          "height": 102
        }
      },
      "source": [
        "# creates a new, empty, binary heap.\n",
        "# heap property requires a balanced tree and\n",
        "# that the root of the tree be the smallest item in the tree\n",
        "\n",
        "class BinHeap:\n",
        "    def __init__(self):\n",
        "    # these 0s are for simplifying the future computations (child i and parrent i//2)\n",
        "        self.heapList = [0]\n",
        "        self.currentsize= 0\n",
        "    \n",
        "    def insert(self,k): # adds a new item to the heap.\n",
        "    # appending violates the heap structure property\n",
        "    # we use percUp  which movesup a new item till the heap property is satisfied\n",
        "        self.heapList.append(k)\n",
        "        self.currentSize = self.currentSize + 1\n",
        "        self.percUp(self.currentSize)\n",
        "\n",
        "    #********* Helper function for insert method **********\n",
        "    def percUp(self,i): # while added item < parent swap with parent\n",
        "        while i // 2 > 0:\n",
        "            if self.heapList[i] < self.heapList[i // 2]:\n",
        "                tmp = self.heapList[i // 2]\n",
        "                self.heapList[i // 2] = self.heapList[i]\n",
        "                self.heapList[i] = tmp\n",
        "            i = i // 2\n",
        "\n",
        "\n",
        "    def delMin(self) : #returns the item with the minimum key value, removing the item from the heap\n",
        "    # we need to restore heap property and put another min inplace\n",
        "    # move rightest leaf to the root, then percDown till the heap property is met\n",
        "        retval = self.heapList[1]\n",
        "        self.heapList[1] = self.heapList[self.currentSize]\n",
        "        self.currentSize = self.currentSize - 1\n",
        "        self.heapList.pop()\n",
        "        self.percDown(1)\n",
        "        return retval   \n",
        "\n",
        "\n",
        "    #********* Helper function for Delmin method **********\n",
        "    def percDown(self,i): # while added item > children swap with child\n",
        "        while (i * 2) <= self.currentSize:\n",
        "            mc = self.minChild(i)\n",
        "            if self.heapList[i] > self.heapList[mc]:\n",
        "                tmp = self.heapList[i]\n",
        "                self.heapList[i] = self.heapList[mc]\n",
        "                self.heapList[mc] = tmp\n",
        "            i = mc\n",
        "\n",
        "    #********* Helper function for percDown called by Delmin method **********        \n",
        "    # left child of parent node i at 2i and right child of parent i is at 2i+1\n",
        "    def minChild(self,i): \n",
        "        if i * 2 + 1 > self.currentSize:\n",
        "            return i * 2\n",
        "        else:\n",
        "            if self.heapList[i*2] < self.heapList[i*2+1]:\n",
        "                return i * 2\n",
        "            else:\n",
        "                return i * 2 + 1\n",
        "        \n",
        "    def buildHeap(self,alist) : # builds a new heap from a list of keys.\n",
        "        self.currentSize = len(alist)\n",
        "        self.heapList = [0] + alist[:]\n",
        "        i = len(alist) // 2\n",
        "        while (i > 0):\n",
        "            self.percDown(i)\n",
        "            i = i - 1\n",
        "\n",
        "    def findMin(self): #returns the item with the minimum key value, leaving item in the heap.\n",
        "        if i * 2 + 1 > self.currentSize:\n",
        "            return i * 2\n",
        "        else:\n",
        "            if self.heapList[i*2] < self.heapList[i*2+1]:\n",
        "                return i * 2\n",
        "            else:\n",
        "                return i * 2 + 1\n",
        "\n",
        "    def isEmpty(self) : #returns true if the heap is empty, false otherwise.\n",
        "        pass\n",
        "    def size(self) : # returns the number of items in the heap.\n",
        "        pass\n",
        "\n",
        "\n",
        "bh = BinHeap()\n",
        "bh.buildHeap([9,5,6,2,3])\n",
        "\n",
        "print(bh.delMin())\n",
        "print(bh.delMin())\n",
        "print(bh.delMin())\n",
        "print(bh.delMin())\n",
        "print(bh.delMin())"
      ],
      "execution_count": 0,
      "outputs": [
        {
          "output_type": "stream",
          "text": [
            "2\n",
            "3\n",
            "5\n",
            "6\n",
            "9\n"
          ],
          "name": "stdout"
        }
      ]
    },
    {
      "cell_type": "code",
      "metadata": {
        "id": "_vJTMBUwXgon",
        "colab_type": "code",
        "colab": {}
      },
      "source": [
        "from IPython.display import Image\n",
        "\n",
        "Image(url=\"https://www.cdn.geeksforgeeks.org/wp-content/uploads/Preorder-from-Inorder-and-Postorder-traversals.jpg\", width=500)"
      ],
      "execution_count": 0,
      "outputs": []
    },
    {
      "cell_type": "markdown",
      "metadata": {
        "id": "xvM7xVUezGhW",
        "colab_type": "text"
      },
      "source": [
        "# Binary Search Tree\n",
        "* binary search tree relies on the property that keys that are less than the parent are found in the left subtree, and keys that are greater than the parent are found in the right subtree.\n",
        "* **BST uses inorder traversal to print the nodes from smallest to largest.**\n",
        "* The implementations of the map abstract data type (ADT) are namely:\n",
        "    * 'binary search on a list'\n",
        "    * 'hash tables'\n",
        "    * 'binary search trees'\n",
        "\n",
        "* **In order successor of a node in a BST**: \n",
        "    * if node has right subtree the answer is the left most node in the right subtree of the node. In otherwords it is the node that come immidiately after the node in in-order traversal of the tree. for each node in the in-rder traversal: we visit (1) left node (2) node itself(root) (3) right nodes repectively .\n",
        "    * if node has no right subtree the and it is the left child of its parent the in order successor is the parent\n",
        "    * if node has no right subtree the and the node is the left child of its parent the in order successor CAN'T be the the parent. it is the nearest ansester (parent of the parent etc) that was visited from left side.\n",
        "\n",
        "\n",
        "\n",
        "watch this video for more details [link text](https://www.youtube.com/watch?v=f5dU3xoE6ms)\n",
        "\n",
        "```\n",
        "1-We start at the root of the tree\n",
        "2-we search the binary tree comparing the new key to the key in the current node\n",
        "3-If the key<current node we search the left subtree \n",
        "4-if the key> current node we search the right subtree\n",
        "5- when there is no left/right child to search we know we found the position in the tree where the new node should be installed\n",
        "6-to add a new node to the tree, we create a tree node object\n",
        "7-once the tree is constructed, the next task is to implement the retrieval of a value for a given key\n",
        "8-to delete a key, (1) we first need to find the node by searching the tree. if the tree has more than one node we search with _get to find the TreeNode that needs to be removed. If the tree has a single node, it means we are removing root of the tree,but we need to make sure key of the root matches the key that has to be deleted. either case if key not found the del operator gives an error.\n",
        "\n",
        "8b-Deleting nodes has three cases:\n",
        "case1) the node to be deleted has no child (it is a leaf); then we have to delete the node and remove the reference to this node in the parent.\n",
        "\n",
        "case2) the node to be deleted has only one child: then we can remove the child to take place of the parent\n",
        "\n",
        "case3)if the node has two children:in this case it is onlikly  that we can promote one of them to take the nodes place. we can however search the tree for a node that can be used to replace the noe scheduled for deletion. we need a node that preserves the BST property for both the existing left/right subtrees. the node that fits the description has the **next-largest key** in the tree. We call it the **successor** and will look into finding the successor. **the successor** is guaranteed to have no more than one child, so we know how to remove it using the the two cases for deletion. once the successor is removed we can put it in the tree in place of the node to be deleted. we use findSuccessor and findMin to find the successor. to remove successor we use spliceOut because it goes directly to the node we want to splice out and makes the right changes.\n",
        "\n",
        "9-Find successor:\n",
        "* BST uses inorder traversal to print the nodes from smallest to largest.\n",
        "case1: if the node has a right child: then the successor is the smallest key in the right subtree\n",
        "case2:if the node has no right child and it is the left child of its parent, then the parent is the successor. \n",
        "case3-If the node is the right child of its parent , and itself has no right child, then the successor to this node is the successor to its parent (excluding this node)\n",
        "\n",
        "\n",
        "\n",
        "* findMin method: finds minimum key in the subtree. the left most child of a BST is the min value based on BST property\n",
        "\n",
        "* __iter__ : it is an inorder traversal of the tree (recursive method) and it itterates the binary tree. this itterator returns only one node each time it is called. It is a generator function using yield so each time it gets called it takes off from where it left off.\n",
        "```\n"
      ]
    },
    {
      "cell_type": "code",
      "metadata": {
        "id": "QZzQ276rl6M7",
        "colab_type": "code",
        "outputId": "7cf32081-e8f2-44dd-f6d7-2dd0ade18d06",
        "colab": {
          "base_uri": "https://localhost:8080/",
          "height": 382
        }
      },
      "source": [
        "from IPython.display import Image\n",
        "\n",
        "Image(url=\"https://www.cdn.geeksforgeeks.org/wp-content/uploads/Preorder-from-Inorder-and-Postorder-traversals.jpg\", width=500)"
      ],
      "execution_count": 0,
      "outputs": [
        {
          "output_type": "execute_result",
          "data": {
            "text/html": [
              "<img src=\"https://www.cdn.geeksforgeeks.org/wp-content/uploads/Preorder-from-Inorder-and-Postorder-traversals.jpg\" width=\"500\"/>"
            ],
            "text/plain": [
              "<IPython.core.display.Image object>"
            ]
          },
          "metadata": {
            "tags": []
          },
          "execution_count": 13
        }
      ]
    },
    {
      "cell_type": "code",
      "metadata": {
        "id": "lpF1MMo1XeZk",
        "colab_type": "code",
        "colab": {}
      },
      "source": [
        ""
      ],
      "execution_count": 0,
      "outputs": []
    },
    {
      "cell_type": "code",
      "metadata": {
        "id": "_RZdgN7x0WPn",
        "colab_type": "code",
        "outputId": "bf0a59f1-1682-4479-8864-18de2d55fdb7",
        "colab": {
          "base_uri": "https://localhost:8080/",
          "height": 204
        }
      },
      "source": [
        "class node:\n",
        "\tdef __init__(self,value=None):\n",
        "\t\tself.value=value\n",
        "\t\tself.left_child=None\n",
        "\t\tself.right_child=None\n",
        "        # pointer to parent node in tree to help with delete function\n",
        "\t\tself.parent=None \n",
        "        \n",
        "class binary_search_tree:\n",
        "\tdef __init__(self):\n",
        "\t\tself.root=None\n",
        "\n",
        "\tdef insert(self,value):\n",
        "\t\tif self.root==None:\n",
        "\t\t\tself.root=node(value)\n",
        "\t\telse:\n",
        "\t\t\tself._insert(value,self.root) \n",
        "            # recursion is done outside in the private class\n",
        "\n",
        "\tdef _insert(self,value,cur_node): #private class\n",
        "\t\tif value<cur_node.value:\n",
        "\t\t\tif cur_node.left_child==None: #basecase\n",
        "\t\t\t\tcur_node.left_child=node(value)\n",
        "\t\t\t\tcur_node.left_child.parent=cur_node # set parent\n",
        "\t\t\telse:\n",
        "\t\t\t\tself._insert(value,cur_node.left_child) #recursion\n",
        "\t\telif value>cur_node.value:\n",
        "\t\t\tif cur_node.right_child==None: # basecase\n",
        "\t\t\t\tcur_node.right_child=node(value)\n",
        "\t\t\t\tcur_node.right_child.parent=cur_node # set parent\n",
        "\t\t\telse: #recursion \n",
        "\t\t\t\tself._insert(value,cur_node.right_child)\n",
        "\t\telse:\n",
        "\t\t\tprint(\"Value already in tree!\")\n",
        "\n",
        "\tdef print_tree(self):\n",
        "\t\tif self.root!=None:\n",
        "\t\t\tself._print_tree(self.root)\n",
        "\n",
        "\tdef _print_tree(self,cur_node):\n",
        "\t\tif cur_node!=None:\n",
        "            # in order traversal of the BST left-root-right\n",
        "\t\t\tself._print_tree(cur_node.left_child)\n",
        "\t\t\tprint (str(cur_node.value))\n",
        "\t\t\tself._print_tree(cur_node.right_child)\n",
        "\n",
        "\n",
        "# To test functions till now   \n",
        "# def fill_tree(tree,num_elems=100,max_int=1000):\n",
        "#     from random import randint\n",
        "#     for _ in range(num_elems):\n",
        "#         cur_elem = randint(0,max_int)\n",
        "#         tree.insert(cur_elem)\n",
        "#     return tree\n",
        "\n",
        "# tree = binary_search_tree()\n",
        "# tree = fill_tree(tree)\n",
        "# tree.print_tree()\n",
        "# # Value already in tree!\n",
        "# # 1\n",
        "# # 28\n",
        "# # 48\n",
        "# # 52\n",
        "# # 53\n",
        "# # 56\n",
        "\n",
        "\tdef height(self):\n",
        "\t\tif self.root!=None:\n",
        "\t\t\treturn self._height(self.root,0)\n",
        "\t\telse:\n",
        "\t\t\treturn 0\n",
        "\n",
        "\n",
        "\tdef _height(self,cur_node,cur_height):\n",
        "\t\tif cur_node==None: return cur_height #base case\n",
        "\t\tleft_height=self._height(cur_node.left_child,cur_height+1)\n",
        "\t\tright_height=self._height(cur_node.right_child,cur_height+1)\n",
        "\t\treturn max(left_height,right_height)\n",
        "  \n",
        "# #To test functions till now   \n",
        "# def fill_tree(tree,num_elems=100,max_int=1000):\n",
        "#     from random import randint\n",
        "#     for _ in range(num_elems):\n",
        "#         cur_elem = randint(0,max_int)\n",
        "#         tree.insert(cur_elem)\n",
        "#     return tree\n",
        "\n",
        "# tree = binary_search_tree()\n",
        "# tree = fill_tree(tree)\n",
        "# print(\"tree height:\"+str(tree.height()))\n",
        "\n",
        "\tdef search(self,value):\n",
        "\t\tif self.root!=None:\n",
        "\t\t\treturn self._search(value,self.root)\n",
        "\t\telse:\n",
        "\t\t\treturn False\n",
        "\n",
        "\tdef _search(self,value,cur_node):\n",
        "        #basecase\n",
        "\t\tif value==cur_node.value: \n",
        "\t\t\treturn True\n",
        "        #recursive calls \n",
        "\t\telif value<cur_node.value and cur_node.left_child!=None:\n",
        "\t\t\treturn self._search(value,cur_node.left_child)\n",
        "\t\telif value>cur_node.value and cur_node.right_child!=None:\n",
        "\t\t\treturn self._search(value,cur_node.right_child)\n",
        "\t\treturn False \n",
        "\n",
        "# #To test functions till now         \n",
        "# tree = binary_search_tree()\n",
        "# tree.insert(5)\n",
        "# tree.insert(0)\n",
        "# tree.insert(15)\n",
        "# tree.insert(1)\n",
        "# tree.insert(150)\n",
        "# tree.insert(20)\n",
        "# tree.insert(115)\n",
        "# tree.insert(70)\n",
        "# tree.print_tree()\n",
        "# print(\"tree height:\"+str(tree.height()))\n",
        "# print(tree.search(15))\n",
        "# print(tree.search(10))\n",
        "\n",
        "# ********* Binary Search Tree (BST): Deletion Function **********\n",
        "\t# helper for deletion function\n",
        "    # similar to search function but return the node instead of true/false\n",
        "    def find(self,value): #returns true if it can find it/else false\n",
        "\t\tif self.root!=None:\n",
        "\t\t\treturn self._find(value,self.root)\n",
        "\t\telse:\n",
        "\t\t\treturn None\n",
        "\n",
        "\tdef _find(self,value,cur_node):\n",
        "\t\tif value==cur_node.value:\n",
        "\t\t\treturn cur_node\n",
        "\t\telif value<cur_node.value and cur_node.left_child!=None:\n",
        "\t\t\treturn self._find(value,cur_node.left_child)\n",
        "\t\telif value>cur_node.value and cur_node.right_child!=None:\n",
        "\t\t\treturn self._find(value,cur_node.right_child)\n",
        "\n",
        "\tdef delete_value(self,value): #we pass value\n",
        "    #self.find(value) finds the node that has to be deleted\n",
        "\t\treturn self.delete_node(self.find(value))\n",
        "\n",
        "\tdef delete_node(self,node): # we pass node\n",
        "\n",
        "\t\t# Protect against deleting a node not found in the tree\n",
        "\t\tif node==None or self.find(node.value)==None:\n",
        "\t\t\tprint(\"Node to be deleted not found in the tree!\")\n",
        "\t\t\treturn None \n",
        "\n",
        "\t\t# returns Inorder successor of a node \n",
        "        #returns the node with min value in tree rooted at input node\n",
        "        # in BST lefest item in tree is min\n",
        "\t\tdef min_value_node(n):\n",
        "\t\t\tcurrent=n\n",
        "\t\t\twhile current.left_child!=None:\n",
        "\t\t\t\tcurrent=current.left_child\n",
        "\t\t\treturn current\n",
        "\n",
        "\t\t# returns the number of children for the specified node\n",
        "        # either 0,1,or 2\n",
        "\t\tdef num_children(n):\n",
        "\t\t\tnum_children=0\n",
        "\t\t\tif n.left_child!=None: num_children+=1\n",
        "\t\t\tif n.right_child!=None: num_children+=1\n",
        "\t\t\treturn num_children\n",
        "\n",
        "\t\t# get the parent of the node to be deleted\n",
        "\t\tnode_parent=node.parent\n",
        "\n",
        "\t\t# get the number of children of the node to be deleted\n",
        "\t\tnode_children=num_children(node)\n",
        "\n",
        "\t\t# break operation into different cases based on the\n",
        "\t\t# structure of the tree & node to be deleted\n",
        "\n",
        "\t\t# CASE 1 (node has no children)\n",
        "\t\tif node_children==0:\n",
        "\n",
        "\t\t\t# it makes sure if you deleted the root node \n",
        "            # you would not delete entire tree.\n",
        "\t\t\tif node_parent!=None:   # not the root!\n",
        "\t\t\t\t# remove reference to the node from the parent\n",
        "\t\t\t\tif node_parent.left_child==node: \n",
        "\t\t\t\t\tnode_parent.left_child=None\n",
        "\t\t\t\telse:\n",
        "\t\t\t\t\tnode_parent.right_child=None\n",
        "\t\t\telse:                   # the root!\n",
        "\t\t\t\tself.root=None\n",
        "\n",
        "\t\t# CASE 2 (node has a single child)\n",
        "\t\tif node_children==1:\n",
        "\n",
        "\t\t\t# get the single child node\n",
        "\t\t\tif node.left_child!=None:\n",
        "\t\t\t\tchild=node.left_child\n",
        "\t\t\telse:\n",
        "\t\t\t\tchild=node.right_child\n",
        "\n",
        "\t\t\t# it makes sure if you deleted the root node \n",
        "            # you would not delete entire tree.\n",
        "\t\t\tif node_parent!=None: #node to be deleted = node_parent.left/right_child\n",
        "\t\t\t\t# replace the node to be deleted with its child\n",
        "\t\t\t\tif node_parent.left_child==node:\n",
        "\t\t\t\t\tnode_parent.left_child=child\n",
        "\t\t\t\telse:\n",
        "\t\t\t\t\tnode_parent.right_child=child\n",
        "\t\t\telse:\n",
        "\t\t\t\tself.root=child\n",
        "\n",
        "\t\t\t# correct the parent pointer in node\n",
        "\t\t\tchild.parent=node_parent\n",
        "\n",
        "\t\t# CASE 3 (node has two children)\n",
        "\t\tif node_children==2:\n",
        "\n",
        "\t\t\t# get the inorder successor of the deleted node\n",
        "\t\t\tsuccessor=min_value_node(node.right_child)\n",
        "\n",
        "\t\t\t# copy the inorder successor's value to the node formerly\n",
        "\t\t\t# holding the value we wished to delete\n",
        "\t\t\tnode.value=successor.value\n",
        "\n",
        "\t\t\t# delete the inorder successor now that it's value was\n",
        "\t\t\t# copied into the other node\n",
        "\t\t\tself.delete_node(successor)\n",
        "\n",
        "\n",
        "\n"
      ],
      "execution_count": 0,
      "outputs": [
        {
          "output_type": "stream",
          "text": [
            "0\n",
            "1\n",
            "5\n",
            "15\n",
            "20\n",
            "70\n",
            "115\n",
            "150\n",
            "tree height:6\n",
            "True\n",
            "False\n"
          ],
          "name": "stdout"
        }
      ]
    },
    {
      "cell_type": "code",
      "metadata": {
        "id": "O1RsHKEfs4Ya",
        "colab_type": "code",
        "outputId": "8fe7af5a-3932-4d9f-b56b-b7ac7997dd55",
        "colab": {
          "base_uri": "https://localhost:8080/",
          "height": 218
        }
      },
      "source": [
        "from IPython.display import Image\n",
        "Image(url=\"https://drive.google.com/uc?id=1oi5Yo_KA_xboCLoUa9DGrGrAPIxOSAWD\", width=500)\n"
      ],
      "execution_count": 0,
      "outputs": [
        {
          "output_type": "execute_result",
          "data": {
            "text/html": [
              "<img src=\"https://drive.google.com/uc?id=1oi5Yo_KA_xboCLoUa9DGrGrAPIxOSAWD\" width=\"500\"/>"
            ],
            "text/plain": [
              "<IPython.core.display.Image object>"
            ]
          },
          "metadata": {
            "tags": []
          },
          "execution_count": 16
        }
      ]
    },
    {
      "cell_type": "code",
      "metadata": {
        "id": "ff0T38iEtvq-",
        "colab_type": "code",
        "outputId": "b11849b5-5f25-4281-d147-e5ef960cee23",
        "colab": {
          "base_uri": "https://localhost:8080/",
          "height": 215
        }
      },
      "source": [
        "from IPython.display import Image\n",
        "Image(url=\"https://drive.google.com/uc?id=1t5bl9E8vFr4pEQFC9f0kd8ddJHS-B0cg\", width=500)"
      ],
      "execution_count": 0,
      "outputs": [
        {
          "output_type": "execute_result",
          "data": {
            "text/html": [
              "<img src=\"https://drive.google.com/uc?id=1t5bl9E8vFr4pEQFC9f0kd8ddJHS-B0cg\" width=\"500\"/>"
            ],
            "text/plain": [
              "<IPython.core.display.Image object>"
            ]
          },
          "metadata": {
            "tags": []
          },
          "execution_count": 18
        }
      ]
    },
    {
      "cell_type": "code",
      "metadata": {
        "id": "ooeg9W1YtGUq",
        "colab_type": "code",
        "outputId": "8646d03b-983f-41d2-f7cd-9325990e063b",
        "colab": {
          "base_uri": "https://localhost:8080/",
          "height": 219
        }
      },
      "source": [
        "from IPython.display import Image\n",
        "Image(url=\"https://drive.google.com/uc?id=10Bz80KrhsUPd9oN7ydYsFid1h5BQhYAg\", width=500)\n"
      ],
      "execution_count": 0,
      "outputs": [
        {
          "output_type": "execute_result",
          "data": {
            "text/html": [
              "<img src=\"https://drive.google.com/uc?id=10Bz80KrhsUPd9oN7ydYsFid1h5BQhYAg\" width=\"500\"/>"
            ],
            "text/plain": [
              "<IPython.core.display.Image object>"
            ]
          },
          "metadata": {
            "tags": []
          },
          "execution_count": 17
        }
      ]
    },
    {
      "cell_type": "markdown",
      "metadata": {
        "id": "oNfKNstZvmjF",
        "colab_type": "text"
      },
      "source": [
        "## AVL Tree (Balanced Binary Search) Trees\n",
        "\n",
        "The performance of the binary search tree can degrade from 𝑂(log𝑛) to 𝑂(𝑛) for operations like get and put when the tree becomes unbalanced. In this section we will look at a special kind of binary search tree that automatically makes sure that the tree remains balanced at all times.An AVL tree implements the Map abstract data type just like a regular binary search tree, the only difference is in how the tree performs. To implement our AVL tree we need to keep track of a balance factor for each node in the tree. \n",
        "\n",
        "If the balance factor is less than zero then the subtree is right heavy. If the balance factor is zero then the tree is perfectly in balance.\n",
        "\n",
        "```\n",
        "𝑏𝑎𝑙𝑎𝑛𝑐𝑒𝐹𝑎𝑐𝑡𝑜𝑟=ℎ𝑒𝑖𝑔ℎ𝑡(𝑙𝑒𝑓𝑡𝑆𝑢𝑏𝑇𝑟𝑒𝑒)−ℎ𝑒𝑖𝑔ℎ𝑡(𝑟𝑖𝑔ℎ𝑡𝑆𝑢𝑏𝑇𝑟𝑒𝑒)\n",
        "```\n",
        "For purposes of implementing an AVL tree, and gaining the benefit of having a balanced tree we will define a tree to be in balance if the balance factor is -1, 0, or 1. \n",
        "\n",
        "several data structures that can be used to implement the **Map Abstract Data Type** (MAP ADT). A binary Search on a list, a hash table, a binary search tree, and a balanced binary search tree. To conclude this section, let’s summarize the performance of each data structure for the key operations defined by the map ADT\n",
        "\n",
        "\n"
      ]
    },
    {
      "cell_type": "code",
      "metadata": {
        "id": "8Nct77SCVcV1",
        "colab_type": "code",
        "outputId": "e2f50bac-2518-4f2a-cf09-c63fc7a55ae1",
        "colab": {
          "base_uri": "https://localhost:8080/",
          "height": 183
        }
      },
      "source": [
        "from IPython.display import Image\n",
        "Image(url=\"https://drive.google.com/uc?id=1JuCog-QKNyaaEtlQgMpeu22imrwmIGOa\", width=500)"
      ],
      "execution_count": 0,
      "outputs": [
        {
          "output_type": "execute_result",
          "data": {
            "text/html": [
              "<img src=\"https://drive.google.com/uc?id=1JuCog-QKNyaaEtlQgMpeu22imrwmIGOa\" width=\"500\"/>"
            ],
            "text/plain": [
              "<IPython.core.display.Image object>"
            ]
          },
          "metadata": {
            "tags": []
          },
          "execution_count": 3
        }
      ]
    },
    {
      "cell_type": "code",
      "metadata": {
        "id": "gxcwlHwHVAgN",
        "colab_type": "code",
        "outputId": "30ee2076-4660-4c15-c8a3-b3136958edca",
        "colab": {
          "base_uri": "https://localhost:8080/",
          "height": 105
        }
      },
      "source": [
        "!pip install pythonds"
      ],
      "execution_count": 0,
      "outputs": [
        {
          "output_type": "stream",
          "text": [
            "Collecting pythonds\n",
            "  Downloading https://files.pythonhosted.org/packages/d5/23/3a6d8983605ba23ca972754a0ac81d1da3c9ea0a6f01b5b73d2bde3ac9fb/pythonds-1.2.1-py3-none-any.whl\n",
            "Installing collected packages: pythonds\n",
            "Successfully installed pythonds-1.2.1\n"
          ],
          "name": "stdout"
        }
      ]
    },
    {
      "cell_type": "code",
      "metadata": {
        "id": "Gga9fe1tybUH",
        "colab_type": "code",
        "colab": {}
      },
      "source": [
        ""
      ],
      "execution_count": 0,
      "outputs": []
    },
    {
      "cell_type": "markdown",
      "metadata": {
        "id": "shMCYe9Nyb6Q",
        "colab_type": "text"
      },
      "source": [
        "# Graph\n",
        "To implement the graph abstract data type using multiple internal representations.\n",
        "\n",
        "To see how graphs can be used to solve a wide variety of problems\n",
        "\n",
        "In this chapter we will study graphs. Graphs are a more general structure than the trees; in fact you can think of a tree as a special kind of graph. Graphs can be used to represent many interesting things about our world, including systems of roads, airline flights from city to city, how the Internet is connected, or even the sequence of classes you must take to complete a major in computer science. \n",
        "\n",
        "While it is relatively easy for humans to look at a road map and understand the relationships between different places, a computer has no such knowledge. However, we can also think of a road map as a graph. When we do so we can have our computer do interesting things for us. If you have ever used one of the Internet map sites, you know that a computer can find the shortest, quickest, or easiest path from one place to another.\n",
        "\n",
        "[link text](https://runestone.academy/runestone/books/published/pythonds/Graphs/toctree.html)\n",
        "\n",
        "* **Adjacency matrix and adjacency list**\n",
        "\n",
        "Now that we have looked at some examples of graphs, we will more formally define a graph and its components. We already know some of these terms from our discussion of trees.\n",
        "\n",
        "**Vertex (node) **\n",
        "A vertex (also called a “node”) is a fundamental part of a graph. It can have a name, which we will call the “key.” A vertex may also have additional information. We will call this additional information the “payload.”\n",
        "\n",
        "**Edge (arc)**\n",
        "An edge (also called an “arc”) is another fundamental part of a graph. An edge connects two vertices to show that there is a relationship between them. Edges may be one-way or two-way. If the edges in a graph are all **one-way**, we say that the graph is a **directed graph, or a digraph**. The class prerequisites graph shown above is clearly a digraph since you must take some classes before others.\n",
        "\n",
        "**Weight**\n",
        "Edges may be weighted to show that there is a cost to go from one vertex to another. For example in a graph of roads that connect one city to another, the weight on the edge might represent the distance between the two cities.\n",
        "\n",
        "With those definitions in hand we can formally define a graph. A graph can be represented by 𝐺 where 𝐺=(𝑉,𝐸). For the graph 𝐺, 𝑉 is a set of vertices and 𝐸 is a set of edges. Each edge is a tuple (𝑣,𝑤) where 𝑤,𝑣∈𝑉. We can add a third component to the edge tuple to represent a weight. A subgraph 𝑠 is a set of edges 𝑒 and vertices 𝑣 such that 𝑒⊂𝐸 and 𝑣⊂𝑉.\n",
        "\n",
        "Figure  bellow shows another example of a simple weighted digraph. Formally we can represent this graph as the set of six vertices:\n",
        "\n",
        "𝑉={𝑉0,𝑉1,𝑉2,𝑉3,𝑉4,𝑉5}\n",
        "and the set of nine edges:\n",
        "\n",
        "𝐸={(𝑣0,𝑣1,5),(𝑣1,𝑣2,4),(𝑣2,𝑣3,9),(𝑣3,𝑣4,7),(𝑣4,𝑣0,1),(𝑣0,𝑣5,2),(𝑣5,𝑣4,8),(𝑣3,𝑣5,3),(𝑣5,𝑣2,1)}\n",
        "\n",
        "\n",
        "![alt text](https://runestone.academy/runestone/books/published/pythonds/_images/digraph.png)\n",
        "\n",
        "\n",
        "**Path**\n",
        "A path in a graph is a sequence of vertices that are connected by edges. Formally we would define a path as 𝑤1,𝑤2,...,𝑤𝑛 such that (𝑤𝑖,𝑤𝑖+1)∈𝐸 for all 1≤𝑖≤𝑛−1. The unweighted path length is the number of edges in the path, specifically 𝑛−1. The weighted path length is the sum of the weights of all the edges in the path. For example in above Figure the path from 𝑉3 to 𝑉1 is the sequence of vertices (𝑉3,𝑉4,𝑉0,𝑉1). The edges are {(𝑣3,𝑣4,7),(𝑣4,𝑣0,1),(𝑣0,𝑣1,5)}.\n",
        "\n",
        "**Cycle**\n",
        "A cycle in a **directed graph** is a path that **starts and ends at the same vertex**. For example, in Figure above the path (𝑉5,𝑉2,𝑉3,𝑉5) is a cycle. A graph with no cycles is called an **acyclic graph**. A directed graph with no cycles is called a **directed acyclic graph or a DAG**. We will see that we can solve several important problems if the problem can be represented as a DAG.\n",
        "\n",
        "\n",
        "* Breadth first search\n",
        "* Depth first search\n"
      ]
    },
    {
      "cell_type": "code",
      "metadata": {
        "id": "hLNgo2A6pe6d",
        "colab_type": "code",
        "outputId": "cefa9532-e192-408b-91c1-91411ecbf283",
        "colab": {
          "base_uri": "https://localhost:8080/",
          "height": 482
        }
      },
      "source": [
        "from IPython.display import Image\n",
        "Image(url=\"https://runestone.academy/runestone/books/published/pythonds/_images/adjlist.png\", width=500)\n"
      ],
      "execution_count": 0,
      "outputs": [
        {
          "output_type": "execute_result",
          "data": {
            "text/html": [
              "<img src=\"https://runestone.academy/runestone/books/published/pythonds/_images/adjlist.png\" width=\"500\"/>"
            ],
            "text/plain": [
              "<IPython.core.display.Image object>"
            ]
          },
          "metadata": {
            "tags": []
          },
          "execution_count": 1
        }
      ]
    },
    {
      "cell_type": "markdown",
      "metadata": {
        "id": "JDDYbirQvRYW",
        "colab_type": "text"
      },
      "source": [
        " * **Hasing** We've seen how to improve search by knowing about the data structure beforehand. Hashing is is the concept of building a data structure that can be searched in O(1)\n",
        "* **Hash Tables**  A hash table is a data structure that is used to store keys/value pairs. It uses a hash function to compute an index into an array in which an element will be inserted or searched. By using a good hash function, hashing can work well.\n",
        "* **Hash Functions** We use hash functions to map items to slots in hash tables. The mapping between an item and the slot where the item belongs in the hash table is called hash function. A hash function is any function that can be used to map data of arbitrary size to fixed-size values. The values returned by a hash function are called hash values. The values are used to index a fixed-size table called a hash table. When we want to search for an item we use the hash function to compute the slot name for the item and then check the hash table to if it is present. This search operation is O(1),as computing hash value and then indexing the hash table at that location takes constant time.\n",
        "    * Load factor = (#of items)/(table size)\n",
        "    * **Hash function Folding method**: The folding method for constructing hash functions begins by dividing the item into equal-size pieces (the last piece may not be of equal size). These pieces are then added together to give the resulting hash value. For example, if our item was the phone number 436-555-4601, we would take the digits and divide them into groups of 2 (43,65,55,46,01). After the addition, 43+65+55+46+01, we get 210. If we assume our hash table has 11 slots, then we need to perform the extra step of dividing by 11 and keeping the remainder. In this case 210 % 11 is 1, so the phone number 436-555-4601 hashes to slot 1. Some folding methods go one step further and reverse every other piece before the addition. For the above example, we get 43+56+55+64+01=219 which gives 219 % 11=10.\n",
        "    * **Hash function Mid Square method**: Another numerical technique for constructing a hash function is called the mid-square method. We first square the item, and then extract some portion of the resulting digits. For example, if the item were 44, we would first compute 442=1,936. By extracting the middle two digits, 93, and performing the remainder step, we get 5 (93 % 11).\n",
        "    * **Hash function for non-integer elements**: We can also create hash functions for character-based items such as strings. The word “cat” can be thought of as a sequence of ordinal values. After computing ordinal values for every character we can then take these three ordinal values, add them up, and use the remainder method to get a hash value. However, when using this hash function, anagrams will always be given the same hash value. To remedy this, we could use the position index of the character as a weight (pos index i* ord(c)+ pos index i+1* ord(a)+ pos index i+2 * ord(t)=641 then 641%11=3. \n",
        "\n",
        "\n",
        "```\n",
        "#python\n",
        ">>> ord('c')\n",
        "99\n",
        ">>> ord('a')\n",
        "97\n",
        ">>> ord('t')\n",
        "116\n",
        "\n",
        "```\n",
        "\n",
        "\n",
        "\n",
        "* Perfect Hash Function: A hash function that maps **each item** into a **unique slot** is reffered as a **perfect hash function**. our goal is to (1) minimize the number of collisions, and (2) evenly distribute items in the hash table, also (3) the has function should be easy to compute as well. \n",
        "\n",
        "* **Collision resolution: Rehashing** When two items hash to the same slot, we must have a systematic method for placing the second item in the hash table. This process is called collision resolution. \n",
        "    \n",
        "    * **linear/quadratic probing an open addressing collision resolution technique (rehashing)** The general name for the processes of looking for another slot after collision is called **rehashing** .One method for resolving collisions looks into the hash table and tries to find another open slot to hold the item that caused the collision. A simple way to do this is to start at the original hash value position and then move in a sequential manner through the slots until we encounter the first slot that is empty. This collision resolution process is referred to as open addressing in that it tries to find the next open slot or address in the hash table. By systematically visiting each slot one at a time, we are performing an open addressing technique called linear probing. **A disadvantage to linear probing** is the tendency for **clustering**; items become clustered in the table. This means that if many collisions occur at the same hash value, a number of surrounding slots will be filled by the linear probing resolution. This will have an impact on other items that are being inserted. **One way to deal with clustering** is to extend the linear probing technique so that instead of looking sequentially for the next open slot, we **skip slots**, thereby more evenly distributing the items that have caused collisions. This will potentially reduce the clustering that occurs. A variation of the linear probing idea is called **quadratic probing**. Instead of using a constant skip value we use a rehash functiion that increments the has value by 1,3,5, 7, 9 and so on.  This means that if the first hash value is h, the successive values are ℎ+1, ℎ+4, ℎ+9, ℎ+16, and so on. In general, the i will be i^2 {𝑟𝑒ℎ𝑎𝑠ℎ(𝑝𝑜𝑠)=(ℎ+𝑖^2)}. In other words, quadratic probing uses a skip consisting of successive perfect squares. \n",
        "        * **chaining**: An alternative method for handling the collision problem is to allow each slot to hold a reference to a collection (or chain) of items. Chaining allows many items to exist at the same location in the hash table. When collisions happen, the item is still placed in the proper slot of the hash table. As more and more items hash to the same location, the difficulty of searching for the item in the collection increases. Instead of going around and probing for a new slot you are basically chain off the original slot.\n",
        "\n",
        "\n",
        "\n",
        "\n",
        "* **Implementing a Hash table**\n",
        "\n",
        "    * entry to hash tables is a (key, value, hashvalue) tuple:\n",
        "    * first The hashvalue is derived entirely from the key using a hash function that maps keys to hashvalues\n",
        "    * if the slot at the hashvalue was empty (==None) we set: slots[hashvalue]=key and data[hashvalue]=data\n",
        "\n",
        "```\n",
        "The idea of a dictionary used as a hash table to get and retrieve items using keys is often referred to as a mapping. In our implementation we will have the following methods:\n",
        "\n",
        "HashTable() Create a new, empty map. It returns an empty map collection.\n",
        "put(key,val) Add a new key-value pair to the map. If the key is already in the map then replace the old value with the new value.\n",
        "get(key) Given a key, return the value stored in the map or None otherwise.\n",
        "del Delete the key-value pair from the map using a statement of the form del map[key].\n",
        "len() Return the number of key-value pairs stored\n",
        "in the map in Return True for a statement of the form key in map, if the given key is in the map, False otherwise.\n",
        "```"
      ]
    },
    {
      "cell_type": "code",
      "metadata": {
        "id": "cf0s520OpszR",
        "colab_type": "code",
        "colab": {}
      },
      "source": [
        "class Vertex:\n",
        "    def __init__(self,key):\n",
        "        self.id = key\n",
        "        self.connectedto = {}\n",
        "\n",
        "    def addNeighbor(self,nbr,weight=0):\n",
        "        self.connectedTo[nbr]=weight\n",
        "\n",
        "    def __str__(self):\n",
        "        return str(self.id) +' connectedTo: ' + str([x.id for x in self.connectedTo])\n",
        "    \n",
        "    def getConnections(self):\n",
        "        return self.connectedTo.keys()\n",
        "    \n",
        "    def getId(self):\n",
        "        return self.id\n",
        "    \n",
        "    def getWight(self,nbr):\n",
        "        return self.connectedTo[nbr]\n",
        "#***************************************#\n",
        "    class Graph:\n",
        "        def __init__(self):\n",
        "            self.vertList={}\n",
        "            self.numVertices=0\n",
        "\n",
        "        def addVertx(self,key):\n",
        "            self.numVertices = self.numVertices + 1\n",
        "            newVertex = Vertex(key)\n",
        "            self.vertList[key] = newVertex\n",
        "            return newVertex\n",
        "\n",
        "        def getVertex(self,n):\n",
        "            if n in self.vertList:\n",
        "                return self.vertList[n]\n",
        "            else:\n",
        "                return None\n",
        "\n",
        "        def __contains__(self,n):\n",
        "            return n in self.vertList\n",
        "\n",
        "        def addEdge(self,f,t,weight=0):\n",
        "            if f not in self.vertList:\n",
        "                nv = self.addVertex(f)\n",
        "            if t not in self.vertList:\n",
        "                nv = self.addVertex(t)\n",
        "            self.vertList[f].addNeighbor(self.vertList[t], weight)\n",
        "\n",
        "        def getVertices(self):\n",
        "            return self.vertList.keys()\n",
        "\n",
        "        def __iter__(self):\n",
        "            return iter(self.vertList.values())       \n",
        "\n",
        "\n"
      ],
      "execution_count": 0,
      "outputs": []
    },
    {
      "cell_type": "code",
      "metadata": {
        "id": "Bd1d5rT4zBiM",
        "colab_type": "code",
        "outputId": "90ce0513-904b-450e-eb4f-3a3ff69d2e99",
        "colab": {
          "base_uri": "https://localhost:8080/",
          "height": 298
        }
      },
      "source": [
        "from IPython.display import Image\n",
        "Image(url=\"https://shenjie1993.gitbooks.io/leetcode-python/leetcode-word-ladder.png\", width=400)\n"
      ],
      "execution_count": 0,
      "outputs": [
        {
          "output_type": "execute_result",
          "data": {
            "text/html": [
              "<img src=\"https://shenjie1993.gitbooks.io/leetcode-python/leetcode-word-ladder.png\" width=\"400\"/>"
            ],
            "text/plain": [
              "<IPython.core.display.Image object>"
            ]
          },
          "metadata": {
            "tags": []
          },
          "execution_count": 4
        }
      ]
    },
    {
      "cell_type": "code",
      "metadata": {
        "id": "7fxgtgZ7y8PF",
        "colab_type": "code",
        "colab": {}
      },
      "source": [
        "#Building the Word Ladder Graph\n",
        "\n",
        "from pythonds.graphs import Graph\n",
        "\n",
        "def buildGraph(wordFile):\n",
        "    d = {}\n",
        "    g = Graph()\n",
        "    wfile = open(wordFile,'r')\n",
        "    # create buckets of words that differ by one letter\n",
        "    for line in wfile:\n",
        "        word = line[:-1]\n",
        "        for i in range(len(word)):\n",
        "            bucket = word[:i] + '_' + word[i+1:]\n",
        "            if bucket in d:\n",
        "                d[bucket].append(word)\n",
        "            else:\n",
        "                d[bucket] = [word]\n",
        "    # add vertices and edges for words in the same bucket\n",
        "    for bucket in d.keys():\n",
        "        for word1 in d[bucket]:\n",
        "            for word2 in d[bucket]:\n",
        "                if word1 != word2:\n",
        "                    g.addEdge(word1,word2)\n",
        "    return g"
      ],
      "execution_count": 0,
      "outputs": []
    },
    {
      "cell_type": "markdown",
      "metadata": {
        "id": "g_lWXsIR0oBT",
        "colab_type": "text"
      },
      "source": [
        "# Breadth First Search (BFS)\n",
        "With the graph constructed we can now turn our attention to the algorithm we will use to find the shortest solution to the word ladder problem. The graph algorithm we are going to use is called the “breadth first search” algorithm. Breadth first search (BFS) is one of the easiest algorithms for searching a graph"
      ]
    },
    {
      "cell_type": "markdown",
      "metadata": {
        "id": "f8gxAkKBMM3v",
        "colab_type": "text"
      },
      "source": [
        "## Graph Traversal"
      ]
    },
    {
      "cell_type": "code",
      "metadata": {
        "id": "3vK3WVqxMMUB",
        "colab_type": "code",
        "colab": {}
      },
      "source": [
        "import networkx as nx\n",
        "import matplotlib.pylab as plt"
      ],
      "execution_count": 0,
      "outputs": []
    },
    {
      "cell_type": "code",
      "metadata": {
        "id": "tK4xKkZpMSN0",
        "colab_type": "code",
        "outputId": "b39d1429-c706-4ce6-a3c8-b3481e8a0af7",
        "colab": {
          "base_uri": "https://localhost:8080/",
          "height": 248
        }
      },
      "source": [
        "graph_dictt = {\n",
        "    'A' : ['B','S'],\n",
        "    'B' : ['A'],\n",
        "    'C' : ['D','E','F','S'],\n",
        "    'D' : ['C'],\n",
        "    'E' : ['C','H'],\n",
        "    'F' : ['C','G'],\n",
        "    'G' : ['F','S'],\n",
        "    'H' : ['E','G'],\n",
        "    'S' : ['A','C','G']\n",
        "}\n",
        "\n",
        "G = nx.Graph(graph_dict)\n",
        "\n",
        "pos = nx.spring_layout(G)\n",
        "nx.draw_networkx_nodes(G,pos)\n",
        "nx.draw_networkx_edges(G,pos)\n",
        "nx.draw_networkx_labels(G,pos)\n",
        "\n",
        "plt.show()\n",
        "\n"
      ],
      "execution_count": 0,
      "outputs": [
        {
          "output_type": "display_data",
          "data": {
            "image/png": "[encoded data removed]",
            "text/plain": [
              "<Figure size 432x288 with 1 Axes>"
            ]
          },
          "metadata": {
            "tags": []
          }
        }
      ]
    },
    {
      "cell_type": "code",
      "metadata": {
        "id": "yzx8SVgakOaB",
        "colab_type": "code",
        "outputId": "2561e7ea-631f-41ba-cd8d-ed38b8eff0aa",
        "colab": {
          "base_uri": "https://localhost:8080/",
          "height": 34
        }
      },
      "source": [
        "from collections import defaultdict\n",
        "g=defaultdict(list)\n",
        "# g['A']=[]\n",
        "g['A'].append('B')\n",
        "g['A'].append('C')\n",
        "if 'B' not in g['A']:\n",
        "    g['A'].append('B')\n",
        "g.values()\n",
        "for i in g.values():\n",
        "    print(i)"
      ],
      "execution_count": 0,
      "outputs": [
        {
          "output_type": "stream",
          "text": [
            "['B', 'C']\n"
          ],
          "name": "stdout"
        }
      ]
    },
    {
      "cell_type": "code",
      "metadata": {
        "id": "YozzcrAbMqkj",
        "colab_type": "code",
        "outputId": "30ea8964-b543-4afc-895f-068039fc3387",
        "colab": {
          "base_uri": "https://localhost:8080/",
          "height": 438
        }
      },
      "source": [
        "import networkx as nx\n",
        "import matplotlib.pylab as plt\n",
        "from collections import defaultdict\n",
        "\n",
        "class Graph: \n",
        "    def __init__(self):\n",
        "        self.graph = defaultdict(list)\n",
        "\n",
        "    def addEdge(self,u,v):\n",
        "        if v not in self.graph[u]:\n",
        "            self.graph[u].append(v)\n",
        "        if u not in self.graph[v]:\n",
        "            self.graph[v].append(u)\n",
        "\n",
        "#if a print (or any str calls g=Graph(): you can see the return content \n",
        "    def __str__(self):\n",
        "        return str(self.graph.items())\n",
        "        #return str(self.graph.values())\n",
        "        #return str(self.graph.keys())\n",
        "\n",
        "#if a for loop (or any itterator calls g=Graph(): you can see the return content \n",
        "    def __iter__(self):\n",
        "        return iter(self.graph.items())\n",
        "        #return iter(self.graph.values())\n",
        "        #return iter(self.graph.keys())\n",
        "#if a statement says \"item x in\" it checks if item is in the keys        \n",
        "    def __contains__(self,n):\n",
        "        return n in self.graph      \n",
        "\n",
        "    def traverse_BFS_graph(self, start_node):\n",
        "        some_graph = self.graph\n",
        "        visited = []\n",
        "        to_visit = [start_node]\n",
        "\n",
        "        while to_visit:\n",
        "            # current node\n",
        "            node = to_visit.pop(0)\n",
        "            # look at keys one by one    \n",
        "            for nbr in some_graph[node]: \n",
        "                if nbr not in visited:\n",
        "                    # stack nodes in to_visit list\n",
        "                    to_visit.insert(0,nbr) \n",
        "                    # enqueue all nbr nodes to visited list\n",
        "                    visited.append(nbr)  \n",
        "        return visited\n",
        "\n",
        "# push starting vertex to the stack and DFS record (to indicate visited)\n",
        "# while stack not empty\n",
        "# read top() element of the stack (top=p) \n",
        "# push only one adjacent vertex of p to the stack & DFS record\n",
        "# if no valid adjacent for p then pop() from stack (visited) \n",
        "\n",
        "    def traverse_DFS_graph(self, start_node):\n",
        "        some_graph = self.graph\n",
        "        visited = [start_node]\n",
        "        to_visit = [start_node]\n",
        "        m=-1\n",
        "        while to_visit:\n",
        "            # current node\n",
        "            node = to_visit[-1]\n",
        "            # look at keys one by one \n",
        "   \n",
        "            for nbr in some_graph[node]: \n",
        "                m=0 \n",
        "                if nbr not in visited:\n",
        "                    # stack nodes in to_visit list\n",
        "                    to_visit.append(nbr) \n",
        "                    # enqueue ONLY ONE nbr nodes to visited list\n",
        "                    visited.append(nbr) \n",
        "                    m=1 # found an unvisited neighbor\n",
        "                    break\n",
        "\n",
        "            if m==0: # did not find an unvisited neighbor\n",
        "                to_visit.pop() # look at the node before\n",
        "               \n",
        "        return visited\n",
        "\n",
        "g = Graph()\n",
        "\n",
        "g.addEdge( 'A','B')\n",
        "g.addEdge( 'A','S')\n",
        "g.addEdge( 'C','D')\n",
        "g.addEdge( 'C','E')\n",
        "g.addEdge( 'C','F')\n",
        "g.addEdge( 'C','S')\n",
        "g.addEdge( 'D','C')\n",
        "g.addEdge( 'E','C')\n",
        "g.addEdge( 'E','H')\n",
        "\n",
        "\n",
        "def plot_graph(g):\n",
        "\n",
        "    graph_dict=defaultdict()\n",
        "    for i,j in g:\n",
        "        graph_dict[i]=j\n",
        "    G = nx.Graph(graph_dict)\n",
        "    pos = nx.spring_layout(G)\n",
        "\n",
        "    nx.draw_networkx_nodes(G,pos)\n",
        "    nx.draw_networkx_edges(G,pos)\n",
        "    nx.draw_networkx_labels(G,pos)\n",
        "\n",
        "    plt.show() \n",
        "\n",
        "for i,j in g:\n",
        "    print(i,':',j)\n",
        "\n",
        "print(g)\n",
        "plot_graph(g)\n",
        "\n",
        "print(\"DFS traversal\")\n",
        "g.traverse_DFS_graph('A')\n",
        "\n",
        "\n"
      ],
      "execution_count": 0,
      "outputs": [
        {
          "output_type": "stream",
          "text": [
            "A : ['B', 'S']\n",
            "B : ['A']\n",
            "S : ['A', 'C']\n",
            "C : ['D', 'E', 'F', 'S']\n",
            "D : ['C']\n",
            "E : ['C', 'H']\n",
            "F : ['C']\n",
            "H : ['E']\n",
            "dict_items([('A', ['B', 'S']), ('B', ['A']), ('S', ['A', 'C']), ('C', ['D', 'E', 'F', 'S']), ('D', ['C']), ('E', ['C', 'H']), ('F', ['C']), ('H', ['E'])])\n"
          ],
          "name": "stdout"
        },
        {
          "output_type": "display_data",
          "data": {
            "image/png": "[encoded data removed]",
            "text/plain": [
              "<Figure size 432x288 with 1 Axes>"
            ]
          },
          "metadata": {
            "tags": []
          }
        },
        {
          "output_type": "execute_result",
          "data": {
            "text/plain": [
              "['A', 'B', 'S', 'C', 'D', 'E', 'H', 'F']"
            ]
          },
          "metadata": {
            "tags": []
          },
          "execution_count": 138
        }
      ]
    },
    {
      "cell_type": "code",
      "metadata": {
        "id": "h_BGOjsOMSZw",
        "colab_type": "code",
        "outputId": "c9ed1cd2-30fc-4784-9ed9-96d4abef0316",
        "colab": {
          "base_uri": "https://localhost:8080/",
          "height": 285
        }
      },
      "source": [
        "import networkx as nx\n",
        "# To creat Knight’s Tour graph\n",
        "# try 8 possible moves 1by1 if the night is within chessboard area\n",
        "# keep visiting unvisited squares till every square is visited\n",
        "\n",
        "# DFS is used to solve the knight’s tour search problem:\n",
        "## start from top left corner (0,0) and go back if you see deadend\n",
        "# exploring one branch of the tree as deeply as possible\n",
        "\n",
        "# buid a graph\n",
        "from collections import defaultdict\n",
        "\n",
        "class Graph:\n",
        "    def __init__(self):\n",
        "        self.graph=defaultdict(list)\n",
        "    def addEdge(self,i,j):\n",
        "        if j not in self.graph[i]:\n",
        "            self.graph[i].append(j)\n",
        "        if i not in self.graph[j]:\n",
        "            self.graph[j].append(i)  \n",
        "\n",
        "    def __iter__(self):\n",
        "        return iter(self.graph.items())\n",
        "\n",
        "    def __str__(self):\n",
        "        return str(self.graph.items())   \n",
        "\n",
        "    def __contains__(self,n):\n",
        "        return n in self.graph   \n",
        "\n",
        "def build_chessboard_graph(board_size):\n",
        "    g=Graph()\n",
        "    for row in range(board_size):\n",
        "        for col in range(board_size):\n",
        "            for to_row, to_col in legal_moves_from(row, col, board_size):\n",
        "                g.addEdge((row,col),(to_row,to_col))\n",
        "    return g\n",
        "\n",
        "def legal_moves_from(row, col, board_size):\n",
        "    MOVE_OFFSETS = ((-1, -2), ( 1, -2), (-2, -1), ( 2, -1), \n",
        "                    (-2,  1), ( 2,  1),(-1,  2), ( 1,  2) )\n",
        "    for row_offset, col_offset in MOVE_OFFSETS:\n",
        "        to_row, to_col = row + row_offset, col + col_offset\n",
        "        if 0 <= to_row < board_size and 0 <= to_col < board_size:\n",
        "            yield to_row, to_col\n",
        "\n",
        "\n",
        "# def DFS_knite(g,start_node):\n",
        "#     graph_dict=convGraph2Dict(g)\n",
        "#     some_graph = convGraph2Dict(g)\n",
        "#     visited = [start_node]\n",
        "#     to_visit = [start_node]\n",
        "#     m=-1\n",
        "\n",
        "#     while to_visit:\n",
        "#         # current node\n",
        "#         node = to_visit[-1]\n",
        "#         # look at keys one by one \n",
        "#         for nbr in some_graph[node]: \n",
        "#             m=0 \n",
        "#             if nbr not in visited:\n",
        "#                 # stack nodes in to_visit list\n",
        "#                 to_visit.append(nbr) \n",
        "#                 # enqueue ONLY ONE nbr nodes to visited list\n",
        "#                 visited.append(nbr) \n",
        "#                 m=1 # found an unvisited neighbor\n",
        "#                 break\n",
        "\n",
        "#         if m==0: # did not find an unvisited neighbor\n",
        "#             to_visit.pop() # look at the node before\n",
        "#             visited.pop()\n",
        "            \n",
        "#     return visited\n",
        "\n",
        "\n",
        "\n",
        "\n",
        "\n",
        "def convGraph2Dict(g):\n",
        "    graph_dict=defaultdict()\n",
        "    for i,j in g:\n",
        "        graph_dict[i]=j\n",
        "    return  graph_dict \n",
        "\n",
        "def plot_graph(g):\n",
        "    graph_dict=convGraph2Dict(g)\n",
        "    G = nx.Graph(graph_dict)\n",
        "    pos = nx.spring_layout(G)\n",
        "\n",
        "    nx.draw_networkx_nodes(G,pos)\n",
        "    nx.draw_networkx_edges(G,pos)\n",
        "    nx.draw_networkx_labels(G,pos)\n",
        "\n",
        "    plt.show()    \n",
        "\n",
        "start_node=(0,0)\n",
        "# traverse_DFS_graph(g, start_node)\n",
        "\n",
        "\n",
        "\n",
        "g=build_chessboard_graph(4)\n",
        "print(g)\n",
        "\n",
        "plot_graph(g)\n",
        "\n",
        "# doesn't work DFS_knite(g,(0,0))\n",
        "\n",
        "\n"
      ],
      "execution_count": 0,
      "outputs": [
        {
          "output_type": "stream",
          "text": [
            "dict_items([((0, 0), [(2, 1), (1, 2)]), ((2, 1), [(0, 0), (0, 2), (1, 3), (3, 3)]), ((1, 2), [(0, 0), (2, 0), (3, 1), (3, 3)]), ((0, 1), [(2, 0), (2, 2), (1, 3)]), ((2, 0), [(0, 1), (1, 2), (3, 2)]), ((2, 2), [(0, 1), (0, 3), (1, 0), (3, 0)]), ((1, 3), [(0, 1), (2, 1), (3, 2)]), ((0, 2), [(1, 0), (2, 1), (2, 3)]), ((1, 0), [(0, 2), (3, 1), (2, 2)]), ((2, 3), [(0, 2), (1, 1), (3, 1)]), ((0, 3), [(1, 1), (2, 2)]), ((1, 1), [(0, 3), (3, 0), (3, 2), (2, 3)]), ((3, 1), [(1, 0), (1, 2), (2, 3)]), ((3, 0), [(1, 1), (2, 2)]), ((3, 2), [(1, 1), (1, 3), (2, 0)]), ((3, 3), [(1, 2), (2, 1)])])\n"
          ],
          "name": "stdout"
        },
        {
          "output_type": "display_data",
          "data": {
            "image/png": "[encoded data removed]",
            "text/plain": [
              "<Figure size 432x288 with 1 Axes>"
            ]
          },
          "metadata": {
            "tags": []
          }
        }
      ]
    },
    {
      "cell_type": "markdown",
      "metadata": {
        "id": "xel-j3rqJfIN",
        "colab_type": "text"
      },
      "source": [
        "##Dijkstra (single-source shortest-path algorithm)\n",
        " “Dijkstra” single-source shortest-path. It determines the shortest path from initial node \"a\" (as if it is root of a tree) to every other node \"b\" (as if it is a child or child of a child) on a weighted graph. \n",
        " \n",
        "Dijkstra does not work with negative weight graphs. It relies on one \"simple\" fact: if all weights are non-negative, adding an edge can never make a path shorter. That's why picking the shortest candidate edge (local optimality) always ends up being correct (global optimality).\n",
        "\n",
        "##Floyd-Warshall (all-pairs shortest path algorithm)\n",
        "\n",
        "Floyd-Warshall is used when any of all the nodes can be a source, so you want the shortest distance to reach any destination node from any source node. computes the shortest paths between every pair of nodes. Another example is \"for each node v, run Dijkstra with v as the source node\". This only fails when there are negative cycles.\n",
        "\n",
        "##Bellman-Ford (single-source shortest-path algorithm)\n",
        "\n",
        "Bellman-Ford is used like Dijkstra's, when there is only one source. This can handle negative weights and reports negative cycle (we should not have a cycle when the sum of the weights is negative) and its working is the same as Floyd-Warshall's except for one source. \n",
        "\n",
        "Bellman-Ford and Floyd-Warshall are similar—for example, they're both dynamic programming algorithms—but Floyd-Warshall is not the same algorithm as \"for each node v, run Bellman-Ford with v as the source node\". In particular, Floyd-Warshall runs in 𝑂(𝑉3) time, while repeated-Bellman-Ford runs in 𝑂(𝑉2𝐸) time (𝑂(𝑉𝐸) time for each source vertex)."
      ]
    },
    {
      "cell_type": "code",
      "metadata": {
        "id": "PjiN2XXvldZO",
        "colab_type": "code",
        "outputId": "4522021a-87ee-412d-c4af-93368ec5b57f",
        "colab": {
          "base_uri": "https://localhost:8080/",
          "height": 34
        }
      },
      "source": [
        "def Dijkstra(root,dict):\n",
        "    # Base case distance of nodes connected directly to root\n",
        "    # db = {'A': 5, 'D': 1, 'G': 2, 'B': 0 , 'C': None , 'E': None, 'F': None}\n",
        "    # create a dict with distances from base root\n",
        "    \n",
        "    # we initialize by considering distance from everu node to root is None\n",
        "    db={i:None for i in d}\n",
        "    # we set the distance from the root to root as 0\n",
        "    db[root]=0\n",
        "    # we set the distance from the nodes connect to root directly to root from dict\n",
        "    for i,j in d[root].items():\n",
        "        db[i]=j\n",
        "\n",
        "    # set distance from other nodes to root by traversing to the root via known nodes in db\n",
        "    for i in db: # ('A'*,'D','G')    db = {'A':5, 'D': 1, 'G': 2}\n",
        "        if db[i]: # have an identified distance to root (not None)\n",
        "            for j in d[i]: # connected to roo through another nodewhich we know the distance from root to \n",
        "                dist_a = db[i] + d[i][j]  # indirected cost to root=cost to root+ cost to node connected to root= db['A']+ d['A']['E'] = 5+12\n",
        "                if db[j]==None: \n",
        "                    dist = dist_a\n",
        "                else:\n",
        "                    dist = min(dist_a,db[j])\n",
        "                db[j]=dist\n",
        "    return db\n",
        "\n",
        "\n",
        "\n",
        "root='B'\n",
        "d = {\n",
        "    'B': {'A': 5, 'D': 1, 'G': 2},\n",
        "    'A': {'B': 5, 'D': 3, 'E': 12, 'F' :5},\n",
        "    'D': {'B': 1, 'G': 1, 'E': 1, 'A': 3},\n",
        "    'G': {'B': 2, 'D': 1, 'C': 2},\n",
        "    'C': {'G': 2, 'E': 1, 'F': 16},\n",
        "    'E': {'A': 12, 'D': 1, 'C': 1, 'F': 2},\n",
        "    'F': {'A': 5, 'E': 2, 'C': 16}}\n",
        "\n",
        "dist2everynode=Dijkstra(root,dict)\n",
        "print('shortest dist from',root,'to every node is',dist2everynode)\n",
        "\n"
      ],
      "execution_count": 0,
      "outputs": [
        {
          "output_type": "stream",
          "text": [
            "shortest dist from B to every node is {'B': 0, 'A': 4, 'D': 1, 'G': 2, 'C': 3, 'E': 2, 'F': 4}\n"
          ],
          "name": "stdout"
        }
      ]
    },
    {
      "cell_type": "markdown",
      "metadata": {
        "id": "XMK0QOcjszLI",
        "colab_type": "text"
      },
      "source": [
        "\n",
        "1-Convert to graph\n",
        "\n",
        "2-inf on unseen nodes\n",
        "\n",
        "3-start 0,0\n",
        "\n",
        "4-Loop: relax node/add cost to seen edge/mark node as visit\n",
        "\n",
        "5-find min value cost on seen but not visited nodes\n",
        "\n",
        "6-Return value end n, n"
      ]
    },
    {
      "cell_type": "code",
      "metadata": {
        "id": "IBJIk7JtsJXS",
        "colab_type": "code",
        "colab": {}
      },
      "source": [
        "def minPathSum(self, grid: List[List[int]]) -> int:\n",
        "    row =  len(grid)\n",
        "    column = len(grid[0])\n",
        "    \n",
        "    # Craft graphs\n",
        "    heap = []\n",
        "    sum = defaultdict(list)\n",
        "    cost = defaultdict(list)\n",
        "    graph = defaultdict(list)\n",
        "    seen = defaultdict(list)\n",
        "    for r in range (0, row):\n",
        "        for c in range (0, column):\n",
        "            sum[r,c] = float('inf')\n",
        "            cost[r,c].append(grid[r][c])\n",
        "            # check right\n",
        "            if c < column - 1:\n",
        "                graph[r,c].append([r,c+1])\n",
        "            # check down\n",
        "            if r < row - 1:\n",
        "                graph[r,c].append([r+1,c])\n",
        "\n",
        "    # Setup for start and end\n",
        "    min_node = (0,0)\n",
        "    end_node = ((row-1),(column-1))   \n",
        "    sum[(min_node)] = cost.get(min_node)[0]\n",
        "    seen[(min_node)] = True\n",
        "    \n",
        "    while len(seen) > 0:\n",
        "        # check attached nodes\n",
        "        if graph.get(min_node):\n",
        "            # Visit next mini-value node and relax it's edge\n",
        "            for node in graph.get(min_node):\n",
        "                n = tuple(node)\n",
        "                visit_cost = cost.get(n)[0] + (sum.get(min_node))\n",
        "                # Check if relaxing has reduced the cost\n",
        "                if visit_cost < sum.get(n):\n",
        "                    # Update the cost for each updated node\n",
        "                    sum[(n)] = visit_cost\n",
        "                    # Add to head future nodes to visit\n",
        "                    heappush(heap, (visit_cost, n))\n",
        "                    seen[(n)] = True\n",
        "\n",
        "        seen.pop(min_node)\n",
        "\n",
        "        # Check Next Cost Optimized with a heap\n",
        "        if len(heap) > 0:\n",
        "            next_min_node = heappop(heap)[1]\n",
        "            min_node = next_min_node\n",
        "\n",
        "    return sum.get(end_node)"
      ],
      "execution_count": 0,
      "outputs": []
    },
    {
      "cell_type": "markdown",
      "metadata": {
        "id": "jaIzOjPfb57g",
        "colab_type": "text"
      },
      "source": [
        "## Prims (finds min spanning tree)"
      ]
    },
    {
      "cell_type": "markdown",
      "metadata": {
        "id": "ZSns4IRr9r8d",
        "colab_type": "text"
      },
      "source": [
        "\n",
        "For more questions and samples refer to:\n",
        "[link text](https://medium.com/@kingrayhan/500-data-structures-and-algorithms-practice-problems-and-their-solutions-b45a83d803f0)\n",
        "\n"
      ]
    }
  ]
}