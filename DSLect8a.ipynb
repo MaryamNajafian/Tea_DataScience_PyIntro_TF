{
  "nbformat": 4,
  "nbformat_minor": 0,
  "metadata": {
    "kernelspec": {
      "display_name": "Python 3",
      "language": "python",
      "name": "python3"
    },
    "language_info": {
      "codemirror_mode": {
        "name": "ipython",
        "version": 3
      },
      "file_extension": ".py",
      "mimetype": "text/x-python",
      "name": "python",
      "nbconvert_exporter": "python",
      "pygments_lexer": "ipython3",
      "version": "3.6.6"
    },
    "colab": {
      "name": "DSLect8a.ipynb",
      "provenance": [],
      "collapsed_sections": []
    }
  },
  "cells": [
    {
      "cell_type": "markdown",
      "metadata": {
        "id": "NwgRGu2DbtKU",
        "colab_type": "text"
      },
      "source": [
        "\n",
        "# TensorFlow Basics\n"
      ]
    },
    {
      "cell_type": "code",
      "metadata": {
        "id": "ENmY84P9btKZ",
        "colab_type": "code",
        "colab": {}
      },
      "source": [
        "import tensorflow as tf"
      ],
      "execution_count": 0,
      "outputs": []
    },
    {
      "cell_type": "code",
      "metadata": {
        "id": "N_i002_ybtKn",
        "colab_type": "code",
        "colab": {},
        "outputId": "35c5bfc7-55bd-47bc-c95d-c9177f8696c9"
      },
      "source": [
        "print(tf.__version__)"
      ],
      "execution_count": 0,
      "outputs": [
        {
          "output_type": "stream",
          "text": [
            "1.10.0\n"
          ],
          "name": "stdout"
        }
      ]
    },
    {
      "cell_type": "markdown",
      "metadata": {
        "id": "n17PVQzQbtK3",
        "colab_type": "text"
      },
      "source": [
        "### Simple Constants\n",
        "\n",
        "Let's show how to create a simple constant with Tensorflow, which TF stores as a tensor object:"
      ]
    },
    {
      "cell_type": "code",
      "metadata": {
        "id": "GhHu-OKtbtK8",
        "colab_type": "code",
        "colab": {}
      },
      "source": [
        "hello = tf.constant('Hello World')"
      ],
      "execution_count": 0,
      "outputs": []
    },
    {
      "cell_type": "code",
      "metadata": {
        "id": "3wvm3zKnbtLJ",
        "colab_type": "code",
        "colab": {},
        "outputId": "20b6fd5f-b728-4ba8-9603-64286f7a67d5"
      },
      "source": [
        "type(hello)"
      ],
      "execution_count": 0,
      "outputs": [
        {
          "output_type": "execute_result",
          "data": {
            "text/plain": [
              "tensorflow.python.framework.ops.Tensor"
            ]
          },
          "metadata": {
            "tags": []
          },
          "execution_count": 3
        }
      ]
    },
    {
      "cell_type": "code",
      "metadata": {
        "id": "Sc6iIPMHbtLY",
        "colab_type": "code",
        "colab": {}
      },
      "source": [
        "x = tf.constant(100)"
      ],
      "execution_count": 0,
      "outputs": []
    },
    {
      "cell_type": "code",
      "metadata": {
        "id": "cJVa5qYCbtLn",
        "colab_type": "code",
        "colab": {},
        "outputId": "c0e75de6-ecaa-480e-88dd-fed89ce86b3f"
      },
      "source": [
        "type(x)"
      ],
      "execution_count": 0,
      "outputs": [
        {
          "output_type": "execute_result",
          "data": {
            "text/plain": [
              "tensorflow.python.framework.ops.Tensor"
            ]
          },
          "metadata": {
            "tags": []
          },
          "execution_count": 5
        }
      ]
    },
    {
      "cell_type": "markdown",
      "metadata": {
        "id": "91ll89MKbtL1",
        "colab_type": "text"
      },
      "source": [
        "### Running Sessions\n",
        "\n",
        "Now you can create a TensorFlow Session, which is a class for running TensorFlow operations.\n",
        "\n",
        "A `Session` object encapsulates the environment in which `Operation`\n",
        "objects are executed, and `Tensor` objects are evaluated. For example:"
      ]
    },
    {
      "cell_type": "code",
      "metadata": {
        "id": "8KnAgklnbtL3",
        "colab_type": "code",
        "colab": {}
      },
      "source": [
        "sess = tf.Session()"
      ],
      "execution_count": 0,
      "outputs": []
    },
    {
      "cell_type": "code",
      "metadata": {
        "id": "CtOa9AKObtL9",
        "colab_type": "code",
        "colab": {},
        "outputId": "fa0cb047-0c64-4ea8-f01d-7e4e5bced650"
      },
      "source": [
        "sess.run(hello)"
      ],
      "execution_count": 0,
      "outputs": [
        {
          "output_type": "execute_result",
          "data": {
            "text/plain": [
              "b'Hello World'"
            ]
          },
          "metadata": {
            "tags": []
          },
          "execution_count": 7
        }
      ]
    },
    {
      "cell_type": "code",
      "metadata": {
        "id": "gmpKfNKRbtMD",
        "colab_type": "code",
        "colab": {},
        "outputId": "11809e96-931b-48e7-8e1a-0ee04e0db161"
      },
      "source": [
        "type(sess.run(hello))"
      ],
      "execution_count": 0,
      "outputs": [
        {
          "output_type": "execute_result",
          "data": {
            "text/plain": [
              "bytes"
            ]
          },
          "metadata": {
            "tags": []
          },
          "execution_count": 8
        }
      ]
    },
    {
      "cell_type": "code",
      "metadata": {
        "id": "4oUaxV4zbtMH",
        "colab_type": "code",
        "colab": {},
        "outputId": "e17fe108-c7c5-45ed-e275-ee137130fa0e"
      },
      "source": [
        "sess.run(x)"
      ],
      "execution_count": 0,
      "outputs": [
        {
          "output_type": "execute_result",
          "data": {
            "text/plain": [
              "100"
            ]
          },
          "metadata": {
            "tags": []
          },
          "execution_count": 9
        }
      ]
    },
    {
      "cell_type": "code",
      "metadata": {
        "id": "17YjEap_btMP",
        "colab_type": "code",
        "colab": {},
        "outputId": "4f2c9f3d-bbad-4b88-c2ec-e7105fdb452e"
      },
      "source": [
        "type(sess.run(x))"
      ],
      "execution_count": 0,
      "outputs": [
        {
          "output_type": "execute_result",
          "data": {
            "text/plain": [
              "numpy.int32"
            ]
          },
          "metadata": {
            "tags": []
          },
          "execution_count": 10
        }
      ]
    },
    {
      "cell_type": "markdown",
      "metadata": {
        "id": "NdopNB-rbtMd",
        "colab_type": "text"
      },
      "source": [
        "## Operations\n",
        "\n",
        "You can line up multiple Tensorflow operations in to be run during a session:"
      ]
    },
    {
      "cell_type": "code",
      "metadata": {
        "id": "ogPWnDkzbtMe",
        "colab_type": "code",
        "colab": {}
      },
      "source": [
        "x = tf.constant(2)\n",
        "y = tf.constant(3)"
      ],
      "execution_count": 0,
      "outputs": []
    },
    {
      "cell_type": "code",
      "metadata": {
        "id": "v-hoyGfmbtMl",
        "colab_type": "code",
        "colab": {},
        "outputId": "c427fcb3-a085-4009-b4f1-2490d6585258"
      },
      "source": [
        "with tf.Session() as sess:\n",
        "    print('Operations with Constants')\n",
        "    print('Addition',sess.run(x+y))\n",
        "    print('Subtraction',sess.run(x-y))\n",
        "    print('Multiplication',sess.run(x*y))\n",
        "    print('Division',sess.run(x/y))"
      ],
      "execution_count": 0,
      "outputs": [
        {
          "output_type": "stream",
          "text": [
            "Operations with Constants\n",
            "Addition 5\n",
            "Subtraction -1\n",
            "Multiplication 6\n",
            "Division 0.6666666666666666\n"
          ],
          "name": "stdout"
        }
      ]
    },
    {
      "cell_type": "markdown",
      "metadata": {
        "id": "TdAeypGvbtMw",
        "colab_type": "text"
      },
      "source": [
        "### Placeholder\n",
        "\n",
        "You may not always have the constants right away, and you may be waiting for a constant to appear after a cycle of operations. **tf.placeholder** is a tool for this. It inserts a placeholder for a tensor that will be always fed.\n",
        "\n",
        "**Important**: This tensor will produce an error if evaluated. Its value must be fed using the `feed_dict` optional argument to `Session.run()`,\n",
        "`Tensor.eval()`, or `Operation.run()`. For example, for a placeholder of a matrix of floating point numbers:\n",
        "\n",
        "    x = tf.placeholder(tf.float32, shape=(1024, 1024))\n",
        "\n",
        "Here is an example for integer placeholders:"
      ]
    },
    {
      "cell_type": "code",
      "metadata": {
        "id": "TtKirLFbbtMx",
        "colab_type": "code",
        "colab": {}
      },
      "source": [
        "x = tf.placeholder(tf.int32)\n",
        "y = tf.placeholder(tf.int32)"
      ],
      "execution_count": 0,
      "outputs": []
    },
    {
      "cell_type": "code",
      "metadata": {
        "id": "ohfvX27mbtM5",
        "colab_type": "code",
        "colab": {},
        "outputId": "e9a0212f-3182-453c-a9ee-4cf258e4447b"
      },
      "source": [
        "x"
      ],
      "execution_count": 0,
      "outputs": [
        {
          "output_type": "execute_result",
          "data": {
            "text/plain": [
              "<tf.Tensor 'Placeholder:0' shape=<unknown> dtype=int32>"
            ]
          },
          "metadata": {
            "tags": []
          },
          "execution_count": 14
        }
      ]
    },
    {
      "cell_type": "code",
      "metadata": {
        "id": "NM8BWmOJbtM9",
        "colab_type": "code",
        "colab": {},
        "outputId": "4a913e7f-a439-4670-c6b0-b313a2d0b4ab"
      },
      "source": [
        "type(x)"
      ],
      "execution_count": 0,
      "outputs": [
        {
          "output_type": "execute_result",
          "data": {
            "text/plain": [
              "tensorflow.python.framework.ops.Tensor"
            ]
          },
          "metadata": {
            "tags": []
          },
          "execution_count": 15
        }
      ]
    },
    {
      "cell_type": "markdown",
      "metadata": {
        "id": "2qzCq2LXbtNB",
        "colab_type": "text"
      },
      "source": [
        "### Defining Operations"
      ]
    },
    {
      "cell_type": "code",
      "metadata": {
        "id": "7AbucfFzbtNC",
        "colab_type": "code",
        "colab": {}
      },
      "source": [
        "add = tf.add(x,y)\n",
        "sub = tf.subtract(x,y)\n",
        "mul = tf.multiply(x,y)"
      ],
      "execution_count": 0,
      "outputs": []
    },
    {
      "cell_type": "markdown",
      "metadata": {
        "id": "oV-x2aR_btNI",
        "colab_type": "text"
      },
      "source": [
        "Running operations with variable input:"
      ]
    },
    {
      "cell_type": "code",
      "metadata": {
        "id": "FMp_SH_8btNI",
        "colab_type": "code",
        "colab": {}
      },
      "source": [
        "d = {x:20,y:30}"
      ],
      "execution_count": 0,
      "outputs": []
    },
    {
      "cell_type": "code",
      "metadata": {
        "id": "k8EifNTHbtNO",
        "colab_type": "code",
        "colab": {},
        "outputId": "ab36f302-fd7a-465a-8498-b2f6c112e997"
      },
      "source": [
        "with tf.Session() as sess:\n",
        "    print('Operations with Constants')\n",
        "    print('Addition',sess.run(add,feed_dict=d))\n",
        "    print('Subtraction',sess.run(sub,feed_dict=d))\n",
        "    print('Multiplication',sess.run(mul,feed_dict=d))"
      ],
      "execution_count": 0,
      "outputs": [
        {
          "output_type": "stream",
          "text": [
            "Operations with Constants\n",
            "Addition 50\n",
            "Subtraction -10\n",
            "Multiplication 600\n"
          ],
          "name": "stdout"
        }
      ]
    },
    {
      "cell_type": "markdown",
      "metadata": {
        "id": "foOIVsbNbtNS",
        "colab_type": "text"
      },
      "source": [
        "Now let's see an example of a more complex operation, using Matrix Multiplication. First we need to create the matrices:"
      ]
    },
    {
      "cell_type": "code",
      "metadata": {
        "id": "aJO9n9K6btNU",
        "colab_type": "code",
        "colab": {}
      },
      "source": [
        "import numpy as np\n",
        "# Make sure to use floats here, int64 will cause an error.\n",
        "a = np.array([[5.0,5.0]])\n",
        "b = np.array([[2.0],[2.0]])"
      ],
      "execution_count": 0,
      "outputs": []
    },
    {
      "cell_type": "code",
      "metadata": {
        "id": "f_HMBaulbtNf",
        "colab_type": "code",
        "colab": {},
        "outputId": "1f7f4421-3b4a-4eec-bc74-bcf22c465846"
      },
      "source": [
        "a"
      ],
      "execution_count": 0,
      "outputs": [
        {
          "output_type": "execute_result",
          "data": {
            "text/plain": [
              "array([[5., 5.]])"
            ]
          },
          "metadata": {
            "tags": []
          },
          "execution_count": 20
        }
      ]
    },
    {
      "cell_type": "code",
      "metadata": {
        "id": "QIhndA8UbtNo",
        "colab_type": "code",
        "colab": {},
        "outputId": "4c794387-f062-4fb2-c00f-2bb3cb78b4e0"
      },
      "source": [
        "a.shape"
      ],
      "execution_count": 0,
      "outputs": [
        {
          "output_type": "execute_result",
          "data": {
            "text/plain": [
              "(1, 2)"
            ]
          },
          "metadata": {
            "tags": []
          },
          "execution_count": 21
        }
      ]
    },
    {
      "cell_type": "code",
      "metadata": {
        "id": "Zx9uXhB3btNz",
        "colab_type": "code",
        "colab": {},
        "outputId": "8fd58a1d-976a-42f4-dbf7-c9151a834294"
      },
      "source": [
        "b"
      ],
      "execution_count": 0,
      "outputs": [
        {
          "output_type": "execute_result",
          "data": {
            "text/plain": [
              "array([[2.],\n",
              "       [2.]])"
            ]
          },
          "metadata": {
            "tags": []
          },
          "execution_count": 22
        }
      ]
    },
    {
      "cell_type": "code",
      "metadata": {
        "id": "NBk807q8btOR",
        "colab_type": "code",
        "colab": {},
        "outputId": "9e679f2f-148a-4050-bcf6-e10defdef7ae"
      },
      "source": [
        "b.shape"
      ],
      "execution_count": 0,
      "outputs": [
        {
          "output_type": "execute_result",
          "data": {
            "text/plain": [
              "(2, 1)"
            ]
          },
          "metadata": {
            "tags": []
          },
          "execution_count": 23
        }
      ]
    },
    {
      "cell_type": "code",
      "metadata": {
        "id": "jsZCQHYWbtOa",
        "colab_type": "code",
        "colab": {}
      },
      "source": [
        "mat1 = tf.constant(a)"
      ],
      "execution_count": 0,
      "outputs": []
    },
    {
      "cell_type": "code",
      "metadata": {
        "id": "P6pxlQo0btOm",
        "colab_type": "code",
        "colab": {}
      },
      "source": [
        "mat2 = tf.constant(b)"
      ],
      "execution_count": 0,
      "outputs": []
    },
    {
      "cell_type": "markdown",
      "metadata": {
        "id": "jDdmnptNbtOv",
        "colab_type": "text"
      },
      "source": [
        "The matrix multiplication operation:"
      ]
    },
    {
      "cell_type": "code",
      "metadata": {
        "id": "MZYtWWVNbtOw",
        "colab_type": "code",
        "colab": {}
      },
      "source": [
        "matrix_multi = tf.matmul(mat1,mat2)"
      ],
      "execution_count": 0,
      "outputs": []
    },
    {
      "cell_type": "markdown",
      "metadata": {
        "id": "kqlj3HZAbtO0",
        "colab_type": "text"
      },
      "source": [
        "Now run the session to perform the Operation:"
      ]
    },
    {
      "cell_type": "code",
      "metadata": {
        "id": "191gbbQjbtO0",
        "colab_type": "code",
        "colab": {},
        "outputId": "d05656d0-43e3-439b-b45f-ff1b6bfd52c0"
      },
      "source": [
        "with tf.Session() as sess:\n",
        "    result = sess.run(matrix_multi)\n",
        "    print(result)"
      ],
      "execution_count": 0,
      "outputs": [
        {
          "output_type": "stream",
          "text": [
            "[[20.]]\n"
          ],
          "name": "stdout"
        }
      ]
    },
    {
      "cell_type": "markdown",
      "metadata": {
        "id": "z12ctICMbtPF",
        "colab_type": "text"
      },
      "source": [
        "That is all for now! Next we will expand these basic concepts to construct out own Multi-Layer Perceptron model!"
      ]
    },
    {
      "cell_type": "markdown",
      "metadata": {
        "id": "7XqJWuXAbtPM",
        "colab_type": "text"
      },
      "source": [
        "# Great Job!"
      ]
    }
  ]
}