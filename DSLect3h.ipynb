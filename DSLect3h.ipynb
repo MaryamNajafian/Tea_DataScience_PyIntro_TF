{
  "nbformat": 4,
  "nbformat_minor": 0,
  "metadata": {
    "kernelspec": {
      "display_name": "Python 3",
      "language": "python",
      "name": "python3"
    },
    "language_info": {
      "codemirror_mode": {
        "name": "ipython",
        "version": 3
      },
      "file_extension": ".py",
      "mimetype": "text/x-python",
      "name": "python",
      "nbconvert_exporter": "python",
      "pygments_lexer": "ipython3",
      "version": "3.5.1"
    },
    "colab": {
      "name": "DSLect3h.ipynb",
      "provenance": []
    }
  },
  "cells": [
    {
      "cell_type": "markdown",
      "metadata": {
        "id": "JWlCPT3YNuJv",
        "colab_type": "text"
      },
      "source": [
        "## Plotly and Cufflinks"
      ]
    },
    {
      "cell_type": "markdown",
      "metadata": {
        "id": "YBfHhM_jNkrJ",
        "colab_type": "text"
      },
      "source": [
        "Plotly is a library that allows you to create interactive plots that you can use in dashboards or websites (you can save them as html files or static images).\n",
        "\n",
        "## Installation\n",
        "\n",
        "In order for this all to work, you'll need to install plotly and cufflinks to call plots directly off of a pandas dataframe. These libraries are not currently available through **conda** but are available through **pip**. Install the libraries at your command line/terminal using:\n",
        "\n",
        "    pip install plotly\n",
        "    pip install cufflinks\n",
        "\n",
        "** NOTE: Make sure you only have one installation of Python on your computer when you do this, otherwise the installation may not work. **\n",
        "\n",
        "## Imports and Set-up"
      ]
    },
    {
      "cell_type": "code",
      "metadata": {
        "id": "lA-pIQugNkrO",
        "colab_type": "code",
        "colab": {}
      },
      "source": [
        "import pandas as pd\n",
        "import numpy as np\n",
        "%matplotlib inline"
      ],
      "execution_count": 0,
      "outputs": []
    },
    {
      "cell_type": "code",
      "metadata": {
        "id": "M6xbfxDnNkrZ",
        "colab_type": "code",
        "colab": {
          "base_uri": "https://localhost:8080/",
          "height": 34
        },
        "outputId": "9c7076ed-9307-4eeb-ef5a-5bd78b05de32"
      },
      "source": [
        "from plotly import __version__\n",
        "from plotly.offline import download_plotlyjs, init_notebook_mode, plot, iplot\n",
        "\n",
        "print(__version__) # requires version >= 1.9.0"
      ],
      "execution_count": 2,
      "outputs": [
        {
          "output_type": "stream",
          "text": [
            "4.4.1\n"
          ],
          "name": "stdout"
        }
      ]
    },
    {
      "cell_type": "code",
      "metadata": {
        "id": "XVWPqTUJNkrg",
        "colab_type": "code",
        "colab": {}
      },
      "source": [
        "import cufflinks as cf"
      ],
      "execution_count": 0,
      "outputs": []
    },
    {
      "cell_type": "code",
      "metadata": {
        "id": "shbqLhjnNkrp",
        "colab_type": "code",
        "colab": {
          "base_uri": "https://localhost:8080/",
          "height": 17
        },
        "outputId": "7e4e968e-5ca4-4b25-ad4e-4b27fd785d92"
      },
      "source": [
        "# For Notebooks\n",
        "init_notebook_mode(connected=True)"
      ],
      "execution_count": 5,
      "outputs": [
        {
          "output_type": "display_data",
          "data": {
            "text/html": [
              "        <script type=\"text/javascript\">\n",
              "        window.PlotlyConfig = {MathJaxConfig: 'local'};\n",
              "        if (window.MathJax) {MathJax.Hub.Config({SVG: {font: \"STIX-Web\"}});}\n",
              "        if (typeof require !== 'undefined') {\n",
              "        require.undef(\"plotly\");\n",
              "        requirejs.config({\n",
              "            paths: {\n",
              "                'plotly': ['https://cdn.plot.ly/plotly-latest.min']\n",
              "            }\n",
              "        });\n",
              "        require(['plotly'], function(Plotly) {\n",
              "            window._Plotly = Plotly;\n",
              "        });\n",
              "        }\n",
              "        </script>\n",
              "        "
            ]
          },
          "metadata": {
            "tags": []
          }
        }
      ]
    },
    {
      "cell_type": "code",
      "metadata": {
        "id": "4DXoRsvXNkru",
        "colab_type": "code",
        "colab": {
          "base_uri": "https://localhost:8080/",
          "height": 17
        },
        "outputId": "37961310-8b8c-43ce-b980-415ada631ab2"
      },
      "source": [
        "# For offline use\n",
        "cf.go_offline()"
      ],
      "execution_count": 6,
      "outputs": [
        {
          "output_type": "display_data",
          "data": {
            "text/html": [
              "        <script type=\"text/javascript\">\n",
              "        window.PlotlyConfig = {MathJaxConfig: 'local'};\n",
              "        if (window.MathJax) {MathJax.Hub.Config({SVG: {font: \"STIX-Web\"}});}\n",
              "        if (typeof require !== 'undefined') {\n",
              "        require.undef(\"plotly\");\n",
              "        requirejs.config({\n",
              "            paths: {\n",
              "                'plotly': ['https://cdn.plot.ly/plotly-latest.min']\n",
              "            }\n",
              "        });\n",
              "        require(['plotly'], function(Plotly) {\n",
              "            window._Plotly = Plotly;\n",
              "        });\n",
              "        }\n",
              "        </script>\n",
              "        "
            ]
          },
          "metadata": {
            "tags": []
          }
        }
      ]
    },
    {
      "cell_type": "markdown",
      "metadata": {
        "id": "hr_RhSZANkr1",
        "colab_type": "text"
      },
      "source": [
        "### Fake Data"
      ]
    },
    {
      "cell_type": "code",
      "metadata": {
        "id": "u1di7-38Nkr3",
        "colab_type": "code",
        "colab": {}
      },
      "source": [
        "df = pd.DataFrame(np.random.randn(100,4),columns='A B C D'.split())"
      ],
      "execution_count": 0,
      "outputs": []
    },
    {
      "cell_type": "code",
      "metadata": {
        "id": "DS-ophrONkr7",
        "colab_type": "code",
        "colab": {
          "base_uri": "https://localhost:8080/",
          "height": 204
        },
        "outputId": "01f6e121-ba53-47e0-dfde-80761ad1e33a"
      },
      "source": [
        "df.head()"
      ],
      "execution_count": 8,
      "outputs": [
        {
          "output_type": "execute_result",
          "data": {
            "text/html": [
              "<div>\n",
              "<style scoped>\n",
              "    .dataframe tbody tr th:only-of-type {\n",
              "        vertical-align: middle;\n",
              "    }\n",
              "\n",
              "    .dataframe tbody tr th {\n",
              "        vertical-align: top;\n",
              "    }\n",
              "\n",
              "    .dataframe thead th {\n",
              "        text-align: right;\n",
              "    }\n",
              "</style>\n",
              "<table border=\"1\" class=\"dataframe\">\n",
              "  <thead>\n",
              "    <tr style=\"text-align: right;\">\n",
              "      <th></th>\n",
              "      <th>A</th>\n",
              "      <th>B</th>\n",
              "      <th>C</th>\n",
              "      <th>D</th>\n",
              "    </tr>\n",
              "  </thead>\n",
              "  <tbody>\n",
              "    <tr>\n",
              "      <th>0</th>\n",
              "      <td>0.868892</td>\n",
              "      <td>1.019690</td>\n",
              "      <td>1.642271</td>\n",
              "      <td>1.509135</td>\n",
              "    </tr>\n",
              "    <tr>\n",
              "      <th>1</th>\n",
              "      <td>0.651058</td>\n",
              "      <td>-1.451289</td>\n",
              "      <td>-0.015548</td>\n",
              "      <td>0.445354</td>\n",
              "    </tr>\n",
              "    <tr>\n",
              "      <th>2</th>\n",
              "      <td>0.445164</td>\n",
              "      <td>1.186080</td>\n",
              "      <td>-0.845942</td>\n",
              "      <td>-0.792867</td>\n",
              "    </tr>\n",
              "    <tr>\n",
              "      <th>3</th>\n",
              "      <td>0.173081</td>\n",
              "      <td>-1.371444</td>\n",
              "      <td>0.253038</td>\n",
              "      <td>-0.075980</td>\n",
              "    </tr>\n",
              "    <tr>\n",
              "      <th>4</th>\n",
              "      <td>0.688486</td>\n",
              "      <td>0.448923</td>\n",
              "      <td>0.867030</td>\n",
              "      <td>0.922384</td>\n",
              "    </tr>\n",
              "  </tbody>\n",
              "</table>\n",
              "</div>"
            ],
            "text/plain": [
              "          A         B         C         D\n",
              "0  0.868892  1.019690  1.642271  1.509135\n",
              "1  0.651058 -1.451289 -0.015548  0.445354\n",
              "2  0.445164  1.186080 -0.845942 -0.792867\n",
              "3  0.173081 -1.371444  0.253038 -0.075980\n",
              "4  0.688486  0.448923  0.867030  0.922384"
            ]
          },
          "metadata": {
            "tags": []
          },
          "execution_count": 8
        }
      ]
    },
    {
      "cell_type": "code",
      "metadata": {
        "id": "IYJRLcz3NksA",
        "colab_type": "code",
        "colab": {}
      },
      "source": [
        "df2 = pd.DataFrame({'Category':['A','B','C'],'Values':[32,43,50]})"
      ],
      "execution_count": 0,
      "outputs": []
    },
    {
      "cell_type": "code",
      "metadata": {
        "id": "zeTezDF9NksE",
        "colab_type": "code",
        "colab": {
          "base_uri": "https://localhost:8080/",
          "height": 142
        },
        "outputId": "8225fb6f-f37c-4a16-a1a0-c06017cf0f9f"
      },
      "source": [
        "df2.head()"
      ],
      "execution_count": 11,
      "outputs": [
        {
          "output_type": "execute_result",
          "data": {
            "text/html": [
              "<div>\n",
              "<style scoped>\n",
              "    .dataframe tbody tr th:only-of-type {\n",
              "        vertical-align: middle;\n",
              "    }\n",
              "\n",
              "    .dataframe tbody tr th {\n",
              "        vertical-align: top;\n",
              "    }\n",
              "\n",
              "    .dataframe thead th {\n",
              "        text-align: right;\n",
              "    }\n",
              "</style>\n",
              "<table border=\"1\" class=\"dataframe\">\n",
              "  <thead>\n",
              "    <tr style=\"text-align: right;\">\n",
              "      <th></th>\n",
              "      <th>Category</th>\n",
              "      <th>Values</th>\n",
              "    </tr>\n",
              "  </thead>\n",
              "  <tbody>\n",
              "    <tr>\n",
              "      <th>0</th>\n",
              "      <td>A</td>\n",
              "      <td>32</td>\n",
              "    </tr>\n",
              "    <tr>\n",
              "      <th>1</th>\n",
              "      <td>B</td>\n",
              "      <td>43</td>\n",
              "    </tr>\n",
              "    <tr>\n",
              "      <th>2</th>\n",
              "      <td>C</td>\n",
              "      <td>50</td>\n",
              "    </tr>\n",
              "  </tbody>\n",
              "</table>\n",
              "</div>"
            ],
            "text/plain": [
              "  Category  Values\n",
              "0        A      32\n",
              "1        B      43\n",
              "2        C      50"
            ]
          },
          "metadata": {
            "tags": []
          },
          "execution_count": 11
        }
      ]
    },
    {
      "cell_type": "markdown",
      "metadata": {
        "id": "1wJ7cDVgNksL",
        "colab_type": "text"
      },
      "source": [
        "## Using Cufflinks and iplot()\n",
        "\n",
        "* scatter\n",
        "* bar\n",
        "* box\n",
        "* spread\n",
        "* ratio\n",
        "* heatmap\n",
        "* surface\n",
        "* histogram\n",
        "* bubble"
      ]
    },
    {
      "cell_type": "markdown",
      "metadata": {
        "id": "5iuK-JTcNksM",
        "colab_type": "text"
      },
      "source": [
        "## Scatter"
      ]
    },
    {
      "cell_type": "code",
      "metadata": {
        "id": "Z3pqX_FuNksN",
        "colab_type": "code",
        "colab": {
          "base_uri": "https://localhost:8080/",
          "height": 542
        },
        "outputId": "4bf12bac-3ceb-4ff9-ee78-6ffcf58af1d3"
      },
      "source": [
        "df.iplot(kind='scatter',x='A',y='B',mode='markers',size=10)"
      ],
      "execution_count": 13,
      "outputs": [
        {
          "output_type": "display_data",
          "data": {
            "text/html": [
              "<div>\n",
              "        \n",
              "        \n",
              "            <div id=\"43731526-1127-4c5f-ab1c-58c3abee48e4\" class=\"plotly-graph-div\" style=\"height:525px; width:100%;\"></div>\n",
              "            <script type=\"text/javascript\">\n",
              "                require([\"plotly\"], function(Plotly) {\n",
              "                    window.PLOTLYENV=window.PLOTLYENV || {};\n",
              "                    window.PLOTLYENV.BASE_URL='https://plot.ly';\n",
              "                    \n",
              "                if (document.getElementById(\"43731526-1127-4c5f-ab1c-58c3abee48e4\")) {\n",
              "                    Plotly.newPlot(\n",
              "                        '43731526-1127-4c5f-ab1c-58c3abee48e4',\n",
              "                        [{\"line\": {\"color\": \"rgba(255, 153, 51, 1.0)\", \"dash\": \"solid\", \"shape\": \"linear\", \"width\": 1.3}, \"marker\": {\"size\": 10, \"symbol\": \"circle\"}, \"mode\": \"markers\", \"name\": \"B\", \"text\": \"\", \"type\": \"scatter\", \"x\": [0.8688924164522965, 0.6510576762703522, 0.4451644077927404, 0.17308081279137874, 0.6884855161139164, 0.5078825777697048, -0.39806250314198177, 0.4274534725166213, 0.8028456531588537, -0.9666666288435395, -0.06190071927933447, -0.015896034770465677, 0.22973601192149948, -0.12598903459602817, 1.484780667164738, -0.6344127580972773, 0.28727462051925007, 1.565153858647073, 1.4715476534707153, 0.22420693941360462, 0.41416571242382505, -1.3157562086472165, 1.1810120129257655, 0.036977586931919895, -1.2081963199146049, -0.7991999626388134, -0.6492994774216139, 0.15835029200629397, -0.23911625057979413, -0.28219918254954174, -0.7728245956456491, 0.9239253184298708, 0.007375902456629104, 0.31375353671075373, 2.278857822598861, -0.9704813144572043, 0.7210495918804801, 0.2754248845633666, -0.4428407280162875, -1.111148817569332, 0.9800078826368314, -0.1505843367016468, 2.4460203672031966, -1.3171823826776627, -0.6262324318057908, -1.2288445018122967, -0.7696743904650929, 1.0618931304818715, 0.6973965533960933, -0.17455922546104297, -0.8687232601469869, -0.145393992206312, -0.07530380951153184, -1.8294104396274962, -0.2016658025756497, 0.4504785536236109, 0.5442142907769477, 0.4308331715637909, 0.2849630156151119, -1.8787770780693773, -0.8886906296976991, 0.2736960919977461, -0.6978639962884493, 0.41279608575187127, 0.2405334046045112, -0.38462406737533805, 0.40154106758363867, 0.10863062237680834, 0.09171524822727353, -1.116366127771021, 0.023619176512413687, 1.0688762441197333, -0.10620204765826267, -1.483968196993822, -2.0191666846270584, -1.46551568110526, -0.4144860173392829, -0.08297788269303832, 0.22500981677889906, -0.39695063043384254, 0.6303151181480688, -0.5077960927479105, -0.06424982691481487, 0.7465805774777979, -0.853253276718562, -0.05916606007836715, 0.8003089576671802, -0.4938908383163064, 0.7209950529222015, -0.34109162115642333, 0.18456877591866577, 0.15587037947732485, 0.8843135062812312, -2.091171367589719, 1.0397915269317735, -0.06627640191502762, -0.4529450604491601, 0.6990074993394482, -0.8433107275327798, 0.41536068453333386], \"y\": [1.0196899091434253, -1.4512886240708158, 1.186079646958611, -1.3714442216681264, 0.44892324532658007, 0.2299528742061978, 0.5039372740204077, 1.0418871505478042, 0.715225225152399, -1.1776045068997665, -0.4534873742507846, -1.0549106766247265, -0.30441116381735545, -0.7272625037876613, 2.4392883456713492, 1.0014707689433966, 0.47717608299360736, 0.464665767000789, -0.9694948956399236, 0.4724885734292091, 2.5893724075411795, -0.8401860754497061, 2.0981203942426876, 0.5187059637881193, 0.5213501106270514, 0.0062703760298839515, 0.14971809933150573, 1.926300198381814, 0.5033387011838092, 2.491824709449017, 0.6597119015933536, 0.510102974681471, 0.36230848491665557, 1.1776693758612986, 0.967394700521538, 0.9009615163267528, -0.95392811639914, -1.5118728224690172, 0.42278796120181883, -0.023699707471928275, 0.7377237302083491, -0.2508761241894605, 2.334857920453133, -0.31968194746878564, 0.2968777985733399, -1.0984660927060423, 0.5695979894442521, 0.1916917594217266, 1.0602629115361897, 1.0314772304730169, -0.6970620191378345, -0.9079539487466038, -1.0354312311115124, -1.7872360445897824, 0.5990315130736789, 0.027593888459666534, 0.41620227992401043, -0.38734726007289894, 0.4685877858265673, 1.2361767356768287, -0.011445588268744913, -0.676809204710561, -0.24666041701733926, -1.410137894385071, -1.2283868311095743, 0.7719203533963489, 0.9406647020362515, -0.45342718023836903, -3.854158643653663, 0.8035005343855808, 1.2608338715235383, -0.041891605388683785, 0.22153025548334374, -0.7087284276979028, 0.7152435568041451, 0.2279045404000636, -1.0268444369598828, 0.01353094341479254, 1.0381070645067814, -0.5618837777133473, -0.7403699428943193, 1.0528607700198072, -2.0452801483740033, 0.34134261865717175, -0.3411484419569741, 1.4462736995277914, -0.1900135736003909, -0.2479751405000817, -1.2663324402096972, 0.4034302688906329, 2.3359484562214656, 0.4489541874233529, 0.31710515838269493, 0.8852387075936877, -0.5296766431122214, 0.047658027056749354, -1.6603563708245075, -0.28710825128495965, -0.4698678909143641, 0.681110116029721]}],\n",
              "                        {\"legend\": {\"bgcolor\": \"#F5F6F9\", \"font\": {\"color\": \"#4D5663\"}}, \"paper_bgcolor\": \"#F5F6F9\", \"plot_bgcolor\": \"#F5F6F9\", \"template\": {\"data\": {\"bar\": [{\"error_x\": {\"color\": \"#2a3f5f\"}, \"error_y\": {\"color\": \"#2a3f5f\"}, \"marker\": {\"line\": {\"color\": \"#E5ECF6\", \"width\": 0.5}}, \"type\": \"bar\"}], \"barpolar\": [{\"marker\": {\"line\": {\"color\": \"#E5ECF6\", \"width\": 0.5}}, \"type\": \"barpolar\"}], \"carpet\": [{\"aaxis\": {\"endlinecolor\": \"#2a3f5f\", \"gridcolor\": \"white\", \"linecolor\": \"white\", \"minorgridcolor\": \"white\", \"startlinecolor\": \"#2a3f5f\"}, \"baxis\": {\"endlinecolor\": \"#2a3f5f\", \"gridcolor\": \"white\", \"linecolor\": \"white\", \"minorgridcolor\": \"white\", \"startlinecolor\": \"#2a3f5f\"}, \"type\": \"carpet\"}], \"choropleth\": [{\"colorbar\": {\"outlinewidth\": 0, \"ticks\": \"\"}, \"type\": \"choropleth\"}], \"contour\": [{\"colorbar\": {\"outlinewidth\": 0, \"ticks\": \"\"}, \"colorscale\": [[0.0, \"#0d0887\"], [0.1111111111111111, \"#46039f\"], [0.2222222222222222, \"#7201a8\"], [0.3333333333333333, \"#9c179e\"], [0.4444444444444444, \"#bd3786\"], [0.5555555555555556, \"#d8576b\"], [0.6666666666666666, \"#ed7953\"], [0.7777777777777778, \"#fb9f3a\"], [0.8888888888888888, \"#fdca26\"], [1.0, \"#f0f921\"]], \"type\": \"contour\"}], \"contourcarpet\": [{\"colorbar\": {\"outlinewidth\": 0, \"ticks\": \"\"}, \"type\": \"contourcarpet\"}], \"heatmap\": [{\"colorbar\": {\"outlinewidth\": 0, \"ticks\": \"\"}, \"colorscale\": [[0.0, \"#0d0887\"], [0.1111111111111111, \"#46039f\"], [0.2222222222222222, \"#7201a8\"], [0.3333333333333333, \"#9c179e\"], [0.4444444444444444, \"#bd3786\"], [0.5555555555555556, \"#d8576b\"], [0.6666666666666666, \"#ed7953\"], [0.7777777777777778, \"#fb9f3a\"], [0.8888888888888888, \"#fdca26\"], [1.0, \"#f0f921\"]], \"type\": \"heatmap\"}], \"heatmapgl\": [{\"colorbar\": {\"outlinewidth\": 0, \"ticks\": \"\"}, \"colorscale\": [[0.0, \"#0d0887\"], [0.1111111111111111, \"#46039f\"], [0.2222222222222222, \"#7201a8\"], [0.3333333333333333, \"#9c179e\"], [0.4444444444444444, \"#bd3786\"], [0.5555555555555556, \"#d8576b\"], [0.6666666666666666, \"#ed7953\"], [0.7777777777777778, \"#fb9f3a\"], [0.8888888888888888, \"#fdca26\"], [1.0, \"#f0f921\"]], \"type\": \"heatmapgl\"}], \"histogram\": [{\"marker\": {\"colorbar\": {\"outlinewidth\": 0, \"ticks\": \"\"}}, \"type\": \"histogram\"}], \"histogram2d\": [{\"colorbar\": {\"outlinewidth\": 0, \"ticks\": \"\"}, \"colorscale\": [[0.0, \"#0d0887\"], [0.1111111111111111, \"#46039f\"], [0.2222222222222222, \"#7201a8\"], [0.3333333333333333, \"#9c179e\"], [0.4444444444444444, \"#bd3786\"], [0.5555555555555556, \"#d8576b\"], [0.6666666666666666, \"#ed7953\"], [0.7777777777777778, \"#fb9f3a\"], [0.8888888888888888, \"#fdca26\"], [1.0, \"#f0f921\"]], \"type\": \"histogram2d\"}], \"histogram2dcontour\": [{\"colorbar\": {\"outlinewidth\": 0, \"ticks\": \"\"}, \"colorscale\": [[0.0, \"#0d0887\"], [0.1111111111111111, \"#46039f\"], [0.2222222222222222, \"#7201a8\"], [0.3333333333333333, \"#9c179e\"], [0.4444444444444444, \"#bd3786\"], [0.5555555555555556, \"#d8576b\"], [0.6666666666666666, \"#ed7953\"], [0.7777777777777778, \"#fb9f3a\"], [0.8888888888888888, \"#fdca26\"], [1.0, \"#f0f921\"]], \"type\": \"histogram2dcontour\"}], \"mesh3d\": [{\"colorbar\": {\"outlinewidth\": 0, \"ticks\": \"\"}, \"type\": \"mesh3d\"}], \"parcoords\": [{\"line\": {\"colorbar\": {\"outlinewidth\": 0, \"ticks\": \"\"}}, \"type\": \"parcoords\"}], \"pie\": [{\"automargin\": true, \"type\": \"pie\"}], \"scatter\": [{\"marker\": {\"colorbar\": {\"outlinewidth\": 0, \"ticks\": \"\"}}, \"type\": \"scatter\"}], \"scatter3d\": [{\"line\": {\"colorbar\": {\"outlinewidth\": 0, \"ticks\": \"\"}}, \"marker\": {\"colorbar\": {\"outlinewidth\": 0, \"ticks\": \"\"}}, \"type\": \"scatter3d\"}], \"scattercarpet\": [{\"marker\": {\"colorbar\": {\"outlinewidth\": 0, \"ticks\": \"\"}}, \"type\": \"scattercarpet\"}], \"scattergeo\": [{\"marker\": {\"colorbar\": {\"outlinewidth\": 0, \"ticks\": \"\"}}, \"type\": \"scattergeo\"}], \"scattergl\": [{\"marker\": {\"colorbar\": {\"outlinewidth\": 0, \"ticks\": \"\"}}, \"type\": \"scattergl\"}], \"scattermapbox\": [{\"marker\": {\"colorbar\": {\"outlinewidth\": 0, \"ticks\": \"\"}}, \"type\": \"scattermapbox\"}], \"scatterpolar\": [{\"marker\": {\"colorbar\": {\"outlinewidth\": 0, \"ticks\": \"\"}}, \"type\": \"scatterpolar\"}], \"scatterpolargl\": [{\"marker\": {\"colorbar\": {\"outlinewidth\": 0, \"ticks\": \"\"}}, \"type\": \"scatterpolargl\"}], \"scatterternary\": [{\"marker\": {\"colorbar\": {\"outlinewidth\": 0, \"ticks\": \"\"}}, \"type\": \"scatterternary\"}], \"surface\": [{\"colorbar\": {\"outlinewidth\": 0, \"ticks\": \"\"}, \"colorscale\": [[0.0, \"#0d0887\"], [0.1111111111111111, \"#46039f\"], [0.2222222222222222, \"#7201a8\"], [0.3333333333333333, \"#9c179e\"], [0.4444444444444444, \"#bd3786\"], [0.5555555555555556, \"#d8576b\"], [0.6666666666666666, \"#ed7953\"], [0.7777777777777778, \"#fb9f3a\"], [0.8888888888888888, \"#fdca26\"], [1.0, \"#f0f921\"]], \"type\": \"surface\"}], \"table\": [{\"cells\": {\"fill\": {\"color\": \"#EBF0F8\"}, \"line\": {\"color\": \"white\"}}, \"header\": {\"fill\": {\"color\": \"#C8D4E3\"}, \"line\": {\"color\": \"white\"}}, \"type\": \"table\"}]}, \"layout\": {\"annotationdefaults\": {\"arrowcolor\": \"#2a3f5f\", \"arrowhead\": 0, \"arrowwidth\": 1}, \"coloraxis\": {\"colorbar\": {\"outlinewidth\": 0, \"ticks\": \"\"}}, \"colorscale\": {\"diverging\": [[0, \"#8e0152\"], [0.1, \"#c51b7d\"], [0.2, \"#de77ae\"], [0.3, \"#f1b6da\"], [0.4, \"#fde0ef\"], [0.5, \"#f7f7f7\"], [0.6, \"#e6f5d0\"], [0.7, \"#b8e186\"], [0.8, \"#7fbc41\"], [0.9, \"#4d9221\"], [1, \"#276419\"]], \"sequential\": [[0.0, \"#0d0887\"], [0.1111111111111111, \"#46039f\"], [0.2222222222222222, \"#7201a8\"], [0.3333333333333333, \"#9c179e\"], [0.4444444444444444, \"#bd3786\"], [0.5555555555555556, \"#d8576b\"], [0.6666666666666666, \"#ed7953\"], [0.7777777777777778, \"#fb9f3a\"], [0.8888888888888888, \"#fdca26\"], [1.0, \"#f0f921\"]], \"sequentialminus\": [[0.0, \"#0d0887\"], [0.1111111111111111, \"#46039f\"], [0.2222222222222222, \"#7201a8\"], [0.3333333333333333, \"#9c179e\"], [0.4444444444444444, \"#bd3786\"], [0.5555555555555556, \"#d8576b\"], [0.6666666666666666, \"#ed7953\"], [0.7777777777777778, \"#fb9f3a\"], [0.8888888888888888, \"#fdca26\"], [1.0, \"#f0f921\"]]}, \"colorway\": [\"#636efa\", \"#EF553B\", \"#00cc96\", \"#ab63fa\", \"#FFA15A\", \"#19d3f3\", \"#FF6692\", \"#B6E880\", \"#FF97FF\", \"#FECB52\"], \"font\": {\"color\": \"#2a3f5f\"}, \"geo\": {\"bgcolor\": \"white\", \"lakecolor\": \"white\", \"landcolor\": \"#E5ECF6\", \"showlakes\": true, \"showland\": true, \"subunitcolor\": \"white\"}, \"hoverlabel\": {\"align\": \"left\"}, \"hovermode\": \"closest\", \"mapbox\": {\"style\": \"light\"}, \"paper_bgcolor\": \"white\", \"plot_bgcolor\": \"#E5ECF6\", \"polar\": {\"angularaxis\": {\"gridcolor\": \"white\", \"linecolor\": \"white\", \"ticks\": \"\"}, \"bgcolor\": \"#E5ECF6\", \"radialaxis\": {\"gridcolor\": \"white\", \"linecolor\": \"white\", \"ticks\": \"\"}}, \"scene\": {\"xaxis\": {\"backgroundcolor\": \"#E5ECF6\", \"gridcolor\": \"white\", \"gridwidth\": 2, \"linecolor\": \"white\", \"showbackground\": true, \"ticks\": \"\", \"zerolinecolor\": \"white\"}, \"yaxis\": {\"backgroundcolor\": \"#E5ECF6\", \"gridcolor\": \"white\", \"gridwidth\": 2, \"linecolor\": \"white\", \"showbackground\": true, \"ticks\": \"\", \"zerolinecolor\": \"white\"}, \"zaxis\": {\"backgroundcolor\": \"#E5ECF6\", \"gridcolor\": \"white\", \"gridwidth\": 2, \"linecolor\": \"white\", \"showbackground\": true, \"ticks\": \"\", \"zerolinecolor\": \"white\"}}, \"shapedefaults\": {\"line\": {\"color\": \"#2a3f5f\"}}, \"ternary\": {\"aaxis\": {\"gridcolor\": \"white\", \"linecolor\": \"white\", \"ticks\": \"\"}, \"baxis\": {\"gridcolor\": \"white\", \"linecolor\": \"white\", \"ticks\": \"\"}, \"bgcolor\": \"#E5ECF6\", \"caxis\": {\"gridcolor\": \"white\", \"linecolor\": \"white\", \"ticks\": \"\"}}, \"title\": {\"x\": 0.05}, \"xaxis\": {\"automargin\": true, \"gridcolor\": \"white\", \"linecolor\": \"white\", \"ticks\": \"\", \"title\": {\"standoff\": 15}, \"zerolinecolor\": \"white\", \"zerolinewidth\": 2}, \"yaxis\": {\"automargin\": true, \"gridcolor\": \"white\", \"linecolor\": \"white\", \"ticks\": \"\", \"title\": {\"standoff\": 15}, \"zerolinecolor\": \"white\", \"zerolinewidth\": 2}}}, \"title\": {\"font\": {\"color\": \"#4D5663\"}}, \"xaxis\": {\"gridcolor\": \"#E1E5ED\", \"showgrid\": true, \"tickfont\": {\"color\": \"#4D5663\"}, \"title\": {\"font\": {\"color\": \"#4D5663\"}, \"text\": \"\"}, \"zerolinecolor\": \"#E1E5ED\"}, \"yaxis\": {\"gridcolor\": \"#E1E5ED\", \"showgrid\": true, \"tickfont\": {\"color\": \"#4D5663\"}, \"title\": {\"font\": {\"color\": \"#4D5663\"}, \"text\": \"\"}, \"zerolinecolor\": \"#E1E5ED\"}},\n",
              "                        {\"showLink\": true, \"linkText\": \"Export to plot.ly\", \"plotlyServerURL\": \"https://plot.ly\", \"responsive\": true}\n",
              "                    ).then(function(){\n",
              "                            \n",
              "var gd = document.getElementById('43731526-1127-4c5f-ab1c-58c3abee48e4');\n",
              "var x = new MutationObserver(function (mutations, observer) {{\n",
              "        var display = window.getComputedStyle(gd).display;\n",
              "        if (!display || display === 'none') {{\n",
              "            console.log([gd, 'removed!']);\n",
              "            Plotly.purge(gd);\n",
              "            observer.disconnect();\n",
              "        }}\n",
              "}});\n",
              "\n",
              "// Listen for the removal of the full notebook cells\n",
              "var notebookContainer = gd.closest('#notebook-container');\n",
              "if (notebookContainer) {{\n",
              "    x.observe(notebookContainer, {childList: true});\n",
              "}}\n",
              "\n",
              "// Listen for the clearing of the current output cell\n",
              "var outputEl = gd.closest('.output');\n",
              "if (outputEl) {{\n",
              "    x.observe(outputEl, {childList: true});\n",
              "}}\n",
              "\n",
              "                        })\n",
              "                };\n",
              "                });\n",
              "            </script>\n",
              "        </div>"
            ],
            "application/vnd.plotly.v1+json": {
              "data": [
                {
                  "name": "B",
                  "text": "",
                  "y": [
                    1.0196899091434253,
                    -1.4512886240708158,
                    1.186079646958611,
                    -1.3714442216681264,
                    0.44892324532658007,
                    0.2299528742061978,
                    0.5039372740204077,
                    1.0418871505478042,
                    0.715225225152399,
                    -1.1776045068997665,
                    -0.4534873742507846,
                    -1.0549106766247265,
                    -0.30441116381735545,
                    -0.7272625037876613,
                    2.4392883456713492,
                    1.0014707689433966,
                    0.47717608299360736,
                    0.464665767000789,
                    -0.9694948956399236,
                    0.4724885734292091,
                    2.5893724075411795,
                    -0.8401860754497061,
                    2.0981203942426876,
                    0.5187059637881193,
                    0.5213501106270514,
                    0.0062703760298839515,
                    0.14971809933150573,
                    1.926300198381814,
                    0.5033387011838092,
                    2.491824709449017,
                    0.6597119015933536,
                    0.510102974681471,
                    0.36230848491665557,
                    1.1776693758612986,
                    0.967394700521538,
                    0.9009615163267528,
                    -0.95392811639914,
                    -1.5118728224690172,
                    0.42278796120181883,
                    -0.023699707471928275,
                    0.7377237302083491,
                    -0.2508761241894605,
                    2.334857920453133,
                    -0.31968194746878564,
                    0.2968777985733399,
                    -1.0984660927060423,
                    0.5695979894442521,
                    0.1916917594217266,
                    1.0602629115361897,
                    1.0314772304730169,
                    -0.6970620191378345,
                    -0.9079539487466038,
                    -1.0354312311115124,
                    -1.7872360445897824,
                    0.5990315130736789,
                    0.027593888459666534,
                    0.41620227992401043,
                    -0.38734726007289894,
                    0.4685877858265673,
                    1.2361767356768287,
                    -0.011445588268744913,
                    -0.676809204710561,
                    -0.24666041701733926,
                    -1.410137894385071,
                    -1.2283868311095743,
                    0.7719203533963489,
                    0.9406647020362515,
                    -0.45342718023836903,
                    -3.854158643653663,
                    0.8035005343855808,
                    1.2608338715235383,
                    -0.041891605388683785,
                    0.22153025548334374,
                    -0.7087284276979028,
                    0.7152435568041451,
                    0.2279045404000636,
                    -1.0268444369598828,
                    0.01353094341479254,
                    1.0381070645067814,
                    -0.5618837777133473,
                    -0.7403699428943193,
                    1.0528607700198072,
                    -2.0452801483740033,
                    0.34134261865717175,
                    -0.3411484419569741,
                    1.4462736995277914,
                    -0.1900135736003909,
                    -0.2479751405000817,
                    -1.2663324402096972,
                    0.4034302688906329,
                    2.3359484562214656,
                    0.4489541874233529,
                    0.31710515838269493,
                    0.8852387075936877,
                    -0.5296766431122214,
                    0.047658027056749354,
                    -1.6603563708245075,
                    -0.28710825128495965,
                    -0.4698678909143641,
                    0.681110116029721
                  ],
                  "mode": "markers",
                  "marker": {
                    "symbol": "circle",
                    "size": 10
                  },
                  "x": [
                    0.8688924164522965,
                    0.6510576762703522,
                    0.4451644077927404,
                    0.17308081279137874,
                    0.6884855161139164,
                    0.5078825777697048,
                    -0.39806250314198177,
                    0.4274534725166213,
                    0.8028456531588537,
                    -0.9666666288435395,
                    -0.06190071927933447,
                    -0.015896034770465677,
                    0.22973601192149948,
                    -0.12598903459602817,
                    1.484780667164738,
                    -0.6344127580972773,
                    0.28727462051925007,
                    1.565153858647073,
                    1.4715476534707153,
                    0.22420693941360462,
                    0.41416571242382505,
                    -1.3157562086472165,
                    1.1810120129257655,
                    0.036977586931919895,
                    -1.2081963199146049,
                    -0.7991999626388134,
                    -0.6492994774216139,
                    0.15835029200629397,
                    -0.23911625057979413,
                    -0.28219918254954174,
                    -0.7728245956456491,
                    0.9239253184298708,
                    0.007375902456629104,
                    0.31375353671075373,
                    2.278857822598861,
                    -0.9704813144572043,
                    0.7210495918804801,
                    0.2754248845633666,
                    -0.4428407280162875,
                    -1.111148817569332,
                    0.9800078826368314,
                    -0.1505843367016468,
                    2.4460203672031966,
                    -1.3171823826776627,
                    -0.6262324318057908,
                    -1.2288445018122967,
                    -0.7696743904650929,
                    1.0618931304818715,
                    0.6973965533960933,
                    -0.17455922546104297,
                    -0.8687232601469869,
                    -0.145393992206312,
                    -0.07530380951153184,
                    -1.8294104396274962,
                    -0.2016658025756497,
                    0.4504785536236109,
                    0.5442142907769477,
                    0.4308331715637909,
                    0.2849630156151119,
                    -1.8787770780693773,
                    -0.8886906296976991,
                    0.2736960919977461,
                    -0.6978639962884493,
                    0.41279608575187127,
                    0.2405334046045112,
                    -0.38462406737533805,
                    0.40154106758363867,
                    0.10863062237680834,
                    0.09171524822727353,
                    -1.116366127771021,
                    0.023619176512413687,
                    1.0688762441197333,
                    -0.10620204765826267,
                    -1.483968196993822,
                    -2.0191666846270584,
                    -1.46551568110526,
                    -0.4144860173392829,
                    -0.08297788269303832,
                    0.22500981677889906,
                    -0.39695063043384254,
                    0.6303151181480688,
                    -0.5077960927479105,
                    -0.06424982691481487,
                    0.7465805774777979,
                    -0.853253276718562,
                    -0.05916606007836715,
                    0.8003089576671802,
                    -0.4938908383163064,
                    0.7209950529222015,
                    -0.34109162115642333,
                    0.18456877591866577,
                    0.15587037947732485,
                    0.8843135062812312,
                    -2.091171367589719,
                    1.0397915269317735,
                    -0.06627640191502762,
                    -0.4529450604491601,
                    0.6990074993394482,
                    -0.8433107275327798,
                    0.41536068453333386
                  ],
                  "line": {
                    "color": "rgba(255, 153, 51, 1.0)",
                    "dash": "solid",
                    "shape": "linear",
                    "width": 1.3
                  },
                  "type": "scatter"
                }
              ],
              "config": {
                "plotlyServerURL": "https://plot.ly",
                "linkText": "Export to plot.ly",
                "showLink": true
              },
              "layout": {
                "template": {
                  "layout": {
                    "shapedefaults": {
                      "line": {
                        "color": "#2a3f5f"
                      }
                    },
                    "polar": {
                      "radialaxis": {
                        "ticks": "",
                        "gridcolor": "white",
                        "linecolor": "white"
                      },
                      "bgcolor": "#E5ECF6",
                      "angularaxis": {
                        "ticks": "",
                        "gridcolor": "white",
                        "linecolor": "white"
                      }
                    },
                    "colorway": [
                      "#636efa",
                      "#EF553B",
                      "#00cc96",
                      "#ab63fa",
                      "#FFA15A",
                      "#19d3f3",
                      "#FF6692",
                      "#B6E880",
                      "#FF97FF",
                      "#FECB52"
                    ],
                    "xaxis": {
                      "automargin": true,
                      "title": {
                        "standoff": 15
                      },
                      "zerolinewidth": 2,
                      "ticks": "",
                      "zerolinecolor": "white",
                      "gridcolor": "white",
                      "linecolor": "white"
                    },
                    "colorscale": {
                      "diverging": [
                        [
                          0,
                          "#8e0152"
                        ],
                        [
                          0.1,
                          "#c51b7d"
                        ],
                        [
                          0.2,
                          "#de77ae"
                        ],
                        [
                          0.3,
                          "#f1b6da"
                        ],
                        [
                          0.4,
                          "#fde0ef"
                        ],
                        [
                          0.5,
                          "#f7f7f7"
                        ],
                        [
                          0.6,
                          "#e6f5d0"
                        ],
                        [
                          0.7,
                          "#b8e186"
                        ],
                        [
                          0.8,
                          "#7fbc41"
                        ],
                        [
                          0.9,
                          "#4d9221"
                        ],
                        [
                          1,
                          "#276419"
                        ]
                      ],
                      "sequential": [
                        [
                          0,
                          "#0d0887"
                        ],
                        [
                          0.1111111111111111,
                          "#46039f"
                        ],
                        [
                          0.2222222222222222,
                          "#7201a8"
                        ],
                        [
                          0.3333333333333333,
                          "#9c179e"
                        ],
                        [
                          0.4444444444444444,
                          "#bd3786"
                        ],
                        [
                          0.5555555555555556,
                          "#d8576b"
                        ],
                        [
                          0.6666666666666666,
                          "#ed7953"
                        ],
                        [
                          0.7777777777777778,
                          "#fb9f3a"
                        ],
                        [
                          0.8888888888888888,
                          "#fdca26"
                        ],
                        [
                          1,
                          "#f0f921"
                        ]
                      ],
                      "sequentialminus": [
                        [
                          0,
                          "#0d0887"
                        ],
                        [
                          0.1111111111111111,
                          "#46039f"
                        ],
                        [
                          0.2222222222222222,
                          "#7201a8"
                        ],
                        [
                          0.3333333333333333,
                          "#9c179e"
                        ],
                        [
                          0.4444444444444444,
                          "#bd3786"
                        ],
                        [
                          0.5555555555555556,
                          "#d8576b"
                        ],
                        [
                          0.6666666666666666,
                          "#ed7953"
                        ],
                        [
                          0.7777777777777778,
                          "#fb9f3a"
                        ],
                        [
                          0.8888888888888888,
                          "#fdca26"
                        ],
                        [
                          1,
                          "#f0f921"
                        ]
                      ]
                    },
                    "paper_bgcolor": "white",
                    "plot_bgcolor": "#E5ECF6",
                    "title": {
                      "x": 0.05
                    },
                    "scene": {
                      "zaxis": {
                        "backgroundcolor": "#E5ECF6",
                        "ticks": "",
                        "gridwidth": 2,
                        "showbackground": true,
                        "zerolinecolor": "white",
                        "gridcolor": "white",
                        "linecolor": "white"
                      },
                      "xaxis": {
                        "backgroundcolor": "#E5ECF6",
                        "ticks": "",
                        "gridwidth": 2,
                        "showbackground": true,
                        "zerolinecolor": "white",
                        "gridcolor": "white",
                        "linecolor": "white"
                      },
                      "yaxis": {
                        "backgroundcolor": "#E5ECF6",
                        "ticks": "",
                        "gridwidth": 2,
                        "showbackground": true,
                        "zerolinecolor": "white",
                        "gridcolor": "white",
                        "linecolor": "white"
                      }
                    },
                    "yaxis": {
                      "automargin": true,
                      "title": {
                        "standoff": 15
                      },
                      "zerolinewidth": 2,
                      "ticks": "",
                      "zerolinecolor": "white",
                      "gridcolor": "white",
                      "linecolor": "white"
                    },
                    "annotationdefaults": {
                      "arrowwidth": 1,
                      "arrowhead": 0,
                      "arrowcolor": "#2a3f5f"
                    },
                    "hoverlabel": {
                      "align": "left"
                    },
                    "ternary": {
                      "bgcolor": "#E5ECF6",
                      "baxis": {
                        "ticks": "",
                        "gridcolor": "white",
                        "linecolor": "white"
                      },
                      "caxis": {
                        "ticks": "",
                        "gridcolor": "white",
                        "linecolor": "white"
                      },
                      "aaxis": {
                        "ticks": "",
                        "gridcolor": "white",
                        "linecolor": "white"
                      }
                    },
                    "mapbox": {
                      "style": "light"
                    },
                    "hovermode": "closest",
                    "font": {
                      "color": "#2a3f5f"
                    },
                    "geo": {
                      "showland": true,
                      "landcolor": "#E5ECF6",
                      "showlakes": true,
                      "bgcolor": "white",
                      "subunitcolor": "white",
                      "lakecolor": "white"
                    },
                    "coloraxis": {
                      "colorbar": {
                        "outlinewidth": 0,
                        "ticks": ""
                      }
                    }
                  },
                  "data": {
                    "mesh3d": [
                      {
                        "colorbar": {
                          "outlinewidth": 0,
                          "ticks": ""
                        },
                        "type": "mesh3d"
                      }
                    ],
                    "scattercarpet": [
                      {
                        "marker": {
                          "colorbar": {
                            "outlinewidth": 0,
                            "ticks": ""
                          }
                        },
                        "type": "scattercarpet"
                      }
                    ],
                    "pie": [
                      {
                        "automargin": true,
                        "type": "pie"
                      }
                    ],
                    "surface": [
                      {
                        "colorbar": {
                          "outlinewidth": 0,
                          "ticks": ""
                        },
                        "type": "surface",
                        "colorscale": [
                          [
                            0,
                            "#0d0887"
                          ],
                          [
                            0.1111111111111111,
                            "#46039f"
                          ],
                          [
                            0.2222222222222222,
                            "#7201a8"
                          ],
                          [
                            0.3333333333333333,
                            "#9c179e"
                          ],
                          [
                            0.4444444444444444,
                            "#bd3786"
                          ],
                          [
                            0.5555555555555556,
                            "#d8576b"
                          ],
                          [
                            0.6666666666666666,
                            "#ed7953"
                          ],
                          [
                            0.7777777777777778,
                            "#fb9f3a"
                          ],
                          [
                            0.8888888888888888,
                            "#fdca26"
                          ],
                          [
                            1,
                            "#f0f921"
                          ]
                        ]
                      }
                    ],
                    "table": [
                      {
                        "header": {
                          "line": {
                            "color": "white"
                          },
                          "fill": {
                            "color": "#C8D4E3"
                          }
                        },
                        "cells": {
                          "line": {
                            "color": "white"
                          },
                          "fill": {
                            "color": "#EBF0F8"
                          }
                        },
                        "type": "table"
                      }
                    ],
                    "scatterpolargl": [
                      {
                        "marker": {
                          "colorbar": {
                            "outlinewidth": 0,
                            "ticks": ""
                          }
                        },
                        "type": "scatterpolargl"
                      }
                    ],
                    "contour": [
                      {
                        "colorbar": {
                          "outlinewidth": 0,
                          "ticks": ""
                        },
                        "type": "contour",
                        "colorscale": [
                          [
                            0,
                            "#0d0887"
                          ],
                          [
                            0.1111111111111111,
                            "#46039f"
                          ],
                          [
                            0.2222222222222222,
                            "#7201a8"
                          ],
                          [
                            0.3333333333333333,
                            "#9c179e"
                          ],
                          [
                            0.4444444444444444,
                            "#bd3786"
                          ],
                          [
                            0.5555555555555556,
                            "#d8576b"
                          ],
                          [
                            0.6666666666666666,
                            "#ed7953"
                          ],
                          [
                            0.7777777777777778,
                            "#fb9f3a"
                          ],
                          [
                            0.8888888888888888,
                            "#fdca26"
                          ],
                          [
                            1,
                            "#f0f921"
                          ]
                        ]
                      }
                    ],
                    "carpet": [
                      {
                        "type": "carpet",
                        "baxis": {
                          "minorgridcolor": "white",
                          "gridcolor": "white",
                          "linecolor": "white",
                          "endlinecolor": "#2a3f5f",
                          "startlinecolor": "#2a3f5f"
                        },
                        "aaxis": {
                          "minorgridcolor": "white",
                          "gridcolor": "white",
                          "linecolor": "white",
                          "endlinecolor": "#2a3f5f",
                          "startlinecolor": "#2a3f5f"
                        }
                      }
                    ],
                    "contourcarpet": [
                      {
                        "colorbar": {
                          "outlinewidth": 0,
                          "ticks": ""
                        },
                        "type": "contourcarpet"
                      }
                    ],
                    "heatmap": [
                      {
                        "colorbar": {
                          "outlinewidth": 0,
                          "ticks": ""
                        },
                        "type": "heatmap",
                        "colorscale": [
                          [
                            0,
                            "#0d0887"
                          ],
                          [
                            0.1111111111111111,
                            "#46039f"
                          ],
                          [
                            0.2222222222222222,
                            "#7201a8"
                          ],
                          [
                            0.3333333333333333,
                            "#9c179e"
                          ],
                          [
                            0.4444444444444444,
                            "#bd3786"
                          ],
                          [
                            0.5555555555555556,
                            "#d8576b"
                          ],
                          [
                            0.6666666666666666,
                            "#ed7953"
                          ],
                          [
                            0.7777777777777778,
                            "#fb9f3a"
                          ],
                          [
                            0.8888888888888888,
                            "#fdca26"
                          ],
                          [
                            1,
                            "#f0f921"
                          ]
                        ]
                      }
                    ],
                    "scattermapbox": [
                      {
                        "marker": {
                          "colorbar": {
                            "outlinewidth": 0,
                            "ticks": ""
                          }
                        },
                        "type": "scattermapbox"
                      }
                    ],
                    "scatter3d": [
                      {
                        "marker": {
                          "colorbar": {
                            "outlinewidth": 0,
                            "ticks": ""
                          }
                        },
                        "line": {
                          "colorbar": {
                            "outlinewidth": 0,
                            "ticks": ""
                          }
                        },
                        "type": "scatter3d"
                      }
                    ],
                    "scattergl": [
                      {
                        "marker": {
                          "colorbar": {
                            "outlinewidth": 0,
                            "ticks": ""
                          }
                        },
                        "type": "scattergl"
                      }
                    ],
                    "scatterternary": [
                      {
                        "marker": {
                          "colorbar": {
                            "outlinewidth": 0,
                            "ticks": ""
                          }
                        },
                        "type": "scatterternary"
                      }
                    ],
                    "histogram": [
                      {
                        "marker": {
                          "colorbar": {
                            "outlinewidth": 0,
                            "ticks": ""
                          }
                        },
                        "type": "histogram"
                      }
                    ],
                    "heatmapgl": [
                      {
                        "colorbar": {
                          "outlinewidth": 0,
                          "ticks": ""
                        },
                        "type": "heatmapgl",
                        "colorscale": [
                          [
                            0,
                            "#0d0887"
                          ],
                          [
                            0.1111111111111111,
                            "#46039f"
                          ],
                          [
                            0.2222222222222222,
                            "#7201a8"
                          ],
                          [
                            0.3333333333333333,
                            "#9c179e"
                          ],
                          [
                            0.4444444444444444,
                            "#bd3786"
                          ],
                          [
                            0.5555555555555556,
                            "#d8576b"
                          ],
                          [
                            0.6666666666666666,
                            "#ed7953"
                          ],
                          [
                            0.7777777777777778,
                            "#fb9f3a"
                          ],
                          [
                            0.8888888888888888,
                            "#fdca26"
                          ],
                          [
                            1,
                            "#f0f921"
                          ]
                        ]
                      }
                    ],
                    "scatterpolar": [
                      {
                        "marker": {
                          "colorbar": {
                            "outlinewidth": 0,
                            "ticks": ""
                          }
                        },
                        "type": "scatterpolar"
                      }
                    ],
                    "histogram2d": [
                      {
                        "colorbar": {
                          "outlinewidth": 0,
                          "ticks": ""
                        },
                        "type": "histogram2d",
                        "colorscale": [
                          [
                            0,
                            "#0d0887"
                          ],
                          [
                            0.1111111111111111,
                            "#46039f"
                          ],
                          [
                            0.2222222222222222,
                            "#7201a8"
                          ],
                          [
                            0.3333333333333333,
                            "#9c179e"
                          ],
                          [
                            0.4444444444444444,
                            "#bd3786"
                          ],
                          [
                            0.5555555555555556,
                            "#d8576b"
                          ],
                          [
                            0.6666666666666666,
                            "#ed7953"
                          ],
                          [
                            0.7777777777777778,
                            "#fb9f3a"
                          ],
                          [
                            0.8888888888888888,
                            "#fdca26"
                          ],
                          [
                            1,
                            "#f0f921"
                          ]
                        ]
                      }
                    ],
                    "scattergeo": [
                      {
                        "marker": {
                          "colorbar": {
                            "outlinewidth": 0,
                            "ticks": ""
                          }
                        },
                        "type": "scattergeo"
                      }
                    ],
                    "bar": [
                      {
                        "marker": {
                          "line": {
                            "color": "#E5ECF6",
                            "width": 0.5
                          }
                        },
                        "type": "bar",
                        "error_x": {
                          "color": "#2a3f5f"
                        },
                        "error_y": {
                          "color": "#2a3f5f"
                        }
                      }
                    ],
                    "choropleth": [
                      {
                        "colorbar": {
                          "outlinewidth": 0,
                          "ticks": ""
                        },
                        "type": "choropleth"
                      }
                    ],
                    "parcoords": [
                      {
                        "line": {
                          "colorbar": {
                            "outlinewidth": 0,
                            "ticks": ""
                          }
                        },
                        "type": "parcoords"
                      }
                    ],
                    "barpolar": [
                      {
                        "marker": {
                          "line": {
                            "color": "#E5ECF6",
                            "width": 0.5
                          }
                        },
                        "type": "barpolar"
                      }
                    ],
                    "histogram2dcontour": [
                      {
                        "colorbar": {
                          "outlinewidth": 0,
                          "ticks": ""
                        },
                        "type": "histogram2dcontour",
                        "colorscale": [
                          [
                            0,
                            "#0d0887"
                          ],
                          [
                            0.1111111111111111,
                            "#46039f"
                          ],
                          [
                            0.2222222222222222,
                            "#7201a8"
                          ],
                          [
                            0.3333333333333333,
                            "#9c179e"
                          ],
                          [
                            0.4444444444444444,
                            "#bd3786"
                          ],
                          [
                            0.5555555555555556,
                            "#d8576b"
                          ],
                          [
                            0.6666666666666666,
                            "#ed7953"
                          ],
                          [
                            0.7777777777777778,
                            "#fb9f3a"
                          ],
                          [
                            0.8888888888888888,
                            "#fdca26"
                          ],
                          [
                            1,
                            "#f0f921"
                          ]
                        ]
                      }
                    ],
                    "scatter": [
                      {
                        "marker": {
                          "colorbar": {
                            "outlinewidth": 0,
                            "ticks": ""
                          }
                        },
                        "type": "scatter"
                      }
                    ]
                  }
                },
                "title": {
                  "font": {
                    "color": "#4D5663"
                  }
                },
                "paper_bgcolor": "#F5F6F9",
                "plot_bgcolor": "#F5F6F9",
                "yaxis": {
                  "tickfont": {
                    "color": "#4D5663"
                  },
                  "zerolinecolor": "#E1E5ED",
                  "title": {
                    "text": "",
                    "font": {
                      "color": "#4D5663"
                    }
                  },
                  "gridcolor": "#E1E5ED",
                  "showgrid": true
                },
                "xaxis": {
                  "tickfont": {
                    "color": "#4D5663"
                  },
                  "zerolinecolor": "#E1E5ED",
                  "title": {
                    "text": "",
                    "font": {
                      "color": "#4D5663"
                    }
                  },
                  "gridcolor": "#E1E5ED",
                  "showgrid": true
                },
                "legend": {
                  "bgcolor": "#F5F6F9",
                  "font": {
                    "color": "#4D5663"
                  }
                }
              }
            }
          },
          "metadata": {
            "tags": []
          }
        }
      ]
    },
    {
      "cell_type": "markdown",
      "metadata": {
        "id": "aGS7ijNtNksR",
        "colab_type": "text"
      },
      "source": [
        "## Bar Plots"
      ]
    },
    {
      "cell_type": "code",
      "metadata": {
        "id": "HfgxxWebNksT",
        "colab_type": "code",
        "colab": {},
        "outputId": "40608415-832f-411e-f63f-388e77c0fa70"
      },
      "source": [
        "df2.iplot(kind='bar',x='Category',y='Values')"
      ],
      "execution_count": 0,
      "outputs": [
        {
          "output_type": "display_data",
          "data": {
            "text/html": [
              "<div id=\"316c2996-ca86-4faf-82a5-fb1d12abc321\" style=\"height: 525px; width: 100%;\" class=\"plotly-graph-div\"></div><script type=\"text/javascript\">require([\"plotly\"], function(Plotly) { window.PLOTLYENV=window.PLOTLYENV || {};window.PLOTLYENV.BASE_URL=\"https://plot.ly\";Plotly.newPlot(\"316c2996-ca86-4faf-82a5-fb1d12abc321\", [{\"x\": [\"A\", \"B\", \"C\"], \"text\": \"\", \"orientation\": \"v\", \"name\": \"Values\", \"type\": \"bar\", \"marker\": {\"line\": {\"width\": 1, \"color\": \"rgba(226, 74, 51, 1.0)\"}, \"color\": \"rgba(226, 74, 51, 0.6)\"}, \"y\": [32, 43, 50]}], {\"legend\": {\"font\": {\"color\": \"#666666\"}, \"bgcolor\": \"#FFFFFF\"}, \"titlefont\": {\"color\": \"#151516\"}, \"xaxis1\": {\"titlefont\": {\"color\": \"#666666\"}, \"zerolinecolor\": \"#F6F6F6\", \"title\": \"\", \"tickfont\": {\"color\": \"#666666\"}, \"showgrid\": true, \"gridcolor\": \"#F6F6F6\"}, \"paper_bgcolor\": \"#FFFFFF\", \"plot_bgcolor\": \"#E5E5E5\", \"yaxis1\": {\"titlefont\": {\"color\": \"#666666\"}, \"zerolinecolor\": \"#F6F6F6\", \"title\": \"\", \"tickfont\": {\"color\": \"#666666\"}, \"showgrid\": true, \"gridcolor\": \"#F6F6F6\"}}, {\"showLink\": true, \"linkText\": \"Export to plot.ly\"})});</script>"
            ],
            "text/plain": [
              "<IPython.core.display.HTML object>"
            ]
          },
          "metadata": {
            "tags": []
          }
        }
      ]
    },
    {
      "cell_type": "code",
      "metadata": {
        "id": "pOHS3hi6NksZ",
        "colab_type": "code",
        "colab": {},
        "outputId": "dd5a2f95-5653-4a9b-e4d2-22f471d5fcc6"
      },
      "source": [
        "df.count().iplot(kind='bar')"
      ],
      "execution_count": 0,
      "outputs": [
        {
          "output_type": "display_data",
          "data": {
            "text/html": [
              "<div id=\"0f3d8847-73f9-4d83-a41a-ea5e36c6d128\" style=\"height: 525px; width: 100%;\" class=\"plotly-graph-div\"></div><script type=\"text/javascript\">require([\"plotly\"], function(Plotly) { window.PLOTLYENV=window.PLOTLYENV || {};window.PLOTLYENV.BASE_URL=\"https://plot.ly\";Plotly.newPlot(\"0f3d8847-73f9-4d83-a41a-ea5e36c6d128\", [{\"x\": [\"A\", \"B\", \"C\", \"D\"], \"text\": \"\", \"orientation\": \"v\", \"name\": \"None\", \"type\": \"bar\", \"marker\": {\"line\": {\"width\": 1, \"color\": \"rgba(226, 74, 51, 1.0)\"}, \"color\": \"rgba(226, 74, 51, 0.6)\"}, \"y\": [100, 100, 100, 100]}], {\"legend\": {\"font\": {\"color\": \"#666666\"}, \"bgcolor\": \"#FFFFFF\"}, \"titlefont\": {\"color\": \"#151516\"}, \"xaxis1\": {\"titlefont\": {\"color\": \"#666666\"}, \"zerolinecolor\": \"#F6F6F6\", \"title\": \"\", \"tickfont\": {\"color\": \"#666666\"}, \"showgrid\": true, \"gridcolor\": \"#F6F6F6\"}, \"paper_bgcolor\": \"#FFFFFF\", \"plot_bgcolor\": \"#E5E5E5\", \"yaxis1\": {\"titlefont\": {\"color\": \"#666666\"}, \"zerolinecolor\": \"#F6F6F6\", \"title\": \"\", \"tickfont\": {\"color\": \"#666666\"}, \"showgrid\": true, \"gridcolor\": \"#F6F6F6\"}}, {\"showLink\": true, \"linkText\": \"Export to plot.ly\"})});</script>"
            ],
            "text/plain": [
              "<IPython.core.display.HTML object>"
            ]
          },
          "metadata": {
            "tags": []
          }
        }
      ]
    },
    {
      "cell_type": "markdown",
      "metadata": {
        "id": "A6VzRcoANksd",
        "colab_type": "text"
      },
      "source": [
        "## Boxplots"
      ]
    },
    {
      "cell_type": "code",
      "metadata": {
        "id": "Tz3ShiPRNksf",
        "colab_type": "code",
        "colab": {},
        "outputId": "f778cc16-b70f-4e73-827c-61e823854bf1"
      },
      "source": [
        "df.iplot(kind='box')"
      ],
      "execution_count": 0,
      "outputs": [
        {
          "output_type": "display_data",
          "data": {
            "text/html": [
              "<div id=\"5d45edc4-c4ad-4a76-9cf3-b0c8f88287f7\" style=\"height: 525px; width: 100%;\" class=\"plotly-graph-div\"></div><script type=\"text/javascript\">require([\"plotly\"], function(Plotly) { window.PLOTLYENV=window.PLOTLYENV || {};window.PLOTLYENV.BASE_URL=\"https://plot.ly\";Plotly.newPlot(\"5d45edc4-c4ad-4a76-9cf3-b0c8f88287f7\", [{\"name\": \"A\", \"boxpoints\": false, \"y\": [1.8787246669561561, 0.028733616663923985, -0.1587931161277573, -1.2219723462024636, 1.2531523973363488, 0.8312132082951045, 1.1740170898586173, -0.24393002059589958, -0.296966543277261, 0.7621695759158762, 0.04210347865555278, -0.7791970481917073, 0.3943032396655093, -1.0146190736152443, -0.4841710096782867, 0.5522466668361006, -2.77187556758784, -0.5181226698708166, -0.49722040792422156, -1.6534757596659548, -0.06027439377033132, 1.4769243769038323, 1.1796346669498379, -0.7816898015019265, 0.8630132212967984, 0.6590246731638996, -1.1013906677685679, -0.9446804895542242, -1.788022470413331, 0.8775002821729455, 0.3546715768521251, -0.16532125735222183, 1.8914747239632839, -1.1251772915449791, 0.8888981026894395, -0.6066117727706714, 0.8314777742724779, 0.3830457069359529, -0.937459527593053, -0.844561047334305, 1.1280232245052606, -1.640427972598561, 0.8971269652786067, 0.4848047458342485, 0.19373507090654035, -0.7387091317560727, -0.3566733282792827, -0.43158335134818315, -0.4899640124314907, 0.5488715658495908, 0.2821768987731658, -0.8832439438038343, 1.271863067044618, 0.10680856505919414, 0.8269478103679717, -0.03266751467505833, -0.34021520002722894, -0.6769186069469743, 0.7126188256918854, 1.8871150025438166, -0.06742662656190869, -1.4789736197389265, 0.346978601690099, -0.3757389938313092, 0.715285859520045, 1.5994858611908638, -0.3692558358591885, 0.13827360227735647, -0.40690530542342296, 0.636973800943974, 0.14658752987818605, -0.3949906255692418, 1.5076392623927681, -0.15486042602397807, 0.22159940179664614, -1.0878244818277978, -0.03354417910293162, 1.2258839316932069, -0.048951028800266715, -1.1089870994157809, 0.021452684803338333, 1.2548854256528554, -1.0913797662237141, -0.539059741192553, 0.6901269187662552, -1.4810451728120602, -0.8468654201203714, 0.3763927872506507, 0.8120568488462931, 0.0031767062628090745, 0.697742291538818, -0.7429703118062226, -0.842231117346612, -0.0666718362166121, 1.8829720647783421, 1.320112956074407, 0.42394324402947475, 0.466299928509142, 0.9415282138953815, -0.7707938096473991], \"line\": {\"width\": 1.3}, \"type\": \"box\", \"marker\": {\"color\": \"rgba(226, 74, 51, 1.0)\"}}, {\"name\": \"B\", \"boxpoints\": false, \"y\": [0.6887194376286498, 0.1040535242504629, 0.38792642015276635, 1.3934230260395444, -0.5375976688704683, -1.1493608786796612, 0.01342890849383506, -0.47231861415738574, 0.24793169472844812, -0.6232083144122951, -1.2121596694710122, -2.4542371001007464, 0.29855785553142483, 1.2997620162676498, 0.9168047366909585, -0.41040614900130634, 1.3147531456519106, -0.12455263569370086, 0.9366143523054554, 0.23573463729990726, -0.8244746170540388, -0.32685668230128845, 1.501781503113865, 0.9830012153240587, 0.6020112305361386, 0.3688304138086671, 1.0090827131320237, -0.5811720111587422, 0.0512884505619472, -1.6917643070157176, -0.25322144257612356, -0.2937357494665306, 0.7368726362448421, 0.5763424997076779, 0.16472110066593693, -0.374254076023172, 1.1280304809680426, 0.6455371548668151, -0.18000225503004413, -0.9128911232313937, -0.5670695205365133, 0.16138491502455474, 1.2118733837294762, 0.4444506280024997, 0.6834767601409083, 1.8020727241195935, 2.4230878273709062, 0.27701889696287213, 1.4067122280705426, -0.33728919328412016, 0.5154870435338148, 0.7751019637809062, 1.400130435077449, 0.8276591566099151, 1.1268119555303864, 0.7016118169589718, 0.476169530704683, -0.5261125753709399, -1.2129692872143456, 0.6126338497954396, 1.5825905557818922, -0.8173630045970658, 0.1075602248072928, 1.2716988894407462, -0.15615948990467535, -0.2968566839654392, 1.7204934641303604, -0.869876624137026, 0.28935077735906545, -1.2052876742800458, -0.263979336251353, -0.02815365780209253, -0.04062347728476395, 0.943760296027789, -1.7797735906553165, 0.4485755919087686, 0.14778332986993048, 0.5305019463041807, 1.6359913516932165, -0.3437427119285297, 1.9109783094330681, 0.6818924480193401, -0.42214824562337705, 0.8935317581184008, 1.2587495288352297, -0.5992845246668753, 2.7851237345776405, -1.5158096238899554, 0.04177421570103183, 0.48980398157362903, 1.063643861677667, -0.8486329162129157, -1.86936339853131, 0.24761777046722996, 1.290606988097702, 0.17046338292604407, 0.14181179559597848, 0.6505415244850333, -2.5850581533594545, -0.30813091794721653], \"line\": {\"width\": 1.3}, \"type\": \"box\", \"marker\": {\"color\": \"rgba(62, 111, 176, 1.0)\"}}, {\"name\": \"C\", \"boxpoints\": false, \"y\": [1.0667334168325768, 0.04817571551860875, -0.6353709157290994, -0.29979428249659507, 0.30291706303457033, -1.2658520234759039, 0.4984256330100474, -0.4813817437844393, 1.6528819231392327, -1.0387894611418347, -1.4866253379043493, -0.5281135473322252, -0.061645252730345844, 0.7876423965771268, 0.9285191892602837, -3.0483938246413547, -0.371184208418135, 0.11169331199774239, 0.30352330980386477, -1.1851393464396252, -0.3023997655692267, 1.4199893168847753, -0.332851303404407, 0.7955908630250091, 0.5869705278914006, -0.45090328668726354, -0.7814566611757896, -0.1261200409144497, 0.7060858452328673, -0.8894721878843294, 0.6064992291432117, -0.1963991863666514, 0.16697094643083513, -0.06591707111576753, 0.8961422265850149, 0.8939803073905991, 0.2526177880230376, -1.2523243277936627, 0.9749672569040144, 0.9687477057343876, 0.26351967435246515, -0.9517261189215155, -0.18707956459088698, -0.39391833601946274, 0.5273775265831957, -0.48180251718398176, -2.2230374431929953, 2.0999928572789828, 0.5496483529576708, 1.067298459209482, -0.3040289105606048, 0.1352094843666391, -0.9944404721270197, 2.2258275006902912, -0.11689955437978636, 0.41231462999024887, 0.7856039151273921, -0.6894731524779986, -0.8276899193670904, 0.23638272241448607, 1.3266743967632526, 0.9626096963262857, -0.28379390855690406, -0.417413711892243, -1.3341211120615861, 0.9298055489835776, 2.106720126861483, 0.23150307059926345, 0.8864836518334782, 0.4193977048083098, 0.3190869644200757, 0.9673541346062681, 0.42245148076732175, 1.0906377526894717, 1.3887188298690671, -0.19507483218944058, -0.9347090401182315, 0.30126885232107575, 0.42495072953595375, -0.9170212042816844, -1.6965969381460768, -0.011576471618042839, -1.0479065708976978, -0.4749222730814971, 0.4229046102099884, 0.08254929486846736, -0.7783883617548714, -0.17950878512595098, 0.4391940123110264, -1.9667304216807953, -1.5652802021531136, 0.8163770970520242, -0.008375093041838632, 0.5510487504106222, -0.4239325998518183, -0.1297116221823799, -0.10728910870450034, -0.12169367361116121, -0.6905111268638191, -0.2653540299125418], \"line\": {\"width\": 1.3}, \"type\": \"box\", \"marker\": {\"color\": \"rgba(132, 118, 202, 1.0)\"}}, {\"name\": \"D\", \"boxpoints\": false, \"y\": [0.5439560303056027, 1.8421879324257613, -0.6375584499267892, -1.113621595762316, -2.5460826344966634, -1.4694525849240658, 1.5284509091178395, -0.2389286047643509, -1.8771013496698048, 0.7967095179585106, -1.2751392945819797, -0.3919771719871495, 0.6960770780779357, 1.0829877919884603, -0.21798245190329507, 0.10031667681839129, 0.39551692710003933, 0.03022462233656908, -0.3327329523770193, -0.204819010502919, -0.498599044144297, -2.287561059130041, -0.2626249290420713, -2.7487145066091996, -0.666926270349069, -2.0379098459994895, 0.4076679798231559, 1.2245324594636484, -2.0903293143661017, 0.5730523735386692, -0.8155129116660126, -0.9572874252328925, 0.2646752398006613, -1.59152570791709, 0.0934028853207141, -2.602771223170992, 0.560010384592385, 0.449602390416327, -0.005796794476065169, 0.1829347250578045, -0.5607194705468903, -1.1999112237192675, -1.5750218946994066, 0.9111111432091317, -0.2530599561069696, -0.5460310452823662, -0.2531538203527998, 1.5968736605431069, 1.723507060923573, 0.38763182009739877, -1.5443680470309729, 1.2505835233573588, 0.0032375885699842803, 0.3870066878402003, -0.32906689091979147, 0.3856397258220775, -0.1654479720586817, 0.2232842423247386, -0.4418766853437538, -0.6751906059090874, -1.6521803078301385, 0.8305325757578166, 0.6577807720682736, -1.2851830040136305, 0.5089005765755124, 0.5962021316815027, 0.9573351203673642, -1.7458475655160375, -1.7131000048598244, 1.5732405203322046, -0.6605298861077683, -1.3437487967599893, 1.9772828633357302, -0.2856844646078326, 0.19293980157348012, 0.1628250911198371, 0.4208217295167736, 0.5627226183638288, -1.058090429960864, -1.3589615830656872, 2.138807050366944, 0.885718335515041, 0.8374040360650308, 0.49834346725709405, -1.3963572343750588, 2.2245606506923625, 0.19641383189506273, -0.3435398382353588, 0.7215114388529363, -0.8327583822270256, -2.039974975731211, 1.2859290252046311, -1.1577060578657161, 0.36795754346511866, 0.970791311065794, 0.496204293102698, -0.05627542841788665, 0.10113620396598295, 0.7547476274222054, 0.15433234934660506], \"line\": {\"width\": 1.3}, \"type\": \"box\", \"marker\": {\"color\": \"rgba(101, 101, 101, 1.0)\"}}], {\"legend\": {\"font\": {\"color\": \"#666666\"}, \"bgcolor\": \"#FFFFFF\"}, \"titlefont\": {\"color\": \"#151516\"}, \"xaxis1\": {\"titlefont\": {\"color\": \"#666666\"}, \"zerolinecolor\": \"#F6F6F6\", \"title\": \"\", \"tickfont\": {\"color\": \"#666666\"}, \"showgrid\": true, \"gridcolor\": \"#F6F6F6\"}, \"paper_bgcolor\": \"#FFFFFF\", \"plot_bgcolor\": \"#E5E5E5\", \"yaxis1\": {\"titlefont\": {\"color\": \"#666666\"}, \"zerolinecolor\": \"#F6F6F6\", \"title\": \"\", \"tickfont\": {\"color\": \"#666666\"}, \"showgrid\": true, \"gridcolor\": \"#F6F6F6\"}}, {\"showLink\": true, \"linkText\": \"Export to plot.ly\"})});</script>"
            ],
            "text/plain": [
              "<IPython.core.display.HTML object>"
            ]
          },
          "metadata": {
            "tags": []
          }
        }
      ]
    },
    {
      "cell_type": "markdown",
      "metadata": {
        "id": "zNc-HTLSNksp",
        "colab_type": "text"
      },
      "source": [
        "## 3d Surface"
      ]
    },
    {
      "cell_type": "code",
      "metadata": {
        "id": "sDP34huoNksq",
        "colab_type": "code",
        "colab": {},
        "outputId": "d883b453-1800-4a80-a088-712e84276f4c"
      },
      "source": [
        "df3 = pd.DataFrame({'x':[1,2,3,4,5],'y':[10,20,30,20,10],'z':[5,4,3,2,1]})\n",
        "df3.iplot(kind='surface',colorscale='rdylbu')"
      ],
      "execution_count": 0,
      "outputs": [
        {
          "output_type": "display_data",
          "data": {
            "text/html": [
              "<div id=\"1bd337c5-1c72-4f4d-9748-7ff51b738774\" style=\"height: 525px; width: 100%;\" class=\"plotly-graph-div\"></div><script type=\"text/javascript\">require([\"plotly\"], function(Plotly) { window.PLOTLYENV=window.PLOTLYENV || {};window.PLOTLYENV.BASE_URL=\"https://plot.ly\";Plotly.newPlot(\"1bd337c5-1c72-4f4d-9748-7ff51b738774\", [{\"colorscale\": [[0.0, \"rgb(165,0,38)\"], [0.1, \"rgb(215,48,39)\"], [0.2, \"rgb(244,109,67)\"], [0.3, \"rgb(253,174,97)\"], [0.4, \"rgb(254,224,144)\"], [0.5, \"rgb(255,255,191)\"], [0.6, \"rgb(224,243,248)\"], [0.7, \"rgb(171,217,233)\"], [0.8, \"rgb(116,173,209)\"], [0.9, \"rgb(69,117,180)\"], [1.0, \"rgb(49,54,149)\"]], \"x\": [0, 1, 2, 3, 4], \"type\": \"surface\", \"y\": [\"x\", \"y\", \"z\"], \"z\": [[1, 2, 3, 4, 5], [10, 20, 30, 20, 10], [5, 4, 3, 2, 1]]}], {\"legend\": {\"font\": {\"color\": \"#666666\"}, \"bgcolor\": \"#FFFFFF\"}, \"titlefont\": {\"color\": \"#151516\"}, \"xaxis1\": {\"titlefont\": {\"color\": \"#666666\"}, \"zerolinecolor\": \"#F6F6F6\", \"title\": \"\", \"tickfont\": {\"color\": \"#666666\"}, \"showgrid\": true, \"gridcolor\": \"#F6F6F6\"}, \"paper_bgcolor\": \"#FFFFFF\", \"plot_bgcolor\": \"#E5E5E5\", \"yaxis1\": {\"titlefont\": {\"color\": \"#666666\"}, \"zerolinecolor\": \"#F6F6F6\", \"title\": \"\", \"tickfont\": {\"color\": \"#666666\"}, \"showgrid\": true, \"gridcolor\": \"#F6F6F6\"}}, {\"showLink\": true, \"linkText\": \"Export to plot.ly\"})});</script>"
            ],
            "text/plain": [
              "<IPython.core.display.HTML object>"
            ]
          },
          "metadata": {
            "tags": []
          }
        }
      ]
    },
    {
      "cell_type": "markdown",
      "metadata": {
        "id": "SfaZSk0ONksv",
        "colab_type": "text"
      },
      "source": [
        "## Spread"
      ]
    },
    {
      "cell_type": "code",
      "metadata": {
        "id": "9oSpt49ZNksw",
        "colab_type": "code",
        "colab": {},
        "outputId": "af8ab1cc-611e-4b8a-b4cd-878793c64c18"
      },
      "source": [
        "df[['A','B']].iplot(kind='spread')"
      ],
      "execution_count": 0,
      "outputs": [
        {
          "output_type": "display_data",
          "data": {
            "text/html": [
              "<div id=\"d77d91d4-36ef-4915-a84f-8e43772897cc\" style=\"height: 525px; width: 100%;\" class=\"plotly-graph-div\"></div><script type=\"text/javascript\">require([\"plotly\"], function(Plotly) { window.PLOTLYENV=window.PLOTLYENV || {};window.PLOTLYENV.BASE_URL=\"https://plot.ly\";Plotly.newPlot(\"d77d91d4-36ef-4915-a84f-8e43772897cc\", [{\"x\": [0, 1, 2, 3, 4, 5, 6, 7, 8, 9, 10, 11, 12, 13, 14, 15, 16, 17, 18, 19, 20, 21, 22, 23, 24, 25, 26, 27, 28, 29, 30, 31, 32, 33, 34, 35, 36, 37, 38, 39, 40, 41, 42, 43, 44, 45, 46, 47, 48, 49, 50, 51, 52, 53, 54, 55, 56, 57, 58, 59, 60, 61, 62, 63, 64, 65, 66, 67, 68, 69, 70, 71, 72, 73, 74, 75, 76, 77, 78, 79, 80, 81, 82, 83, 84, 85, 86, 87, 88, 89, 90, 91, 92, 93, 94, 95, 96, 97, 98, 99], \"text\": \"\", \"y\": [1.8787246669561561, 0.028733616663923985, -0.1587931161277573, -1.2219723462024636, 1.2531523973363488, 0.8312132082951045, 1.1740170898586173, -0.24393002059589958, -0.296966543277261, 0.7621695759158762, 0.04210347865555278, -0.7791970481917073, 0.3943032396655093, -1.0146190736152443, -0.4841710096782867, 0.5522466668361006, -2.77187556758784, -0.5181226698708166, -0.49722040792422156, -1.6534757596659548, -0.06027439377033132, 1.4769243769038323, 1.1796346669498379, -0.7816898015019265, 0.8630132212967984, 0.6590246731638996, -1.1013906677685679, -0.9446804895542242, -1.788022470413331, 0.8775002821729455, 0.3546715768521251, -0.16532125735222183, 1.8914747239632839, -1.1251772915449791, 0.8888981026894395, -0.6066117727706714, 0.8314777742724779, 0.3830457069359529, -0.937459527593053, -0.844561047334305, 1.1280232245052606, -1.640427972598561, 0.8971269652786067, 0.4848047458342485, 0.19373507090654035, -0.7387091317560727, -0.3566733282792827, -0.43158335134818315, -0.4899640124314907, 0.5488715658495908, 0.2821768987731658, -0.8832439438038343, 1.271863067044618, 0.10680856505919414, 0.8269478103679717, -0.03266751467505833, -0.34021520002722894, -0.6769186069469743, 0.7126188256918854, 1.8871150025438166, -0.06742662656190869, -1.4789736197389265, 0.346978601690099, -0.3757389938313092, 0.715285859520045, 1.5994858611908638, -0.3692558358591885, 0.13827360227735647, -0.40690530542342296, 0.636973800943974, 0.14658752987818605, -0.3949906255692418, 1.5076392623927681, -0.15486042602397807, 0.22159940179664614, -1.0878244818277978, -0.03354417910293162, 1.2258839316932069, -0.048951028800266715, -1.1089870994157809, 0.021452684803338333, 1.2548854256528554, -1.0913797662237141, -0.539059741192553, 0.6901269187662552, -1.4810451728120602, -0.8468654201203714, 0.3763927872506507, 0.8120568488462931, 0.0031767062628090745, 0.697742291538818, -0.7429703118062226, -0.842231117346612, -0.0666718362166121, 1.8829720647783421, 1.320112956074407, 0.42394324402947475, 0.466299928509142, 0.9415282138953815, -0.7707938096473991], \"mode\": \"lines\", \"line\": {\"dash\": \"solid\", \"width\": 1.3, \"color\": \"rgba(226, 74, 51, 1.0)\"}, \"type\": \"scatter\", \"name\": \"A\"}, {\"x\": [0, 1, 2, 3, 4, 5, 6, 7, 8, 9, 10, 11, 12, 13, 14, 15, 16, 17, 18, 19, 20, 21, 22, 23, 24, 25, 26, 27, 28, 29, 30, 31, 32, 33, 34, 35, 36, 37, 38, 39, 40, 41, 42, 43, 44, 45, 46, 47, 48, 49, 50, 51, 52, 53, 54, 55, 56, 57, 58, 59, 60, 61, 62, 63, 64, 65, 66, 67, 68, 69, 70, 71, 72, 73, 74, 75, 76, 77, 78, 79, 80, 81, 82, 83, 84, 85, 86, 87, 88, 89, 90, 91, 92, 93, 94, 95, 96, 97, 98, 99], \"text\": \"\", \"y\": [0.6887194376286498, 0.1040535242504629, 0.38792642015276635, 1.3934230260395444, -0.5375976688704683, -1.1493608786796612, 0.01342890849383506, -0.47231861415738574, 0.24793169472844812, -0.6232083144122951, -1.2121596694710122, -2.4542371001007464, 0.29855785553142483, 1.2997620162676498, 0.9168047366909585, -0.41040614900130634, 1.3147531456519106, -0.12455263569370086, 0.9366143523054554, 0.23573463729990726, -0.8244746170540388, -0.32685668230128845, 1.501781503113865, 0.9830012153240587, 0.6020112305361386, 0.3688304138086671, 1.0090827131320237, -0.5811720111587422, 0.0512884505619472, -1.6917643070157176, -0.25322144257612356, -0.2937357494665306, 0.7368726362448421, 0.5763424997076779, 0.16472110066593693, -0.374254076023172, 1.1280304809680426, 0.6455371548668151, -0.18000225503004413, -0.9128911232313937, -0.5670695205365133, 0.16138491502455474, 1.2118733837294762, 0.4444506280024997, 0.6834767601409083, 1.8020727241195935, 2.4230878273709062, 0.27701889696287213, 1.4067122280705426, -0.33728919328412016, 0.5154870435338148, 0.7751019637809062, 1.400130435077449, 0.8276591566099151, 1.1268119555303864, 0.7016118169589718, 0.476169530704683, -0.5261125753709399, -1.2129692872143456, 0.6126338497954396, 1.5825905557818922, -0.8173630045970658, 0.1075602248072928, 1.2716988894407462, -0.15615948990467535, -0.2968566839654392, 1.7204934641303604, -0.869876624137026, 0.28935077735906545, -1.2052876742800458, -0.263979336251353, -0.02815365780209253, -0.04062347728476395, 0.943760296027789, -1.7797735906553165, 0.4485755919087686, 0.14778332986993048, 0.5305019463041807, 1.6359913516932165, -0.3437427119285297, 1.9109783094330681, 0.6818924480193401, -0.42214824562337705, 0.8935317581184008, 1.2587495288352297, -0.5992845246668753, 2.7851237345776405, -1.5158096238899554, 0.04177421570103183, 0.48980398157362903, 1.063643861677667, -0.8486329162129157, -1.86936339853131, 0.24761777046722996, 1.290606988097702, 0.17046338292604407, 0.14181179559597848, 0.6505415244850333, -2.5850581533594545, -0.30813091794721653], \"mode\": \"lines\", \"line\": {\"dash\": \"solid\", \"width\": 1.3, \"color\": \"rgba(62, 111, 176, 1.0)\"}, \"type\": \"scatter\", \"name\": \"B\"}, {\"yaxis\": \"y2\", \"mode\": \"lines\", \"xaxis\": \"x2\", \"connectgaps\": false, \"x\": [0, 1, 2, 3, 4, 5, 6, 7, 8, 9, 10, 11, 12, 13, 14, 15, 16, 17, 18, 19, 20, 21, 22, 23, 24, 25, 26, 27, 28, 29, 30, 31, 32, 33, 34, 35, 36, 37, 38, 39, 40, 41, 42, 43, 44, 45, 46, 47, 48, 49, 50, 51, 52, 53, 54, 55, 56, 57, 58, 59, 60, 61, 62, 63, 64, 65, 66, 67, 68, 69, 70, 71, 72, 73, 74, 75, 76, 77, 78, 79, 80, 81, 82, 83, 84, 85, 86, 87, 88, 89, 90, 91, 92, 93, 94, 95, 96, 97, 98, 99], \"showlegend\": false, \"y\": [\"\", -0.0753199075865389, -0.5467195362805236, -2.6153953722420082, \"\", \"\", \"\", \"\", -0.5448982380057091, \"\", \"\", \"\", \"\", -2.314381089882894, -1.4009757463692452, \"\", -4.086628713239751, -0.3935700341771157, -1.433834760229677, -1.889210396965862, \"\", \"\", -0.3221468361640272, -1.764691016825985, \"\", \"\", -2.1104733809005918, -0.36350847839548206, -1.8393109209752783, \"\", \"\", \"\", \"\", -1.701519791252657, \"\", -0.23235769674749934, -0.29655270669556466, -0.26249144793086215, -0.7574572725630089, \"\", \"\", -1.8018128876231159, -0.3147464184508695, \"\", -0.48974168923436795, -2.5407818558756663, -2.779761155650189, -0.7086022483110552, -1.8966762405020332, \"\", -0.23331014476064899, -1.6583459075847404, -0.128267368032831, -0.720850591550721, -0.29986414516241466, -0.7342793316340301, -0.8163847307319119, -0.15080603157603434, \"\", \"\", -1.650017182343801, -0.6616106151418607, \"\", -1.6474378832720553, \"\", \"\", -2.089749299989549, \"\", -0.6962560827824884, \"\", \"\", -0.36683696776714925, \"\", -1.098620722051767, \"\", -1.5364000737365664, -0.1813275089728621, \"\", -1.6849423804934833, -0.7652443874872512, -1.8895256246297298, \"\", -0.6692315206003371, -1.4325914993109539, -0.5686226100689745, -0.8817606481451848, -3.6319891546980116, \"\", \"\", -0.48662727531081995, -0.36590157013884894, \"\", \"\", -0.3142896066838421, \"\", \"\", \"\", -0.18424159597589135, \"\", -0.46266289170018254], \"type\": \"scatter\", \"fill\": \"tozeroy\", \"line\": {\"dash\": \"solid\", \"width\": 0.5, \"color\": \"red\"}, \"name\": \"Spread\"}, {\"yaxis\": \"y2\", \"mode\": \"lines\", \"xaxis\": \"x2\", \"connectgaps\": false, \"x\": [0, 1, 2, 3, 4, 5, 6, 7, 8, 9, 10, 11, 12, 13, 14, 15, 16, 17, 18, 19, 20, 21, 22, 23, 24, 25, 26, 27, 28, 29, 30, 31, 32, 33, 34, 35, 36, 37, 38, 39, 40, 41, 42, 43, 44, 45, 46, 47, 48, 49, 50, 51, 52, 53, 54, 55, 56, 57, 58, 59, 60, 61, 62, 63, 64, 65, 66, 67, 68, 69, 70, 71, 72, 73, 74, 75, 76, 77, 78, 79, 80, 81, 82, 83, 84, 85, 86, 87, 88, 89, 90, 91, 92, 93, 94, 95, 96, 97, 98, 99], \"showlegend\": false, \"y\": [1.1900052293275063, \"\", \"\", \"\", 1.790750066206817, 1.9805740869747657, 1.1605881813647823, 0.22838859356148616, \"\", 1.3853778903281713, 1.254263148126565, 1.675040051909039, 0.09574538413408445, \"\", \"\", 0.9626528158374069, \"\", \"\", \"\", \"\", 0.7642002232837075, 1.8037810592051207, \"\", \"\", 0.2610019907606598, 0.29019425935523246, \"\", \"\", \"\", 2.569264589188663, 0.6078930194282486, 0.12841449211430875, 1.1546020877184417, \"\", 0.7241770020235025, \"\", \"\", \"\", \"\", 0.06833007589708862, 1.6950927450417739, \"\", \"\", 0.040354117831748804, \"\", \"\", \"\", \"\", \"\", 0.8861607591337111, \"\", \"\", \"\", \"\", \"\", \"\", \"\", \"\", 1.9255881129062309, 1.274481152748377, \"\", \"\", 0.23941837688280618, \"\", 0.8714453494247203, 1.896342545156303, \"\", 1.0081502264143825, \"\", 1.8422614752240198, 0.4105668661295391, \"\", 1.5482627396775321, \"\", 2.0013729924519628, \"\", \"\", 0.6953819853890262, \"\", \"\", \"\", 0.5729929776335153, \"\", \"\", \"\", \"\", \"\", 1.8922024111406062, 0.7702826331452614, \"\", \"\", 0.10566260440669306, 1.0271322811846981, \"\", 0.5923650766806401, 1.149649573148363, 0.28213144843349625, \"\", 3.5265863672548363, \"\"], \"type\": \"scatter\", \"fill\": \"tozeroy\", \"line\": {\"dash\": \"solid\", \"width\": 0.5, \"color\": \"green\"}, \"name\": \"Spread\"}], {\"legend\": {\"font\": {\"color\": \"#666666\"}, \"bgcolor\": \"#FFFFFF\"}, \"titlefont\": {\"color\": \"#151516\"}, \"xaxis1\": {\"titlefont\": {\"color\": \"#666666\"}, \"zerolinecolor\": \"#F6F6F6\", \"title\": \"\", \"tickfont\": {\"color\": \"#666666\"}, \"showgrid\": true, \"gridcolor\": \"#F6F6F6\"}, \"paper_bgcolor\": \"#FFFFFF\", \"yaxis2\": {\"titlefont\": {\"color\": \"#666666\"}, \"zerolinecolor\": \"#F6F6F6\", \"title\": \"Spread\", \"tickfont\": {\"color\": \"#666666\"}, \"showgrid\": true, \"domain\": [0, 0.25], \"gridcolor\": \"#F6F6F6\"}, \"plot_bgcolor\": \"#E5E5E5\", \"hovermode\": \"x\", \"xaxis2\": {\"titlefont\": {\"color\": \"#666666\"}, \"zerolinecolor\": \"#F6F6F6\", \"showgrid\": true, \"title\": \"\", \"anchor\": \"y2\", \"tickfont\": {\"color\": \"#666666\"}, \"showticklabels\": false, \"gridcolor\": \"#F6F6F6\"}, \"yaxis1\": {\"titlefont\": {\"color\": \"#666666\"}, \"zerolinecolor\": \"#F6F6F6\", \"title\": \"\", \"tickfont\": {\"color\": \"#666666\"}, \"showgrid\": true, \"domain\": [0.3, 1], \"gridcolor\": \"#F6F6F6\"}}, {\"showLink\": true, \"linkText\": \"Export to plot.ly\"})});</script>"
            ],
            "text/plain": [
              "<IPython.core.display.HTML object>"
            ]
          },
          "metadata": {
            "tags": []
          }
        }
      ]
    },
    {
      "cell_type": "markdown",
      "metadata": {
        "id": "3X2-1CyzNksz",
        "colab_type": "text"
      },
      "source": [
        "## histogram"
      ]
    },
    {
      "cell_type": "code",
      "metadata": {
        "id": "OI4YAQ_HNks1",
        "colab_type": "code",
        "colab": {},
        "outputId": "757fbdf4-00a9-403e-81a9-e3f0b7437db0"
      },
      "source": [
        "df['A'].iplot(kind='hist',bins=25)"
      ],
      "execution_count": 0,
      "outputs": [
        {
          "output_type": "display_data",
          "data": {
            "text/html": [
              "<div id=\"be69ae84-c3c4-4776-a0e8-f44c59817e90\" style=\"height: 525px; width: 100%;\" class=\"plotly-graph-div\"></div><script type=\"text/javascript\">require([\"plotly\"], function(Plotly) { window.PLOTLYENV=window.PLOTLYENV || {};window.PLOTLYENV.BASE_URL=\"https://plot.ly\";Plotly.newPlot(\"be69ae84-c3c4-4776-a0e8-f44c59817e90\", [{\"x\": [1.8787246669561561, 0.028733616663923985, -0.1587931161277573, -1.2219723462024636, 1.2531523973363488, 0.8312132082951045, 1.1740170898586173, -0.24393002059589958, -0.296966543277261, 0.7621695759158762, 0.04210347865555278, -0.7791970481917073, 0.3943032396655093, -1.0146190736152443, -0.4841710096782867, 0.5522466668361006, -2.77187556758784, -0.5181226698708166, -0.49722040792422156, -1.6534757596659548, -0.06027439377033132, 1.4769243769038323, 1.1796346669498379, -0.7816898015019265, 0.8630132212967984, 0.6590246731638996, -1.1013906677685679, -0.9446804895542242, -1.788022470413331, 0.8775002821729455, 0.3546715768521251, -0.16532125735222183, 1.8914747239632839, -1.1251772915449791, 0.8888981026894395, -0.6066117727706714, 0.8314777742724779, 0.3830457069359529, -0.937459527593053, -0.844561047334305, 1.1280232245052606, -1.640427972598561, 0.8971269652786067, 0.4848047458342485, 0.19373507090654035, -0.7387091317560727, -0.3566733282792827, -0.43158335134818315, -0.4899640124314907, 0.5488715658495908, 0.2821768987731658, -0.8832439438038343, 1.271863067044618, 0.10680856505919414, 0.8269478103679717, -0.03266751467505833, -0.34021520002722894, -0.6769186069469743, 0.7126188256918854, 1.8871150025438166, -0.06742662656190869, -1.4789736197389265, 0.346978601690099, -0.3757389938313092, 0.715285859520045, 1.5994858611908638, -0.3692558358591885, 0.13827360227735647, -0.40690530542342296, 0.636973800943974, 0.14658752987818605, -0.3949906255692418, 1.5076392623927681, -0.15486042602397807, 0.22159940179664614, -1.0878244818277978, -0.03354417910293162, 1.2258839316932069, -0.048951028800266715, -1.1089870994157809, 0.021452684803338333, 1.2548854256528554, -1.0913797662237141, -0.539059741192553, 0.6901269187662552, -1.4810451728120602, -0.8468654201203714, 0.3763927872506507, 0.8120568488462931, 0.0031767062628090745, 0.697742291538818, -0.7429703118062226, -0.842231117346612, -0.0666718362166121, 1.8829720647783421, 1.320112956074407, 0.42394324402947475, 0.466299928509142, 0.9415282138953815, -0.7707938096473991], \"orientation\": \"v\", \"name\": \"A\", \"opacity\": 0.8, \"histfunc\": \"count\", \"type\": \"histogram\", \"histnorm\": \"\", \"nbinsx\": 25, \"marker\": {\"line\": {\"width\": 1.3, \"color\": \"#D9D9D9\"}, \"color\": \"rgba(226, 74, 51, 1.0)\"}}], {\"legend\": {\"font\": {\"color\": \"#666666\"}, \"bgcolor\": \"#FFFFFF\"}, \"titlefont\": {\"color\": \"#151516\"}, \"xaxis1\": {\"titlefont\": {\"color\": \"#666666\"}, \"zerolinecolor\": \"#F6F6F6\", \"title\": \"\", \"tickfont\": {\"color\": \"#666666\"}, \"showgrid\": true, \"gridcolor\": \"#F6F6F6\"}, \"paper_bgcolor\": \"#FFFFFF\", \"barmode\": \"overlay\", \"plot_bgcolor\": \"#E5E5E5\", \"yaxis1\": {\"titlefont\": {\"color\": \"#666666\"}, \"zerolinecolor\": \"#F6F6F6\", \"title\": \"\", \"tickfont\": {\"color\": \"#666666\"}, \"showgrid\": true, \"gridcolor\": \"#F6F6F6\"}}, {\"showLink\": true, \"linkText\": \"Export to plot.ly\"})});</script>"
            ],
            "text/plain": [
              "<IPython.core.display.HTML object>"
            ]
          },
          "metadata": {
            "tags": []
          }
        }
      ]
    },
    {
      "cell_type": "code",
      "metadata": {
        "id": "x0No9bwaNks6",
        "colab_type": "code",
        "colab": {},
        "outputId": "585ba3e2-9f5e-491c-806a-8cddf341996c"
      },
      "source": [
        "df.iplot(kind='bubble',x='A',y='B',size='C')"
      ],
      "execution_count": 0,
      "outputs": [
        {
          "output_type": "display_data",
          "data": {
            "text/html": [
              "<div id=\"e508143e-bcba-4c40-9488-bfdc4040e078\" style=\"height: 525px; width: 100%;\" class=\"plotly-graph-div\"></div><script type=\"text/javascript\">require([\"plotly\"], function(Plotly) { window.PLOTLYENV=window.PLOTLYENV || {};window.PLOTLYENV.BASE_URL=\"https://plot.ly\";Plotly.newPlot(\"e508143e-bcba-4c40-9488-bfdc4040e078\", [{\"mode\": \"markers\", \"text\": \"\", \"y\": [0.6887194376286498, 0.1040535242504629, 0.38792642015276635, 1.3934230260395444, -0.5375976688704683, -1.1493608786796612, 0.01342890849383506, -0.47231861415738574, 0.24793169472844812, -0.6232083144122951, -1.2121596694710122, -2.4542371001007464, 0.29855785553142483, 1.2997620162676498, 0.9168047366909585, -0.41040614900130634, 1.3147531456519106, -0.12455263569370086, 0.9366143523054554, 0.23573463729990726, -0.8244746170540388, -0.32685668230128845, 1.501781503113865, 0.9830012153240587, 0.6020112305361386, 0.3688304138086671, 1.0090827131320237, -0.5811720111587422, 0.0512884505619472, -1.6917643070157176, -0.25322144257612356, -0.2937357494665306, 0.7368726362448421, 0.5763424997076779, 0.16472110066593693, -0.374254076023172, 1.1280304809680426, 0.6455371548668151, -0.18000225503004413, -0.9128911232313937, -0.5670695205365133, 0.16138491502455474, 1.2118733837294762, 0.4444506280024997, 0.6834767601409083, 1.8020727241195935, 2.4230878273709062, 0.27701889696287213, 1.4067122280705426, -0.33728919328412016, 0.5154870435338148, 0.7751019637809062, 1.400130435077449, 0.8276591566099151, 1.1268119555303864, 0.7016118169589718, 0.476169530704683, -0.5261125753709399, -1.2129692872143456, 0.6126338497954396, 1.5825905557818922, -0.8173630045970658, 0.1075602248072928, 1.2716988894407462, -0.15615948990467535, -0.2968566839654392, 1.7204934641303604, -0.869876624137026, 0.28935077735906545, -1.2052876742800458, -0.263979336251353, -0.02815365780209253, -0.04062347728476395, 0.943760296027789, -1.7797735906553165, 0.4485755919087686, 0.14778332986993048, 0.5305019463041807, 1.6359913516932165, -0.3437427119285297, 1.9109783094330681, 0.6818924480193401, -0.42214824562337705, 0.8935317581184008, 1.2587495288352297, -0.5992845246668753, 2.7851237345776405, -1.5158096238899554, 0.04177421570103183, 0.48980398157362903, 1.063643861677667, -0.8486329162129157, -1.86936339853131, 0.24761777046722996, 1.290606988097702, 0.17046338292604407, 0.14181179559597848, 0.6505415244850333, -2.5850581533594545, -0.30813091794721653], \"x\": [1.8787246669561561, 0.028733616663923985, -0.1587931161277573, -1.2219723462024636, 1.2531523973363488, 0.8312132082951045, 1.1740170898586173, -0.24393002059589958, -0.296966543277261, 0.7621695759158762, 0.04210347865555278, -0.7791970481917073, 0.3943032396655093, -1.0146190736152443, -0.4841710096782867, 0.5522466668361006, -2.77187556758784, -0.5181226698708166, -0.49722040792422156, -1.6534757596659548, -0.06027439377033132, 1.4769243769038323, 1.1796346669498379, -0.7816898015019265, 0.8630132212967984, 0.6590246731638996, -1.1013906677685679, -0.9446804895542242, -1.788022470413331, 0.8775002821729455, 0.3546715768521251, -0.16532125735222183, 1.8914747239632839, -1.1251772915449791, 0.8888981026894395, -0.6066117727706714, 0.8314777742724779, 0.3830457069359529, -0.937459527593053, -0.844561047334305, 1.1280232245052606, -1.640427972598561, 0.8971269652786067, 0.4848047458342485, 0.19373507090654035, -0.7387091317560727, -0.3566733282792827, -0.43158335134818315, -0.4899640124314907, 0.5488715658495908, 0.2821768987731658, -0.8832439438038343, 1.271863067044618, 0.10680856505919414, 0.8269478103679717, -0.03266751467505833, -0.34021520002722894, -0.6769186069469743, 0.7126188256918854, 1.8871150025438166, -0.06742662656190869, -1.4789736197389265, 0.346978601690099, -0.3757389938313092, 0.715285859520045, 1.5994858611908638, -0.3692558358591885, 0.13827360227735647, -0.40690530542342296, 0.636973800943974, 0.14658752987818605, -0.3949906255692418, 1.5076392623927681, -0.15486042602397807, 0.22159940179664614, -1.0878244818277978, -0.03354417910293162, 1.2258839316932069, -0.048951028800266715, -1.1089870994157809, 0.021452684803338333, 1.2548854256528554, -1.0913797662237141, -0.539059741192553, 0.6901269187662552, -1.4810451728120602, -0.8468654201203714, 0.3763927872506507, 0.8120568488462931, 0.0031767062628090745, 0.697742291538818, -0.7429703118062226, -0.842231117346612, -0.0666718362166121, 1.8829720647783421, 1.320112956074407, 0.42394324402947475, 0.466299928509142, 0.9415282138953815, -0.7707938096473991], \"type\": \"scatter\", \"marker\": {\"size\": [90, 70, 57, 64, 75, 45, 79, 60, 101, 50, 41, 59, 68, 84, 87, 12, 62, 71, 75, 47, 64, 96, 63, 84, 80, 61, 54, 67, 83, 52, 81, 66, 72, 68, 86, 86, 74, 46, 88, 88, 74, 51, 66, 62, 79, 60, 27, 109, 80, 90, 64, 72, 50, 112, 67, 77, 84, 56, 54, 74, 94, 88, 64, 61, 44, 87, 109, 74, 86, 77, 75, 88, 77, 90, 96, 66, 52, 75, 77, 52, 37, 69, 49, 60, 77, 71, 55, 66, 78, 32, 40, 85, 69, 80, 61, 67, 67, 67, 56, 64], \"line\": {\"width\": 1.3}, \"color\": [\"rgb(226, 74, 51)\", \"rgb(226, 74, 51)\", \"rgb(226, 74, 51)\", \"rgb(226, 74, 51)\", \"rgb(226, 74, 51)\", \"rgb(226, 74, 51)\", \"rgb(226, 74, 51)\", \"rgb(226, 74, 51)\", \"rgb(226, 74, 51)\", \"rgb(226, 74, 51)\", \"rgb(226, 74, 51)\", \"rgb(226, 74, 51)\", \"rgb(226, 74, 51)\", \"rgb(226, 74, 51)\", \"rgb(226, 74, 51)\", \"rgb(226, 74, 51)\", \"rgb(226, 74, 51)\", \"rgb(226, 74, 51)\", \"rgb(226, 74, 51)\", \"rgb(226, 74, 51)\", \"rgb(226, 74, 51)\", \"rgb(226, 74, 51)\", \"rgb(226, 74, 51)\", \"rgb(226, 74, 51)\", \"rgb(226, 74, 51)\", \"rgb(226, 74, 51)\", \"rgb(226, 74, 51)\", \"rgb(226, 74, 51)\", \"rgb(226, 74, 51)\", \"rgb(226, 74, 51)\", \"rgb(226, 74, 51)\", \"rgb(226, 74, 51)\", \"rgb(226, 74, 51)\", \"rgb(226, 74, 51)\", \"rgb(226, 74, 51)\", \"rgb(226, 74, 51)\", \"rgb(226, 74, 51)\", \"rgb(226, 74, 51)\", \"rgb(226, 74, 51)\", \"rgb(226, 74, 51)\", \"rgb(226, 74, 51)\", \"rgb(226, 74, 51)\", \"rgb(226, 74, 51)\", \"rgb(226, 74, 51)\", \"rgb(226, 74, 51)\", \"rgb(226, 74, 51)\", \"rgb(226, 74, 51)\", \"rgb(226, 74, 51)\", \"rgb(226, 74, 51)\", \"rgb(226, 74, 51)\", \"rgb(226, 74, 51)\", \"rgb(226, 74, 51)\", \"rgb(226, 74, 51)\", \"rgb(226, 74, 51)\", \"rgb(226, 74, 51)\", \"rgb(226, 74, 51)\", \"rgb(226, 74, 51)\", \"rgb(226, 74, 51)\", \"rgb(226, 74, 51)\", \"rgb(226, 74, 51)\", \"rgb(226, 74, 51)\", \"rgb(226, 74, 51)\", \"rgb(226, 74, 51)\", \"rgb(226, 74, 51)\", \"rgb(226, 74, 51)\", \"rgb(226, 74, 51)\", \"rgb(226, 74, 51)\", \"rgb(226, 74, 51)\", \"rgb(226, 74, 51)\", \"rgb(226, 74, 51)\", \"rgb(226, 74, 51)\", \"rgb(226, 74, 51)\", \"rgb(226, 74, 51)\", \"rgb(226, 74, 51)\", \"rgb(226, 74, 51)\", \"rgb(226, 74, 51)\", \"rgb(226, 74, 51)\", \"rgb(226, 74, 51)\", \"rgb(226, 74, 51)\", \"rgb(226, 74, 51)\", \"rgb(226, 74, 51)\", \"rgb(226, 74, 51)\", \"rgb(226, 74, 51)\", \"rgb(226, 74, 51)\", \"rgb(226, 74, 51)\", \"rgb(226, 74, 51)\", \"rgb(226, 74, 51)\", \"rgb(226, 74, 51)\", \"rgb(226, 74, 51)\", \"rgb(226, 74, 51)\", \"rgb(226, 74, 51)\", \"rgb(226, 74, 51)\", \"rgb(226, 74, 51)\", \"rgb(226, 74, 51)\", \"rgb(226, 74, 51)\", \"rgb(226, 74, 51)\", \"rgb(226, 74, 51)\", \"rgb(226, 74, 51)\", \"rgb(226, 74, 51)\", \"rgb(226, 74, 51)\"], \"symbol\": \"dot\"}}], {\"legend\": {\"font\": {\"color\": \"#666666\"}, \"bgcolor\": \"#FFFFFF\"}, \"titlefont\": {\"color\": \"#151516\"}, \"xaxis1\": {\"titlefont\": {\"color\": \"#666666\"}, \"zerolinecolor\": \"#F6F6F6\", \"title\": \"\", \"tickfont\": {\"color\": \"#666666\"}, \"showgrid\": true, \"gridcolor\": \"#F6F6F6\"}, \"paper_bgcolor\": \"#FFFFFF\", \"plot_bgcolor\": \"#E5E5E5\", \"yaxis1\": {\"titlefont\": {\"color\": \"#666666\"}, \"zerolinecolor\": \"#F6F6F6\", \"title\": \"\", \"tickfont\": {\"color\": \"#666666\"}, \"showgrid\": true, \"gridcolor\": \"#F6F6F6\"}}, {\"showLink\": true, \"linkText\": \"Export to plot.ly\"})});</script>"
            ],
            "text/plain": [
              "<IPython.core.display.HTML object>"
            ]
          },
          "metadata": {
            "tags": []
          }
        }
      ]
    },
    {
      "cell_type": "markdown",
      "metadata": {
        "id": "9tpCVYTUNktB",
        "colab_type": "text"
      },
      "source": [
        "## scatter_matrix()\n",
        "\n",
        "Similar to sns.pairplot()"
      ]
    },
    {
      "cell_type": "code",
      "metadata": {
        "id": "HORJ4D_fNktG",
        "colab_type": "code",
        "colab": {},
        "outputId": "fbe4cf9e-1100-4057-d85b-18babe4163fc"
      },
      "source": [
        "df.scatter_matrix()"
      ],
      "execution_count": 0,
      "outputs": [
        {
          "output_type": "display_data",
          "data": {
            "text/html": [
              "<div id=\"86d216e5-0500-405c-9cd1-7e410922bc7b\" style=\"height: 525px; width: 100%;\" class=\"plotly-graph-div\"></div><script type=\"text/javascript\">require([\"plotly\"], function(Plotly) { window.PLOTLYENV=window.PLOTLYENV || {};window.PLOTLYENV.BASE_URL=\"https://plot.ly\";Plotly.newPlot(\"86d216e5-0500-405c-9cd1-7e410922bc7b\", [{\"yaxis\": \"y1\", \"x\": [1.8787246669561561, 0.028733616663923985, -0.1587931161277573, -1.2219723462024636, 1.2531523973363488, 0.8312132082951045, 1.1740170898586173, -0.24393002059589958, -0.296966543277261, 0.7621695759158762, 0.04210347865555278, -0.7791970481917073, 0.3943032396655093, -1.0146190736152443, -0.4841710096782867, 0.5522466668361006, -2.77187556758784, -0.5181226698708166, -0.49722040792422156, -1.6534757596659548, -0.06027439377033132, 1.4769243769038323, 1.1796346669498379, -0.7816898015019265, 0.8630132212967984, 0.6590246731638996, -1.1013906677685679, -0.9446804895542242, -1.788022470413331, 0.8775002821729455, 0.3546715768521251, -0.16532125735222183, 1.8914747239632839, -1.1251772915449791, 0.8888981026894395, -0.6066117727706714, 0.8314777742724779, 0.3830457069359529, -0.937459527593053, -0.844561047334305, 1.1280232245052606, -1.640427972598561, 0.8971269652786067, 0.4848047458342485, 0.19373507090654035, -0.7387091317560727, -0.3566733282792827, -0.43158335134818315, -0.4899640124314907, 0.5488715658495908, 0.2821768987731658, -0.8832439438038343, 1.271863067044618, 0.10680856505919414, 0.8269478103679717, -0.03266751467505833, -0.34021520002722894, -0.6769186069469743, 0.7126188256918854, 1.8871150025438166, -0.06742662656190869, -1.4789736197389265, 0.346978601690099, -0.3757389938313092, 0.715285859520045, 1.5994858611908638, -0.3692558358591885, 0.13827360227735647, -0.40690530542342296, 0.636973800943974, 0.14658752987818605, -0.3949906255692418, 1.5076392623927681, -0.15486042602397807, 0.22159940179664614, -1.0878244818277978, -0.03354417910293162, 1.2258839316932069, -0.048951028800266715, -1.1089870994157809, 0.021452684803338333, 1.2548854256528554, -1.0913797662237141, -0.539059741192553, 0.6901269187662552, -1.4810451728120602, -0.8468654201203714, 0.3763927872506507, 0.8120568488462931, 0.0031767062628090745, 0.697742291538818, -0.7429703118062226, -0.842231117346612, -0.0666718362166121, 1.8829720647783421, 1.320112956074407, 0.42394324402947475, 0.466299928509142, 0.9415282138953815, -0.7707938096473991], \"orientation\": \"v\", \"name\": \"A\", \"opacity\": 0.8, \"histfunc\": \"count\", \"type\": \"histogram\", \"histnorm\": \"\", \"nbinsx\": 10, \"marker\": {\"line\": {\"width\": 1.3, \"color\": \"#D9D9D9\"}, \"color\": \"rgba(226, 74, 51, 1.0)\"}, \"xaxis\": \"x1\"}, {\"yaxis\": \"y2\", \"mode\": \"markers\", \"text\": \"\", \"xaxis\": \"x2\", \"x\": [0.6887194376286498, 0.1040535242504629, 0.38792642015276635, 1.3934230260395444, -0.5375976688704683, -1.1493608786796612, 0.01342890849383506, -0.47231861415738574, 0.24793169472844812, -0.6232083144122951, -1.2121596694710122, -2.4542371001007464, 0.29855785553142483, 1.2997620162676498, 0.9168047366909585, -0.41040614900130634, 1.3147531456519106, -0.12455263569370086, 0.9366143523054554, 0.23573463729990726, -0.8244746170540388, -0.32685668230128845, 1.501781503113865, 0.9830012153240587, 0.6020112305361386, 0.3688304138086671, 1.0090827131320237, -0.5811720111587422, 0.0512884505619472, -1.6917643070157176, -0.25322144257612356, -0.2937357494665306, 0.7368726362448421, 0.5763424997076779, 0.16472110066593693, -0.374254076023172, 1.1280304809680426, 0.6455371548668151, -0.18000225503004413, -0.9128911232313937, -0.5670695205365133, 0.16138491502455474, 1.2118733837294762, 0.4444506280024997, 0.6834767601409083, 1.8020727241195935, 2.4230878273709062, 0.27701889696287213, 1.4067122280705426, -0.33728919328412016, 0.5154870435338148, 0.7751019637809062, 1.400130435077449, 0.8276591566099151, 1.1268119555303864, 0.7016118169589718, 0.476169530704683, -0.5261125753709399, -1.2129692872143456, 0.6126338497954396, 1.5825905557818922, -0.8173630045970658, 0.1075602248072928, 1.2716988894407462, -0.15615948990467535, -0.2968566839654392, 1.7204934641303604, -0.869876624137026, 0.28935077735906545, -1.2052876742800458, -0.263979336251353, -0.02815365780209253, -0.04062347728476395, 0.943760296027789, -1.7797735906553165, 0.4485755919087686, 0.14778332986993048, 0.5305019463041807, 1.6359913516932165, -0.3437427119285297, 1.9109783094330681, 0.6818924480193401, -0.42214824562337705, 0.8935317581184008, 1.2587495288352297, -0.5992845246668753, 2.7851237345776405, -1.5158096238899554, 0.04177421570103183, 0.48980398157362903, 1.063643861677667, -0.8486329162129157, -1.86936339853131, 0.24761777046722996, 1.290606988097702, 0.17046338292604407, 0.14181179559597848, 0.6505415244850333, -2.5850581533594545, -0.30813091794721653], \"y\": [1.8787246669561561, 0.028733616663923985, -0.1587931161277573, -1.2219723462024636, 1.2531523973363488, 0.8312132082951045, 1.1740170898586173, -0.24393002059589958, -0.296966543277261, 0.7621695759158762, 0.04210347865555278, -0.7791970481917073, 0.3943032396655093, -1.0146190736152443, -0.4841710096782867, 0.5522466668361006, -2.77187556758784, -0.5181226698708166, -0.49722040792422156, -1.6534757596659548, -0.06027439377033132, 1.4769243769038323, 1.1796346669498379, -0.7816898015019265, 0.8630132212967984, 0.6590246731638996, -1.1013906677685679, -0.9446804895542242, -1.788022470413331, 0.8775002821729455, 0.3546715768521251, -0.16532125735222183, 1.8914747239632839, -1.1251772915449791, 0.8888981026894395, -0.6066117727706714, 0.8314777742724779, 0.3830457069359529, -0.937459527593053, -0.844561047334305, 1.1280232245052606, -1.640427972598561, 0.8971269652786067, 0.4848047458342485, 0.19373507090654035, -0.7387091317560727, -0.3566733282792827, -0.43158335134818315, -0.4899640124314907, 0.5488715658495908, 0.2821768987731658, -0.8832439438038343, 1.271863067044618, 0.10680856505919414, 0.8269478103679717, -0.03266751467505833, -0.34021520002722894, -0.6769186069469743, 0.7126188256918854, 1.8871150025438166, -0.06742662656190869, -1.4789736197389265, 0.346978601690099, -0.3757389938313092, 0.715285859520045, 1.5994858611908638, -0.3692558358591885, 0.13827360227735647, -0.40690530542342296, 0.636973800943974, 0.14658752987818605, -0.3949906255692418, 1.5076392623927681, -0.15486042602397807, 0.22159940179664614, -1.0878244818277978, -0.03354417910293162, 1.2258839316932069, -0.048951028800266715, -1.1089870994157809, 0.021452684803338333, 1.2548854256528554, -1.0913797662237141, -0.539059741192553, 0.6901269187662552, -1.4810451728120602, -0.8468654201203714, 0.3763927872506507, 0.8120568488462931, 0.0031767062628090745, 0.697742291538818, -0.7429703118062226, -0.842231117346612, -0.0666718362166121, 1.8829720647783421, 1.320112956074407, 0.42394324402947475, 0.466299928509142, 0.9415282138953815, -0.7707938096473991], \"type\": \"scatter\", \"line\": {\"dash\": \"solid\", \"width\": 1.3, \"color\": \"rgba(128, 128, 128, 1.0)\"}, \"marker\": {\"size\": 2, \"symbol\": \"dot\"}, \"name\": \"A\"}, {\"yaxis\": \"y3\", \"mode\": \"markers\", \"text\": \"\", \"xaxis\": \"x3\", \"x\": [1.0667334168325768, 0.04817571551860875, -0.6353709157290994, -0.29979428249659507, 0.30291706303457033, -1.2658520234759039, 0.4984256330100474, -0.4813817437844393, 1.6528819231392327, -1.0387894611418347, -1.4866253379043493, -0.5281135473322252, -0.061645252730345844, 0.7876423965771268, 0.9285191892602837, -3.0483938246413547, -0.371184208418135, 0.11169331199774239, 0.30352330980386477, -1.1851393464396252, -0.3023997655692267, 1.4199893168847753, -0.332851303404407, 0.7955908630250091, 0.5869705278914006, -0.45090328668726354, -0.7814566611757896, -0.1261200409144497, 0.7060858452328673, -0.8894721878843294, 0.6064992291432117, -0.1963991863666514, 0.16697094643083513, -0.06591707111576753, 0.8961422265850149, 0.8939803073905991, 0.2526177880230376, -1.2523243277936627, 0.9749672569040144, 0.9687477057343876, 0.26351967435246515, -0.9517261189215155, -0.18707956459088698, -0.39391833601946274, 0.5273775265831957, -0.48180251718398176, -2.2230374431929953, 2.0999928572789828, 0.5496483529576708, 1.067298459209482, -0.3040289105606048, 0.1352094843666391, -0.9944404721270197, 2.2258275006902912, -0.11689955437978636, 0.41231462999024887, 0.7856039151273921, -0.6894731524779986, -0.8276899193670904, 0.23638272241448607, 1.3266743967632526, 0.9626096963262857, -0.28379390855690406, -0.417413711892243, -1.3341211120615861, 0.9298055489835776, 2.106720126861483, 0.23150307059926345, 0.8864836518334782, 0.4193977048083098, 0.3190869644200757, 0.9673541346062681, 0.42245148076732175, 1.0906377526894717, 1.3887188298690671, -0.19507483218944058, -0.9347090401182315, 0.30126885232107575, 0.42495072953595375, -0.9170212042816844, -1.6965969381460768, -0.011576471618042839, -1.0479065708976978, -0.4749222730814971, 0.4229046102099884, 0.08254929486846736, -0.7783883617548714, -0.17950878512595098, 0.4391940123110264, -1.9667304216807953, -1.5652802021531136, 0.8163770970520242, -0.008375093041838632, 0.5510487504106222, -0.4239325998518183, -0.1297116221823799, -0.10728910870450034, -0.12169367361116121, -0.6905111268638191, -0.2653540299125418], \"y\": [1.8787246669561561, 0.028733616663923985, -0.1587931161277573, -1.2219723462024636, 1.2531523973363488, 0.8312132082951045, 1.1740170898586173, -0.24393002059589958, -0.296966543277261, 0.7621695759158762, 0.04210347865555278, -0.7791970481917073, 0.3943032396655093, -1.0146190736152443, -0.4841710096782867, 0.5522466668361006, -2.77187556758784, -0.5181226698708166, -0.49722040792422156, -1.6534757596659548, -0.06027439377033132, 1.4769243769038323, 1.1796346669498379, -0.7816898015019265, 0.8630132212967984, 0.6590246731638996, -1.1013906677685679, -0.9446804895542242, -1.788022470413331, 0.8775002821729455, 0.3546715768521251, -0.16532125735222183, 1.8914747239632839, -1.1251772915449791, 0.8888981026894395, -0.6066117727706714, 0.8314777742724779, 0.3830457069359529, -0.937459527593053, -0.844561047334305, 1.1280232245052606, -1.640427972598561, 0.8971269652786067, 0.4848047458342485, 0.19373507090654035, -0.7387091317560727, -0.3566733282792827, -0.43158335134818315, -0.4899640124314907, 0.5488715658495908, 0.2821768987731658, -0.8832439438038343, 1.271863067044618, 0.10680856505919414, 0.8269478103679717, -0.03266751467505833, -0.34021520002722894, -0.6769186069469743, 0.7126188256918854, 1.8871150025438166, -0.06742662656190869, -1.4789736197389265, 0.346978601690099, -0.3757389938313092, 0.715285859520045, 1.5994858611908638, -0.3692558358591885, 0.13827360227735647, -0.40690530542342296, 0.636973800943974, 0.14658752987818605, -0.3949906255692418, 1.5076392623927681, -0.15486042602397807, 0.22159940179664614, -1.0878244818277978, -0.03354417910293162, 1.2258839316932069, -0.048951028800266715, -1.1089870994157809, 0.021452684803338333, 1.2548854256528554, -1.0913797662237141, -0.539059741192553, 0.6901269187662552, -1.4810451728120602, -0.8468654201203714, 0.3763927872506507, 0.8120568488462931, 0.0031767062628090745, 0.697742291538818, -0.7429703118062226, -0.842231117346612, -0.0666718362166121, 1.8829720647783421, 1.320112956074407, 0.42394324402947475, 0.466299928509142, 0.9415282138953815, -0.7707938096473991], \"type\": \"scatter\", \"line\": {\"dash\": \"solid\", \"width\": 1.3, \"color\": \"rgba(128, 128, 128, 1.0)\"}, \"marker\": {\"size\": 2, \"symbol\": \"dot\"}, \"name\": \"A\"}, {\"yaxis\": \"y4\", \"mode\": \"markers\", \"text\": \"\", \"xaxis\": \"x4\", \"x\": [0.5439560303056027, 1.8421879324257613, -0.6375584499267892, -1.113621595762316, -2.5460826344966634, -1.4694525849240658, 1.5284509091178395, -0.2389286047643509, -1.8771013496698048, 0.7967095179585106, -1.2751392945819797, -0.3919771719871495, 0.6960770780779357, 1.0829877919884603, -0.21798245190329507, 0.10031667681839129, 0.39551692710003933, 0.03022462233656908, -0.3327329523770193, -0.204819010502919, -0.498599044144297, -2.287561059130041, -0.2626249290420713, -2.7487145066091996, -0.666926270349069, -2.0379098459994895, 0.4076679798231559, 1.2245324594636484, -2.0903293143661017, 0.5730523735386692, -0.8155129116660126, -0.9572874252328925, 0.2646752398006613, -1.59152570791709, 0.0934028853207141, -2.602771223170992, 0.560010384592385, 0.449602390416327, -0.005796794476065169, 0.1829347250578045, -0.5607194705468903, -1.1999112237192675, -1.5750218946994066, 0.9111111432091317, -0.2530599561069696, -0.5460310452823662, -0.2531538203527998, 1.5968736605431069, 1.723507060923573, 0.38763182009739877, -1.5443680470309729, 1.2505835233573588, 0.0032375885699842803, 0.3870066878402003, -0.32906689091979147, 0.3856397258220775, -0.1654479720586817, 0.2232842423247386, -0.4418766853437538, -0.6751906059090874, -1.6521803078301385, 0.8305325757578166, 0.6577807720682736, -1.2851830040136305, 0.5089005765755124, 0.5962021316815027, 0.9573351203673642, -1.7458475655160375, -1.7131000048598244, 1.5732405203322046, -0.6605298861077683, -1.3437487967599893, 1.9772828633357302, -0.2856844646078326, 0.19293980157348012, 0.1628250911198371, 0.4208217295167736, 0.5627226183638288, -1.058090429960864, -1.3589615830656872, 2.138807050366944, 0.885718335515041, 0.8374040360650308, 0.49834346725709405, -1.3963572343750588, 2.2245606506923625, 0.19641383189506273, -0.3435398382353588, 0.7215114388529363, -0.8327583822270256, -2.039974975731211, 1.2859290252046311, -1.1577060578657161, 0.36795754346511866, 0.970791311065794, 0.496204293102698, -0.05627542841788665, 0.10113620396598295, 0.7547476274222054, 0.15433234934660506], \"y\": [1.8787246669561561, 0.028733616663923985, -0.1587931161277573, -1.2219723462024636, 1.2531523973363488, 0.8312132082951045, 1.1740170898586173, -0.24393002059589958, -0.296966543277261, 0.7621695759158762, 0.04210347865555278, -0.7791970481917073, 0.3943032396655093, -1.0146190736152443, -0.4841710096782867, 0.5522466668361006, -2.77187556758784, -0.5181226698708166, -0.49722040792422156, -1.6534757596659548, -0.06027439377033132, 1.4769243769038323, 1.1796346669498379, -0.7816898015019265, 0.8630132212967984, 0.6590246731638996, -1.1013906677685679, -0.9446804895542242, -1.788022470413331, 0.8775002821729455, 0.3546715768521251, -0.16532125735222183, 1.8914747239632839, -1.1251772915449791, 0.8888981026894395, -0.6066117727706714, 0.8314777742724779, 0.3830457069359529, -0.937459527593053, -0.844561047334305, 1.1280232245052606, -1.640427972598561, 0.8971269652786067, 0.4848047458342485, 0.19373507090654035, -0.7387091317560727, -0.3566733282792827, -0.43158335134818315, -0.4899640124314907, 0.5488715658495908, 0.2821768987731658, -0.8832439438038343, 1.271863067044618, 0.10680856505919414, 0.8269478103679717, -0.03266751467505833, -0.34021520002722894, -0.6769186069469743, 0.7126188256918854, 1.8871150025438166, -0.06742662656190869, -1.4789736197389265, 0.346978601690099, -0.3757389938313092, 0.715285859520045, 1.5994858611908638, -0.3692558358591885, 0.13827360227735647, -0.40690530542342296, 0.636973800943974, 0.14658752987818605, -0.3949906255692418, 1.5076392623927681, -0.15486042602397807, 0.22159940179664614, -1.0878244818277978, -0.03354417910293162, 1.2258839316932069, -0.048951028800266715, -1.1089870994157809, 0.021452684803338333, 1.2548854256528554, -1.0913797662237141, -0.539059741192553, 0.6901269187662552, -1.4810451728120602, -0.8468654201203714, 0.3763927872506507, 0.8120568488462931, 0.0031767062628090745, 0.697742291538818, -0.7429703118062226, -0.842231117346612, -0.0666718362166121, 1.8829720647783421, 1.320112956074407, 0.42394324402947475, 0.466299928509142, 0.9415282138953815, -0.7707938096473991], \"type\": \"scatter\", \"line\": {\"dash\": \"solid\", \"width\": 1.3, \"color\": \"rgba(128, 128, 128, 1.0)\"}, \"marker\": {\"size\": 2, \"symbol\": \"dot\"}, \"name\": \"A\"}, {\"yaxis\": \"y5\", \"mode\": \"markers\", \"text\": \"\", \"xaxis\": \"x5\", \"x\": [1.8787246669561561, 0.028733616663923985, -0.1587931161277573, -1.2219723462024636, 1.2531523973363488, 0.8312132082951045, 1.1740170898586173, -0.24393002059589958, -0.296966543277261, 0.7621695759158762, 0.04210347865555278, -0.7791970481917073, 0.3943032396655093, -1.0146190736152443, -0.4841710096782867, 0.5522466668361006, -2.77187556758784, -0.5181226698708166, -0.49722040792422156, -1.6534757596659548, -0.06027439377033132, 1.4769243769038323, 1.1796346669498379, -0.7816898015019265, 0.8630132212967984, 0.6590246731638996, -1.1013906677685679, -0.9446804895542242, -1.788022470413331, 0.8775002821729455, 0.3546715768521251, -0.16532125735222183, 1.8914747239632839, -1.1251772915449791, 0.8888981026894395, -0.6066117727706714, 0.8314777742724779, 0.3830457069359529, -0.937459527593053, -0.844561047334305, 1.1280232245052606, -1.640427972598561, 0.8971269652786067, 0.4848047458342485, 0.19373507090654035, -0.7387091317560727, -0.3566733282792827, -0.43158335134818315, -0.4899640124314907, 0.5488715658495908, 0.2821768987731658, -0.8832439438038343, 1.271863067044618, 0.10680856505919414, 0.8269478103679717, -0.03266751467505833, -0.34021520002722894, -0.6769186069469743, 0.7126188256918854, 1.8871150025438166, -0.06742662656190869, -1.4789736197389265, 0.346978601690099, -0.3757389938313092, 0.715285859520045, 1.5994858611908638, -0.3692558358591885, 0.13827360227735647, -0.40690530542342296, 0.636973800943974, 0.14658752987818605, -0.3949906255692418, 1.5076392623927681, -0.15486042602397807, 0.22159940179664614, -1.0878244818277978, -0.03354417910293162, 1.2258839316932069, -0.048951028800266715, -1.1089870994157809, 0.021452684803338333, 1.2548854256528554, -1.0913797662237141, -0.539059741192553, 0.6901269187662552, -1.4810451728120602, -0.8468654201203714, 0.3763927872506507, 0.8120568488462931, 0.0031767062628090745, 0.697742291538818, -0.7429703118062226, -0.842231117346612, -0.0666718362166121, 1.8829720647783421, 1.320112956074407, 0.42394324402947475, 0.466299928509142, 0.9415282138953815, -0.7707938096473991], \"y\": [0.6887194376286498, 0.1040535242504629, 0.38792642015276635, 1.3934230260395444, -0.5375976688704683, -1.1493608786796612, 0.01342890849383506, -0.47231861415738574, 0.24793169472844812, -0.6232083144122951, -1.2121596694710122, -2.4542371001007464, 0.29855785553142483, 1.2997620162676498, 0.9168047366909585, -0.41040614900130634, 1.3147531456519106, -0.12455263569370086, 0.9366143523054554, 0.23573463729990726, -0.8244746170540388, -0.32685668230128845, 1.501781503113865, 0.9830012153240587, 0.6020112305361386, 0.3688304138086671, 1.0090827131320237, -0.5811720111587422, 0.0512884505619472, -1.6917643070157176, -0.25322144257612356, -0.2937357494665306, 0.7368726362448421, 0.5763424997076779, 0.16472110066593693, -0.374254076023172, 1.1280304809680426, 0.6455371548668151, -0.18000225503004413, -0.9128911232313937, -0.5670695205365133, 0.16138491502455474, 1.2118733837294762, 0.4444506280024997, 0.6834767601409083, 1.8020727241195935, 2.4230878273709062, 0.27701889696287213, 1.4067122280705426, -0.33728919328412016, 0.5154870435338148, 0.7751019637809062, 1.400130435077449, 0.8276591566099151, 1.1268119555303864, 0.7016118169589718, 0.476169530704683, -0.5261125753709399, -1.2129692872143456, 0.6126338497954396, 1.5825905557818922, -0.8173630045970658, 0.1075602248072928, 1.2716988894407462, -0.15615948990467535, -0.2968566839654392, 1.7204934641303604, -0.869876624137026, 0.28935077735906545, -1.2052876742800458, -0.263979336251353, -0.02815365780209253, -0.04062347728476395, 0.943760296027789, -1.7797735906553165, 0.4485755919087686, 0.14778332986993048, 0.5305019463041807, 1.6359913516932165, -0.3437427119285297, 1.9109783094330681, 0.6818924480193401, -0.42214824562337705, 0.8935317581184008, 1.2587495288352297, -0.5992845246668753, 2.7851237345776405, -1.5158096238899554, 0.04177421570103183, 0.48980398157362903, 1.063643861677667, -0.8486329162129157, -1.86936339853131, 0.24761777046722996, 1.290606988097702, 0.17046338292604407, 0.14181179559597848, 0.6505415244850333, -2.5850581533594545, -0.30813091794721653], \"type\": \"scatter\", \"line\": {\"dash\": \"solid\", \"width\": 1.3, \"color\": \"rgba(128, 128, 128, 1.0)\"}, \"marker\": {\"size\": 2, \"symbol\": \"dot\"}, \"name\": \"B\"}, {\"yaxis\": \"y6\", \"x\": [0.6887194376286498, 0.1040535242504629, 0.38792642015276635, 1.3934230260395444, -0.5375976688704683, -1.1493608786796612, 0.01342890849383506, -0.47231861415738574, 0.24793169472844812, -0.6232083144122951, -1.2121596694710122, -2.4542371001007464, 0.29855785553142483, 1.2997620162676498, 0.9168047366909585, -0.41040614900130634, 1.3147531456519106, -0.12455263569370086, 0.9366143523054554, 0.23573463729990726, -0.8244746170540388, -0.32685668230128845, 1.501781503113865, 0.9830012153240587, 0.6020112305361386, 0.3688304138086671, 1.0090827131320237, -0.5811720111587422, 0.0512884505619472, -1.6917643070157176, -0.25322144257612356, -0.2937357494665306, 0.7368726362448421, 0.5763424997076779, 0.16472110066593693, -0.374254076023172, 1.1280304809680426, 0.6455371548668151, -0.18000225503004413, -0.9128911232313937, -0.5670695205365133, 0.16138491502455474, 1.2118733837294762, 0.4444506280024997, 0.6834767601409083, 1.8020727241195935, 2.4230878273709062, 0.27701889696287213, 1.4067122280705426, -0.33728919328412016, 0.5154870435338148, 0.7751019637809062, 1.400130435077449, 0.8276591566099151, 1.1268119555303864, 0.7016118169589718, 0.476169530704683, -0.5261125753709399, -1.2129692872143456, 0.6126338497954396, 1.5825905557818922, -0.8173630045970658, 0.1075602248072928, 1.2716988894407462, -0.15615948990467535, -0.2968566839654392, 1.7204934641303604, -0.869876624137026, 0.28935077735906545, -1.2052876742800458, -0.263979336251353, -0.02815365780209253, -0.04062347728476395, 0.943760296027789, -1.7797735906553165, 0.4485755919087686, 0.14778332986993048, 0.5305019463041807, 1.6359913516932165, -0.3437427119285297, 1.9109783094330681, 0.6818924480193401, -0.42214824562337705, 0.8935317581184008, 1.2587495288352297, -0.5992845246668753, 2.7851237345776405, -1.5158096238899554, 0.04177421570103183, 0.48980398157362903, 1.063643861677667, -0.8486329162129157, -1.86936339853131, 0.24761777046722996, 1.290606988097702, 0.17046338292604407, 0.14181179559597848, 0.6505415244850333, -2.5850581533594545, -0.30813091794721653], \"orientation\": \"v\", \"name\": \"B\", \"opacity\": 0.8, \"histfunc\": \"count\", \"type\": \"histogram\", \"histnorm\": \"\", \"nbinsx\": 10, \"marker\": {\"line\": {\"width\": 1.3, \"color\": \"#D9D9D9\"}, \"color\": \"rgba(62, 111, 176, 1.0)\"}, \"xaxis\": \"x6\"}, {\"yaxis\": \"y7\", \"mode\": \"markers\", \"text\": \"\", \"xaxis\": \"x7\", \"x\": [1.0667334168325768, 0.04817571551860875, -0.6353709157290994, -0.29979428249659507, 0.30291706303457033, -1.2658520234759039, 0.4984256330100474, -0.4813817437844393, 1.6528819231392327, -1.0387894611418347, -1.4866253379043493, -0.5281135473322252, -0.061645252730345844, 0.7876423965771268, 0.9285191892602837, -3.0483938246413547, -0.371184208418135, 0.11169331199774239, 0.30352330980386477, -1.1851393464396252, -0.3023997655692267, 1.4199893168847753, -0.332851303404407, 0.7955908630250091, 0.5869705278914006, -0.45090328668726354, -0.7814566611757896, -0.1261200409144497, 0.7060858452328673, -0.8894721878843294, 0.6064992291432117, -0.1963991863666514, 0.16697094643083513, -0.06591707111576753, 0.8961422265850149, 0.8939803073905991, 0.2526177880230376, -1.2523243277936627, 0.9749672569040144, 0.9687477057343876, 0.26351967435246515, -0.9517261189215155, -0.18707956459088698, -0.39391833601946274, 0.5273775265831957, -0.48180251718398176, -2.2230374431929953, 2.0999928572789828, 0.5496483529576708, 1.067298459209482, -0.3040289105606048, 0.1352094843666391, -0.9944404721270197, 2.2258275006902912, -0.11689955437978636, 0.41231462999024887, 0.7856039151273921, -0.6894731524779986, -0.8276899193670904, 0.23638272241448607, 1.3266743967632526, 0.9626096963262857, -0.28379390855690406, -0.417413711892243, -1.3341211120615861, 0.9298055489835776, 2.106720126861483, 0.23150307059926345, 0.8864836518334782, 0.4193977048083098, 0.3190869644200757, 0.9673541346062681, 0.42245148076732175, 1.0906377526894717, 1.3887188298690671, -0.19507483218944058, -0.9347090401182315, 0.30126885232107575, 0.42495072953595375, -0.9170212042816844, -1.6965969381460768, -0.011576471618042839, -1.0479065708976978, -0.4749222730814971, 0.4229046102099884, 0.08254929486846736, -0.7783883617548714, -0.17950878512595098, 0.4391940123110264, -1.9667304216807953, -1.5652802021531136, 0.8163770970520242, -0.008375093041838632, 0.5510487504106222, -0.4239325998518183, -0.1297116221823799, -0.10728910870450034, -0.12169367361116121, -0.6905111268638191, -0.2653540299125418], \"y\": [0.6887194376286498, 0.1040535242504629, 0.38792642015276635, 1.3934230260395444, -0.5375976688704683, -1.1493608786796612, 0.01342890849383506, -0.47231861415738574, 0.24793169472844812, -0.6232083144122951, -1.2121596694710122, -2.4542371001007464, 0.29855785553142483, 1.2997620162676498, 0.9168047366909585, -0.41040614900130634, 1.3147531456519106, -0.12455263569370086, 0.9366143523054554, 0.23573463729990726, -0.8244746170540388, -0.32685668230128845, 1.501781503113865, 0.9830012153240587, 0.6020112305361386, 0.3688304138086671, 1.0090827131320237, -0.5811720111587422, 0.0512884505619472, -1.6917643070157176, -0.25322144257612356, -0.2937357494665306, 0.7368726362448421, 0.5763424997076779, 0.16472110066593693, -0.374254076023172, 1.1280304809680426, 0.6455371548668151, -0.18000225503004413, -0.9128911232313937, -0.5670695205365133, 0.16138491502455474, 1.2118733837294762, 0.4444506280024997, 0.6834767601409083, 1.8020727241195935, 2.4230878273709062, 0.27701889696287213, 1.4067122280705426, -0.33728919328412016, 0.5154870435338148, 0.7751019637809062, 1.400130435077449, 0.8276591566099151, 1.1268119555303864, 0.7016118169589718, 0.476169530704683, -0.5261125753709399, -1.2129692872143456, 0.6126338497954396, 1.5825905557818922, -0.8173630045970658, 0.1075602248072928, 1.2716988894407462, -0.15615948990467535, -0.2968566839654392, 1.7204934641303604, -0.869876624137026, 0.28935077735906545, -1.2052876742800458, -0.263979336251353, -0.02815365780209253, -0.04062347728476395, 0.943760296027789, -1.7797735906553165, 0.4485755919087686, 0.14778332986993048, 0.5305019463041807, 1.6359913516932165, -0.3437427119285297, 1.9109783094330681, 0.6818924480193401, -0.42214824562337705, 0.8935317581184008, 1.2587495288352297, -0.5992845246668753, 2.7851237345776405, -1.5158096238899554, 0.04177421570103183, 0.48980398157362903, 1.063643861677667, -0.8486329162129157, -1.86936339853131, 0.24761777046722996, 1.290606988097702, 0.17046338292604407, 0.14181179559597848, 0.6505415244850333, -2.5850581533594545, -0.30813091794721653], \"type\": \"scatter\", \"line\": {\"dash\": \"solid\", \"width\": 1.3, \"color\": \"rgba(128, 128, 128, 1.0)\"}, \"marker\": {\"size\": 2, \"symbol\": \"dot\"}, \"name\": \"B\"}, {\"yaxis\": \"y8\", \"mode\": \"markers\", \"text\": \"\", \"xaxis\": \"x8\", \"x\": [0.5439560303056027, 1.8421879324257613, -0.6375584499267892, -1.113621595762316, -2.5460826344966634, -1.4694525849240658, 1.5284509091178395, -0.2389286047643509, -1.8771013496698048, 0.7967095179585106, -1.2751392945819797, -0.3919771719871495, 0.6960770780779357, 1.0829877919884603, -0.21798245190329507, 0.10031667681839129, 0.39551692710003933, 0.03022462233656908, -0.3327329523770193, -0.204819010502919, -0.498599044144297, -2.287561059130041, -0.2626249290420713, -2.7487145066091996, -0.666926270349069, -2.0379098459994895, 0.4076679798231559, 1.2245324594636484, -2.0903293143661017, 0.5730523735386692, -0.8155129116660126, -0.9572874252328925, 0.2646752398006613, -1.59152570791709, 0.0934028853207141, -2.602771223170992, 0.560010384592385, 0.449602390416327, -0.005796794476065169, 0.1829347250578045, -0.5607194705468903, -1.1999112237192675, -1.5750218946994066, 0.9111111432091317, -0.2530599561069696, -0.5460310452823662, -0.2531538203527998, 1.5968736605431069, 1.723507060923573, 0.38763182009739877, -1.5443680470309729, 1.2505835233573588, 0.0032375885699842803, 0.3870066878402003, -0.32906689091979147, 0.3856397258220775, -0.1654479720586817, 0.2232842423247386, -0.4418766853437538, -0.6751906059090874, -1.6521803078301385, 0.8305325757578166, 0.6577807720682736, -1.2851830040136305, 0.5089005765755124, 0.5962021316815027, 0.9573351203673642, -1.7458475655160375, -1.7131000048598244, 1.5732405203322046, -0.6605298861077683, -1.3437487967599893, 1.9772828633357302, -0.2856844646078326, 0.19293980157348012, 0.1628250911198371, 0.4208217295167736, 0.5627226183638288, -1.058090429960864, -1.3589615830656872, 2.138807050366944, 0.885718335515041, 0.8374040360650308, 0.49834346725709405, -1.3963572343750588, 2.2245606506923625, 0.19641383189506273, -0.3435398382353588, 0.7215114388529363, -0.8327583822270256, -2.039974975731211, 1.2859290252046311, -1.1577060578657161, 0.36795754346511866, 0.970791311065794, 0.496204293102698, -0.05627542841788665, 0.10113620396598295, 0.7547476274222054, 0.15433234934660506], \"y\": [0.6887194376286498, 0.1040535242504629, 0.38792642015276635, 1.3934230260395444, -0.5375976688704683, -1.1493608786796612, 0.01342890849383506, -0.47231861415738574, 0.24793169472844812, -0.6232083144122951, -1.2121596694710122, -2.4542371001007464, 0.29855785553142483, 1.2997620162676498, 0.9168047366909585, -0.41040614900130634, 1.3147531456519106, -0.12455263569370086, 0.9366143523054554, 0.23573463729990726, -0.8244746170540388, -0.32685668230128845, 1.501781503113865, 0.9830012153240587, 0.6020112305361386, 0.3688304138086671, 1.0090827131320237, -0.5811720111587422, 0.0512884505619472, -1.6917643070157176, -0.25322144257612356, -0.2937357494665306, 0.7368726362448421, 0.5763424997076779, 0.16472110066593693, -0.374254076023172, 1.1280304809680426, 0.6455371548668151, -0.18000225503004413, -0.9128911232313937, -0.5670695205365133, 0.16138491502455474, 1.2118733837294762, 0.4444506280024997, 0.6834767601409083, 1.8020727241195935, 2.4230878273709062, 0.27701889696287213, 1.4067122280705426, -0.33728919328412016, 0.5154870435338148, 0.7751019637809062, 1.400130435077449, 0.8276591566099151, 1.1268119555303864, 0.7016118169589718, 0.476169530704683, -0.5261125753709399, -1.2129692872143456, 0.6126338497954396, 1.5825905557818922, -0.8173630045970658, 0.1075602248072928, 1.2716988894407462, -0.15615948990467535, -0.2968566839654392, 1.7204934641303604, -0.869876624137026, 0.28935077735906545, -1.2052876742800458, -0.263979336251353, -0.02815365780209253, -0.04062347728476395, 0.943760296027789, -1.7797735906553165, 0.4485755919087686, 0.14778332986993048, 0.5305019463041807, 1.6359913516932165, -0.3437427119285297, 1.9109783094330681, 0.6818924480193401, -0.42214824562337705, 0.8935317581184008, 1.2587495288352297, -0.5992845246668753, 2.7851237345776405, -1.5158096238899554, 0.04177421570103183, 0.48980398157362903, 1.063643861677667, -0.8486329162129157, -1.86936339853131, 0.24761777046722996, 1.290606988097702, 0.17046338292604407, 0.14181179559597848, 0.6505415244850333, -2.5850581533594545, -0.30813091794721653], \"type\": \"scatter\", \"line\": {\"dash\": \"solid\", \"width\": 1.3, \"color\": \"rgba(128, 128, 128, 1.0)\"}, \"marker\": {\"size\": 2, \"symbol\": \"dot\"}, \"name\": \"B\"}, {\"yaxis\": \"y9\", \"mode\": \"markers\", \"text\": \"\", \"xaxis\": \"x9\", \"x\": [1.8787246669561561, 0.028733616663923985, -0.1587931161277573, -1.2219723462024636, 1.2531523973363488, 0.8312132082951045, 1.1740170898586173, -0.24393002059589958, -0.296966543277261, 0.7621695759158762, 0.04210347865555278, -0.7791970481917073, 0.3943032396655093, -1.0146190736152443, -0.4841710096782867, 0.5522466668361006, -2.77187556758784, -0.5181226698708166, -0.49722040792422156, -1.6534757596659548, -0.06027439377033132, 1.4769243769038323, 1.1796346669498379, -0.7816898015019265, 0.8630132212967984, 0.6590246731638996, -1.1013906677685679, -0.9446804895542242, -1.788022470413331, 0.8775002821729455, 0.3546715768521251, -0.16532125735222183, 1.8914747239632839, -1.1251772915449791, 0.8888981026894395, -0.6066117727706714, 0.8314777742724779, 0.3830457069359529, -0.937459527593053, -0.844561047334305, 1.1280232245052606, -1.640427972598561, 0.8971269652786067, 0.4848047458342485, 0.19373507090654035, -0.7387091317560727, -0.3566733282792827, -0.43158335134818315, -0.4899640124314907, 0.5488715658495908, 0.2821768987731658, -0.8832439438038343, 1.271863067044618, 0.10680856505919414, 0.8269478103679717, -0.03266751467505833, -0.34021520002722894, -0.6769186069469743, 0.7126188256918854, 1.8871150025438166, -0.06742662656190869, -1.4789736197389265, 0.346978601690099, -0.3757389938313092, 0.715285859520045, 1.5994858611908638, -0.3692558358591885, 0.13827360227735647, -0.40690530542342296, 0.636973800943974, 0.14658752987818605, -0.3949906255692418, 1.5076392623927681, -0.15486042602397807, 0.22159940179664614, -1.0878244818277978, -0.03354417910293162, 1.2258839316932069, -0.048951028800266715, -1.1089870994157809, 0.021452684803338333, 1.2548854256528554, -1.0913797662237141, -0.539059741192553, 0.6901269187662552, -1.4810451728120602, -0.8468654201203714, 0.3763927872506507, 0.8120568488462931, 0.0031767062628090745, 0.697742291538818, -0.7429703118062226, -0.842231117346612, -0.0666718362166121, 1.8829720647783421, 1.320112956074407, 0.42394324402947475, 0.466299928509142, 0.9415282138953815, -0.7707938096473991], \"y\": [1.0667334168325768, 0.04817571551860875, -0.6353709157290994, -0.29979428249659507, 0.30291706303457033, -1.2658520234759039, 0.4984256330100474, -0.4813817437844393, 1.6528819231392327, -1.0387894611418347, -1.4866253379043493, -0.5281135473322252, -0.061645252730345844, 0.7876423965771268, 0.9285191892602837, -3.0483938246413547, -0.371184208418135, 0.11169331199774239, 0.30352330980386477, -1.1851393464396252, -0.3023997655692267, 1.4199893168847753, -0.332851303404407, 0.7955908630250091, 0.5869705278914006, -0.45090328668726354, -0.7814566611757896, -0.1261200409144497, 0.7060858452328673, -0.8894721878843294, 0.6064992291432117, -0.1963991863666514, 0.16697094643083513, -0.06591707111576753, 0.8961422265850149, 0.8939803073905991, 0.2526177880230376, -1.2523243277936627, 0.9749672569040144, 0.9687477057343876, 0.26351967435246515, -0.9517261189215155, -0.18707956459088698, -0.39391833601946274, 0.5273775265831957, -0.48180251718398176, -2.2230374431929953, 2.0999928572789828, 0.5496483529576708, 1.067298459209482, -0.3040289105606048, 0.1352094843666391, -0.9944404721270197, 2.2258275006902912, -0.11689955437978636, 0.41231462999024887, 0.7856039151273921, -0.6894731524779986, -0.8276899193670904, 0.23638272241448607, 1.3266743967632526, 0.9626096963262857, -0.28379390855690406, -0.417413711892243, -1.3341211120615861, 0.9298055489835776, 2.106720126861483, 0.23150307059926345, 0.8864836518334782, 0.4193977048083098, 0.3190869644200757, 0.9673541346062681, 0.42245148076732175, 1.0906377526894717, 1.3887188298690671, -0.19507483218944058, -0.9347090401182315, 0.30126885232107575, 0.42495072953595375, -0.9170212042816844, -1.6965969381460768, -0.011576471618042839, -1.0479065708976978, -0.4749222730814971, 0.4229046102099884, 0.08254929486846736, -0.7783883617548714, -0.17950878512595098, 0.4391940123110264, -1.9667304216807953, -1.5652802021531136, 0.8163770970520242, -0.008375093041838632, 0.5510487504106222, -0.4239325998518183, -0.1297116221823799, -0.10728910870450034, -0.12169367361116121, -0.6905111268638191, -0.2653540299125418], \"type\": \"scatter\", \"line\": {\"dash\": \"solid\", \"width\": 1.3, \"color\": \"rgba(128, 128, 128, 1.0)\"}, \"marker\": {\"size\": 2, \"symbol\": \"dot\"}, \"name\": \"C\"}, {\"yaxis\": \"y10\", \"mode\": \"markers\", \"text\": \"\", \"xaxis\": \"x10\", \"x\": [0.6887194376286498, 0.1040535242504629, 0.38792642015276635, 1.3934230260395444, -0.5375976688704683, -1.1493608786796612, 0.01342890849383506, -0.47231861415738574, 0.24793169472844812, -0.6232083144122951, -1.2121596694710122, -2.4542371001007464, 0.29855785553142483, 1.2997620162676498, 0.9168047366909585, -0.41040614900130634, 1.3147531456519106, -0.12455263569370086, 0.9366143523054554, 0.23573463729990726, -0.8244746170540388, -0.32685668230128845, 1.501781503113865, 0.9830012153240587, 0.6020112305361386, 0.3688304138086671, 1.0090827131320237, -0.5811720111587422, 0.0512884505619472, -1.6917643070157176, -0.25322144257612356, -0.2937357494665306, 0.7368726362448421, 0.5763424997076779, 0.16472110066593693, -0.374254076023172, 1.1280304809680426, 0.6455371548668151, -0.18000225503004413, -0.9128911232313937, -0.5670695205365133, 0.16138491502455474, 1.2118733837294762, 0.4444506280024997, 0.6834767601409083, 1.8020727241195935, 2.4230878273709062, 0.27701889696287213, 1.4067122280705426, -0.33728919328412016, 0.5154870435338148, 0.7751019637809062, 1.400130435077449, 0.8276591566099151, 1.1268119555303864, 0.7016118169589718, 0.476169530704683, -0.5261125753709399, -1.2129692872143456, 0.6126338497954396, 1.5825905557818922, -0.8173630045970658, 0.1075602248072928, 1.2716988894407462, -0.15615948990467535, -0.2968566839654392, 1.7204934641303604, -0.869876624137026, 0.28935077735906545, -1.2052876742800458, -0.263979336251353, -0.02815365780209253, -0.04062347728476395, 0.943760296027789, -1.7797735906553165, 0.4485755919087686, 0.14778332986993048, 0.5305019463041807, 1.6359913516932165, -0.3437427119285297, 1.9109783094330681, 0.6818924480193401, -0.42214824562337705, 0.8935317581184008, 1.2587495288352297, -0.5992845246668753, 2.7851237345776405, -1.5158096238899554, 0.04177421570103183, 0.48980398157362903, 1.063643861677667, -0.8486329162129157, -1.86936339853131, 0.24761777046722996, 1.290606988097702, 0.17046338292604407, 0.14181179559597848, 0.6505415244850333, -2.5850581533594545, -0.30813091794721653], \"y\": [1.0667334168325768, 0.04817571551860875, -0.6353709157290994, -0.29979428249659507, 0.30291706303457033, -1.2658520234759039, 0.4984256330100474, -0.4813817437844393, 1.6528819231392327, -1.0387894611418347, -1.4866253379043493, -0.5281135473322252, -0.061645252730345844, 0.7876423965771268, 0.9285191892602837, -3.0483938246413547, -0.371184208418135, 0.11169331199774239, 0.30352330980386477, -1.1851393464396252, -0.3023997655692267, 1.4199893168847753, -0.332851303404407, 0.7955908630250091, 0.5869705278914006, -0.45090328668726354, -0.7814566611757896, -0.1261200409144497, 0.7060858452328673, -0.8894721878843294, 0.6064992291432117, -0.1963991863666514, 0.16697094643083513, -0.06591707111576753, 0.8961422265850149, 0.8939803073905991, 0.2526177880230376, -1.2523243277936627, 0.9749672569040144, 0.9687477057343876, 0.26351967435246515, -0.9517261189215155, -0.18707956459088698, -0.39391833601946274, 0.5273775265831957, -0.48180251718398176, -2.2230374431929953, 2.0999928572789828, 0.5496483529576708, 1.067298459209482, -0.3040289105606048, 0.1352094843666391, -0.9944404721270197, 2.2258275006902912, -0.11689955437978636, 0.41231462999024887, 0.7856039151273921, -0.6894731524779986, -0.8276899193670904, 0.23638272241448607, 1.3266743967632526, 0.9626096963262857, -0.28379390855690406, -0.417413711892243, -1.3341211120615861, 0.9298055489835776, 2.106720126861483, 0.23150307059926345, 0.8864836518334782, 0.4193977048083098, 0.3190869644200757, 0.9673541346062681, 0.42245148076732175, 1.0906377526894717, 1.3887188298690671, -0.19507483218944058, -0.9347090401182315, 0.30126885232107575, 0.42495072953595375, -0.9170212042816844, -1.6965969381460768, -0.011576471618042839, -1.0479065708976978, -0.4749222730814971, 0.4229046102099884, 0.08254929486846736, -0.7783883617548714, -0.17950878512595098, 0.4391940123110264, -1.9667304216807953, -1.5652802021531136, 0.8163770970520242, -0.008375093041838632, 0.5510487504106222, -0.4239325998518183, -0.1297116221823799, -0.10728910870450034, -0.12169367361116121, -0.6905111268638191, -0.2653540299125418], \"type\": \"scatter\", \"line\": {\"dash\": \"solid\", \"width\": 1.3, \"color\": \"rgba(128, 128, 128, 1.0)\"}, \"marker\": {\"size\": 2, \"symbol\": \"dot\"}, \"name\": \"C\"}, {\"yaxis\": \"y11\", \"x\": [1.0667334168325768, 0.04817571551860875, -0.6353709157290994, -0.29979428249659507, 0.30291706303457033, -1.2658520234759039, 0.4984256330100474, -0.4813817437844393, 1.6528819231392327, -1.0387894611418347, -1.4866253379043493, -0.5281135473322252, -0.061645252730345844, 0.7876423965771268, 0.9285191892602837, -3.0483938246413547, -0.371184208418135, 0.11169331199774239, 0.30352330980386477, -1.1851393464396252, -0.3023997655692267, 1.4199893168847753, -0.332851303404407, 0.7955908630250091, 0.5869705278914006, -0.45090328668726354, -0.7814566611757896, -0.1261200409144497, 0.7060858452328673, -0.8894721878843294, 0.6064992291432117, -0.1963991863666514, 0.16697094643083513, -0.06591707111576753, 0.8961422265850149, 0.8939803073905991, 0.2526177880230376, -1.2523243277936627, 0.9749672569040144, 0.9687477057343876, 0.26351967435246515, -0.9517261189215155, -0.18707956459088698, -0.39391833601946274, 0.5273775265831957, -0.48180251718398176, -2.2230374431929953, 2.0999928572789828, 0.5496483529576708, 1.067298459209482, -0.3040289105606048, 0.1352094843666391, -0.9944404721270197, 2.2258275006902912, -0.11689955437978636, 0.41231462999024887, 0.7856039151273921, -0.6894731524779986, -0.8276899193670904, 0.23638272241448607, 1.3266743967632526, 0.9626096963262857, -0.28379390855690406, -0.417413711892243, -1.3341211120615861, 0.9298055489835776, 2.106720126861483, 0.23150307059926345, 0.8864836518334782, 0.4193977048083098, 0.3190869644200757, 0.9673541346062681, 0.42245148076732175, 1.0906377526894717, 1.3887188298690671, -0.19507483218944058, -0.9347090401182315, 0.30126885232107575, 0.42495072953595375, -0.9170212042816844, -1.6965969381460768, -0.011576471618042839, -1.0479065708976978, -0.4749222730814971, 0.4229046102099884, 0.08254929486846736, -0.7783883617548714, -0.17950878512595098, 0.4391940123110264, -1.9667304216807953, -1.5652802021531136, 0.8163770970520242, -0.008375093041838632, 0.5510487504106222, -0.4239325998518183, -0.1297116221823799, -0.10728910870450034, -0.12169367361116121, -0.6905111268638191, -0.2653540299125418], \"orientation\": \"v\", \"name\": \"C\", \"opacity\": 0.8, \"histfunc\": \"count\", \"type\": \"histogram\", \"histnorm\": \"\", \"nbinsx\": 10, \"marker\": {\"line\": {\"width\": 1.3, \"color\": \"#D9D9D9\"}, \"color\": \"rgba(132, 118, 202, 1.0)\"}, \"xaxis\": \"x11\"}, {\"yaxis\": \"y12\", \"mode\": \"markers\", \"text\": \"\", \"xaxis\": \"x12\", \"x\": [0.5439560303056027, 1.8421879324257613, -0.6375584499267892, -1.113621595762316, -2.5460826344966634, -1.4694525849240658, 1.5284509091178395, -0.2389286047643509, -1.8771013496698048, 0.7967095179585106, -1.2751392945819797, -0.3919771719871495, 0.6960770780779357, 1.0829877919884603, -0.21798245190329507, 0.10031667681839129, 0.39551692710003933, 0.03022462233656908, -0.3327329523770193, -0.204819010502919, -0.498599044144297, -2.287561059130041, -0.2626249290420713, -2.7487145066091996, -0.666926270349069, -2.0379098459994895, 0.4076679798231559, 1.2245324594636484, -2.0903293143661017, 0.5730523735386692, -0.8155129116660126, -0.9572874252328925, 0.2646752398006613, -1.59152570791709, 0.0934028853207141, -2.602771223170992, 0.560010384592385, 0.449602390416327, -0.005796794476065169, 0.1829347250578045, -0.5607194705468903, -1.1999112237192675, -1.5750218946994066, 0.9111111432091317, -0.2530599561069696, -0.5460310452823662, -0.2531538203527998, 1.5968736605431069, 1.723507060923573, 0.38763182009739877, -1.5443680470309729, 1.2505835233573588, 0.0032375885699842803, 0.3870066878402003, -0.32906689091979147, 0.3856397258220775, -0.1654479720586817, 0.2232842423247386, -0.4418766853437538, -0.6751906059090874, -1.6521803078301385, 0.8305325757578166, 0.6577807720682736, -1.2851830040136305, 0.5089005765755124, 0.5962021316815027, 0.9573351203673642, -1.7458475655160375, -1.7131000048598244, 1.5732405203322046, -0.6605298861077683, -1.3437487967599893, 1.9772828633357302, -0.2856844646078326, 0.19293980157348012, 0.1628250911198371, 0.4208217295167736, 0.5627226183638288, -1.058090429960864, -1.3589615830656872, 2.138807050366944, 0.885718335515041, 0.8374040360650308, 0.49834346725709405, -1.3963572343750588, 2.2245606506923625, 0.19641383189506273, -0.3435398382353588, 0.7215114388529363, -0.8327583822270256, -2.039974975731211, 1.2859290252046311, -1.1577060578657161, 0.36795754346511866, 0.970791311065794, 0.496204293102698, -0.05627542841788665, 0.10113620396598295, 0.7547476274222054, 0.15433234934660506], \"y\": [1.0667334168325768, 0.04817571551860875, -0.6353709157290994, -0.29979428249659507, 0.30291706303457033, -1.2658520234759039, 0.4984256330100474, -0.4813817437844393, 1.6528819231392327, -1.0387894611418347, -1.4866253379043493, -0.5281135473322252, -0.061645252730345844, 0.7876423965771268, 0.9285191892602837, -3.0483938246413547, -0.371184208418135, 0.11169331199774239, 0.30352330980386477, -1.1851393464396252, -0.3023997655692267, 1.4199893168847753, -0.332851303404407, 0.7955908630250091, 0.5869705278914006, -0.45090328668726354, -0.7814566611757896, -0.1261200409144497, 0.7060858452328673, -0.8894721878843294, 0.6064992291432117, -0.1963991863666514, 0.16697094643083513, -0.06591707111576753, 0.8961422265850149, 0.8939803073905991, 0.2526177880230376, -1.2523243277936627, 0.9749672569040144, 0.9687477057343876, 0.26351967435246515, -0.9517261189215155, -0.18707956459088698, -0.39391833601946274, 0.5273775265831957, -0.48180251718398176, -2.2230374431929953, 2.0999928572789828, 0.5496483529576708, 1.067298459209482, -0.3040289105606048, 0.1352094843666391, -0.9944404721270197, 2.2258275006902912, -0.11689955437978636, 0.41231462999024887, 0.7856039151273921, -0.6894731524779986, -0.8276899193670904, 0.23638272241448607, 1.3266743967632526, 0.9626096963262857, -0.28379390855690406, -0.417413711892243, -1.3341211120615861, 0.9298055489835776, 2.106720126861483, 0.23150307059926345, 0.8864836518334782, 0.4193977048083098, 0.3190869644200757, 0.9673541346062681, 0.42245148076732175, 1.0906377526894717, 1.3887188298690671, -0.19507483218944058, -0.9347090401182315, 0.30126885232107575, 0.42495072953595375, -0.9170212042816844, -1.6965969381460768, -0.011576471618042839, -1.0479065708976978, -0.4749222730814971, 0.4229046102099884, 0.08254929486846736, -0.7783883617548714, -0.17950878512595098, 0.4391940123110264, -1.9667304216807953, -1.5652802021531136, 0.8163770970520242, -0.008375093041838632, 0.5510487504106222, -0.4239325998518183, -0.1297116221823799, -0.10728910870450034, -0.12169367361116121, -0.6905111268638191, -0.2653540299125418], \"type\": \"scatter\", \"line\": {\"dash\": \"solid\", \"width\": 1.3, \"color\": \"rgba(128, 128, 128, 1.0)\"}, \"marker\": {\"size\": 2, \"symbol\": \"dot\"}, \"name\": \"C\"}, {\"yaxis\": \"y13\", \"mode\": \"markers\", \"text\": \"\", \"xaxis\": \"x13\", \"x\": [1.8787246669561561, 0.028733616663923985, -0.1587931161277573, -1.2219723462024636, 1.2531523973363488, 0.8312132082951045, 1.1740170898586173, -0.24393002059589958, -0.296966543277261, 0.7621695759158762, 0.04210347865555278, -0.7791970481917073, 0.3943032396655093, -1.0146190736152443, -0.4841710096782867, 0.5522466668361006, -2.77187556758784, -0.5181226698708166, -0.49722040792422156, -1.6534757596659548, -0.06027439377033132, 1.4769243769038323, 1.1796346669498379, -0.7816898015019265, 0.8630132212967984, 0.6590246731638996, -1.1013906677685679, -0.9446804895542242, -1.788022470413331, 0.8775002821729455, 0.3546715768521251, -0.16532125735222183, 1.8914747239632839, -1.1251772915449791, 0.8888981026894395, -0.6066117727706714, 0.8314777742724779, 0.3830457069359529, -0.937459527593053, -0.844561047334305, 1.1280232245052606, -1.640427972598561, 0.8971269652786067, 0.4848047458342485, 0.19373507090654035, -0.7387091317560727, -0.3566733282792827, -0.43158335134818315, -0.4899640124314907, 0.5488715658495908, 0.2821768987731658, -0.8832439438038343, 1.271863067044618, 0.10680856505919414, 0.8269478103679717, -0.03266751467505833, -0.34021520002722894, -0.6769186069469743, 0.7126188256918854, 1.8871150025438166, -0.06742662656190869, -1.4789736197389265, 0.346978601690099, -0.3757389938313092, 0.715285859520045, 1.5994858611908638, -0.3692558358591885, 0.13827360227735647, -0.40690530542342296, 0.636973800943974, 0.14658752987818605, -0.3949906255692418, 1.5076392623927681, -0.15486042602397807, 0.22159940179664614, -1.0878244818277978, -0.03354417910293162, 1.2258839316932069, -0.048951028800266715, -1.1089870994157809, 0.021452684803338333, 1.2548854256528554, -1.0913797662237141, -0.539059741192553, 0.6901269187662552, -1.4810451728120602, -0.8468654201203714, 0.3763927872506507, 0.8120568488462931, 0.0031767062628090745, 0.697742291538818, -0.7429703118062226, -0.842231117346612, -0.0666718362166121, 1.8829720647783421, 1.320112956074407, 0.42394324402947475, 0.466299928509142, 0.9415282138953815, -0.7707938096473991], \"y\": [0.5439560303056027, 1.8421879324257613, -0.6375584499267892, -1.113621595762316, -2.5460826344966634, -1.4694525849240658, 1.5284509091178395, -0.2389286047643509, -1.8771013496698048, 0.7967095179585106, -1.2751392945819797, -0.3919771719871495, 0.6960770780779357, 1.0829877919884603, -0.21798245190329507, 0.10031667681839129, 0.39551692710003933, 0.03022462233656908, -0.3327329523770193, -0.204819010502919, -0.498599044144297, -2.287561059130041, -0.2626249290420713, -2.7487145066091996, -0.666926270349069, -2.0379098459994895, 0.4076679798231559, 1.2245324594636484, -2.0903293143661017, 0.5730523735386692, -0.8155129116660126, -0.9572874252328925, 0.2646752398006613, -1.59152570791709, 0.0934028853207141, -2.602771223170992, 0.560010384592385, 0.449602390416327, -0.005796794476065169, 0.1829347250578045, -0.5607194705468903, -1.1999112237192675, -1.5750218946994066, 0.9111111432091317, -0.2530599561069696, -0.5460310452823662, -0.2531538203527998, 1.5968736605431069, 1.723507060923573, 0.38763182009739877, -1.5443680470309729, 1.2505835233573588, 0.0032375885699842803, 0.3870066878402003, -0.32906689091979147, 0.3856397258220775, -0.1654479720586817, 0.2232842423247386, -0.4418766853437538, -0.6751906059090874, -1.6521803078301385, 0.8305325757578166, 0.6577807720682736, -1.2851830040136305, 0.5089005765755124, 0.5962021316815027, 0.9573351203673642, -1.7458475655160375, -1.7131000048598244, 1.5732405203322046, -0.6605298861077683, -1.3437487967599893, 1.9772828633357302, -0.2856844646078326, 0.19293980157348012, 0.1628250911198371, 0.4208217295167736, 0.5627226183638288, -1.058090429960864, -1.3589615830656872, 2.138807050366944, 0.885718335515041, 0.8374040360650308, 0.49834346725709405, -1.3963572343750588, 2.2245606506923625, 0.19641383189506273, -0.3435398382353588, 0.7215114388529363, -0.8327583822270256, -2.039974975731211, 1.2859290252046311, -1.1577060578657161, 0.36795754346511866, 0.970791311065794, 0.496204293102698, -0.05627542841788665, 0.10113620396598295, 0.7547476274222054, 0.15433234934660506], \"type\": \"scatter\", \"line\": {\"dash\": \"solid\", \"width\": 1.3, \"color\": \"rgba(128, 128, 128, 1.0)\"}, \"marker\": {\"size\": 2, \"symbol\": \"dot\"}, \"name\": \"D\"}, {\"yaxis\": \"y14\", \"mode\": \"markers\", \"text\": \"\", \"xaxis\": \"x14\", \"x\": [0.6887194376286498, 0.1040535242504629, 0.38792642015276635, 1.3934230260395444, -0.5375976688704683, -1.1493608786796612, 0.01342890849383506, -0.47231861415738574, 0.24793169472844812, -0.6232083144122951, -1.2121596694710122, -2.4542371001007464, 0.29855785553142483, 1.2997620162676498, 0.9168047366909585, -0.41040614900130634, 1.3147531456519106, -0.12455263569370086, 0.9366143523054554, 0.23573463729990726, -0.8244746170540388, -0.32685668230128845, 1.501781503113865, 0.9830012153240587, 0.6020112305361386, 0.3688304138086671, 1.0090827131320237, -0.5811720111587422, 0.0512884505619472, -1.6917643070157176, -0.25322144257612356, -0.2937357494665306, 0.7368726362448421, 0.5763424997076779, 0.16472110066593693, -0.374254076023172, 1.1280304809680426, 0.6455371548668151, -0.18000225503004413, -0.9128911232313937, -0.5670695205365133, 0.16138491502455474, 1.2118733837294762, 0.4444506280024997, 0.6834767601409083, 1.8020727241195935, 2.4230878273709062, 0.27701889696287213, 1.4067122280705426, -0.33728919328412016, 0.5154870435338148, 0.7751019637809062, 1.400130435077449, 0.8276591566099151, 1.1268119555303864, 0.7016118169589718, 0.476169530704683, -0.5261125753709399, -1.2129692872143456, 0.6126338497954396, 1.5825905557818922, -0.8173630045970658, 0.1075602248072928, 1.2716988894407462, -0.15615948990467535, -0.2968566839654392, 1.7204934641303604, -0.869876624137026, 0.28935077735906545, -1.2052876742800458, -0.263979336251353, -0.02815365780209253, -0.04062347728476395, 0.943760296027789, -1.7797735906553165, 0.4485755919087686, 0.14778332986993048, 0.5305019463041807, 1.6359913516932165, -0.3437427119285297, 1.9109783094330681, 0.6818924480193401, -0.42214824562337705, 0.8935317581184008, 1.2587495288352297, -0.5992845246668753, 2.7851237345776405, -1.5158096238899554, 0.04177421570103183, 0.48980398157362903, 1.063643861677667, -0.8486329162129157, -1.86936339853131, 0.24761777046722996, 1.290606988097702, 0.17046338292604407, 0.14181179559597848, 0.6505415244850333, -2.5850581533594545, -0.30813091794721653], \"y\": [0.5439560303056027, 1.8421879324257613, -0.6375584499267892, -1.113621595762316, -2.5460826344966634, -1.4694525849240658, 1.5284509091178395, -0.2389286047643509, -1.8771013496698048, 0.7967095179585106, -1.2751392945819797, -0.3919771719871495, 0.6960770780779357, 1.0829877919884603, -0.21798245190329507, 0.10031667681839129, 0.39551692710003933, 0.03022462233656908, -0.3327329523770193, -0.204819010502919, -0.498599044144297, -2.287561059130041, -0.2626249290420713, -2.7487145066091996, -0.666926270349069, -2.0379098459994895, 0.4076679798231559, 1.2245324594636484, -2.0903293143661017, 0.5730523735386692, -0.8155129116660126, -0.9572874252328925, 0.2646752398006613, -1.59152570791709, 0.0934028853207141, -2.602771223170992, 0.560010384592385, 0.449602390416327, -0.005796794476065169, 0.1829347250578045, -0.5607194705468903, -1.1999112237192675, -1.5750218946994066, 0.9111111432091317, -0.2530599561069696, -0.5460310452823662, -0.2531538203527998, 1.5968736605431069, 1.723507060923573, 0.38763182009739877, -1.5443680470309729, 1.2505835233573588, 0.0032375885699842803, 0.3870066878402003, -0.32906689091979147, 0.3856397258220775, -0.1654479720586817, 0.2232842423247386, -0.4418766853437538, -0.6751906059090874, -1.6521803078301385, 0.8305325757578166, 0.6577807720682736, -1.2851830040136305, 0.5089005765755124, 0.5962021316815027, 0.9573351203673642, -1.7458475655160375, -1.7131000048598244, 1.5732405203322046, -0.6605298861077683, -1.3437487967599893, 1.9772828633357302, -0.2856844646078326, 0.19293980157348012, 0.1628250911198371, 0.4208217295167736, 0.5627226183638288, -1.058090429960864, -1.3589615830656872, 2.138807050366944, 0.885718335515041, 0.8374040360650308, 0.49834346725709405, -1.3963572343750588, 2.2245606506923625, 0.19641383189506273, -0.3435398382353588, 0.7215114388529363, -0.8327583822270256, -2.039974975731211, 1.2859290252046311, -1.1577060578657161, 0.36795754346511866, 0.970791311065794, 0.496204293102698, -0.05627542841788665, 0.10113620396598295, 0.7547476274222054, 0.15433234934660506], \"type\": \"scatter\", \"line\": {\"dash\": \"solid\", \"width\": 1.3, \"color\": \"rgba(128, 128, 128, 1.0)\"}, \"marker\": {\"size\": 2, \"symbol\": \"dot\"}, \"name\": \"D\"}, {\"yaxis\": \"y15\", \"mode\": \"markers\", \"text\": \"\", \"xaxis\": \"x15\", \"x\": [1.0667334168325768, 0.04817571551860875, -0.6353709157290994, -0.29979428249659507, 0.30291706303457033, -1.2658520234759039, 0.4984256330100474, -0.4813817437844393, 1.6528819231392327, -1.0387894611418347, -1.4866253379043493, -0.5281135473322252, -0.061645252730345844, 0.7876423965771268, 0.9285191892602837, -3.0483938246413547, -0.371184208418135, 0.11169331199774239, 0.30352330980386477, -1.1851393464396252, -0.3023997655692267, 1.4199893168847753, -0.332851303404407, 0.7955908630250091, 0.5869705278914006, -0.45090328668726354, -0.7814566611757896, -0.1261200409144497, 0.7060858452328673, -0.8894721878843294, 0.6064992291432117, -0.1963991863666514, 0.16697094643083513, -0.06591707111576753, 0.8961422265850149, 0.8939803073905991, 0.2526177880230376, -1.2523243277936627, 0.9749672569040144, 0.9687477057343876, 0.26351967435246515, -0.9517261189215155, -0.18707956459088698, -0.39391833601946274, 0.5273775265831957, -0.48180251718398176, -2.2230374431929953, 2.0999928572789828, 0.5496483529576708, 1.067298459209482, -0.3040289105606048, 0.1352094843666391, -0.9944404721270197, 2.2258275006902912, -0.11689955437978636, 0.41231462999024887, 0.7856039151273921, -0.6894731524779986, -0.8276899193670904, 0.23638272241448607, 1.3266743967632526, 0.9626096963262857, -0.28379390855690406, -0.417413711892243, -1.3341211120615861, 0.9298055489835776, 2.106720126861483, 0.23150307059926345, 0.8864836518334782, 0.4193977048083098, 0.3190869644200757, 0.9673541346062681, 0.42245148076732175, 1.0906377526894717, 1.3887188298690671, -0.19507483218944058, -0.9347090401182315, 0.30126885232107575, 0.42495072953595375, -0.9170212042816844, -1.6965969381460768, -0.011576471618042839, -1.0479065708976978, -0.4749222730814971, 0.4229046102099884, 0.08254929486846736, -0.7783883617548714, -0.17950878512595098, 0.4391940123110264, -1.9667304216807953, -1.5652802021531136, 0.8163770970520242, -0.008375093041838632, 0.5510487504106222, -0.4239325998518183, -0.1297116221823799, -0.10728910870450034, -0.12169367361116121, -0.6905111268638191, -0.2653540299125418], \"y\": [0.5439560303056027, 1.8421879324257613, -0.6375584499267892, -1.113621595762316, -2.5460826344966634, -1.4694525849240658, 1.5284509091178395, -0.2389286047643509, -1.8771013496698048, 0.7967095179585106, -1.2751392945819797, -0.3919771719871495, 0.6960770780779357, 1.0829877919884603, -0.21798245190329507, 0.10031667681839129, 0.39551692710003933, 0.03022462233656908, -0.3327329523770193, -0.204819010502919, -0.498599044144297, -2.287561059130041, -0.2626249290420713, -2.7487145066091996, -0.666926270349069, -2.0379098459994895, 0.4076679798231559, 1.2245324594636484, -2.0903293143661017, 0.5730523735386692, -0.8155129116660126, -0.9572874252328925, 0.2646752398006613, -1.59152570791709, 0.0934028853207141, -2.602771223170992, 0.560010384592385, 0.449602390416327, -0.005796794476065169, 0.1829347250578045, -0.5607194705468903, -1.1999112237192675, -1.5750218946994066, 0.9111111432091317, -0.2530599561069696, -0.5460310452823662, -0.2531538203527998, 1.5968736605431069, 1.723507060923573, 0.38763182009739877, -1.5443680470309729, 1.2505835233573588, 0.0032375885699842803, 0.3870066878402003, -0.32906689091979147, 0.3856397258220775, -0.1654479720586817, 0.2232842423247386, -0.4418766853437538, -0.6751906059090874, -1.6521803078301385, 0.8305325757578166, 0.6577807720682736, -1.2851830040136305, 0.5089005765755124, 0.5962021316815027, 0.9573351203673642, -1.7458475655160375, -1.7131000048598244, 1.5732405203322046, -0.6605298861077683, -1.3437487967599893, 1.9772828633357302, -0.2856844646078326, 0.19293980157348012, 0.1628250911198371, 0.4208217295167736, 0.5627226183638288, -1.058090429960864, -1.3589615830656872, 2.138807050366944, 0.885718335515041, 0.8374040360650308, 0.49834346725709405, -1.3963572343750588, 2.2245606506923625, 0.19641383189506273, -0.3435398382353588, 0.7215114388529363, -0.8327583822270256, -2.039974975731211, 1.2859290252046311, -1.1577060578657161, 0.36795754346511866, 0.970791311065794, 0.496204293102698, -0.05627542841788665, 0.10113620396598295, 0.7547476274222054, 0.15433234934660506], \"type\": \"scatter\", \"line\": {\"dash\": \"solid\", \"width\": 1.3, \"color\": \"rgba(128, 128, 128, 1.0)\"}, \"marker\": {\"size\": 2, \"symbol\": \"dot\"}, \"name\": \"D\"}, {\"yaxis\": \"y16\", \"x\": [0.5439560303056027, 1.8421879324257613, -0.6375584499267892, -1.113621595762316, -2.5460826344966634, -1.4694525849240658, 1.5284509091178395, -0.2389286047643509, -1.8771013496698048, 0.7967095179585106, -1.2751392945819797, -0.3919771719871495, 0.6960770780779357, 1.0829877919884603, -0.21798245190329507, 0.10031667681839129, 0.39551692710003933, 0.03022462233656908, -0.3327329523770193, -0.204819010502919, -0.498599044144297, -2.287561059130041, -0.2626249290420713, -2.7487145066091996, -0.666926270349069, -2.0379098459994895, 0.4076679798231559, 1.2245324594636484, -2.0903293143661017, 0.5730523735386692, -0.8155129116660126, -0.9572874252328925, 0.2646752398006613, -1.59152570791709, 0.0934028853207141, -2.602771223170992, 0.560010384592385, 0.449602390416327, -0.005796794476065169, 0.1829347250578045, -0.5607194705468903, -1.1999112237192675, -1.5750218946994066, 0.9111111432091317, -0.2530599561069696, -0.5460310452823662, -0.2531538203527998, 1.5968736605431069, 1.723507060923573, 0.38763182009739877, -1.5443680470309729, 1.2505835233573588, 0.0032375885699842803, 0.3870066878402003, -0.32906689091979147, 0.3856397258220775, -0.1654479720586817, 0.2232842423247386, -0.4418766853437538, -0.6751906059090874, -1.6521803078301385, 0.8305325757578166, 0.6577807720682736, -1.2851830040136305, 0.5089005765755124, 0.5962021316815027, 0.9573351203673642, -1.7458475655160375, -1.7131000048598244, 1.5732405203322046, -0.6605298861077683, -1.3437487967599893, 1.9772828633357302, -0.2856844646078326, 0.19293980157348012, 0.1628250911198371, 0.4208217295167736, 0.5627226183638288, -1.058090429960864, -1.3589615830656872, 2.138807050366944, 0.885718335515041, 0.8374040360650308, 0.49834346725709405, -1.3963572343750588, 2.2245606506923625, 0.19641383189506273, -0.3435398382353588, 0.7215114388529363, -0.8327583822270256, -2.039974975731211, 1.2859290252046311, -1.1577060578657161, 0.36795754346511866, 0.970791311065794, 0.496204293102698, -0.05627542841788665, 0.10113620396598295, 0.7547476274222054, 0.15433234934660506], \"orientation\": \"v\", \"name\": \"D\", \"opacity\": 0.8, \"histfunc\": \"count\", \"type\": \"histogram\", \"histnorm\": \"\", \"nbinsx\": 10, \"marker\": {\"line\": {\"width\": 1.3, \"color\": \"#D9D9D9\"}, \"color\": \"rgba(101, 101, 101, 1.0)\"}, \"xaxis\": \"x16\"}], {\"xaxis14\": {\"anchor\": \"y14\", \"domain\": [0.2625, 0.475]}, \"titlefont\": {\"color\": \"#151516\"}, \"xaxis16\": {\"anchor\": \"y16\", \"domain\": [0.7875000000000001, 1.0]}, \"yaxis15\": {\"anchor\": \"x15\", \"domain\": [0.0, 0.1975]}, \"yaxis16\": {\"anchor\": \"x16\", \"domain\": [0.0, 0.1975]}, \"paper_bgcolor\": \"#FFFFFF\", \"yaxis4\": {\"anchor\": \"x4\", \"domain\": [0.8025, 1.0]}, \"plot_bgcolor\": \"#E5E5E5\", \"xaxis15\": {\"anchor\": \"y15\", \"domain\": [0.525, 0.7375]}, \"xaxis2\": {\"anchor\": \"y2\", \"domain\": [0.2625, 0.475]}, \"yaxis10\": {\"anchor\": \"x10\", \"domain\": [0.2675, 0.465]}, \"yaxis11\": {\"anchor\": \"x11\", \"domain\": [0.2675, 0.465]}, \"xaxis5\": {\"anchor\": \"y5\", \"domain\": [0.0, 0.2125]}, \"xaxis1\": {\"anchor\": \"y1\", \"zerolinecolor\": \"#F6F6F6\", \"title\": \"\", \"titlefont\": {\"color\": \"#666666\"}, \"tickfont\": {\"color\": \"#666666\"}, \"showgrid\": false, \"domain\": [0.0, 0.2125], \"gridcolor\": \"#F6F6F6\"}, \"xaxis4\": {\"anchor\": \"y4\", \"domain\": [0.7875000000000001, 1.0]}, \"yaxis14\": {\"anchor\": \"x14\", \"domain\": [0.0, 0.1975]}, \"xaxis11\": {\"anchor\": \"y11\", \"domain\": [0.525, 0.7375]}, \"xaxis10\": {\"anchor\": \"y10\", \"domain\": [0.2625, 0.475]}, \"yaxis13\": {\"anchor\": \"x13\", \"domain\": [0.0, 0.1975]}, \"yaxis9\": {\"anchor\": \"x9\", \"domain\": [0.2675, 0.465]}, \"xaxis6\": {\"anchor\": \"y6\", \"domain\": [0.2625, 0.475]}, \"xaxis9\": {\"anchor\": \"y9\", \"domain\": [0.0, 0.2125]}, \"yaxis2\": {\"anchor\": \"x2\", \"domain\": [0.8025, 1.0]}, \"xaxis3\": {\"anchor\": \"y3\", \"domain\": [0.525, 0.7375]}, \"xaxis7\": {\"anchor\": \"y7\", \"domain\": [0.525, 0.7375]}, \"xaxis13\": {\"anchor\": \"y13\", \"domain\": [0.0, 0.2125]}, \"xaxis8\": {\"anchor\": \"y8\", \"domain\": [0.7875000000000001, 1.0]}, \"yaxis1\": {\"anchor\": \"x1\", \"zerolinecolor\": \"#F6F6F6\", \"title\": \"\", \"titlefont\": {\"color\": \"#666666\"}, \"tickfont\": {\"color\": \"#666666\"}, \"showgrid\": false, \"domain\": [0.8025, 1.0], \"gridcolor\": \"#F6F6F6\"}, \"legend\": {\"font\": {\"color\": \"#666666\"}, \"bgcolor\": \"#FFFFFF\"}, \"xaxis12\": {\"anchor\": \"y12\", \"domain\": [0.7875000000000001, 1.0]}, \"bargap\": 0.02, \"yaxis8\": {\"anchor\": \"x8\", \"domain\": [0.535, 0.7325]}, \"showlegend\": false, \"yaxis3\": {\"anchor\": \"x3\", \"domain\": [0.8025, 1.0]}, \"yaxis12\": {\"anchor\": \"x12\", \"domain\": [0.2675, 0.465]}, \"yaxis7\": {\"anchor\": \"x7\", \"domain\": [0.535, 0.7325]}, \"yaxis5\": {\"anchor\": \"x5\", \"domain\": [0.535, 0.7325]}, \"yaxis6\": {\"anchor\": \"x6\", \"domain\": [0.535, 0.7325]}}, {\"showLink\": true, \"linkText\": \"Export to plot.ly\"})});</script>"
            ],
            "text/plain": [
              "<IPython.core.display.HTML object>"
            ]
          },
          "metadata": {
            "tags": []
          }
        }
      ]
    },
    {
      "cell_type": "markdown",
      "metadata": {
        "collapsed": true,
        "id": "rmjk4I39NktL",
        "colab_type": "text"
      },
      "source": [
        "# Great Job!"
      ]
    }
  ]
}