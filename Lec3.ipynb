{
  "nbformat": 4,
  "nbformat_minor": 0,
  "metadata": {
    "colab": {
      "name": "Lec3.ipynb",
      "provenance": [],
      "collapsed_sections": [],
      "authorship_tag": "ABX9TyP9hGOjgAvsTgdur284uJMy"
    },
    "kernelspec": {
      "name": "python3",
      "display_name": "Python 3"
    }
  },
  "cells": [
    {
      "cell_type": "markdown",
      "metadata": {
        "id": "3--t4-8bU6m8",
        "colab_type": "text"
      },
      "source": [
        "# Sorting\n",
        "\n",
        "* Bubble sort: [link text](https://runestone.academy/runestone/books/published/pythonds/SortSearch/TheBubbleSort.html)\n",
        "* Selection sort\n",
        "* Insertion sort\n",
        "* Shell sort\n",
        "* Merge sort\n",
        "* Quick sort\n",
        "\n"
      ]
    },
    {
      "cell_type": "markdown",
      "metadata": {
        "id": "Vy7QJ1Tzdpq1",
        "colab_type": "text"
      },
      "source": [
        "# **Bubble sort**\n",
        "\n",
        "The bubble sort makes multiple passes through a list. It compares adjacent items and exchanges those that are out of order. Each pass through the list places the next largest value in its proper place. In essence, each item “bubbles” up to the location where it belongs.![alt text](https://runestone.academy/runestone/books/published/pythonds/_images/bubblepass.png)\n",
        "Figure above shows the first pass of a bubble sort. The shaded items are being compared to see if they are out of order. If there are n items in the list, then there are 𝑛−1 pairs of items that need to be compared on the first pass. It is important to note that once the largest value in the list is part of a pair, it will continually be moved along until the pass is complete.\n",
        "\n",
        "To analyze the bubble sort, we should note that regardless of how the items are arranged in the initial list, 𝑛−1 passes will be made to sort a list of size n. Table 1 shows the number of comparisons for each pass. The total number of comparisons is the sum of the first 𝑛−1 integers. Recall that the sum of the first n integers is 12𝑛2+12𝑛. The sum of the first 𝑛−1 integers is 12𝑛2+12𝑛−𝑛, which is 12𝑛2−12𝑛. This is still 𝑂(𝑛2) comparisons. In the best case, if the list is already ordered, no exchanges will be made. However, in the worst case, every comparison will cause an exchange. On average, we exchange half of the time. A bubble sort is often considered the most inefficient sorting method since it must exchange items before the final location is known. These “wasted” exchange operations are very costly. However, because the bubble sort makes passes through the entire unsorted portion of the list, it has the capability to do something most sorting algorithms cannot. In particular, if during a pass there are no exchanges, then we know that the list must be sorted. A bubble sort can be modified to stop early if it finds that the list has become sorted. This means that for lists that require just a few passes, a bubble sort may have an advantage in that it will recognize the sorted list and stop. ActiveCode 2 shows this modification, which is often referred to as the short bubble.\n"
      ]
    },
    {
      "cell_type": "code",
      "metadata": {
        "id": "DxtcV0M_Vtpa",
        "colab_type": "code",
        "outputId": "9e4b76b0-64f6-46dc-d85d-9a6b6befe09b",
        "colab": {
          "base_uri": "https://localhost:8080/",
          "height": 34
        }
      },
      "source": [
        "# Bubble sort\n",
        "def bubble_sort(arr):\n",
        "    # For every element (arranged backwards)\n",
        "    for n in range(len(arr)-1,0,-1): #backward [9,8,...,1]\n",
        "        for k in range(n): #forward [1,...,n]\n",
        "            # If we come to a point to switch\n",
        "            if arr[k]>arr[k+1]:\n",
        "                temp = arr[k]\n",
        "                arr[k] = arr[k+1]\n",
        "                arr[k+1] = temp\n",
        "\n",
        "arr = [3,2,13,4,6,5,7,8,1,20]\n",
        "bubble_sort(arr)\n",
        "print(arr)"
      ],
      "execution_count": 0,
      "outputs": [
        {
          "output_type": "stream",
          "text": [
            "[1, 2, 3, 4, 5, 6, 7, 8, 13, 20]\n"
          ],
          "name": "stdout"
        }
      ]
    },
    {
      "cell_type": "markdown",
      "metadata": {
        "id": "4Ac86jF1svQ0",
        "colab_type": "text"
      },
      "source": [
        "# **Selection sort**\n",
        "\n",
        "The selection sort improves on the bubble sort by making only one exchange for every pass through the list. In order to do this, a selection sort looks for the largest (or smallest) value as it makes a pass and, after completing the pass, places it in the proper location. As with a bubble sort, after the first pass, the largest item is in the correct place. After the second pass, the next largest is in place. This process continues and requires 𝑛−1 passes to sort n items, since the final item must be in place after the (𝑛−1) st pass.![alt text](https://runestone.academy/runestone/books/published/pythonds/_images/selectionsortnew.png)\n",
        "\n",
        "Figure above shows the entire sorting process. On each pass, the largest remaining item is selected and then placed in its proper location. The first pass places 93, the second pass places 77, the third places 55, and so on. \n",
        "\n",
        "You may see that the selection sort makes the same number of comparisons as the bubble sort and is therefore also 𝑂(𝑛2). However, due to the reduction in the number of exchanges, the selection sort typically executes faster in benchmark studies. In fact, for our list, the bubble sort makes 20 exchanges, while the selection sort makes only 8."
      ]
    },
    {
      "cell_type": "code",
      "metadata": {
        "id": "G1mqP0xNjfn1",
        "colab_type": "code",
        "colab": {}
      },
      "source": [
        "## selection sort\n",
        "def selection_sort(arr):\n",
        "    \n",
        "    # For every slot in array\n",
        "    for fillslot in range(len(arr)-1,0,-1):\n",
        "        positionOfMax=0\n",
        "        \n",
        "        # For every set of 0 to fillslot+1\n",
        "        for location in range(1,fillslot+1):\n",
        "            # Set maximum's location\n",
        "            if arr[location]>arr[positionOfMax]:\n",
        "                positionOfMax = location\n",
        "\n",
        "        temp = arr[fillslot]\n",
        "        arr[fillslot] = arr[positionOfMax]\n",
        "        arr[positionOfMax] = temp\n",
        "\n",
        "arr = [3,5,2,7,6,8,12,40,21]\n",
        "selection_sort(arr)\n",
        "arr"
      ],
      "execution_count": 0,
      "outputs": []
    },
    {
      "cell_type": "markdown",
      "metadata": {
        "id": "chOhtwcmspkq",
        "colab_type": "text"
      },
      "source": [
        "# **Insertion sort**\n",
        "\n",
        "The insertion sort, although still 𝑂(𝑛^2), works in a slightly different way. It always maintains a sorted sublist in the lower positions of the list. Each new item is then “inserted” back into the previous sublist such that the sorted sublist is one item larger. Figure above shows the insertion sorting process. The shaded items represent the ordered sublists as the algorithm makes each pass. We begin by assuming that a list with one item (position 0) is already sorted. On each pass, one for each item 1 through 𝑛−1, the current item is checked against those in the already sorted sublist. As we look back into the already sorted sublist, we shift those items that are greater to the right. When we reach a smaller item or the end of the sublist, the current item can be inserted.\n",
        "\n",
        "![alt text](https://runestone.academy/runestone/books/published/pythonds/_images/insertionsort.png)\n",
        "\n",
        "Figure bellow shows the fifth pass in detail. At this point in the algorithm, a sorted sublist of five items consisting of 17, 26, 54, 77, and 93 exists. We want to insert 31 back into the already sorted items. The first comparison against 93 causes 93 to be shifted to the right. 77 and 54 are also shifted. When the item 26 is encountered, the shifting process stops and 31 is placed in the open position. Now we have a sorted sublist of six items.\n",
        "![alt text](https://runestone.academy/runestone/books/published/pythonds/_images/insertionpass.png)\n",
        "\n",
        "Insertion Sort builds the final sorted array (or list) one item at a time. It is much less efficient on large lists than more advanced algorithms such as quicksort, heapsort, or merge sort.\n",
        "\n",
        "The implementation of insertionSort Code shows that there are again 𝑛−1 passes to sort n items. The iteration starts at position 1 and moves through position 𝑛−1, as these are the items that need to be inserted back into the sorted sublists. Line 8 performs the shift operation that moves a value up one position in the list, making room behind it for the insertion. Remember that this is not a complete exchange as was performed in the previous algorithms.\n",
        "\n",
        "The maximum number of comparisons for an insertion sort is the sum of the first 𝑛−1 integers. Again, this is 𝑂(𝑛2). However, in the best case, only one comparison needs to be done on each pass. This would be the case for an already sorted list.\n",
        "\n",
        "One note about shifting versus exchanging is also important. In general, a shift operation requires approximately a third of the processing work of an exchange since only one assignment is performed. In benchmark studies, insertion sort will show very good performance."
      ]
    },
    {
      "cell_type": "code",
      "metadata": {
        "id": "N8E6scYGovnq",
        "colab_type": "code",
        "colab": {}
      },
      "source": [
        " # Implementation of Insertion Sort\n",
        "\n",
        " insertion_sort(arr):\n",
        "    \n",
        "    # For every index in array\n",
        "    for i in range(1,len(arr)):\n",
        "        \n",
        "        # Set current values and position\n",
        "        currentvalue = arr[i]\n",
        "        position = i\n",
        "        \n",
        "        # Sorted Sublist\n",
        "        while position>0 and arr[position-1]>currentvalue:\n",
        "           \n",
        "            arr[position]=arr[position-1]\n",
        "            position = position-1\n",
        "\n",
        "        arr[position]=currentvalue"
      ],
      "execution_count": 0,
      "outputs": []
    },
    {
      "cell_type": "markdown",
      "metadata": {
        "id": "uWjBvDmFsjUv",
        "colab_type": "text"
      },
      "source": [
        "\n",
        "# **Shell sort**\n",
        "\n",
        "The shell sort, improves on the insertion sort by breaking the original list into a number of smaller sublists, each of which is sorted using an insertion sort. The unique way that these sublists are chosen is the key to the shell sort. Instead of breaking the list into sublists of contiguous items, the shell sort uses an increment i, sometimes called the gap, to create a sublist by choosing all items that are i items apart.\n",
        "\n",
        "This can be seen in Figure below. This list has nine items. If we use an increment of three, there are three sublists, each of which can be sorted by an insertion sort. After completing these sorts, we get the list shown in Figure below. Although this list is not completely sorted, something very interesting has happened. By sorting the sublists, we have moved the items closer to where they actually belong.\n",
        "\n",
        "![alt text](https://runestone.academy/runestone/books/published/pythonds/_images/shellsortA.png)\n",
        "\n",
        "![alt text](https://runestone.academy/runestone/books/published/pythonds/_images/shellsortB.png)\n",
        "\n",
        "Figure bellow shows a final insertion sort using an increment of one; in other words, a standard insertion sort. Note that by performing the earlier sublist sorts, we have now reduced the total number of shifting operations necessary to put the list in its final order. For this case, we need only four more shifts to complete the process.\n",
        "![alt text](https://runestone.academy/runestone/books/published/pythonds/_images/shellsortC.png)\n",
        "\n",
        "![alt text](https://runestone.academy/runestone/books/published/pythonds/_images/shellsortD.png)\n",
        "\n",
        "We said earlier that the way in which the increments are chosen is the unique feature of the shell sort. The function shown in Code bellow uses a different set of increments. In this case, we begin with 𝑛/2 sublists. On the next pass, 𝑛/4 sublists are sorted. Eventually, a single list is sorted with the basic insertion sort. Figure above shows the first sublists for our example using this increment.\n",
        "\n",
        "The following invocation of the shellSort function shows the partially sorted lists after each increment, with the final sort being an insertion sort with an increment of one."
      ]
    },
    {
      "cell_type": "code",
      "metadata": {
        "id": "0SpSmzzYrsin",
        "colab_type": "code",
        "colab": {}
      },
      "source": [
        "def shell_sort(arr):\n",
        "    sublistcount = len(arr)//2\n",
        "    \n",
        "    # While we still have sub lists\n",
        "    while sublistcount > 0:\n",
        "        for start in range(sublistcount):\n",
        "            # Use a gap insertion\n",
        "            gap_insertion_sort(arr,start,sublistcount)\n",
        "\n",
        "        sublistcount = sublistcount // 2\n",
        "\n",
        "def gap_insertion_sort(arr,start,gap):\n",
        "    for i in range(start+gap,len(arr),gap):\n",
        "\n",
        "        currentvalue = arr[i]\n",
        "        position = i\n",
        "\n",
        "        # Using the Gap\n",
        "        while position>=gap and arr[position-gap]>currentvalue:\n",
        "            arr[position]=arr[position-gap]\n",
        "            position = position-gap\n",
        "        \n",
        "        # Set current value\n",
        "        arr[position]=currentvalue\n",
        "\n",
        "arr = [45,67,23,45,21,24,7,2,6,4,90]\n",
        "shell_sort(arr)\n",
        "arr\n"
      ],
      "execution_count": 0,
      "outputs": []
    },
    {
      "cell_type": "markdown",
      "metadata": {
        "id": "VSZc0FcSs11D",
        "colab_type": "text"
      },
      "source": [
        "# **Merge sort**\n",
        "\n",
        " Merge sort is a recursive algorithm that continually splits a list in half (a divide and conquer strategy). If the list is empty or has one item, it is sorted by definition (the base case). If the list has more than one item, we split the list and recursively invoke a merge sort on both halves. Once the two halves are sorted, the fundamental operation, called a merge, is performed. Merging is the process of taking two smaller sorted lists and combining them together into a single, sorted, new list. \n",
        " \n",
        " Figure bellow shows our familiar example list as it is being split by mergeSort. Figure bellow shows the simple lists, now sorted, as they are merged back together.\n",
        "![alt text](https://runestone.academy/runestone/books/published/pythonds/_images/mergesortA.png)\n",
        "\n",
        "![alt text](https://runestone.academy/runestone/books/published/pythonds/_images/mergesortB.png)\n",
        "\n",
        "The mergeSort function begins by asking the base case question. If the length of the list is less than or equal to one, then we already have a sorted list and no more processing is necessary. If, on the other hand, the length is greater than one, then we use the Python slice operation to extract the left and right halves. It is important to note that the list may not have an even number of items. That does not matter, as the lengths will differ by at most one.\n",
        "Once the mergeSort function is invoked on the left half and the right half (lines 8–9), it is assumed they are sorted. The rest of the function (lines 11–31) is responsible for merging the two smaller sorted lists into a larger sorted list. Notice that the merge operation places the items back into the original list (alist) one at a time by repeatedly taking the smallest item from the sorted lists. Note that the statement lefthalf[i] <= righthalf[j] ensures that the algorithm is stable. A stable algorithm maintains the order of duplicate items in a list and is preferred in most cases.\n",
        "\n",
        "The mergeSort function has been augmented with a print statement (line 2) to show the contents of the list being sorted at the start of each invocation. There is also a print statement (line 32) to show the merging process. The transcript shows the result of executing the function on our example list. Note that the list with 44, 55, and 20 will not divide evenly. The first split gives [44] and the second gives [55,20]. It is easy to see how the splitting process eventually yields a list that can be immediately merged with other sorted lists."
      ]
    },
    {
      "cell_type": "code",
      "metadata": {
        "id": "MvFIj2exrxhm",
        "colab_type": "code",
        "colab": {}
      },
      "source": [
        "def merge_sort(arr):\n",
        "    \n",
        "    if len(arr)>1:\n",
        "        mid = len(arr)/2\n",
        "        lefthalf = arr[:mid]\n",
        "        righthalf = arr[mid:]\n",
        "\n",
        "        merge_sort(lefthalf)\n",
        "        merge_sort(righthalf)\n",
        "\n",
        "        i=0\n",
        "        j=0\n",
        "        k=0\n",
        "        while i < len(lefthalf) and j < len(righthalf):\n",
        "            if lefthalf[i] < righthalf[j]:\n",
        "                arr[k]=lefthalf[i]\n",
        "                i=i+1\n",
        "            else:\n",
        "                arr[k]=righthalf[j]\n",
        "                j=j+1\n",
        "            k=k+1\n",
        "\n",
        "        while i < len(lefthalf):\n",
        "            arr[k]=lefthalf[i]\n",
        "            i=i+1\n",
        "            k=k+1\n",
        "\n",
        "        while j < len(righthalf):\n",
        "            arr[k]=righthalf[j]\n",
        "            j=j+1\n",
        "            k=k+1\n",
        "\n",
        "arr = [11,2,5,4,7,6,8,1,23]\n",
        "merge_sort(arr)\n",
        "arr"
      ],
      "execution_count": 0,
      "outputs": []
    },
    {
      "cell_type": "markdown",
      "metadata": {
        "id": "K3M5lMEWxBDh",
        "colab_type": "text"
      },
      "source": [
        "\n",
        "# **Quick sort**\n",
        "\n",
        "The quick sort uses divide and conquer to gain the same advantages as the merge sort, while not using additional storage. As a trade-off, however, it is possible that the list may not be divided in half. When this happens, we will see that performance is diminished.\n",
        "\n",
        "A quick sort first selects a value, which is called the pivot value. Although there are many different ways to choose the pivot value, we will simply use the first item in the list. The role of the pivot value is to assist with splitting the list. The actual position where the pivot value belongs in the final sorted list, commonly called the split point, will be used to divide the list for subsequent calls to the quick sort.\n",
        "\n",
        "Figure bellow shows that 54 will serve as our first pivot value. Since we have looked at this example a few times already, we know that 54 will eventually end up in the position currently holding 31. The partition process will happen next. It will find the split point and at the same time move other items to the appropriate side of the list, either less than or greater than the pivot \n",
        "value.\n",
        "\n",
        "![alt text](https://runestone.academy/runestone/books/published/pythonds/_images/firstsplit.png)\n",
        "\n",
        "Partitioning begins by locating two position markers—let’s call them leftmark and rightmark—at the beginning and end of the remaining items in the list (positions 1 and 8 in Figure 13). The goal of the partition process is to move items that are on the wrong side with respect to the pivot value while also converging on the split point. Figure 13 shows this process as we locate the position of 54.\n",
        "\n",
        "![alt text](https://runestone.academy/runestone/books/published/pythonds/_images/partitionA.png)\n",
        "\n",
        "We begin by incrementing leftmark until we locate a value that is greater than the pivot value. We then decrement rightmark until we find a value that is less than the pivot value. At this point we have discovered two items that are out of place with respect to the eventual split point. For our example, this occurs at 93 and 20. Now we can exchange these two items and then repeat the process again.\n",
        "\n",
        "At the point where rightmark becomes less than leftmark, we stop. The position of rightmark is now the split point. The pivot value can be exchanged with the contents of the split point and the pivot value is now in place (Figure 14). In addition, all the items to the left of the split point are less than the pivot value, and all the items to the right of the split point are greater than the pivot value. The list can now be divided at the split point and the quick sort can be invoked recursively on the two halves.\n",
        "![alt text](https://runestone.academy/runestone/books/published/pythonds/_images/partitionB.png)\n",
        "\n",
        "The quickSort function shown in bellow code invokes a recursive function, quickSortHelper. quickSortHelper begins with the same base case as the merge sort. If the length of the list is less than or equal to one, it is already sorted. If it is greater, then it can be partitioned and recursively sorted. The partition function implements the process described earlier. To analyze the quickSort function, note that for a list of length n, if the partition always occurs in the middle of the list, there will again be log𝑛 divisions. In order to find the split point, each of the n items needs to be checked against the pivot value. The result is 𝑛log𝑛. In addition, there is no need for additional memory as in the merge sort process.\n",
        "\n",
        "Unfortunately, in the worst case, the split points may not be in the middle and can be very skewed to the left or the right, leaving a very uneven division. In this case, sorting a list of n items divides into sorting a list of 0 items and a list of 𝑛−1 items. Then sorting a list of 𝑛−1 divides into a list of size 0 and a list of size 𝑛−2, and so on. The result is an 𝑂(𝑛2) sort with all of the overhead that recursion requires.\n",
        "\n",
        "We mentioned earlier that there are different ways to choose the pivot value. In particular, we can attempt to alleviate some of the potential for an uneven division by using a technique called median of three. To choose the pivot value, we will consider the first, the middle, and the last element in the list. In our example, those are 54, 77, and 20. Now pick the median value, in our case 54, and use it for the pivot value (of course, that was the pivot value we used originally). The idea is that in the case where the first item in the list does not belong toward the middle of the list, the median of three will choose a better “middle” value. This will be particularly useful when the original list is somewhat sorted to begin with. We leave the implementation of this pivot value selection as an exercise."
      ]
    },
    {
      "cell_type": "code",
      "metadata": {
        "id": "pxcAqqTUxByv",
        "colab_type": "code",
        "colab": {}
      },
      "source": [
        "def quick_sort(arr):\n",
        "    \n",
        "    quick_sort_help(arr,0,len(arr)-1)\n",
        "\n",
        "def quick_sort_help(arr,first,last):\n",
        "    \n",
        "    if first<last:\n",
        "        \n",
        "\n",
        "        splitpoint = partition(arr,first,last)\n",
        "\n",
        "        quick_sort_help(arr,first,splitpoint-1)\n",
        "        quick_sort_help(arr,splitpoint+1,last)\n",
        "\n",
        "\n",
        "def partition(arr,first,last):\n",
        "    \n",
        "    pivotvalue = arr[first]\n",
        "\n",
        "    leftmark = first+1\n",
        "    rightmark = last\n",
        "\n",
        "    done = False\n",
        "    while not done:\n",
        "\n",
        "        while leftmark <= rightmark and arr[leftmark] <= pivotvalue:\n",
        "            leftmark = leftmark + 1\n",
        "\n",
        "        while arr[rightmark] >= pivotvalue and rightmark >= leftmark:\n",
        "            rightmark = rightmark -1\n",
        "\n",
        "        if rightmark < leftmark:\n",
        "            done = True\n",
        "        else:\n",
        "            temp = arr[leftmark]\n",
        "            arr[leftmark] = arr[rightmark]\n",
        "            arr[rightmark] = temp\n",
        "\n",
        "    temp = arr[first]\n",
        "    arr[first] = arr[rightmark]\n",
        "    arr[rightmark] = temp\n",
        "\n",
        "\n",
        "    return rightmark\n",
        "\n",
        "quick_sort(arr)\n",
        "arr"
      ],
      "execution_count": 0,
      "outputs": []
    }
  ]
}